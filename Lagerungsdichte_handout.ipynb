{
 "cells": [
  {
   "cell_type": "markdown",
   "metadata": {},
   "source": [
    "# Übung zu Lagerungsdichte, Bodenkennzahlen\n",
    "\n",
    "Eine locker gelagerte Sandschicht der Mächtigkeit $z_\\text{max}$ wurde mit Tiefenrüttlern auf einer Fläche von $a \\times b$ verdichtet. Dabei wurde ein quadratisches Raster mit dem Rasterabstand $r$ verwendet. Das Grundwasser steht in $z_\\text{GW}$ Tiefe unter GOK an."
   ]
  },
  {
   "cell_type": "code",
   "execution_count": 1,
   "metadata": {},
   "outputs": [],
   "source": [
    "z_max = 10 #m\n",
    "z_GW = 2 #m\n",
    "a = 30 #m\n",
    "b = 50 #m\n",
    "r = 2 #m"
   ]
  },
  {
   "cell_type": "markdown",
   "metadata": {},
   "source": [
    "Die folgenden Kennwerte des Sandes vor der Verdichtung seien bekannt: Kornwichte $\\gamma_\\text{s}$, Wichte im erdfeuchten Zustand $\\gamma$ beim Wassergehalt $w$ (über GW), sowie die Porenzahl bei lockerster und dichtester Lagerung $n_\\text{max}$ und $n_\\text{min}$."
   ]
  },
  {
   "cell_type": "code",
   "execution_count": 2,
   "metadata": {},
   "outputs": [],
   "source": [
    "gamma_s = 26 #kN/m³\n",
    "gamma = 16 #kN/m³\n",
    "w = 0.03\n",
    "n_max = 0.43\n",
    "n_min = 0.36"
   ]
  },
  {
   "cell_type": "markdown",
   "metadata": {},
   "source": [
    "Für die Verdichtung wurde gleichartiges Zugabematerial aus einer nahen Sandgrube gewonnen ($\\gamma_\\text{Grube}$, $w_\\text{Grube}$). Bei Entnahme und Transport trat eine Auflockerung auf, sodass das aufgelockerte Material eine Wichte $\\gamma_\\text{Z} < \\gamma_\\text{Grube}$ aufwies. Die mittlere Zugabemenge dieses Materials betrug je Verdichtungspunkt $V_\\text{Z}$."
   ]
  },
  {
   "cell_type": "code",
   "execution_count": 3,
   "metadata": {},
   "outputs": [],
   "source": [
    "gamma_Grube = 20 #kN/m³\n",
    "w_Grube = 0.08\n",
    "gamma_Z = 15 #kN/m³\n",
    "V_Z = 2.6 #m³"
   ]
  },
  {
   "cell_type": "markdown",
   "metadata": {},
   "source": [
    "Es sind nun folgende Fragen zu beantworten:\n",
    "\n",
    "1) Welche (bezogenen) Lagerungsdichten $D$ und $I_D$ herrschten vor der Verdichtungsmaßnahme?\n",
    "\n",
    "2) Wieviel m³ Sand mussten aus der Sandgrube entnommen werden?\n",
    "\n",
    "3) Welche (bezogenen) Lagerungsdichten $D$ und $I_D$ wurde nach der Verdichtung erreicht?\n",
    "\n",
    "4) Welche Wassermenge ist abzuführen, wenn das Grundwasser in konstanter Höhe bleiben soll?\n",
    "\n",
    "Überprüfung: Ergebnis zu 4 ist 416.7 m³.\n",
    "\n",
    "Hinweis: Zwischenergebnisse für weitere Berechnungen nicht runden!"
   ]
  },
  {
   "cell_type": "code",
   "execution_count": null,
   "metadata": {},
   "outputs": [],
   "source": []
  }
 ],
 "metadata": {
  "kernelspec": {
   "display_name": "Python 3",
   "language": "python",
   "name": "python3"
  },
  "language_info": {
   "codemirror_mode": {
    "name": "ipython",
    "version": 3
   },
   "file_extension": ".py",
   "mimetype": "text/x-python",
   "name": "python",
   "nbconvert_exporter": "python",
   "pygments_lexer": "ipython3",
   "version": "3.8.5"
  }
 },
 "nbformat": 4,
 "nbformat_minor": 4
}
