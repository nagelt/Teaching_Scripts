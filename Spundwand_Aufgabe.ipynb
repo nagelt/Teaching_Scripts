{
 "cells": [
  {
   "cell_type": "markdown",
   "metadata": {},
   "source": [
    "<div style=\"display: flex; align-items: center;\">\n",
    "    <img src=\"https://github.com/nagelt/Teaching_Scripts/raw/9d9e29ecca4b04eaf7397938eacbf116d37ddc93/Images/TUBAF_Logo_blau.png\" width=\"500\" height=\"auto\" height=\"auto\" style=\"margin-right: 100px;\" />\n",
    "    <div>\n",
    "        <p><strong>Prof. Dr. Thomas Nagel</strong></p>\n",
    "        <p>Chair of Soil Mechanics and Foundation Engineering<br>Geotechnical Institute<br>Technische Universität Bergakademie Freiberg.</p>\n",
    "        <p><a href=\"https://tu-freiberg.de/en/soilmechanics\">https://tu-freiberg.de/en/soilmechanics</a></p>\n",
    "    </div>\n",
    "</div>"
   ]
  },
  {
   "cell_type": "markdown",
   "metadata": {},
   "source": [
    "# Erddruckberechnung -- Spundwand\n",
    "\n",
    "Das folgende Beispiel ist an das Beispiel aus W. Fellin \"Geotechnik -- Lernen mit Beispielen\" angelehnt.\n",
    "\n",
    "![Rankine.png](https://raw.githubusercontent.com/nagelt/Teaching_Scripts/master/Images/Spundwand.png)\n",
    "\n",
    "**Aufgabe:** Zu untersuchen sind die Verteilungen von Erd- und Wasserdrücken im Falle des Niedrigwassers bei zu vernachlässigender GW Strömung, für den davon ausgegangen wird, dass sich aufgrund der sich einstellenden Wandverschiebung auf der Bodenseite der aktive Erddruck einstellt und auf der Wasserseite der Erdwiderstand aktiviert wird.\n",
    "\n",
    "Den Wandreibungswinkel legen wir zu $\\delta_\\text{a} = 2/3\\,\\varphi$ fest. Auf der passiven Seite wird zunächst $\\delta_\\text{p} = -\\varphi/3$ angesetzt und diese Wahl später über das vertikale Kräftegleichgewicht überprüft.\n",
    "\n",
    "Sei außerdem $p_\\text{v} = 10\\,$kN/m².\n",
    "\n",
    "Zeichnen Sie die Verteilung der rechnerischen Erd- und Wasserdrücke auf beiden Seiten der Spundwand.\n",
    "\n",
    "Die Höhe der Spundwand sei 21 m, ihr Flächengewicht 1.06 kN/m²."
   ]
  },
  {
   "cell_type": "markdown",
   "metadata": {},
   "source": [
    "## Weiterführende Aufgaben:\n",
    "\n",
    "* Interpretieren Sie das Ergebnis bzgl. des horizontalen Kräftegleichgewichts im Kontext der Wandverschiebung.\n",
    "* Wie würde sich die Berechnung ändern, wenn eine GW Strömung zu berücksichtigen wäre?"
   ]
  },
  {
   "cell_type": "code",
   "execution_count": null,
   "metadata": {},
   "outputs": [],
   "source": []
  }
 ],
 "metadata": {
  "kernelspec": {
   "display_name": "Python 3 (ipykernel)",
   "language": "python",
   "name": "python3"
  },
  "language_info": {
   "codemirror_mode": {
    "name": "ipython",
    "version": 3
   },
   "file_extension": ".py",
   "mimetype": "text/x-python",
   "name": "python",
   "nbconvert_exporter": "python",
   "pygments_lexer": "ipython3",
   "version": "3.11.4"
  },
  "widgets": {
   "application/vnd.jupyter.widget-state+json": {
    "state": {},
    "version_major": 2,
    "version_minor": 0
   }
  }
 },
 "nbformat": 4,
 "nbformat_minor": 4
}
