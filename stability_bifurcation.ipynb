{
 "cells": [
  {
   "cell_type": "markdown",
   "id": "e2c03424-604d-4629-bfba-e3f2b785fe86",
   "metadata": {},
   "source": [
    "<div style=\"display: flex; align-items: center;\">\n",
    "    <img src=\"https://github.com/nagelt/Teaching_Scripts/raw/9d9e29ecca4b04eaf7397938eacbf116d37ddc93/Images/TUBAF_Logo_blau.png\" width=\"500\" height=\"auto\" height=\"auto\" style=\"margin-right: 100px;\" />\n",
    "    <div>\n",
    "        <p><strong>Prof. Dr. Thomas Nagel</strong></p>\n",
    "        <p>Chair of Soil Mechanics and Foundation Engineering<br>Geotechnical Institute<br>Technische Universität Bergakademie Freiberg.</p>\n",
    "        <p><a href=\"https://tu-freiberg.de/en/soilmechanics\">https://tu-freiberg.de/en/soilmechanics</a></p>\n",
    "    </div>\n",
    "</div>"
   ]
  },
  {
   "cell_type": "code",
   "execution_count": 4,
   "id": "9f884721-032a-48bc-9a5a-6f9256a92a6c",
   "metadata": {
    "jupyter": {
     "source_hidden": true
    },
    "tags": []
   },
   "outputs": [],
   "source": [
    "#HIDDEN\n",
    "import numpy as np #numerical methods\n",
    "#import sympy as sp #symbolic operations\n",
    "import matplotlib.pyplot as plt #plotting\n",
    "from matplotlib import cm\n",
    "\n",
    "import sympy as sp\n",
    "sp.init_printing(use_latex='mathjax') #makes sympy output look nice"
   ]
  },
  {
   "cell_type": "code",
   "execution_count": 5,
   "id": "27343584-7283-445c-8909-f9264abc65f8",
   "metadata": {
    "tags": []
   },
   "outputs": [],
   "source": [
    "import plot_functions.plot_settings"
   ]
  },
  {
   "cell_type": "markdown",
   "id": "6066ade8-8b08-4513-ae33-ce735a79b8c3",
   "metadata": {
    "tags": []
   },
   "source": [
    "# Simple examples for understanding bifurcations, stability, controllability, ...\n",
    "\n",
    "*Based on: Davide Bigoni: Nonlinear Solid Mechanics. Bifurcation Theory and Material Instability.*\n",
    "\n",
    "## The problem\n",
    "\n",
    "Consider the following system composed of an axial spring attached to a rotational spring. The load is conservative and points downwards in an ideal manner.\n",
    "\n",
    "<img src=\"https://github.com/nagelt/Teaching_Scripts/raw/master/Images/Instability_example.png\" style=\"width: 250px;\"/>"
   ]
  },
  {
   "cell_type": "markdown",
   "id": "0f7ef809-1dad-45fb-a93b-acb75e8ce347",
   "metadata": {},
   "source": [
    "## Departure from equilibrium conditions\n",
    "\n",
    "Let's collect a few equations:\n",
    "\n",
    "\\begin{alignat}{2}\n",
    "&\\text{axial force:  } && F_\\text{a} = F \\cos\\vartheta\n",
    "\\\n",
    "&\\text{axial equilibrium:  } && \\Delta l = l_0 - l = \\frac{F_\\text{a}}{k_\\text{a}} = \\frac{F \\cos \\vartheta}{k_\\text{a}}\n",
    "\\\n",
    "&\\text{moment equilibrium:  } && k_\\text{r} \\vartheta = F l \\sin \\vartheta\n",
    "\\\n",
    "&\\text{kinematics:  } && l_0 = u + l \\cos \\vartheta\n",
    "\\end{alignat}"
   ]
  },
  {
   "cell_type": "markdown",
   "id": "ad8e85cb-8b0c-4b5c-92d1-5d4e45bffd74",
   "metadata": {},
   "source": [
    "We depart now from the moment equilibrium and reformulate a bit in order to arrive at an equation relating $F$ and $\\vartheta$ through given system properties (axial and rotational stiffnesses and $l_0$) and introduce suitable dimensionless quantities along the way.\n",
    "\n",
    "\\begin{alignat}{2}\n",
    "    k_\\text{r}\\vartheta &= F l \\sin\\vartheta \\qquad &&| \\text{ axial equ.}\n",
    "    \\\\\n",
    "    &= F l_0 \\left( 1 - \\frac{F\\cos\\vartheta}{k_\\text{a}l_0} \\right) \\sin \\vartheta  \\qquad &&|\\ \\tilde{F} := \\frac{F}{k_\\text{a}l_0}\n",
    "    \\\\\n",
    "    &= \\tilde{F} k_\\text{a} l_0^2 \\left( 1 - \\tilde{F}\\cos\\vartheta \\right) \\sin \\vartheta \\qquad &&|\\ \\tilde{k} := \\frac{k_\\text{r}}{k_\\text{a}l_0^2}\n",
    "\\end{alignat}\n",
    "\n",
    "We arrive at\n",
    "\n",
    "$$\n",
    "    \\boxed{0 = \\tilde{k} \\frac{\\vartheta}{\\sin\\vartheta} - \\tilde{F} + \\tilde{F}^2 \\cos\\vartheta}\n",
    "$$"
   ]
  },
  {
   "cell_type": "markdown",
   "id": "c5bcccc1-71bf-44c4-aecb-53ecc469ddf6",
   "metadata": {},
   "source": [
    "Instead of a force-dependent expression we can transform this into one controlled by the vertical displacement $u$ via\n",
    "\n",
    "\\begin{alignat}{2}\n",
    "    \\tilde{F} &= \\frac{\\Delta l}{l_0 \\cos\\vartheta}\n",
    "    \\\\\n",
    "    l_0 &= u + (l_0 - \\Delta l) \\cos \\vartheta \\quad && |\\ \\tilde{u} = \\frac{u}{l_0}\n",
    "    \\\\\n",
    "    1 &= \\tilde{u} + \\left( 1 - \\frac{\\Delta l}{l_0} \\right) \\cos \\vartheta\n",
    "    \\\\\n",
    "    &= \\tilde{u} + \\left( 1 - \\tilde{F} \\cos\\vartheta \\right) \\cos \\vartheta\n",
    "\\end{alignat}"
   ]
  },
  {
   "cell_type": "markdown",
   "id": "e5a8e091-3ac1-4a46-8c5b-2a9fefeb901d",
   "metadata": {},
   "source": [
    "**Side note:** Due to the non-dimensionalization, we find for $\\vartheta = 0$ the identity $\\tilde{F} = \\tilde{u}$.\n",
    "\n",
    "We arrive at \n",
    "\n",
    "$$\n",
    "    \\tilde{F} = \\left( 1 - \\frac{1 - \\tilde{u}}{\\cos\\vartheta} \\right) / \\cos \\vartheta\n",
    "$$"
   ]
  },
  {
   "cell_type": "markdown",
   "id": "ab020d0d-9188-406a-8301-4cabb570d531",
   "metadata": {},
   "source": [
    "Substition into the force-based equation yields\n",
    "\n",
    "$$\n",
    "    \\boxed{ 0 = \\tilde{k}\\frac{\\vartheta}{\\sin\\vartheta} - \\frac{1-\\tilde{u}}{\\cos^2\\vartheta} \\left( 1 - \\frac{1-\\tilde{u}}{\\cos\\vartheta} \\right) }\n",
    "$$"
   ]
  },
  {
   "cell_type": "markdown",
   "id": "97e4ae50-f0b2-45c6-a150-80cb61dc714c",
   "metadata": {},
   "source": [
    "Let's calculate the first variation of \n",
    "\n",
    "$$\n",
    "    g_F = \\tilde{k} \\vartheta - \\tilde{F}\\sin\\vartheta + \\tilde{F}^2 \\sin\\vartheta \\cos\\vartheta = 0\n",
    "$$\n",
    "\n",
    "We find:\n",
    "\n",
    "\\begin{align*}\n",
    "    \\delta g_F &= \\left[ \\tilde{k} - \\tilde{F} \\cos\\vartheta + \\tilde{F}^2 (\\cos^2 \\vartheta - \\sin^2\\vartheta)\\right] \\delta \\vartheta +\n",
    "    \\\\\n",
    "    &+ (2\\tilde{F} \\sin\\vartheta \\cos\\vartheta - \\sin\\vartheta ) \\delta \\tilde{F}\n",
    "\\end{align*}\n",
    "\n",
    "If we perform this variation around $\\vartheta = 0$ and seek the stationary point, we obtain\n",
    "\n",
    "\\begin{align*}\n",
    "    \\delta g_F |_{\\vartheta=0} &= 0 = \\tilde{k} - \\tilde{F} + \\tilde{F}^2\n",
    "    \\\\\n",
    "    \\tilde{F}_\\text{cr} &= \\frac{1}{2} \\pm \\frac{\\sqrt{1 - 4 \\tilde{k}}}{2}\n",
    "\\end{align*}\n",
    "\n",
    "$\\tilde{F}_\\text{cr}$ only has a real solution for $k \\leq \\frac{1}{4}$.\n",
    "\n",
    "The general solution of $g_F = 0$\n",
    "\n",
    "$$\n",
    "    g_F = 0\n",
    "$$\n",
    "\n",
    "is found with the help of Sympy:"
   ]
  },
  {
   "cell_type": "code",
   "execution_count": 6,
   "id": "b7c9a56c-929b-438d-812a-6febdadc81e6",
   "metadata": {
    "jupyter": {
     "source_hidden": true
    },
    "tags": []
   },
   "outputs": [],
   "source": [
    "F, theta, k, u = sp.symbols('F vartheta k u', positive=True)"
   ]
  },
  {
   "cell_type": "code",
   "execution_count": 7,
   "id": "feb8ec27-04de-42bd-a658-b0cefa61b9d1",
   "metadata": {
    "jupyter": {
     "source_hidden": true
    },
    "tags": []
   },
   "outputs": [],
   "source": [
    "Eq_F = sp.Eq(k*theta - F*sp.sin(theta) + F**2*sp.sin(theta)*sp.cos(theta),0)\n",
    "#Eq_F"
   ]
  },
  {
   "cell_type": "code",
   "execution_count": 8,
   "id": "7819f3b8-0082-4330-b5b1-b77e1aee145a",
   "metadata": {
    "jupyter": {
     "source_hidden": true
    },
    "tags": []
   },
   "outputs": [],
   "source": [
    "Sol = sp.solve(Eq_F,F)\n",
    "#Sol"
   ]
  },
  {
   "cell_type": "code",
   "execution_count": 9,
   "id": "3c71835c-f590-4087-b73e-5264e81d29cd",
   "metadata": {
    "jupyter": {
     "source_hidden": true
    },
    "tags": []
   },
   "outputs": [],
   "source": [
    "#sp.expand_trig(Sol[0]).factor()"
   ]
  },
  {
   "cell_type": "markdown",
   "id": "ca43bdaa-5d64-4910-abc4-2887d6f2628f",
   "metadata": {},
   "source": [
    "Using $1 - \\cos^2\\vartheta = \\sin^2\\vartheta$ and pulling the sine out of the square root we find\n",
    "\n",
    "$$\n",
    "    \\tilde{F} = \\frac{1 \\pm \\sqrt{1 - 4 \\tilde{k}\\vartheta\\cot\\vartheta}}{2\\cos\\vartheta}\n",
    "$$\n",
    "\n",
    "Let's plot the results for various stiffness ratios for $\\vartheta \\in [0,\\pi/4]$."
   ]
  },
  {
   "cell_type": "code",
   "execution_count": 10,
   "id": "192cdd4b-d766-4fcd-aca6-c32be9106776",
   "metadata": {
    "jupyter": {
     "source_hidden": true
    },
    "tags": []
   },
   "outputs": [],
   "source": [
    "#HIDDEN\n",
    "def F_theta(x, k = 1/5):\n",
    "    term1 = np.sqrt(1 - 4*k*x/np.tan(x))\n",
    "    return ((1-term1)/(2*np.cos(x)), (1+term1)/(2*np.cos(x)))"
   ]
  },
  {
   "cell_type": "code",
   "execution_count": 11,
   "id": "e831adbf-b0ab-4d9f-843b-27fe81800af5",
   "metadata": {
    "jupyter": {
     "source_hidden": true
    },
    "tags": []
   },
   "outputs": [],
   "source": [
    "#HIDDEN\n",
    "u_num = lambda x,f: 1 - (1 - f*np.cos(x))*np.cos(x)"
   ]
  },
  {
   "cell_type": "code",
   "execution_count": 14,
   "id": "54f6990a-2d64-4a6c-8245-92eb8b82b7ec",
   "metadata": {
    "tags": []
   },
   "outputs": [
    {
     "ename": "NameError",
     "evalue": "name 'sns' is not defined",
     "output_type": "error",
     "traceback": [
      "\u001b[0;31m---------------------------------------------------------------------------\u001b[0m",
      "\u001b[0;31mNameError\u001b[0m                                 Traceback (most recent call last)",
      "Cell \u001b[0;32mIn[14], line 3\u001b[0m\n\u001b[1;32m      1\u001b[0m \u001b[38;5;66;03m#HIDDEN\u001b[39;00m\n\u001b[1;32m      2\u001b[0m angles \u001b[38;5;241m=\u001b[39m np\u001b[38;5;241m.\u001b[39mlinspace(\u001b[38;5;241m0.1\u001b[39m,np\u001b[38;5;241m.\u001b[39mpi\u001b[38;5;241m/\u001b[39m\u001b[38;5;241m3\u001b[39m,\u001b[38;5;241m100\u001b[39m)\n\u001b[0;32m----> 3\u001b[0m \u001b[43msns\u001b[49m\u001b[38;5;241m.\u001b[39mset_palette(\u001b[38;5;124m\"\u001b[39m\u001b[38;5;124mPaired\u001b[39m\u001b[38;5;124m\"\u001b[39m,n_colors\u001b[38;5;241m=\u001b[39m\u001b[38;5;241m10\u001b[39m)\n\u001b[1;32m      4\u001b[0m fig, ax \u001b[38;5;241m=\u001b[39m plt\u001b[38;5;241m.\u001b[39msubplots(figsize\u001b[38;5;241m=\u001b[39m(\u001b[38;5;241m12\u001b[39m,\u001b[38;5;241m6\u001b[39m))\n\u001b[1;32m      5\u001b[0m \u001b[38;5;28;01mfor\u001b[39;00m i \u001b[38;5;129;01min\u001b[39;00m [\u001b[38;5;241m8\u001b[39m\u001b[38;5;241m/\u001b[39m\u001b[38;5;241m33\u001b[39m,\u001b[38;5;241m8\u001b[39m\u001b[38;5;241m/\u001b[39m\u001b[38;5;241m36\u001b[39m,\u001b[38;5;241m8\u001b[39m\u001b[38;5;241m/\u001b[39m\u001b[38;5;241m48\u001b[39m]:\n",
      "\u001b[0;31mNameError\u001b[0m: name 'sns' is not defined"
     ]
    }
   ],
   "source": [
    "#HIDDEN\n",
    "angles = np.linspace(0.1,np.pi/3,100)\n",
    "sns.set_palette(\"Paired\",n_colors=10)\n",
    "fig, ax = plt.subplots(figsize=(12,6))\n",
    "for i in [8/33,8/36,8/48]:\n",
    "    ax.plot(u_num(angles,F_theta(angles,i)[1]),F_theta(angles,i)[1])\n",
    "    ax.plot(u_num(angles,F_theta(angles,i)[0]),F_theta(angles,i)[0],label=r'$\\tilde{k} = %.3f$' %i)\n",
    "ax.plot([0,1],[0,1],ls='--',color='black',label=r'trivial path, $\\vartheta = 0$')\n",
    "ax.set_xlabel(r'$\\tilde{u}$')\n",
    "ax.set_ylabel(r'$\\tilde{F}$')\n",
    "ax.legend();"
   ]
  },
  {
   "cell_type": "markdown",
   "id": "2e9ee18b-be1b-4898-a9b0-b59b79d4162e",
   "metadata": {},
   "source": [
    "We observe three solutions:\n",
    "\n",
    "* The black dashed line is the solution of vertical compression ($\\vartheta = 0$) of a linear spring.\n",
    "* The dark lines are the first bifurcations from this solution, where the rod leaves the vertical position, $0 < \\vartheta < \\frac{\\pi}{2}$. Towards $\\tilde{u} = 1$, i.e. $\\vartheta = \\frac{\\pi}{2}$, we reach force levels determined by the rotational stiffness $k_\\text{r}$.\n",
    "* The bright lines are another set of bifurcation points to a solution where the rod is also rotated, $0 < \\vartheta < \\frac{\\pi}{2}$, but highly compressed. To maintain equilibrium here, the force needs to increase steeply. As $\\tilde{u}\\rightarrow 1$ ($\\vartheta \\rightarrow \\frac{\\pi}{2}$), the length of the axial spring $l$ and with it the lever arm approaches zero; therefore, to still produce the torque required for momentum balance, i.e. $k_\\text{r}\\frac{\\pi}{2}$, the force needs to tend towards infinity. \n",
    "\n",
    "We already see from the force-displacement behaviour, which of the solutions is energetically beneficial (the lowest branches).\n",
    "\n",
    "Thus, let's zoom in on the first bifurcation."
   ]
  },
  {
   "cell_type": "code",
   "execution_count": null,
   "id": "86ee5c8b-ffa4-4d0a-a18e-d94ec177ab23",
   "metadata": {
    "jupyter": {
     "source_hidden": true
    },
    "tags": []
   },
   "outputs": [],
   "source": [
    "#HIDDEN\n",
    "angles = np.linspace(0.1,0.999*np.pi/2,100)\n",
    "#sns.set_palette(\"Paired\",n_colors=10)\n",
    "fig, ax = plt.subplots(figsize=(12,6))\n",
    "for i in [1/4,0.24,0.23, 0.2, 0.15]:\n",
    "    ax.plot(u_num(angles,F_theta(angles,i)[0]),F_theta(angles,i)[0],label=r'$\\tilde{k} = %.3f$' %i)\n",
    "ax.plot([0,0.5],[0,0.5],ls='--',color='black',label=r'trivial path, $\\vartheta = 0$')\n",
    "ax.set_xlabel(r'$\\tilde{u}$')\n",
    "ax.set_ylabel(r'$\\tilde{F}$')\n",
    "ax.legend();"
   ]
  },
  {
   "cell_type": "markdown",
   "id": "4d9a9121-9320-47f8-8404-9425e9860805",
   "metadata": {},
   "source": [
    "We see a range of fascinating behaviours: For low $\\tilde{k}$ we see hardening. An increase of $\\tilde{k}$ then produces initial softening followed again by hardening. This softening can even poduce snap-back behaviour close to the upper limit of $\\tilde{k} = \\frac{1}{4}$. We will show later how these setups correspond to loss of stability under force and/or displacement control."
   ]
  },
  {
   "cell_type": "markdown",
   "id": "caeade19-2fcf-40e8-af09-313fbc61adf9",
   "metadata": {},
   "source": [
    "## Energetic arguments"
   ]
  },
  {
   "cell_type": "markdown",
   "id": "15ff6136-1322-44be-a87b-9175a0606c0b",
   "metadata": {},
   "source": [
    "## Prescribed end displacement\n",
    "\n",
    "Instead of deriving the equilibrium conditions directly, we can also depart from total potentials in order to more clearly observe the energetic roots of stability and bifurcation.\n",
    "\n",
    "The total elastic potential $\\Pi$ is the sum of the strain energy in the two springs and the work of the external force along its trajectory. We find the elastic energy of the linear spring kinematically by considering $\\Delta l \\cos\\vartheta = u + l_0(\\cos \\vartheta - 1)$.\n",
    "\n",
    "\\begin{align}\n",
    "    \\Pi &= \\frac{k_\\text{a} \\left[ u + l_0 (\\cos\\vartheta -1 ) \\right]^2}{2\\cos^2\\vartheta} + \\frac{k_\\text{r} \\vartheta^2}{2} - F_\\text{ext} u\n",
    "    \\\\\n",
    "    &= l_0^2 k_\\text{a} \\left[ \\frac{ ( \\tilde{u} + \\cos\\vartheta -1 )^2}{2\\cos^2\\vartheta} + \\frac{\\tilde{k} \\vartheta^2}{2} - \\tilde{F}_\\text{ext} \\tilde{u}\\right] \n",
    "\\end{align}"
   ]
  },
  {
   "cell_type": "markdown",
   "id": "98e7471a-3723-469a-aee7-6c64e3765a9f",
   "metadata": {},
   "source": [
    "Let's take the first variation (note: we don't, yet, prescribe the displacement in order to gain additional information on the associated force)\n",
    "\n",
    "$$\n",
    "    \\frac{\\delta \\Pi}{l_0^2 k_\\text{a}} =  \\left[ \\frac{ \\tilde{u} + (\\cos\\vartheta -1 ) }{\\cos^2\\vartheta} - \\tilde{F}_\\text{ext} \\right] \\delta \\tilde{u} + \\left[ \\tilde{k}\\vartheta  - (1-\\tilde{u}) \\frac{\\sin\\vartheta}{\\cos^2\\vartheta} \\left( 1 - \\frac{1-\\tilde{u}}{\\cos\\vartheta} \\right) \\right] \\delta \\vartheta\n",
    "$$"
   ]
  },
  {
   "cell_type": "code",
   "execution_count": null,
   "id": "9a0eae62-8217-47d4-aba4-e0f73786225d",
   "metadata": {
    "jupyter": {
     "source_hidden": true
    },
    "tags": []
   },
   "outputs": [],
   "source": [
    "#HIDDEN\n",
    "F, theta, k, u = sp.symbols('F vartheta k u', positive=True)\n",
    "a = sp.diff((u+sp.cos(theta)-1)**2/(2*sp.cos(theta)**2),theta)\n",
    "#display(a, a.simplify(), (a/-(1-u)/sp.sin(theta)).simplify())"
   ]
  },
  {
   "cell_type": "markdown",
   "id": "79250888-9ae2-47f5-b03d-7646420448b1",
   "metadata": {},
   "source": [
    "By stationarity, we therefore find the external load\n",
    "\n",
    "$$\n",
    "    \\tilde{F}_\\text{ext} = \\frac{ \\tilde{u} + \\cos\\vartheta -1 }{\\cos^2\\vartheta} = \\left( 1 - \\frac{1 - \\tilde{u}}{\\cos\\vartheta} \\right) / \\cos \\vartheta\n",
    "$$\n",
    "\n",
    "as well as the equilibrium conditions\n",
    "\n",
    "$$\n",
    "    g_u = 0 = \\tilde{k}\\vartheta  - (1-\\tilde{u}) \\frac{\\sin\\vartheta}{\\cos^2\\vartheta} \\left( 1 - \\frac{1-\\tilde{u}}{\\cos\\vartheta} \\right)\n",
    "$$"
   ]
  },
  {
   "cell_type": "code",
   "execution_count": null,
   "id": "6cbcbe41-ced7-460e-8e40-03b95a86022f",
   "metadata": {
    "jupyter": {
     "source_hidden": true
    },
    "tags": []
   },
   "outputs": [],
   "source": [
    "Eq_u = k*theta - (1-u)*sp.sin(theta)/sp.cos(theta)**2 * (1 - (1-u)/sp.cos(theta))\n",
    "#display(Eq_u)\n",
    "res_u = sp.solve(Eq_u,u)\n",
    "#display(res_u[0],res_u[1])\n",
    "#display(((res_u[0] - 1 + sp.cos(theta)/2)/sp.cos(theta)*2),((res_u[0] - 1 + sp.cos(theta)/2)/sp.cos(theta)*2).simplify(),((res_u[0] - 1 + sp.cos(theta)/2)/sp.cos(theta)*2).trigsimp())"
   ]
  },
  {
   "cell_type": "markdown",
   "id": "7615766d-7c48-4b9b-857b-8032d7419552",
   "metadata": {
    "tags": []
   },
   "source": [
    "The equilibrium solution thus is\n",
    "\n",
    "$$\n",
    "    \\tilde{u} = 1 - \\frac{\\cos\\vartheta}{2}\\left[ 1 \\mp \\frac{\\sqrt{2 - 2\\cos2\\vartheta - 8 \\tilde{k}\\vartheta\\sin2\\vartheta}}{2\\sin\\vartheta} \\right]\n",
    "$$\n",
    "\n",
    "Now we can plot the equilibrium solutions and recover the previously shown results."
   ]
  },
  {
   "cell_type": "code",
   "execution_count": null,
   "id": "ad2c3885-353d-44a2-bb1f-90b347ff9eb1",
   "metadata": {
    "jupyter": {
     "source_hidden": true
    },
    "tags": []
   },
   "outputs": [],
   "source": [
    "#HIDDEN\n",
    "F_ext = lambda xU, xT: (xU + np.cos(xT) - 1)/np.cos(xT)**2\n",
    "u_u_num = lambda xK, xT: [1 - np.cos(xT)/2 * ( 1 + np.sqrt(2 - 2 * np.cos(2*xT) - 8*xK*xT*np.sin(2*xT))/(2*np.sin(xT))),\n",
    "                          1 - np.cos(xT)/2 * ( 1 - np.sqrt(2 - 2 * np.cos(2*xT) - 8*xK*xT*np.sin(2*xT))/(2*np.sin(xT)))]\n",
    "\n",
    "fig, ax = plt.subplots()\n",
    "angles = np.linspace(0.01,np.deg2rad(170),100)\n",
    "for stiff in [0.1,0.23,0.25]:\n",
    "    ax.plot(u_u_num(stiff,angles)[0], F_ext(u_u_num(stiff,angles)[0],angles),label=r'$\\tilde{k} = %.2f$' %stiff)\n",
    "    ax.plot(u_u_num(stiff,angles)[1][angles < np.pi/2], F_ext(u_u_num(stiff,angles)[1],angles)[angles < np.pi/2])\n",
    "ax.plot([0,1],[0,1],ls='--',color='black', label=r'trivial path')\n",
    "ax.set_ylim(0,2)\n",
    "ax.set_xlim(0,np.deg2rad(180))\n",
    "ax.set_xlabel(r'$\\tilde{u}$')\n",
    "ax.set_ylabel(r'$\\tilde{F}$')\n",
    "ax.legend();"
   ]
  },
  {
   "cell_type": "markdown",
   "id": "d226cfa1-39eb-4e62-90e6-999ec7328a98",
   "metadata": {
    "tags": []
   },
   "source": [
    "Taking the variation of $\\Pi$ assuming fixed boundary displacement $\\tilde{u}$ (i.e. $\\delta \\tilde{u} = 0$) implies only variations in $\\vartheta$. Thus,\n",
    "\n",
    "\\begin{align}\n",
    "    \\frac{\\Pi}{l_0^2 k_\\text{a}} &= \\left[ \\frac{ ( \\tilde{u} + \\cos\\vartheta -1 )^2}{2\\cos^2\\vartheta} + \\frac{\\tilde{k} \\vartheta^2}{2} - \\tilde{F}_\\text{ext} \\tilde{u}\\right]\n",
    "    \\\\\n",
    "     \\left. \\frac{\\delta \\Pi}{l_0^2 k_\\text{a}} \\right|_{\\tilde{u}} &=  \\left[ \\tilde{k}\\vartheta  - (1-\\tilde{u}) \\frac{\\sin\\vartheta}{\\cos^2\\vartheta} \\left( 1 - \\frac{1-\\tilde{u}}{\\cos\\vartheta} \\right) \\right] \\delta \\vartheta\n",
    "     \\\\\n",
    "     \\left. \\frac{\\delta^2 \\Pi}{l_0^2 k_\\text{a}} \\right|_{\\tilde{u}} &=  \\left[ \\tilde{k}  - (1-\\tilde{u}) \\left( \\frac{(3\\tilde{u} - 3 + 2\\cos\\vartheta)\\tan^2\\vartheta + (\\tilde{u} + \\cos\\vartheta - 1)}{\\cos^2\\vartheta}   \\right) \\right] \\delta \\vartheta\n",
    "\\end{align}"
   ]
  },
  {
   "cell_type": "markdown",
   "id": "4f54b5ed-28ab-4129-8625-2db075466a37",
   "metadata": {
    "tags": []
   },
   "source": [
    "Looking at values of the second variation along the vertical axis only, we find\n",
    "\n",
    "$$\n",
    "    \\left. \\frac{\\delta^2 \\Pi}{l_0^2 k_\\text{a}} \\right|_{\\tilde{u}, \\vartheta=0} =  \\left[ \\tilde{k}  - (1-\\tilde{u}) \\tilde{u} \\right] \\delta \\vartheta\n",
    "$$\n",
    "\n",
    "So that the transition between stable and instable regions occurs at\n",
    "\n",
    "$$\n",
    "    \\tilde{u}_\\text{cr} = \\frac{1 \\pm \\sqrt{1 - 4\\tilde{k}}}{2}\n",
    "$$\n",
    "\n",
    "Let's plot the different solution paths along with the stability indicator $\\text{sign}\\,\\delta^2 \\Pi$"
   ]
  },
  {
   "cell_type": "code",
   "execution_count": null,
   "id": "02c6bd7f-fbc2-4704-a7a9-bd937f92b2c0",
   "metadata": {
    "jupyter": {
     "source_hidden": true
    },
    "tags": []
   },
   "outputs": [],
   "source": [
    "Eq = -(1-u)*sp.sin(theta)/sp.cos(theta)**2 * (1 - (1-u)/sp.cos(theta))\n",
    "res = sp.diff(Eq,theta)\n",
    "#display(Eq,res,res.simplify(),res.trigsimp())"
   ]
  },
  {
   "cell_type": "code",
   "execution_count": null,
   "id": "5dd35133-fbee-40d6-8fb4-64b868328d3d",
   "metadata": {
    "jupyter": {
     "source_hidden": true
    },
    "tags": []
   },
   "outputs": [],
   "source": [
    "d2Pi = lambda xK, xU, xT: xK - (1-xU)*( ( (3*xU-3+2*np.cos(xT))*np.tan(xT)**2 + (xU + np.cos(xT) - 1)  )/np.cos(xT)**2 )\n",
    "u_vert = lambda xK: [(1+np.sqrt(1-4*xK))/2, (1-np.sqrt(1-4*xK))/2]\n",
    "\n",
    "fig, ax = plt.subplots(figsize=(24,6),ncols=3)\n",
    "angles = np.linspace(0.01,np.deg2rad(170),1000)\n",
    "y = np.linspace(0, 2, 1000)\n",
    "X,Y = np.meshgrid(angles,y)\n",
    "for i, stiff in enumerate([0.1,0.23,0.25]):\n",
    "    ax[i].plot(angles,u_u_num(stiff,angles)[0],label=r'$\\tilde{k} = %.2f$' %stiff)\n",
    "    ax[i].plot(angles,u_u_num(stiff,angles)[1])\n",
    "    cset = ax[i].contourf(X,Y, np.sign(d2Pi(stiff,Y,X)),cmap=cm.coolwarm, levels=[-1,0,1],alpha=0.2)\n",
    "    ax[i].contour(X,Y, np.sign(d2Pi(stiff,Y,X)), levels=[0],alpha=0.2,colors='black',linestyles=':')\n",
    "    ax[i].axvline(0.01,ls='--',color='black', label=r'trivial path')\n",
    "    ax[i].plot([0.01,0.01],u_vert(stiff),ls='',marker='d',color='red',label=r'$\\tilde{u}_\\mathrm{crit} |_{\\vartheta = 0}$')\n",
    "    ax[i].set_ylim(0,2)\n",
    "    ax[i].set_xlim(0,np.deg2rad(180))\n",
    "    ax[i].set_xlabel(r'$\\vartheta$')\n",
    "    ax[i].set_ylabel(r'$\\tilde{u}$')\n",
    "    ax[i].legend()\n",
    "    plt.colorbar(cset,shrink=0.2, aspect=5, ax=ax[i]);"
   ]
  },
  {
   "cell_type": "code",
   "execution_count": null,
   "id": "357ab79b-28bf-4b0b-8907-ccf94e15e397",
   "metadata": {
    "jupyter": {
     "source_hidden": true
    },
    "tags": []
   },
   "outputs": [],
   "source": [
    "#HIDDEN\n",
    "d2Pi = lambda xK, xU, xT: xK - (1-xU)*( ( (3*xU-3+2*np.cos(xT))*np.tan(xT)**2 + (xU + np.cos(xT) - 1)  )/np.cos(xT)**2 )\n",
    "u_vert = lambda xK: [(1+np.sqrt(1-4*xK))/2, (1-np.sqrt(1-4*xK))/2]\n",
    "\n",
    "fig, ax = plt.subplots(figsize=(24,6),ncols=3)\n",
    "angles = np.linspace(0.01,np.deg2rad(80),1000)\n",
    "y = np.linspace(0, 1, 1000)\n",
    "X,Y = np.meshgrid(angles,y)\n",
    "for i, stiff in enumerate([0.1,0.23,0.25]):\n",
    "    ax[i].plot(angles,u_u_num(stiff,angles)[0],label=r'$\\tilde{k} = %.2f$' %stiff)\n",
    "    ax[i].plot(angles,u_u_num(stiff,angles)[1])\n",
    "    cset = ax[i].contourf(X,Y, np.sign(d2Pi(stiff,Y,X)),cmap=cm.coolwarm, levels=[-1,0,1],alpha=0.2)\n",
    "    ax[i].contour(X,Y, np.sign(d2Pi(stiff,Y,X)), levels=[0],alpha=0.2,colors='black',linestyles=':')\n",
    "    ax[i].axvline(0.01,ls='--',color='black', label=r'trivial path')\n",
    "    ax[i].plot([0.01,0.01],u_vert(stiff),ls='',marker='d',color='red',label=r'$\\tilde{u}_\\mathrm{crit} |_{\\vartheta = 0}$')\n",
    "    ax[i].set_ylim(0,1)\n",
    "    ax[i].set_xlim(0,np.deg2rad(80))\n",
    "    ax[i].set_xlabel(r'$\\vartheta$')\n",
    "    ax[i].set_ylabel(r'$\\tilde{u}$')\n",
    "    ax[i].legend()\n",
    "    plt.colorbar(cset,shrink=0.2, aspect=5, ax=ax[i]);"
   ]
  },
  {
   "cell_type": "markdown",
   "id": "14537c72-7ca8-4cf5-a02a-50ab4f5c6e21",
   "metadata": {
    "tags": []
   },
   "source": [
    "We clearly see the bifurcation points coindicing with a stability loss. We also see, how the vertical solution is stable both before the first and after the second bifurcation.  A softening response (middle picture) can be done in a stable fashion under displacement control. Finally, we observe that the first bifurcated branch undergoes an unstable transition under displacement control when the equilibrium path exhibits snap-back (right picture). One can imagine holding $\\tilde{u}$ fixed in the straight configuration and perturbing $\\vartheta$, leading to a sudden jump to the new non-straight equilibrium configuration. At the bifurcation point, only a slight perturbation is necessary, while slightly below it, a deliberate finite perturbation can also bring the system to a new equilibrium position (snap). The equilibrium path acts as a demarcation line: if our perturbation of $\\vartheta$ is in the region left to it, the system gets pulled back to the vertical equilibrium (trivial branch). If it touches/crosses the equilibrium line, it snaps to the right solution (stable point on bifurcated branch); see next picture."
   ]
  },
  {
   "cell_type": "code",
   "execution_count": null,
   "id": "37354be1-bbc2-4581-b996-b26f0919739c",
   "metadata": {
    "jupyter": {
     "source_hidden": true
    },
    "tags": []
   },
   "outputs": [],
   "source": [
    "#HIDDEN\n",
    "d2Pi = lambda xK, xU, xT: xK - (1-xU)*( ( (3*xU-3+2*np.cos(xT))*np.tan(xT)**2 + (xU + np.cos(xT) - 1)  )/np.cos(xT)**2 )\n",
    "u_vert = lambda xK: [(1+np.sqrt(1-4*xK))/2, (1-np.sqrt(1-4*xK))/2]\n",
    "\n",
    "fig, ax = plt.subplots(figsize=(12,8))\n",
    "angles = np.linspace(0.001,np.deg2rad(80),1000)\n",
    "y = np.linspace(0, 1, 1000)\n",
    "X,Y = np.meshgrid(angles,y)\n",
    "stiff = 0.25\n",
    "ax.plot(angles,u_u_num(stiff,angles)[0],label=r'$\\tilde{k} = %.2f$' %stiff)\n",
    "ax.plot(angles,u_u_num(stiff,angles)[1])\n",
    "cset = ax.contourf(X,Y, np.sign(d2Pi(stiff,Y,X)),cmap=cm.coolwarm, levels=[-1,0,1],alpha=0.2)\n",
    "ax.contour(X,Y, np.sign(d2Pi(stiff,Y,X)), levels=[0],alpha=0.2,colors='black',linestyles=':')\n",
    "ax.axvline(0.005,ls='--',color='black', label=r'trivial path')\n",
    "ax.plot([0.005,0.005],u_vert(stiff),ls='',marker='d',color='red',label=r'$\\tilde{u}_\\mathrm{crit} |_{\\vartheta = 0}$')\n",
    "ax.plot(0.2-0.01,u_u_num(stiff,0.2)[0],ls='',marker='o',color='green',label=r'$\\vartheta_\\mathrm{eq}\\pm\\varepsilon$')\n",
    "ax.plot(0.2+0.01,u_u_num(stiff,0.2)[0],ls='',marker='o',color='green')\n",
    "ax.arrow(0.2-0.01,u_u_num(stiff,0.2)[0],-0.2+0.01,0,length_includes_head=True,lw=0.5,head_width=0.01)\n",
    "ax.arrow(0.2-0.01,u_u_num(stiff,0.2)[0],0.47,0,length_includes_head=True,lw=0.5,head_width=0.01) #approximate\n",
    "ax.set_ylim(0.3,0.6)\n",
    "ax.set_xlim(0,1)\n",
    "ax.set_xlabel(r'$\\vartheta$')\n",
    "ax.set_ylabel(r'$\\tilde{u}$')\n",
    "ax.legend()\n",
    "plt.colorbar(cset,shrink=0.2, aspect=5, ax=ax);"
   ]
  },
  {
   "cell_type": "markdown",
   "id": "3b46c282-4184-4c54-9d9e-7681acaf44e7",
   "metadata": {
    "tags": []
   },
   "source": [
    "### Prescribed load\n",
    "\n",
    "Substitution of the Force solution into the equilibrium equation $\\tilde{g}_u=0$ yields\n",
    "\n",
    "$$\n",
    "    g_F = 0 = \\tilde{k}\\vartheta + \\tilde{F}_\\text{ext}^2 \\sin\\vartheta\\cos\\vartheta - \\tilde{F}_\\text{ext}\\sin\\vartheta\n",
    "$$\n",
    "\n",
    "as an equilibrium condition."
   ]
  },
  {
   "cell_type": "code",
   "execution_count": null,
   "id": "0f92caa7-2ec9-4b77-bdbe-18179b33ac1a",
   "metadata": {
    "jupyter": {
     "source_hidden": true
    },
    "tags": []
   },
   "outputs": [],
   "source": [
    "Eq = k*theta -(1-u)*sp.sin(theta)/sp.cos(theta)**2 * (1 - (1-u)/sp.cos(theta))\n",
    "#Eq.subs(u,F*sp.cos(theta)**2 + 1 - sp.cos(theta)).simplify()"
   ]
  },
  {
   "cell_type": "markdown",
   "id": "5d69e6cf-ccb3-4fa7-afec-6184c3f48f2c",
   "metadata": {
    "tags": []
   },
   "source": [
    "A variation of $g_F$ for fixed external loads yields\n",
    "\n",
    "$$\n",
    " \\delta g_F |_{\\tilde{F}_\\text{ext}} = \\left[\\tilde{k} + \\tilde{F}_\\text{ext}^2 (\\cos^2\\vartheta - \\sin^2\\vartheta) - \\tilde{F}_\\text{ext}\\cos\\vartheta \\right] \\delta\\vartheta\n",
    "$$\n",
    "\n",
    "For the trivial path we find\n",
    "\n",
    "$$\n",
    "    \\delta g_F |_{\\tilde{F}_\\text{ext},\\vartheta=0} =  \\tilde{k} + \\tilde{F}_\\text{ext}^2 - \\tilde{F}_\\text{ext}\n",
    "$$\n",
    "\n",
    "Thus, the stability limits along the trivial path are\n",
    "\n",
    "$$\n",
    "    \\tilde{F}_\\text{cr} = \\frac{1 \\pm \\sqrt{1 - 4\\tilde{k}}}{2}\n",
    "$$\n",
    "\n",
    "Let's plot the solutions on the energy potential landscape."
   ]
  },
  {
   "cell_type": "code",
   "execution_count": null,
   "id": "a3172a5e-d8b2-4029-9634-e48fe8a12f9b",
   "metadata": {
    "jupyter": {
     "source_hidden": true
    },
    "tags": []
   },
   "outputs": [],
   "source": [
    "Pi_F_num = lambda xF, xTheta, xK: xK*xTheta**2/2 - xF**2*np.cos(xTheta)**2/2 + xF*(np.cos(xTheta)-1)"
   ]
  },
  {
   "cell_type": "code",
   "execution_count": null,
   "id": "828a4ded-5cda-4ae5-ba98-e42d4f1864a3",
   "metadata": {
    "jupyter": {
     "source_hidden": true
    },
    "tags": []
   },
   "outputs": [],
   "source": [
    "F_cr = lambda xK: [(1 - np.sqrt(1 - 4*xK))/2, (1 + np.sqrt(1 - 4*xK))/2]\n",
    "\n",
    "stiff = 0.24\n",
    "fig, ax = plt.subplots(ncols=2,figsize=(16,6))\n",
    "x = np.linspace(0, 2, 100)\n",
    "y = np.linspace(0.01, np.pi, 1000)\n",
    "X,Y = np.meshgrid(x,y)\n",
    "ax[0].set_xlabel(r'$\\vartheta$')\n",
    "ax[0].set_ylabel(r'$\\tilde{F}$')\n",
    "cset = ax[0].contour(Y,X, Pi_F_num(X,Y,stiff),cmap=cm.coolwarm, levels=40)\n",
    "ax[0].plot([0.01,0.01],F_cr(stiff),ls='',marker='d',color='red')\n",
    "ax[0].plot([0.01,0.01],[0,2],color='black',ls='--',label=r'trivial path')\n",
    "ax[0].plot(y,F_theta(y,stiff)[0])\n",
    "ax[0].plot(y[y<np.pi/2],F_theta(y[y<np.pi/2],stiff)[1])\n",
    "ax[0].set_ylim(0,2)\n",
    "ax[0].set_xlim(0,np.pi)\n",
    "\n",
    "ax[1].set_xlabel(r'$\\tilde{u}$')\n",
    "ax[1].set_ylabel(r'$\\tilde{F}$')\n",
    "cset = ax[1].contour(u_num(Y,X),X, Pi_F_num(X,Y,stiff),cmap=cm.coolwarm, levels=50)\n",
    "ax[1].plot(F_cr(stiff),F_cr(stiff),ls='',marker='d',color='red')\n",
    "ax[1].plot(u_num(y,F_theta(y,stiff)[0]),F_theta(y,stiff)[0])\n",
    "ax[1].plot(u_num(y[y<=np.pi/2],F_theta(y[y<np.pi/2],stiff)[1]),F_theta(y[y<np.pi/2],stiff)[1])\n",
    "ax[1].plot([0,2],[0,2],color='black',ls='--',label=r'trivial path')\n",
    "ax[1].set_ylim(0,2)\n",
    "ax[1].set_xlim(0,4)\n",
    "fig.tight_layout();"
   ]
  },
  {
   "cell_type": "markdown",
   "id": "7e68465f-c8e4-49b6-8c82-034367f522bc",
   "metadata": {},
   "source": [
    "The connection to the extremes (stationary points) of the energy landscape becomes apparent.\n",
    "\n",
    "Now let's re-plot the solution for force control with the indication of the stability regions using the stability indicator $\\text{sign}\\,\\delta g_F$."
   ]
  },
  {
   "cell_type": "code",
   "execution_count": null,
   "id": "fbcfcaf3-5a52-4d96-b064-a500346dcf45",
   "metadata": {
    "jupyter": {
     "source_hidden": true
    },
    "tags": []
   },
   "outputs": [],
   "source": [
    "d2Pi = lambda xK, xF, xT: xK - xF *np.cos(xT)  + xF**2 * (np.cos(xT)**2 - np.sin(xT)**2)\n",
    "F_ext = lambda xU, xT: (xU + np.cos(xT) - 1)/np.cos(xT)**2\n",
    "\n",
    "fig, ax = plt.subplots(figsize=(24,6),ncols=3)\n",
    "angles = np.linspace(0.01,np.deg2rad(80),1000)\n",
    "y = np.linspace(0, 2, 1000)\n",
    "X,Y = np.meshgrid(angles,y)\n",
    "for i, stiff in enumerate([0.1,0.23,0.25]):\n",
    "    ax[i].plot(angles,F_ext(u_u_num(stiff,angles)[0],angles),label=r'$\\tilde{k} = %.2f$' %stiff)\n",
    "    ax[i].plot(angles[angles < np.pi/2],F_ext(u_u_num(stiff,angles)[1],angles)[angles < np.pi/2])\n",
    "    cset = ax[i].contourf(X,F_ext(Y,X), np.sign(d2Pi(stiff,F_ext(Y,X),X)),cmap=cm.coolwarm, levels=[-1,0,1],alpha=0.2)\n",
    "    ax[i].contour(X,F_ext(Y,X), np.sign(d2Pi(stiff,F_ext(Y,X),X)), levels=[0],alpha=0.2,colors='black',linestyles=':')\n",
    "    ax[i].axvline(0.01,ls='--',color='black', label=r'trivial path')\n",
    "    ax[i].plot([0.01,0.01],u_vert(stiff),ls='',marker='d',color='red',label=r'$\\tilde{u}_\\mathrm{crit} |_{\\vartheta = 0}$')\n",
    "    ax[i].set_ylim(0,2)\n",
    "    ax[i].set_xlim(0,np.deg2rad(80))\n",
    "    ax[i].set_xlabel(r'$\\vartheta$')\n",
    "    ax[i].set_ylabel(r'$\\tilde{F}$')\n",
    "    ax[i].legend()\n",
    "    plt.colorbar(cset,shrink=0.2, aspect=5, ax=ax[i]);"
   ]
  },
  {
   "cell_type": "markdown",
   "id": "15729988-87c3-4058-8b38-bf79915f6cd1",
   "metadata": {},
   "source": [
    "we can see now how, in addition to snap-backs, softening responses (middle picture) become unstable under force control."
   ]
  }
 ],
 "metadata": {
  "kernelspec": {
   "display_name": "Python 3 (ipykernel)",
   "language": "python",
   "name": "python3"
  },
  "language_info": {
   "codemirror_mode": {
    "name": "ipython",
    "version": 3
   },
   "file_extension": ".py",
   "mimetype": "text/x-python",
   "name": "python",
   "nbconvert_exporter": "python",
   "pygments_lexer": "ipython3",
   "version": "3.12.7"
  },
  "widgets": {
   "application/vnd.jupyter.widget-state+json": {
    "state": {},
    "version_major": 2,
    "version_minor": 0
   }
  }
 },
 "nbformat": 4,
 "nbformat_minor": 5
}
