{
 "cells": [
  {
   "cell_type": "markdown",
   "metadata": {},
   "source": [
    "![Logo TUBAF](https://tu-freiberg.de/sites/default/files/media/freiberger-alumni-netzwerk-6127/wbm_orig_rgb_0.jpg)\n",
    "\n",
    "Exercise material of the MSc-level course **Foundations of Soil Mechanics**.\n",
    "Held at Technische Universität Bergakademie Freiberg.\n",
    "\n",
    "Comments to:\n",
    "\n",
    "*Prof. Dr. Thomas Nagel  \n",
    "Chair of Soil Mechanics and Foundation Engineering  \n",
    "Geotechnical Institute  \n",
    "Technische Universität Bergakademie Freiberg.*\n",
    "\n",
    "https://tu-freiberg.de/en/fakultaet3/gt/soilmechanics"
   ]
  },
  {
   "cell_type": "markdown",
   "metadata": {},
   "source": [
    "# Erddruckberechnung -- Spundwand\n",
    "\n",
    "Das folgende Beispiel ist an das Beispiel aus W. Fellin \"Geotechnik -- Lernen mit Beispielen\" angelehnt.\n",
    "\n",
    "![Rankine.png](https://raw.githubusercontent.com/nagelt/Teaching_Scripts/master/Images/Spundwand.png)\n",
    "\n",
    "**Aufgabe:** Zu untersuchen sind die Verteilungen von Erd- und Wasserdrücken im Falle des Niedrigwassers, für den davon ausgegangen wird, dass sich aufgrund der sich einstellenden Wandverschiebung auf der Bodenseite der aktive Erddruck einstellt und auf der Wasserseite der Erdwiderstand aktiviert wird."
   ]
  },
  {
   "cell_type": "code",
   "execution_count": 112,
   "metadata": {},
   "outputs": [],
   "source": [
    "import matplotlib.pyplot as plt\n",
    "import numpy as np\n",
    "\n",
    "#Some plot settings\n",
    "import plot_functions.plot_settings"
   ]
  },
  {
   "cell_type": "markdown",
   "metadata": {},
   "source": [
    "Die aktiven und passiven Erddrücke in horizontaler Richtung ergeben sich zu \n",
    "\n",
    "\\begin{align}\n",
    "    e_\\text{ah} &= \\gamma z K_\\text{agh} + p_\\text{v} K_\\text{aph} - c K_\\text{ach}\n",
    "    \\\\\n",
    "    e_\\text{ph} &= \\gamma z K_\\text{pgh} + p_\\text{v} K_\\text{pph} - c K_\\text{pch}\n",
    "\\end{align}\n",
    "\n",
    "Betrachten wir zunächst die aktive Seite mit den Eddruckbeiwerten:\n",
    "\n",
    "\\begin{align*}\n",
    "\tK_\\text{agh} &= \\left[\n",
    "\t\\frac{\\cos(\\varphi - \\alpha)}{\\cos \\alpha \\left( 1 + \\sqrt{\\displaystyle\\frac{\\sin(\\varphi + \\delta_\\text{a}) \\sin (\\varphi - \\beta)}{\\cos(\\alpha - \\beta) \\cos(\\alpha + \\delta_\\text{a})}} \\right)}\n",
    "\t\\right]^2\n",
    "\t\\qquad\n",
    "\tK_\\text{ag} = \\frac{K_\\text{agh}}{\\cos (\\alpha + \\delta_\\text{a})} \n",
    "    \\qquad\n",
    "    K_\\text{agv} = K_\\text{agh} \\tan (\\alpha + \\delta_\\text{a})\n",
    "    \\\\\n",
    "    K_\\text{aph} &= \\frac{\\cos \\alpha \\cos \\beta}{\\cos(\\alpha - \\beta)} K_\\text{agh}\n",
    "    \\\\\n",
    "    K_\\text{ach} &= \\frac{2\\cos(\\alpha - \\beta) \\cos\\varphi \\cos(\\alpha+\\delta_\\text{a})}{\\left[ 1 + \\sin(\\varphi + \\alpha + \\delta_\\text{a} - \\beta)\\right]\\cos\\alpha}\n",
    "\\end{align*}\n",
    "\n",
    "Den Wandreibungswinkel legen wir zu $\\delta_\\text{a} = 2/3\\,\\varphi$ fest. Auf der passiven Seite wird zunächst $\\delta_\\text{p} = -\\varphi/3$ angesetzt und diese Wahl später über das vertikale Kräftegleichgewicht überprüft.\n",
    "\n",
    "Sei außerdem $p_\\text{v} = 10\\,$kN/m²."
   ]
  },
  {
   "cell_type": "code",
   "execution_count": 113,
   "metadata": {},
   "outputs": [],
   "source": [
    "K_agh = lambda alpha,beta,delta,phi: (np.cos(phi - alpha)/(np.cos(alpha) * \n",
    "                                                           (1 + np.sqrt(np.sin(phi+delta)*np.sin(phi-beta)/\n",
    "                                                                        (np.cos(alpha+delta)*np.cos(alpha-beta))))))**2\n",
    "\n",
    "K_aph = lambda Kagh,alpha,beta: np.cos(alpha)*np.cos(beta)/np.cos(alpha-beta)*Kagh\n",
    "\n",
    "K_ach = lambda alpha,beta,delta,phi: 2*np.cos(alpha-beta)*np.cos(phi)*np.cos(alpha+delta)/(np.cos(alpha)*(1+np.sin(phi+alpha+delta-beta)))\n",
    "\n",
    "h_in_v = lambda h,alpha,delta: h*np.tan(alpha+delta)\n",
    "h_in_t = lambda h,alpha,delta: h/np.cos(alpha+delta)"
   ]
  },
  {
   "cell_type": "code",
   "execution_count": 114,
   "metadata": {},
   "outputs": [
    {
     "name": "stdout",
     "output_type": "stream",
     "text": [
      "K_{agh} = 0.235 für Sa und 0.318 für saSi\n",
      "K_{aph} = 0.235 für Sa und 0.318 für saSi\n",
      "K_{ach} entfällt für Sa und beträgt 0.993 für saSi\n",
      "\n",
      "K_{ag} = 0.254 für Sa und 0.334 für saSi\n",
      "K_{ap} = 0.254 für Sa und 0.334 für saSi\n",
      "K_{ac} entfällt für Sa und beträgt 1.044 für saSi\n"
     ]
    }
   ],
   "source": [
    "res_K_agh = np.array([K_agh(0,0,2./3.*np.deg2rad(34),np.deg2rad(34)),\n",
    "                      K_agh(0,0,2./3.*np.deg2rad(27),np.deg2rad(27))])\n",
    "res_K_aph = np.array([K_aph(res_K_agh[0],0,0),\n",
    "                      K_aph(res_K_agh[1],0,0)])\n",
    "res_K_ach = K_ach(0,0,2./3.*np.deg2rad(27),np.deg2rad(27))\n",
    "\n",
    "\n",
    "print(\"K_{agh} = %.3f für Sa und %.3f für saSi\" %(res_K_agh[0],res_K_agh[1]))\n",
    "print(\"K_{aph} = %.3f für Sa und %.3f für saSi\" %(res_K_aph[0],res_K_aph[1]))\n",
    "print(\"K_{ach} entfällt für Sa und beträgt %.3f für saSi\" %(res_K_ach))\n",
    "\n",
    "print(\"\\nK_{ag} = %.3f für Sa und %.3f für saSi\" %(h_in_t(res_K_agh[0],0,2./3*np.deg2rad(34)),h_in_t(res_K_agh[1],0,2./3*np.deg2rad(27))))\n",
    "print(\"K_{ap} = %.3f für Sa und %.3f für saSi\" %(h_in_t(res_K_aph[0],0,2./3*np.deg2rad(34)),h_in_t(res_K_aph[1],0,2./3*np.deg2rad(27))))\n",
    "print(\"K_{ac} entfällt für Sa und beträgt %.3f für saSi\" %h_in_t(res_K_ach,0,2./3*np.deg2rad(27)))"
   ]
  },
  {
   "cell_type": "markdown",
   "metadata": {},
   "source": [
    "Auf der passiven Seite nutzen wir:\n",
    "\n",
    "\\begin{align}\n",
    "    K_\\text{pgh} &= \\cos(\\alpha + \\delta_\\text{p}) K_\\text{pg,0} i_\\text{pg} g_\\text{pg} t_\\text{pg}\n",
    "    \\\\\n",
    "    K_\\text{pph} &= \\cos(\\alpha + \\delta_\\text{p}) K_\\text{pp,0} i_\\text{pp} g_\\text{pp} t_\\text{pp}\n",
    "    \\\\\n",
    "    K_\\text{pch} &= \\cos(\\alpha + \\delta_\\text{p}) K_\\text{pc,0} i_\\text{pc} g_\\text{pc} t_\\text{pc}\n",
    "    \\\\\n",
    "    &\\text{mit}\n",
    "    \\\\\n",
    "    K_\\text{pg,0} &= K_\\text{pp,0} = \\frac{1+\\sin\\varphi}{1-\\sin\\varphi}\n",
    "    \\\\\n",
    "    K_\\text{pc,0} &= 2 \\sqrt{K_\\text{pg,0}}\n",
    "\\end{align}\n",
    "\n",
    "Die Beiwerte können nach DIN4085 berechnet werden. Alternativ können die Erddruckbeiwerte aus den im Anhang gegebenen Abbildungen abgelesen werden. Damit ergibt sich ungefähr:\n",
    "\n",
    "$$\n",
    "    K_\\text{pgh} \\approx 3.4 \\qquad K_\\text{pch} \\approx 4.1\n",
    "$$\n",
    "Nun rechnen wir die Erddrücke an den Schichtgrenzen aus."
   ]
  },
  {
   "cell_type": "code",
   "execution_count": 115,
   "metadata": {},
   "outputs": [
    {
     "name": "stdout",
     "output_type": "stream",
     "text": [
      "Tiefen unter GOK bergseitig in m: [ 0.   6.  10.5 19.5]\n",
      "Zugehörige Vertikaleffektivspannungen in kN/m²: [  0. 108. 153. 234.]\n"
     ]
    }
   ],
   "source": [
    "#Schichtdicken:\n",
    "dza = np.array([0,6,4.5,9])\n",
    "#maßgebliche Wichten\n",
    "gamma = np.array([18,18,10,9])\n",
    "#Vertikale Effektivspannungszuwächse:\n",
    "d_sigma_v = dza*gamma\n",
    "#Vertikale Effektivspannungen\n",
    "sigma_v=d_sigma_v.cumsum()\n",
    "print(\"Tiefen unter GOK bergseitig in m:\", dza.cumsum())\n",
    "print(\"Zugehörige Vertikaleffektivspannungen in kN/m²:\", sigma_v)"
   ]
  },
  {
   "cell_type": "code",
   "execution_count": 116,
   "metadata": {},
   "outputs": [
    {
     "name": "stdout",
     "output_type": "stream",
     "text": [
      "Sandschicht: Tiefen unter GOK bergseitig in m: [ 0.   6.  10.5]\n",
      "Sandschicht: Zugehörige horizontale Erddrücke in kN/m²: [ 2.3462205  27.68540184 38.24339407]\n",
      "Sandschicht: Zugehörige vertikale Erddrücke in kN/m²: [ 0.97984186 11.56213396 15.97142233]\n",
      "Schluffschicht: Tiefen unter GOK bergseitig in m: [10.5 19.5]\n",
      "Schluffschicht: Zugehörige horizontale Erddrücke in kN/m²: [31.91630531 57.64352792]\n",
      "Schluffschicht: Zugehörige vertikale Erddrücke in kN/m²: [10.37023623 18.72951758]\n"
     ]
    }
   ],
   "source": [
    "pv = 10.\n",
    "c = 20.\n",
    "e_ah_Sa = sigma_v[:3]*res_K_agh[0] + pv*res_K_aph[0]\n",
    "e_ah_Si = sigma_v[2:]*res_K_agh[1] + pv*res_K_aph[1] - c * res_K_ach\n",
    "print(\"Sandschicht: Tiefen unter GOK bergseitig in m:\", dza.cumsum()[:3])\n",
    "print(\"Sandschicht: Zugehörige horizontale Erddrücke in kN/m²:\", e_ah_Sa)\n",
    "print(\"Sandschicht: Zugehörige vertikale Erddrücke in kN/m²:\", h_in_v(e_ah_Sa,0,2./3.*np.deg2rad(34)))\n",
    "print(\"Schluffschicht: Tiefen unter GOK bergseitig in m:\", dza.cumsum()[2:])\n",
    "print(\"Schluffschicht: Zugehörige horizontale Erddrücke in kN/m²:\", e_ah_Si)\n",
    "print(\"Schluffschicht: Zugehörige vertikale Erddrücke in kN/m²:\", h_in_v(e_ah_Si,0,2./3.*np.deg2rad(27)))"
   ]
  },
  {
   "cell_type": "code",
   "execution_count": 117,
   "metadata": {},
   "outputs": [
    {
     "name": "stdout",
     "output_type": "stream",
     "text": [
      "Tiefen unter Sohle wasserseitig in m: [0 9]\n",
      "Zugehörige Vertikaleffektivspannungen in kN/m²: [ 0 81]\n"
     ]
    }
   ],
   "source": [
    "#Schichtdicken:\n",
    "dzp = np.array([0,9])\n",
    "#maßgebliche Wichten\n",
    "gamma = 9\n",
    "#Vertikale Effektivspannungszuwächse:\n",
    "d_sigma_vp = dzp*gamma\n",
    "#Vertikale Effektivspannungen\n",
    "sigma_vp=d_sigma_vp.cumsum()\n",
    "print(\"Tiefen unter Sohle wasserseitig in m:\", dzp.cumsum())\n",
    "print(\"Zugehörige Vertikaleffektivspannungen in kN/m²:\", sigma_vp)"
   ]
  },
  {
   "cell_type": "code",
   "execution_count": 118,
   "metadata": {},
   "outputs": [
    {
     "name": "stdout",
     "output_type": "stream",
     "text": [
      "Schluffschicht: Tiefen unter Sohle wasserseitig in m: [0 9]\n",
      "Schluffschicht: Zugehörige horizontale Erddrücke in kN/m²: [ 82.  357.4]\n",
      "Schluffschicht: Zugehörige vertikale Erddrücke in kN/m²: [-12.98752411 -56.60659897]\n"
     ]
    }
   ],
   "source": [
    "K_pgh = 3.4\n",
    "K_pch = 4.1\n",
    "e_ph_Si = sigma_vp*K_pgh + c * K_pch\n",
    "print(\"Schluffschicht: Tiefen unter Sohle wasserseitig in m:\", dzp.cumsum())\n",
    "print(\"Schluffschicht: Zugehörige horizontale Erddrücke in kN/m²:\", e_ph_Si)\n",
    "print(\"Schluffschicht: Zugehörige vertikale Erddrücke in kN/m²:\", h_in_v(e_ph_Si,0,-1./3.*np.deg2rad(27)))"
   ]
  },
  {
   "cell_type": "markdown",
   "metadata": {},
   "source": [
    "Wir vernachlässigen vorerst Strömungskräfte und rechnen die hydrostatische Wasserdruckverteilung aus:"
   ]
  },
  {
   "cell_type": "code",
   "execution_count": 119,
   "metadata": {},
   "outputs": [],
   "source": [
    "z_wa = np.array([6,19.5])\n",
    "p_wa = 10*(z_wa-6)\n",
    "\n",
    "z_wp = np.array([7,19.5])\n",
    "p_wp = 10*(z_wp-7)"
   ]
  },
  {
   "cell_type": "markdown",
   "metadata": {},
   "source": [
    "Wir können das Ergebnis nun darstellen."
   ]
  },
  {
   "cell_type": "code",
   "execution_count": 120,
   "metadata": {},
   "outputs": [
    {
     "data": {
      "image/png": "[encoded data removed]",
      "text/plain": [
       "<Figure size 576x432 with 1 Axes>"
      ]
     },
     "metadata": {
      "needs_background": "light"
     },
     "output_type": "display_data"
    }
   ],
   "source": [
    "fig, ax = plt.subplots()\n",
    "ax.plot(np.append(e_ah_Sa,e_ah_Si),-np.append(dza.cumsum()[:3],dza.cumsum()[2:]),label='$e_\\\\mathrm{ah}$',color='red')\n",
    "ax.plot(-e_ph_Si,-dzp.cumsum()-10.5,label='$e_\\\\mathrm{ph}$',color='green')\n",
    "ax.plot(p_wa,-z_wa,label='$p$',color='blue')\n",
    "ax.plot(-p_wp,-z_wp,color='blue')\n",
    "ax.axvline(0)\n",
    "ax.set_xlabel('$\\\\sigma_h$ / kN m$^{-2}$')\n",
    "ax.set_ylabel('$z_\\\\mathrm{GOK}$ / m')\n",
    "fig.tight_layout()\n",
    "fig.legend();"
   ]
  },
  {
   "cell_type": "markdown",
   "metadata": {},
   "source": [
    "Wir überprüfen nun, ob $\\sum V \\approx 0$, um die Annahme $\\delta_\\text{p} = -\\varphi/3$ zu verifizieren. "
   ]
  },
  {
   "cell_type": "code",
   "execution_count": 121,
   "metadata": {},
   "outputs": [
    {
     "name": "stdout",
     "output_type": "stream",
     "text": [
      "Summe der bergseitigen Vertikalkräfte: 230.5 kN/m\n",
      "Summe der wasserseitigen Vertikalkräfte: 313.2 kN/m\n"
     ]
    }
   ],
   "source": [
    "Eav = np.trapz(h_in_v(e_ah_Sa,0,2/3*np.deg2rad(34)),x=dza.cumsum()[:3]) + np.trapz(h_in_v(e_ah_Si,0,2/3*np.deg2rad(27)),x=dza.cumsum()[2:])\n",
    "Epv = np.trapz(h_in_v(e_ph_Si,0,1/3*np.deg2rad(27)),x=dzp.cumsum())\n",
    "print(\"Summe der bergseitigen Vertikalkräfte: %.1f kN/m\" %(Eav))\n",
    "print(\"Summe der wasserseitigen Vertikalkräfte: %.1f kN/m\" %(Epv))"
   ]
  },
  {
   "cell_type": "markdown",
   "metadata": {},
   "source": [
    "Wir überprüfen außerdem das horizontale Kräftegleichgewicht:"
   ]
  },
  {
   "cell_type": "code",
   "execution_count": 124,
   "metadata": {},
   "outputs": [
    {
     "name": "stdout",
     "output_type": "stream",
     "text": [
      "Summe der bergseitigen Horizontalkräfte: 1552.7 kN/m\n",
      "Summe der wasserseitigen Horizontalkräfte: 2758.6 kN/m\n"
     ]
    }
   ],
   "source": [
    "Eah = np.trapz(e_ah_Sa,x=dza.cumsum()[:3]) + np.trapz(e_ah_Si,x=dza.cumsum()[2:])\n",
    "P_a = np.trapz(p_wa,x=z_wa)\n",
    "Eph = np.trapz(e_ph_Si,x=dzp.cumsum())\n",
    "P_p = np.trapz(p_wp,x=z_wp)\n",
    "print(\"Summe der bergseitigen Horizontalkräfte: %.1f kN/m\" %(Eah+P_a))\n",
    "print(\"Summe der wasserseitigen Horizontalkräfte: %.1f kN/m\" %(Eph+P_p))"
   ]
  },
  {
   "cell_type": "markdown",
   "metadata": {},
   "source": [
    "## Weiterführende Aufgaben:\n",
    "\n",
    "* Interpretieren Sie das Ergebnis bzgl. des horizontalen Kräftegleichgewichts im Kontext der Wandverschiebung"
   ]
  }
 ],
 "metadata": {
  "kernelspec": {
   "display_name": "Python 3",
   "language": "python",
   "name": "python3"
  },
  "language_info": {
   "codemirror_mode": {
    "name": "ipython",
    "version": 3
   },
   "file_extension": ".py",
   "mimetype": "text/x-python",
   "name": "python",
   "nbconvert_exporter": "python",
   "pygments_lexer": "ipython3",
   "version": "3.8.6"
  }
 },
 "nbformat": 4,
 "nbformat_minor": 4
}
