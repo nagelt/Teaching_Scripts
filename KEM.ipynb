{
 "cells": [
  {
   "cell_type": "markdown",
   "metadata": {
    "deletable": false,
    "editable": false
   },
   "source": [
    "![Logo TUBAF](https://tu-freiberg.de/sites/default/files/media/freiberger-alumni-netzwerk-6127/wbm_orig_rgb_0.jpg)\n",
    "\n",
    "Exercise material of the MSc-level course **Foundations of Soil Mechanics**.\n",
    "Held at Technische Universität Bergakademie Freiberg.\n",
    "\n",
    "Comments to:\n",
    "\n",
    "*Prof. Dr. Thomas Nagel  \n",
    "Chair of Soil Mechanics and Foundation Engineering  \n",
    "Geotechnical Institute  \n",
    "Technische Universität Bergakademie Freiberg.*\n",
    "\n",
    "https://tu-freiberg.de/en/fakultaet3/gt/soilmechanics\n"
   ]
  },
  {
   "cell_type": "markdown",
   "metadata": {},
   "source": [
    "# Kinematische Elemente Methode"
   ]
  },
  {
   "cell_type": "code",
   "execution_count": 187,
   "metadata": {},
   "outputs": [],
   "source": [
    "import numpy as np #numerical methods\n",
    "import matplotlib.pyplot as plt #plotting\n",
    "import pandas as pd\n",
    "\n",
    "#Some plot settings\n",
    "import plot_functions.plot_settings\n",
    "%run plot_functions/KEM_plots.ipynb"
   ]
  },
  {
   "cell_type": "markdown",
   "metadata": {},
   "source": [
    "Wir definieren zunächst die Geometrie des Problems, legen also die kinematischen Elemente des Bruchmechanismus fest."
   ]
  },
  {
   "cell_type": "code",
   "execution_count": 188,
   "metadata": {},
   "outputs": [
    {
     "data": {
      "text/html": [
       "<div>\n",
       "<style scoped>\n",
       "    .dataframe tbody tr th:only-of-type {\n",
       "        vertical-align: middle;\n",
       "    }\n",
       "\n",
       "    .dataframe tbody tr th {\n",
       "        vertical-align: top;\n",
       "    }\n",
       "\n",
       "    .dataframe thead th {\n",
       "        text-align: right;\n",
       "    }\n",
       "</style>\n",
       "<table border=\"1\" class=\"dataframe\">\n",
       "  <thead>\n",
       "    <tr style=\"text-align: right;\">\n",
       "      <th></th>\n",
       "      <th>Pkt</th>\n",
       "      <th>x / m</th>\n",
       "      <th>y / m</th>\n",
       "    </tr>\n",
       "  </thead>\n",
       "  <tbody>\n",
       "    <tr>\n",
       "      <th>0</th>\n",
       "      <td>1.0</td>\n",
       "      <td>6.90</td>\n",
       "      <td>4.00</td>\n",
       "    </tr>\n",
       "    <tr>\n",
       "      <th>1</th>\n",
       "      <td>2.0</td>\n",
       "      <td>5.50</td>\n",
       "      <td>4.00</td>\n",
       "    </tr>\n",
       "    <tr>\n",
       "      <th>2</th>\n",
       "      <td>3.0</td>\n",
       "      <td>4.63</td>\n",
       "      <td>2.84</td>\n",
       "    </tr>\n",
       "    <tr>\n",
       "      <th>3</th>\n",
       "      <td>4.0</td>\n",
       "      <td>5.88</td>\n",
       "      <td>1.68</td>\n",
       "    </tr>\n",
       "    <tr>\n",
       "      <th>4</th>\n",
       "      <td>5.0</td>\n",
       "      <td>4.60</td>\n",
       "      <td>-0.20</td>\n",
       "    </tr>\n",
       "    <tr>\n",
       "      <th>5</th>\n",
       "      <td>6.0</td>\n",
       "      <td>3.78</td>\n",
       "      <td>1.71</td>\n",
       "    </tr>\n",
       "    <tr>\n",
       "      <th>6</th>\n",
       "      <td>7.0</td>\n",
       "      <td>2.50</td>\n",
       "      <td>0.00</td>\n",
       "    </tr>\n",
       "    <tr>\n",
       "      <th>7</th>\n",
       "      <td>8.0</td>\n",
       "      <td>2.36</td>\n",
       "      <td>-1.10</td>\n",
       "    </tr>\n",
       "    <tr>\n",
       "      <th>8</th>\n",
       "      <td>9.0</td>\n",
       "      <td>0.00</td>\n",
       "      <td>0.00</td>\n",
       "    </tr>\n",
       "  </tbody>\n",
       "</table>\n",
       "</div>"
      ],
      "text/plain": [
       "   Pkt  x / m  y / m\n",
       "0  1.0   6.90   4.00\n",
       "1  2.0   5.50   4.00\n",
       "2  3.0   4.63   2.84\n",
       "3  4.0   5.88   1.68\n",
       "4  5.0   4.60  -0.20\n",
       "5  6.0   3.78   1.71\n",
       "6  7.0   2.50   0.00\n",
       "7  8.0   2.36  -1.10\n",
       "8  9.0   0.00   0.00"
      ]
     },
     "execution_count": 188,
     "metadata": {},
     "output_type": "execute_result"
    }
   ],
   "source": [
    "geometry = pd.DataFrame(np.array([[1,2,3,4,5,6,7,8,9],\n",
    "                                  [6.9,5.5,4.63,5.88,4.6,3.78,2.5,2.36,0.0],\n",
    "                                  [4.0,4.0,2.84,1.68,-0.2,1.71,0.0,-1.1,0.0]]).T,\n",
    "                   columns=['Pkt', 'x / m', 'y / m'])\n",
    "geometry"
   ]
  },
  {
   "cell_type": "code",
   "execution_count": 189,
   "metadata": {},
   "outputs": [],
   "source": [
    "#Achtung: Nummerierung im Umlaufsinn!\n",
    "block1 = define_element(geometry,[1,2,3,4])\n",
    "block2 = define_element(geometry,[4,3,6,5])\n",
    "block3 = define_element(geometry,[5,6,7,8])\n",
    "block4 = define_element(geometry,[8,7,9])"
   ]
  },
  {
   "cell_type": "markdown",
   "metadata": {},
   "source": [
    "In der Darstellung ergibt sich folgende Böschungsgeometrie."
   ]
  },
  {
   "cell_type": "code",
   "execution_count": 190,
   "metadata": {},
   "outputs": [
    {
     "data": {
      "image/png": "[encoded data removed]",
      "text/plain": [
       "<Figure size 576x432 with 1 Axes>"
      ]
     },
     "metadata": {
      "needs_background": "light"
     },
     "output_type": "display_data"
    }
   ],
   "source": [
    "plot_blocks([block1,block2,block3,block4])"
   ]
  },
  {
   "cell_type": "markdown",
   "metadata": {},
   "source": [
    "Jetzt können wir bereits einige wesentliche Größen ausrechnen. Genauer gesagt, können wir die Gewichtskräfte der einzelnen kinematischen Elemente aus ihren Flächeninhalten ableiten. Dazu legen wir die wesentlichen Materialeigenschaften fest."
   ]
  },
  {
   "cell_type": "code",
   "execution_count": 191,
   "metadata": {},
   "outputs": [],
   "source": [
    "#Wichte in kN/m³\n",
    "gamma = 16.\n",
    "#Kohäsion in kN/m²\n",
    "c = 5\n",
    "#Reibungswinkel in rad\n",
    "phi = np.deg2rad(30)"
   ]
  },
  {
   "cell_type": "code",
   "execution_count": 192,
   "metadata": {},
   "outputs": [],
   "source": [
    "data = {'A / m²': np.array([block_area(block1),block_area(block2),block_area(block3),block_area(block4)])} #in m"
   ]
  },
  {
   "cell_type": "code",
   "execution_count": 193,
   "metadata": {},
   "outputs": [],
   "source": [
    "data['G / kN/m'] = data['A / m²']*gamma"
   ]
  },
  {
   "cell_type": "code",
   "execution_count": 194,
   "metadata": {},
   "outputs": [
    {
     "data": {
      "text/html": [
       "<div>\n",
       "<style scoped>\n",
       "    .dataframe tbody tr th:only-of-type {\n",
       "        vertical-align: middle;\n",
       "    }\n",
       "\n",
       "    .dataframe tbody tr th {\n",
       "        vertical-align: top;\n",
       "    }\n",
       "\n",
       "    .dataframe thead th {\n",
       "        text-align: right;\n",
       "    }\n",
       "</style>\n",
       "<table border=\"1\" class=\"dataframe\">\n",
       "  <thead>\n",
       "    <tr style=\"text-align: right;\">\n",
       "      <th></th>\n",
       "      <th>A / m²</th>\n",
       "      <th>G / kN/m</th>\n",
       "    </tr>\n",
       "  </thead>\n",
       "  <tbody>\n",
       "    <tr>\n",
       "      <th>0</th>\n",
       "      <td>2.85360</td>\n",
       "      <td>45.6576</td>\n",
       "    </tr>\n",
       "    <tr>\n",
       "      <th>1</th>\n",
       "      <td>3.19245</td>\n",
       "      <td>51.0792</td>\n",
       "    </tr>\n",
       "    <tr>\n",
       "      <th>2</th>\n",
       "      <td>3.09250</td>\n",
       "      <td>49.4800</td>\n",
       "    </tr>\n",
       "    <tr>\n",
       "      <th>3</th>\n",
       "      <td>1.37500</td>\n",
       "      <td>22.0000</td>\n",
       "    </tr>\n",
       "  </tbody>\n",
       "</table>\n",
       "</div>"
      ],
      "text/plain": [
       "    A / m²  G / kN/m\n",
       "0  2.85360   45.6576\n",
       "1  3.19245   51.0792\n",
       "2  3.09250   49.4800\n",
       "3  1.37500   22.0000"
      ]
     },
     "execution_count": 194,
     "metadata": {},
     "output_type": "execute_result"
    }
   ],
   "source": [
    "blockdata = pd.DataFrame(data)\n",
    "blockdata"
   ]
  },
  {
   "cell_type": "markdown",
   "metadata": {},
   "source": [
    "Am unteren Körper lässt sich direkt das Kräftegleichgewicht konstruieren: Wir kennen die Gewichtskraft sowie die Wirkungslinien der Reibungs- und Kohäsionskräfte in den beiden Gleitfugen. Der Richtungssinn der letzteren beiden Kräfte folgt aus dem Geschwindigkeitsplan. Außerdem sind die Normalenkräfte anzusetzen. Normalkraft $N$ und Reibungskraft $R$ werden zur Gleitfugenresultierenden $Q$ zuammengefasst und aus dem Kräftegleichgewicht bestimmt, während sich die Kohäsionskräfte $C$ aus dem Bruchmechanismus ableiten."
   ]
  },
  {
   "cell_type": "markdown",
   "metadata": {},
   "source": [
    "## Kräftegleichgewicht am Element 4\n",
    "\n",
    "Sammeln wir zunächst die aus der Geometrie und den Materialeigenschaften bekannten Vektoren $\\vec{G}_4$, $\\vec{C}_{98}$ und $\\vec{C}_{78}$. Dabei gelte an Grenzflächen die Konvention $\\vec{F}_{\\text{von}\\,\\text{bis}}$, wodurch über die Reihenfolge der Indizes die Wirkrichtung festgelegt ist."
   ]
  },
  {
   "cell_type": "code",
   "execution_count": 195,
   "metadata": {},
   "outputs": [
    {
     "data": {
      "text/plain": [
       "array([  0., -22.])"
      ]
     },
     "execution_count": 195,
     "metadata": {},
     "output_type": "execute_result"
    }
   ],
   "source": [
    "G_4 = gravity_vector(blockdata,4)\n",
    "G_4"
   ]
  },
  {
   "cell_type": "code",
   "execution_count": 229,
   "metadata": {},
   "outputs": [
    {
     "name": "stdout",
     "output_type": "stream",
     "text": [
      "Die Kohäsionskraft beträgt 13.02 kN/m\n"
     ]
    },
    {
     "data": {
      "text/plain": [
       "array([11.8, -5.5])"
      ]
     },
     "execution_count": 229,
     "metadata": {},
     "output_type": "execute_result"
    }
   ],
   "source": [
    "C_98 = cohesion(c,geometry,9,8)\n",
    "print(\"Die Kohäsionskraft beträgt %.2f kN/m\" %np.linalg.norm(C_98))\n",
    "C_98"
   ]
  },
  {
   "cell_type": "code",
   "execution_count": 230,
   "metadata": {},
   "outputs": [
    {
     "name": "stdout",
     "output_type": "stream",
     "text": [
      "Die Kohäsionskraft beträgt 5.54 kN/m\n"
     ]
    },
    {
     "data": {
      "text/plain": [
       "array([-0.7, -5.5])"
      ]
     },
     "execution_count": 230,
     "metadata": {},
     "output_type": "execute_result"
    }
   ],
   "source": [
    "C_78 = cohesion(c,geometry,7,8)\n",
    "print(\"Die Kohäsionskraft beträgt %.2f kN/m\" %np.linalg.norm(C_78))\n",
    "C_78"
   ]
  },
  {
   "cell_type": "code",
   "execution_count": 208,
   "metadata": {},
   "outputs": [
    {
     "data": {
      "image/png": "[encoded data removed]",
      "text/plain": [
       "<Figure size 576x432 with 1 Axes>"
      ]
     },
     "metadata": {
      "needs_background": "light"
     },
     "output_type": "display_data"
    }
   ],
   "source": [
    "scale = np.linalg.norm(G_4)\n",
    "fig, ax = plt.subplots()\n",
    "vec_from_by(ax,delta=G_4,label='$G_4$',scale=scale)\n",
    "vec_from_by(ax,fro=G_4,delta=C_98,label='$C_{98}$',scale=scale)\n",
    "vec_from_by(ax,fro=G_4+C_98,delta=C_78,label='$C_{78}$',scale=scale)\n",
    "vec_from_by(ax,delta=G_4+C_98+C_78,label='$G_4 + C_{98} + C_{78}$',scale=scale,col='blue')\n",
    "ax.set(adjustable='box', aspect='equal')\n",
    "plt.axis('off');"
   ]
  },
  {
   "cell_type": "markdown",
   "metadata": {},
   "source": [
    "Ausgehend von der Wirkungsrichtung von $\\vec{C}_{\\text{von}\\,\\text{bis}}$ ergibt sich die Wirkungsrichtung der Gleitfugenresultierenden $\\vec{Q}_{\\text{von}\\,\\text{bis}}$ durch Rotation um $90° - \\varphi$ gegen den Uhrzeigersinn (mathematisch positiv), da $\\vec{Q}$ gegenüber dem Lot auf die Gleitfläche (Wirkungslinie von $\\vec{N}$) um den Reibungswinkel $\\varphi$ geneigt ist und ebenso wie $\\vec{C}$ der Bewegung des Gleitkörpers entgegen wirkt.\n",
    "\n",
    "Zur Rotation von Vektoren wird die Rotationsmatrix $R$ festgelegt:"
   ]
  },
  {
   "cell_type": "code",
   "execution_count": 226,
   "metadata": {},
   "outputs": [
    {
     "data": {
      "text/plain": [
       "array([[ 0.5      , -0.8660254],\n",
       "       [ 0.8660254,  0.5      ]])"
      ]
     },
     "execution_count": 226,
     "metadata": {},
     "output_type": "execute_result"
    }
   ],
   "source": [
    "beta = np.deg2rad(90) - phi\n",
    "R = np.array([[np.cos(beta),-np.sin(beta)],[np.sin(beta),np.cos(beta)]])\n",
    "R"
   ]
  },
  {
   "cell_type": "code",
   "execution_count": 228,
   "metadata": {},
   "outputs": [
    {
     "data": {
      "image/png": "[encoded data removed]",
      "text/plain": [
       "<Figure size 576x432 with 1 Axes>"
      ]
     },
     "metadata": {
      "needs_background": "light"
     },
     "output_type": "display_data"
    }
   ],
   "source": [
    "scale = np.linalg.norm(G_4)\n",
    "fig, ax = plt.subplots()\n",
    "a= G_4+C_98+C_78\n",
    "vec_from_by(ax,delta=a,label='$a$',scale=scale,col='blue')\n",
    "vec_from_by(ax,delta=R.dot(a),label='$R \\cdot a$',scale=scale)\n",
    "ax.set(adjustable='box', aspect='equal')\n",
    "plt.axis('off');"
   ]
  }
 ],
 "metadata": {
  "kernelspec": {
   "display_name": "Python 3",
   "language": "python",
   "name": "python3"
  },
  "language_info": {
   "codemirror_mode": {
    "name": "ipython",
    "version": 3
   },
   "file_extension": ".py",
   "mimetype": "text/x-python",
   "name": "python",
   "nbconvert_exporter": "python",
   "pygments_lexer": "ipython3",
   "version": "3.8.6"
  }
 },
 "nbformat": 4,
 "nbformat_minor": 4
}
