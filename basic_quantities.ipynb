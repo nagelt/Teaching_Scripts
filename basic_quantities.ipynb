{
 "cells": [
  {
   "cell_type": "markdown",
   "metadata": {},
   "source": [
    "![Logo TUBAF](https://tu-freiberg.de/sites/default/files/media/freiberger-alumni-netzwerk-6127/wbm_orig_rgb_0.jpg)\n",
    "\n",
    "Exercise material of the BSc-level course **Mechanical Properties of Loose Rocks and Soils**.\n",
    "Held at Technische Universität Bergakademie Freiberg.\n",
    "\n",
    "Comments to:\n",
    "\n",
    "*Prof. Dr. Thomas Nagel  \n",
    "Chair of Soil Mechanics and Foundation Engineering  \n",
    "Geotechnical Institute  \n",
    "Technische Universität Bergakademie Freiberg.*\n",
    "\n",
    "https://tu-freiberg.de/en/soilmechanics"
   ]
  },
  {
   "cell_type": "markdown",
   "metadata": {},
   "source": [
    "# Illustration grundlegender Kennwerte"
   ]
  },
  {
   "cell_type": "code",
   "execution_count": 1,
   "metadata": {},
   "outputs": [],
   "source": [
    "#HIDDEN\n",
    "import matplotlib.pyplot as plt\n",
    "import numpy as np\n",
    "from ipywidgets import widgets\n",
    "from ipywidgets import interact\n",
    "import matplotlib.cm as cm\n",
    "\n",
    "#Some plot settings\n",
    "import plot_functions.plot_settings\n",
    "%run plot_functions/basic_quantities_plots.ipynb"
   ]
  },
  {
   "cell_type": "markdown",
   "metadata": {},
   "source": [
    "Porosität (Porenanteil) $n$ und Feststoffanteil $n_\\text{s}$ sind wie folgt verknüpft:\n",
    "\n",
    "$$\n",
    "    n = \\phi = \\frac{V_\\text{p}}{V} = \\frac{V - V_\\text{s}}{V} = 1 - n_\\text{s} \n",
    "$$"
   ]
  },
  {
   "cell_type": "markdown",
   "metadata": {},
   "source": [
    "Die Porenzahl $e$ ergibt sich entsprechend zu\n",
    "\n",
    "$$\n",
    "    e = \\frac{V_\\text{p}}{V_\\text{s}} = \\frac{V - V_\\text{s}}{V_\\text{s}} = \\frac{1}{1 - n} - 1 = \\frac{n}{1-n}\n",
    "$$"
   ]
  },
  {
   "cell_type": "code",
   "execution_count": 2,
   "metadata": {},
   "outputs": [],
   "source": [
    "#HIDDEN\n",
    "def porenzahl(porosity):\n",
    "    return porosity/(1.-porosity)"
   ]
  },
  {
   "cell_type": "code",
   "execution_count": 3,
   "metadata": {},
   "outputs": [
    {
     "data": {
      "application/vnd.jupyter.widget-view+json": {
       "model_id": "bc49cd42170a40e78bd33ebf5564e9c8",
       "version_major": 2,
       "version_minor": 0
      },
      "text/plain": [
       "interactive(children=(FloatSlider(value=0.3, description='$n$', max=0.95, step=0.05), Output()), _dom_classes=…"
      ]
     },
     "metadata": {},
     "output_type": "display_data"
    }
   ],
   "source": [
    "#HIDDEN\n",
    "@interact(por=widgets.FloatSlider(min=0.0, max=0.95, step=0.05, value=0.3,\n",
    "    description='$n$'))\n",
    "def plot_slide(por = 0.3):\n",
    "    plot_e_n(por)"
   ]
  },
  {
   "cell_type": "markdown",
   "metadata": {},
   "source": [
    "Die Porosität ist im gesamten Bereich von reinem Festkörper ($n = 0$) bis zum reinen Fluid ($n = 1$) definiert. Die Porenzahl verschwindet für den reinen Feststoff, $e=0$, wird aber für das reine Fluid unendlich."
   ]
  },
  {
   "cell_type": "markdown",
   "metadata": {},
   "source": [
    "Es sei nun zusätzlich die Masse des feuchten Bodens $m$ gegeben. Daraus lassen sich wiederum Größen wie Wassergehalt $w$ und Sättigung $S_\\text{r}$ bestimmen:\n",
    "\n",
    "$$\n",
    "    w = \\frac{m_\\text{w}}{m_\\text{d}} = \\frac{m-m_\\text{d}}{m_\\text{d}}\n",
    "$$\n",
    "sowie\n",
    "$$\n",
    "    S = \\frac{V_\\text{w}}{V_\\text{p}} = \\frac{V_\\text{w}}{V}\\frac{V}{V_\\text{p}} = \\frac{n_\\text{w}}{n}\n",
    "$$\n",
    "\n",
    "Eine Umrechnung der Massen in Volumina erfolgt mittels der Wasserdichte $\\varrho_\\text{w} = 1000\\,$kg$\\,$m$^{-3}$ und liefert\n",
    "\n",
    "$$\n",
    "    V_\\text{w} = \\frac{m_\\text{w}}{\\varrho_\\text{w}}\n",
    "$$\n",
    "\n",
    "Somit können wir schreiben:\n",
    "$$\n",
    "    S = \\frac{(m - m_\\text{d})}{\\varrho_\\text{w} e V_\\text{s}} = \\frac{(m - m_\\text{d})\\varrho_\\text{s}}{\\varrho_\\text{w} e m_\\text{d}} = \\frac{\\varrho_\\text{s}}{\\varrho_\\text{w}}\\frac{w}{e}\n",
    "$$"
   ]
  },
  {
   "cell_type": "code",
   "execution_count": 4,
   "metadata": {},
   "outputs": [],
   "source": [
    "#HIDDEN\n",
    "def saturation(w,e):\n",
    "    rho_s = 2600. #kg/m³ unterstellte Korndichte\n",
    "    rho_w = 1000. #kg/m³ Wasserdichte\n",
    "    return rho_SR/rho_WR * w/e"
   ]
  },
  {
   "cell_type": "code",
   "execution_count": 5,
   "metadata": {},
   "outputs": [
    {
     "data": {
      "application/vnd.jupyter.widget-view+json": {
       "model_id": "03ff231cccc6413a85627f0770dc5555",
       "version_major": 2,
       "version_minor": 0
      },
      "text/plain": [
       "interactive(children=(FloatSlider(value=0.3, description='$n$', max=0.9, min=0.1, step=0.05), FloatSlider(valu…"
      ]
     },
     "metadata": {},
     "output_type": "display_data"
    }
   ],
   "source": [
    "#HIDDEN\n",
    "@interact(por=widgets.FloatSlider(min=0.1, max=0.9, step=0.05, value=0.3,\n",
    "    description='$n$'),\n",
    "         Sat=widgets.FloatSlider(min=0.0, max=1.0, step=0.05, value=0.3,\n",
    "    description='$S$'))\n",
    "\n",
    "def plot_slide(por = 0.3, Sat = 0.8):\n",
    "    plot_w_S_n(por,Sat)"
   ]
  },
  {
   "cell_type": "markdown",
   "metadata": {},
   "source": [
    "## Rechenaufgabe\n",
    "\n",
    "Von einem feuchten grobkörnigen Boden wurde der Porenanteil mit einem Wert von $n=0.3$ und die Wichte mit dem Wert $\\gamma = 19.61\\,\\text{kN}\\,\\text{m}^{-3}$ ermittelt.\n",
    "\n",
    "Wie hoch ist der Wassergehalt dieses Bodens, wenn\n",
    "\n",
    "    a) seine Korndichte 2700 kg/m³ beträgt bzw.\n",
    "    b) zum Erreichen des gesättigten Zustands die Zugabe von 189 Liter Wasser pro m³ erforderlich ist?"
   ]
  },
  {
   "cell_type": "code",
   "execution_count": 6,
   "metadata": {},
   "outputs": [],
   "source": [
    "#HIDDEN\n",
    "n = 0.3\n",
    "gamma = 19.61 # kN/m³\n",
    "rho_s = 2700. # kg/m³\n",
    "Delta_n_W = 0.189 #Änderung des Porenwasseranteils m³/m³"
   ]
  },
  {
   "cell_type": "markdown",
   "metadata": {},
   "source": [
    "Der Wassergehalt ist mit \n",
    "\n",
    "$$\n",
    "    w = \\frac{m_\\text{w}}{m_\\text{d}} = \\frac{m}{m_\\text{d}} - 1\n",
    "$$\n",
    "\n",
    "gegeben.\n",
    "\n",
    "### Teilaufgabe a)\n",
    "\n",
    "Die Feucht und Trockenmassen des Bodens folgen aus\n",
    "\n",
    "\\begin{align}\n",
    "    m &= \\varrho V = \\frac{\\gamma}{g} V\n",
    "    \\\\\n",
    "    m_\\text{d} &= \\varrho_\\text{d} V = \\varrho_\\text{s} V_\\text{s}\n",
    "    \\\\\n",
    "    &= (1-n) \\varrho_\\text{s} V\n",
    "\\end{align}\n",
    "\n",
    "Somit können wir für den Wassergehalt schreiben:\n",
    "\n",
    "$$\n",
    "    w = \\frac{m}{m_\\text{d}} - 1 = \\frac{\\gamma}{g (1-n) \\varrho_\\text{s}} - 1 =  \\frac{\\gamma}{(1-n) \\gamma_\\text{s}} - 1\n",
    "$$"
   ]
  },
  {
   "cell_type": "code",
   "execution_count": 7,
   "metadata": {},
   "outputs": [
    {
     "name": "stdout",
     "output_type": "stream",
     "text": [
      "Der Wassergehalt für Teilaufgabe a) beträgt 5.77 Prozent.\n"
     ]
    }
   ],
   "source": [
    "#HIDDEN\n",
    "w = gamma/((1-n)*9.81*rho_s * 1.e-3) - 1\n",
    "print(\"Der Wassergehalt für Teilaufgabe a) beträgt %.2f Prozent.\" %(w*100))"
   ]
  },
  {
   "cell_type": "markdown",
   "metadata": {},
   "source": [
    "### Teilaufgabe b)\n",
    "\n",
    "Bei Vollsättigung ist der gesamte Porenraum des Bodens mit Wasser gefüllt. Das heißt\n",
    "\n",
    "$$\n",
    "    V_\\text{w2} = V_\\text{p} = n V\n",
    "$$\n",
    "\n",
    "Zuvor ist das Porenvolumen mit Wasser und Luft gefüllt:\n",
    "\n",
    "$$\n",
    "    V_\\text{p} = V_\\text{w1} + V_\\text{a1}\n",
    "$$\n",
    "\n",
    "Die Differenz beider Wasservolumina entspricht der zugegebenen Wassermenge $\\Delta V_\\text{w} = 189\\,$l.\n",
    "\n",
    "$$\n",
    "    V_\\text{w2} - V_\\text{w1} = V_\\text{a1}\n",
    "$$\n",
    "\n",
    "d.h. beim Aufsättigen wird das Porenluftvolumen vom zugegebenen Wasser verdrängt.\n",
    "\n",
    "Damit ergibt sich\n",
    "\n",
    "$$\n",
    "    n V = V_\\text{w1} + \\Delta V_\\text{w}\n",
    "$$\n",
    "\n",
    "Bzw. mit dem Porenwasseranteil $n_\\text{w}$\n",
    "\n",
    "$$\n",
    "    n = n_\\text{w1} + \\Delta n_\\text{w}\n",
    "$$"
   ]
  },
  {
   "cell_type": "code",
   "execution_count": 8,
   "metadata": {},
   "outputs": [
    {
     "name": "stdout",
     "output_type": "stream",
     "text": [
      "Die maximale Wassermenge im Porenraum beträgt 300.00 Liter pro m³ Boden.\n",
      "Im Ausgangszustand enthielt 1 m³ Boden 111.00 Liter Wasser.\n"
     ]
    }
   ],
   "source": [
    "#HIDDEN\n",
    "n_w1 = n - Delta_n_W\n",
    "print(\"Die maximale Wassermenge im Porenraum beträgt %.2f Liter pro m³ Boden.\" %(n*1000.))\n",
    "print(\"Im Ausgangszustand enthielt 1 m³ Boden %.2f Liter Wasser.\" %(n_w1*1000))"
   ]
  },
  {
   "cell_type": "markdown",
   "metadata": {},
   "source": [
    "Das Volumen $V_\\text{w1}$ entspricht der Wassermasse $m_\\text{w1} = \\varrho_\\text{w} V_\\text{w1}$ mit $\\varrho_\\text{w} = 1000\\,$kg/m³.\n",
    "\n",
    "Die Trockenmasse des Bodens ergibt sich zu\n",
    "\n",
    "$$\n",
    "    m_\\text{d} = m - m_\\text{w1} = \\frac{\\gamma}{g} V - \\varrho_\\text{w} V_\\text{w1}\n",
    "$$\n",
    "\n",
    "$$\n",
    "    w = \\frac{m_\\text{w1}}{m_\\text{d}} = \\frac{m_\\text{w1}}{m - m_\\text{w1}} = \\frac{V_\\text{w1} \\varrho_\\text{w}}{\\frac{\\gamma}{g} V - \\varrho_\\text{w} V_\\text{w1}} = \\frac{n_\\text{w1} \\varrho_\\text{w}}{\\frac{\\gamma}{g} - \\varrho_\\text{w} n_\\text{w1}}\n",
    "$$\n"
   ]
  },
  {
   "cell_type": "code",
   "execution_count": 9,
   "metadata": {},
   "outputs": [
    {
     "name": "stdout",
     "output_type": "stream",
     "text": [
      "Der Wassergehalt für Teilaufgabe a) beträgt 5.88 Prozent.\n"
     ]
    }
   ],
   "source": [
    "#HIDDEN\n",
    "rho_w = 1000.\n",
    "w = n_w1 * rho_w / (gamma*1000/9.81 - rho_w * n_w1)\n",
    "print(\"Der Wassergehalt für Teilaufgabe a) beträgt %.2f Prozent.\" %(w*100))"
   ]
  },
  {
   "cell_type": "markdown",
   "metadata": {},
   "source": [
    "## Einordnung der Lagerungsdichte von Böden nach $D$ und $I_D$\n",
    "\n",
    "Die Einordnung der Lagerungsdichte wird in von Soos und Engel (Grundbau Taschenbuch) in Bezug auf $D$ angegeben. In DIN EN ISO 14688-2, Tabelle 5 jedoch in Bezug auf $I_D$. Die Zahlenwerte der Übergangspunkte unterscheiden sich. Im Folgenden zeigen wir, dass eine 1:1 Korrespondenz nicht besteht.\n",
    "\n",
    "\n",
    "Seien $\\text{max}\\,n = 0.476$ und $\\text{min}\\,n = 0.259$. Dann ergeben sich für die Einteilung nach GBT folgende Porositäten an den Übergängen der Lagerungsdichteeinordnung bezogen auf $D$:\n",
    "\n",
    "- $0 \\leq D < 0.15$: sehr locker\n",
    "- $0.15 < D \\leq 0.3$: locker\n",
    "- $0.3 < D \\leq 0.5$: mitteldicht\n",
    "- $0.5 < D \\leq 0.8$: dicht\n",
    "- $0.8 < D$: sehr dicht"
   ]
  },
  {
   "cell_type": "code",
   "execution_count": 10,
   "metadata": {},
   "outputs": [],
   "source": [
    "#HIDDEN\n",
    "D = np.array([0,0.15,0.3,0.5,0.8,1])"
   ]
  },
  {
   "cell_type": "code",
   "execution_count": 11,
   "metadata": {},
   "outputs": [],
   "source": [
    "#HIDDEN\n",
    "n_max = 0.476\n",
    "n_min = 0.259\n",
    "\n",
    "e_max = porenzahl(n_max)\n",
    "e_min = porenzahl(n_min)\n",
    "\n",
    "def porosity_from_D(D):\n",
    "    return n_max - D * (n_max - n_min)\n",
    "\n",
    "def I_D(porenzahl):\n",
    "    return (e_max - porenzahl)/(e_max - e_min)"
   ]
  },
  {
   "cell_type": "code",
   "execution_count": 12,
   "metadata": {},
   "outputs": [],
   "source": [
    "#HIDDEN\n",
    "n = porosity_from_D(D)\n",
    "e = porenzahl(n)\n",
    "ID = I_D(e)"
   ]
  },
  {
   "cell_type": "code",
   "execution_count": 13,
   "metadata": {},
   "outputs": [
    {
     "name": "stdout",
     "output_type": "stream",
     "text": [
      "Lagerungsdichte D = 0.000. Porosität von n = 0.476. Porenzahl e = 0.908. Bezogene Lagerungsdichte I_D = 0.000\n",
      "Lagerungsdichte D = 0.150. Porosität von n = 0.443. Porenzahl e = 0.797. Bezogene Lagerungsdichte I_D = 0.200\n",
      "Lagerungsdichte D = 0.300. Porosität von n = 0.411. Porenzahl e = 0.698. Bezogene Lagerungsdichte I_D = 0.377\n",
      "Lagerungsdichte D = 0.500. Porosität von n = 0.367. Porenzahl e = 0.581. Bezogene Lagerungsdichte I_D = 0.586\n",
      "Lagerungsdichte D = 0.800. Porosität von n = 0.302. Porenzahl e = 0.433. Bezogene Lagerungsdichte I_D = 0.850\n",
      "Lagerungsdichte D = 1.000. Porosität von n = 0.259. Porenzahl e = 0.350. Bezogene Lagerungsdichte I_D = 1.000\n"
     ]
    }
   ],
   "source": [
    "#HIDDEN\n",
    "for i in range(len(D)):\n",
    "    print(\"Lagerungsdichte D = %.3f. Porosität von n = %.3f. Porenzahl e = %.3f. Bezogene Lagerungsdichte I_D = %.3f\" %(D[i],n[i],e[i],ID[i]))"
   ]
  }
 ],
 "metadata": {
  "kernelspec": {
   "display_name": "Python 3 (ipykernel)",
   "language": "python",
   "name": "python3"
  },
  "language_info": {
   "codemirror_mode": {
    "name": "ipython",
    "version": 3
   },
   "file_extension": ".py",
   "mimetype": "text/x-python",
   "name": "python",
   "nbconvert_exporter": "python",
   "pygments_lexer": "ipython3",
   "version": "3.9.5"
  }
 },
 "nbformat": 4,
 "nbformat_minor": 4
}
