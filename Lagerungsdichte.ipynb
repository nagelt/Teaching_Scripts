{
 "cells": [
  {
   "cell_type": "markdown",
   "metadata": {},
   "source": [
    "![Logo TUBAF](https://tu-freiberg.de/sites/default/files/media/freiberger-alumni-netzwerk-6127/wbm_orig_rgb_0.jpg)\n",
    "\n",
    "Exercise material of the BSc-level course **Mechanical Properties of Loose Rocks and Soils**.\n",
    "Held at Technische Universität Bergakademie Freiberg.\n",
    "\n",
    "Comments to:\n",
    "\n",
    "*Prof. Dr. Thomas Nagel  \n",
    "Chair of Soil Mechanics and Foundation Engineering  \n",
    "Geotechnical Institute  \n",
    "Technische Universität Bergakademie Freiberg.*\n",
    "\n",
    "https://tu-freiberg.de/en/fakultaet3/gt/soilmechanics"
   ]
  },
  {
   "cell_type": "markdown",
   "metadata": {},
   "source": [
    "# Lagerungsdichte und Materialbedarf bei Tiefenverdichtung\n",
    "\n",
    "Hinweis: Das Beispiel wurde aus Fellin (2018) \"Geotechnik - Lernen mit Beispielen\" entnommen."
   ]
  },
  {
   "cell_type": "markdown",
   "metadata": {},
   "source": [
    "## Problemstellung und Eingangsgrößen\n",
    "\n",
    "Eine locker gelagerte Sandschicht der Mächtigkeit $z_\\text{max}$ wurde mit Tiefenrüttlern auf einer Fläche von $a \\times b$ verdichtet. Dabei wurde ein quadratisches Raster mit dem Rasterabstand $r$ verwendet. Das Grundwasser steht in $z_\\text{GW}$ Tiefe unter GOK an."
   ]
  },
  {
   "cell_type": "code",
   "execution_count": 1,
   "metadata": {},
   "outputs": [],
   "source": [
    "z_max = 10 #m\n",
    "z_GW = 2 #m\n",
    "a = 30 #m\n",
    "b = 50 #m\n",
    "r = 2 #m"
   ]
  },
  {
   "cell_type": "markdown",
   "metadata": {},
   "source": [
    "Die folgenden Kennwerte des Sandes vor der Verdichtung seien bekannt: Kornwichte $\\gamma_\\text{s}$, Wichte im erdfeuchten Zustand $\\gamma$ beim Wassergehalt $w$ (über GW), sowie die Porenzahl bei lockerster und dichtester Lagerung $n_\\text{max}$ und $n_\\text{min}$."
   ]
  },
  {
   "cell_type": "code",
   "execution_count": 2,
   "metadata": {},
   "outputs": [],
   "source": [
    "gamma_s = 26 #kN/m³\n",
    "gamma = 16 #kN/m³\n",
    "w = 0.03\n",
    "n_max = 0.43\n",
    "n_min = 0.36"
   ]
  },
  {
   "cell_type": "markdown",
   "metadata": {},
   "source": [
    "Für die Verdichtung wurde gleichartiges Zugabematerial aus einer nahen Sandgrube gewonnen ($\\gamma_\\text{Grube}$, $w_\\text{Grube}$). Bei Entnahme und Transport trat eine Auflockerung auf, sodass das aufgelockerte Material eine Wichte $\\gamma_\\text{Z} < \\gamma_\\text{Grube}$ aufwies. Die mittlere Zugabemenge dieses Materials betrug je Verdichtungspunkt $V_\\text{Z}$."
   ]
  },
  {
   "cell_type": "code",
   "execution_count": 3,
   "metadata": {},
   "outputs": [],
   "source": [
    "gamma_Grube = 20 #kN/m³\n",
    "w_Grube = 0.08\n",
    "gamma_Z = 15 #kN/m³\n",
    "V_Z = 2.6 #m³"
   ]
  },
  {
   "cell_type": "markdown",
   "metadata": {},
   "source": [
    "Es sind nun folgende Fragen zu beantworten:\n",
    "\n",
    "1) Welche (bezogenen) Lagerungsdichten $D$ und $I_D$ herrschten vor der Verdichtungsmaßnahme?\n",
    "\n",
    "2) Wieviel m³ Sand mussten aus der Sandgrube entnommen werden?\n",
    "\n",
    "3) Welche (bezogenen) Lagerungsdichten $D$ und $I_D$ wurde nach der Verdichtung erreicht?\n",
    "\n",
    "4) Welche Wassermenge ist abzuführen, wenn das Grundwasser in konstanter Höhe bleiben soll?"
   ]
  },
  {
   "cell_type": "markdown",
   "metadata": {},
   "source": [
    "## Lagerungsdichten vor der Verdichtungsmaßnahme\n",
    "\n",
    "Die Lagerungsdichte $D$ und die bezogene Lagerungsdichte $I_D$ errechnen sich wie folgt:\n",
    "\n",
    "$$\n",
    "    D = \\frac{n_\\text{max} - n}{n_\\text{max} - n_\\text{min}} \\qquad I_D = \\frac{e_\\text{max} - e}{e_\\text{max} - e_\\text{min}}\n",
    "$$\n",
    "\n",
    "Wir berechnen daher zunächst den Porenanteil \n",
    "\n",
    "$$\n",
    "    e = \\frac{V - V_\\text{K}}{V_\\text{K}} \\quad \\text{mit} \\quad V_\\text{K} = \\frac{G_\\text{d}}{\\gamma_\\text{s}} \\quad \\text{und} \\quad V = \\frac{G_\\text{d}}{\\gamma_\\text{d}}\n",
    "$$\n",
    "\n",
    "Damit ergibt sich\n",
    "\n",
    "$$\n",
    "    e = \\frac{\\gamma_\\text{s}}{\\gamma_\\text{d}} - 1\n",
    "$$\n",
    "\n",
    "Die Trockenwichte folgt aus\n",
    "\n",
    "$$\n",
    "    V = \\frac{G_\\text{d}}{\\gamma_\\text{d}} = \\frac{G_\\text{d} + G_\\text{w}}{\\gamma} \\qquad \\text{und somit} \\qquad \\gamma = \\gamma_\\text{d} \\left(1 + \\frac{G_\\text{w}}{G_\\text{d}} \\right) = \\gamma_\\text{d} (1 + w)\n",
    "$$\n",
    "\n",
    "Aus dem Porenanteil folgt die Porenzahl (Porosität) und umekehrt:\n",
    "\n",
    "$$\n",
    "    n = \\frac{e}{1+e} \\qquad e = \\frac{n}{1-n}\n",
    "$$"
   ]
  },
  {
   "cell_type": "code",
   "execution_count": 4,
   "metadata": {},
   "outputs": [],
   "source": [
    "gamma_d = gamma / (1 + w)\n",
    "\n",
    "e = gamma_s / gamma_d - 1\n",
    "n = e / (1 + e)\n",
    "\n",
    "e_max = n_max / (1 - n_max)\n",
    "e_min = n_min / (1 - n_min)\n",
    "\n",
    "D = (n_max - n) / (n_max - n_min)\n",
    "I_D = (e_max - e) / (e_max - e_min)"
   ]
  },
  {
   "cell_type": "code",
   "execution_count": 5,
   "metadata": {},
   "outputs": [
    {
     "name": "stdout",
     "output_type": "stream",
     "text": [
      "Die Trockenwichte beträgt 15.53 kN/m³\n",
      "Vor der Verdichtung ist die Porosität 0.4025 und die Porenzahl 0.6738.\n",
      "Maximale und minimale Porenzahl sind 0.7544 bzw. 0.5625\n",
      "Damit beträgt die Lagerungsdichte 39.2 Prozent ...\n",
      "... und die bezogene Lagerungsdichte 42.0 Prozent\n"
     ]
    }
   ],
   "source": [
    "print(\"Die Trockenwichte beträgt %.2f kN/m³\" %gamma_d)\n",
    "print(\"Vor der Verdichtung ist die Porosität %.4f und die Porenzahl %.4f.\" %(n,e))\n",
    "print(\"Maximale und minimale Porenzahl sind %.4f bzw. %.4f\" %(e_max,e_min))\n",
    "print(\"Damit beträgt die Lagerungsdichte %.1f Prozent ...\" %(D*100))\n",
    "print(\"... und die bezogene Lagerungsdichte %.1f Prozent\" %(I_D*100))"
   ]
  },
  {
   "cell_type": "markdown",
   "metadata": {},
   "source": [
    "Das Ergebnis von $D = 0.392$ unterscheidet sich vom Ergebnis im Buch, in dem $D = 0.43$ angegeben ist. Dieser unterschied ist auf verfrühtes Runden zurückzuführen: Im Buch wird statt einer Porosität von $0.4025...$ auf $0.40$ gerundet:"
   ]
  },
  {
   "cell_type": "code",
   "execution_count": 6,
   "metadata": {},
   "outputs": [
    {
     "data": {
      "text/plain": [
       "0.4285714285714281"
      ]
     },
     "execution_count": 6,
     "metadata": {},
     "output_type": "execute_result"
    }
   ],
   "source": [
    "(0.43 - 0.40)/(0.43-0.36)"
   ]
  },
  {
   "cell_type": "code",
   "execution_count": 7,
   "metadata": {},
   "outputs": [
    {
     "data": {
      "text/plain": [
       "0.39230000000000015"
      ]
     },
     "execution_count": 7,
     "metadata": {},
     "output_type": "execute_result"
    }
   ],
   "source": [
    "(0.43 - 0.402539)/(0.43-0.36)"
   ]
  },
  {
   "cell_type": "markdown",
   "metadata": {},
   "source": [
    "## Entnahmevolumen aus der Sandgrube\n",
    "\n",
    "Das Zugabevolumen $V_\\text{Z}$ je Verdichtungspunkt bezieht sich auf den aufgelockerten Zustand $\\gamma_\\text{Z}$. Wir rechnen nun das Volumen auf den Zustand $\\gamma_\\text{Grube}$ um. Dabei nehmen wir an, dass das erdfeuchte Material seinen Wassergehalt nicht ändert: $w_\\text{Z} = w_\\text{Grube}$. Da sich auch die Kornmasse an sich nicht ändert, bleiben Masse bzw. Gewicht des Bodens konstant (nur die Porosität ändert sich). Aus dieser Konstanz ergibt sich:\n",
    "\n",
    "$$\n",
    "    G = \\gamma_\\text{Grube} V_\\text{Grube} = \\gamma_\\text{Z} V_\\text{Z} \\quad \\text{und somit} \\quad V_\\text{Grube} = \\frac{\\gamma_\\text{Z}}{\\gamma_\\text{Grube}} V_\\text{Z}\n",
    "$$"
   ]
  },
  {
   "cell_type": "code",
   "execution_count": 8,
   "metadata": {},
   "outputs": [
    {
     "name": "stdout",
     "output_type": "stream",
     "text": [
      "Je Verdichtungspunkt müssen der Sandgrube 1.9500 m³ Sand entnommen werden\n"
     ]
    }
   ],
   "source": [
    "V_Grube = gamma_Z / gamma_Grube * V_Z\n",
    "print(\"Je Verdichtungspunkt müssen der Sandgrube %.4f m³ Sand entnommen werden\" %V_Grube)"
   ]
  },
  {
   "cell_type": "markdown",
   "metadata": {},
   "source": [
    "Die Anzahl $N$ der Verdichtungspunkte ergibt sich aus den Kantenlängen $a$, $b$ des verdichteten Bereichs und des Rechteckrasterabstandes $r$:\n",
    "\n",
    "$$\n",
    "    N = \\frac{a}{r} \\frac{b}{r}\n",
    "$$"
   ]
  },
  {
   "cell_type": "code",
   "execution_count": 9,
   "metadata": {},
   "outputs": [
    {
     "name": "stdout",
     "output_type": "stream",
     "text": [
      "Die Anzahl der Verdichtungspunkte beträgt 375.\n"
     ]
    }
   ],
   "source": [
    "N = a/r * b/r\n",
    "print(\"Die Anzahl der Verdichtungspunkte beträgt %i.\" %N)"
   ]
  },
  {
   "cell_type": "code",
   "execution_count": 10,
   "metadata": {},
   "outputs": [
    {
     "name": "stdout",
     "output_type": "stream",
     "text": [
      "Damit müssen der Grube für die Verdichtungsmaßnahme 731.25 m³ Sand entnommen werden.\n"
     ]
    }
   ],
   "source": [
    "V_Entnahme = V_Grube * N\n",
    "print(\"Damit müssen der Grube für die Verdichtungsmaßnahme %.2f m³ Sand entnommen werden.\" %V_Entnahme)"
   ]
  },
  {
   "cell_type": "markdown",
   "metadata": {},
   "source": [
    "## Lagerungsdichten nach der Verdichtung\n",
    "\n",
    "Bei Annahme einer konstanten Geländehöhe beträgt das mittlere Korngewicht pro Rüttlerpunkt vor der Verdichtung:\n",
    "\n",
    "$$\n",
    "    G_\\text{d} = V_\\text{R} \\gamma_\\text{d} \\qquad \\text{mit} \\quad V_\\text{R} = r^2 z_\\text{max}\n",
    "$$"
   ]
  },
  {
   "cell_type": "code",
   "execution_count": 11,
   "metadata": {},
   "outputs": [
    {
     "name": "stdout",
     "output_type": "stream",
     "text": [
      "Gesamttrockengewicht vor Verdichtung beträgt 621.36 kN je Verdichtungspunkt.\n",
      "Das entspricht einem Kornvolumen von 23.90 m³.\n"
     ]
    }
   ],
   "source": [
    "V_R = r**2 * z_max\n",
    "G_d = V_R * gamma_d\n",
    "V_KR = G_d/gamma_s\n",
    "print(\"Gesamttrockengewicht vor Verdichtung beträgt %.2f kN je Verdichtungspunkt.\" %G_d)\n",
    "print(\"Das entspricht einem Kornvolumen von %.2f m³.\" %V_KR)"
   ]
  },
  {
   "cell_type": "markdown",
   "metadata": {},
   "source": [
    "Je Verdichtungspunkt wird nun Feststoff mit einem Gewicht von\n",
    "\n",
    "$$\n",
    "    G_\\text{d,Z} = V_\\text{Z} \\gamma_\\text{d,Z} = V_\\text{Z} \\frac{\\gamma_\\text{Z}}{1 + w_\\text{Z}} = V_\\text{Z} \\frac{\\gamma_\\text{Z}}{1 + w_\\text{Grube}}\n",
    "$$\n",
    "\n",
    "zugegeben."
   ]
  },
  {
   "cell_type": "code",
   "execution_count": 12,
   "metadata": {},
   "outputs": [
    {
     "name": "stdout",
     "output_type": "stream",
     "text": [
      "Trockengewicht des Zuschlagsstoffs: 36.11 kN je Verdichtungspunkt.\n",
      "Das entspricht einem zusätzlichen Kornvolumen von 1.39 m³.\n"
     ]
    }
   ],
   "source": [
    "G_dZ = V_Z * gamma_Z/(1 + w_Grube)\n",
    "V_KZR = G_dZ/gamma_s\n",
    "print(\"Trockengewicht des Zuschlagsstoffs: %.2f kN je Verdichtungspunkt.\" %G_dZ)\n",
    "print(\"Das entspricht einem zusätzlichen Kornvolumen von %.2f m³.\" %V_KZR)"
   ]
  },
  {
   "cell_type": "markdown",
   "metadata": {},
   "source": [
    "Bei Annahme eines gleichbleibenden Volumens ergibt sich die Trockenwichte nach Verdichtung je Verdichtungspunkt zu:\n",
    "\n",
    "$$\n",
    "    \\gamma_\\text{d,V} = \\frac{G_\\text{d} + G_\\text{d,Z}}{V_\\text{R}}\n",
    "$$"
   ]
  },
  {
   "cell_type": "code",
   "execution_count": 13,
   "metadata": {},
   "outputs": [
    {
     "name": "stdout",
     "output_type": "stream",
     "text": [
      "Die Trockenwichte des Bodens beträgt nach der Verdichtung 16.44 kN/m³.\n",
      "Das Kornvolumen des verdichteten Bodens je Verdichtungspunkt beträgt nun 25.29 m³.\n"
     ]
    }
   ],
   "source": [
    "gamma_dV = (G_d + G_dZ)/V_R\n",
    "V_KV = V_KR + V_KZR\n",
    "print(\"Die Trockenwichte des Bodens beträgt nach der Verdichtung %.2f kN/m³.\" %gamma_dV)\n",
    "print(\"Das Kornvolumen des verdichteten Bodens je Verdichtungspunkt beträgt nun %.2f m³.\" %V_KV)"
   ]
  },
  {
   "cell_type": "markdown",
   "metadata": {},
   "source": [
    "Wir können nun die Porenzahl und den Porenanteil nach der Verdichtung bestimmen. Es folgen sofort die Lagerungsdichtemaße."
   ]
  },
  {
   "cell_type": "code",
   "execution_count": 14,
   "metadata": {},
   "outputs": [],
   "source": [
    "e_V = gamma_s / gamma_dV - 1\n",
    "n_V = e_V / (1 + e_V)\n",
    "\n",
    "D_V = (n_max - n_V) / (n_max - n_min)\n",
    "I_DV = (e_max - e_V) / (e_max - e_min)"
   ]
  },
  {
   "cell_type": "code",
   "execution_count": 15,
   "metadata": {},
   "outputs": [
    {
     "name": "stdout",
     "output_type": "stream",
     "text": [
      "Nach der Verdichtung ist die Porosität 0.3678 und die Porenzahl 0.5818.\n",
      "Damit beträgt die Lagerungsdichte 88.8 Prozent ...\n",
      "... und die bezogene Lagerungsdichte 89.9 Prozent\n"
     ]
    }
   ],
   "source": [
    "print(\"Nach der Verdichtung ist die Porosität %.4f und die Porenzahl %.4f.\" %(n_V,e_V))\n",
    "print(\"Damit beträgt die Lagerungsdichte %.1f Prozent ...\" %(D_V*100))\n",
    "print(\"... und die bezogene Lagerungsdichte %.1f Prozent\" %(I_DV*100))"
   ]
  },
  {
   "cell_type": "markdown",
   "metadata": {},
   "source": [
    "## Abzuführende Wassermenge\n",
    "\n",
    "Wir betrachten die Verhältnisse unterhalb des Grundwasserspiegels, da der Wassergehalt des eingebauten Materials oberhalb desselben $w_\\text{max} = e \\gamma_\\text{w}/\\gamma_\\text{s}$ nicht übersteigt.\n",
    "\n",
    "Vor der Verdichtungsmaßnahme beträgt das Wasservolumen im Gebiet:\n",
    "\n",
    "$$\n",
    "    V_\\text{w0} = n V = n a b (z_\\text{max} - z_\\text{GW})\n",
    "$$\n",
    "\n",
    "Nach der Verdichtung ist bei gleichbleibendem Grundwasserflurabstand Raum für \n",
    "\n",
    "$$\n",
    "    V_\\text{wV} = n_V V = n_V a b (z_\\text{max} - z_\\text{GW})\n",
    "$$\n",
    "\n",
    "Die abzuführende Wassermenge ergibt sich aus der Differenz."
   ]
  },
  {
   "cell_type": "code",
   "execution_count": 16,
   "metadata": {},
   "outputs": [
    {
     "name": "stdout",
     "output_type": "stream",
     "text": [
      "Es sind 416.7 m³ Wasser abzuführen.\n"
     ]
    }
   ],
   "source": [
    "Delta_V_W = (n - n_V) * a * b * (z_max - z_GW)\n",
    "print(\"Es sind %.1f m³ Wasser abzuführen.\" %Delta_V_W)"
   ]
  }
 ],
 "metadata": {
  "kernelspec": {
   "display_name": "Python 3",
   "language": "python",
   "name": "python3"
  },
  "language_info": {
   "codemirror_mode": {
    "name": "ipython",
    "version": 3
   },
   "file_extension": ".py",
   "mimetype": "text/x-python",
   "name": "python",
   "nbconvert_exporter": "python",
   "pygments_lexer": "ipython3",
   "version": "3.8.5"
  }
 },
 "nbformat": 4,
 "nbformat_minor": 4
}
