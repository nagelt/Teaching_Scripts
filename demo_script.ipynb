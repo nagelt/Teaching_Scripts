{
 "cells": [
  {
   "cell_type": "markdown",
   "metadata": {},
   "source": [
    "![Logo TUBAF](https://tu-freiberg.de/sites/default/files/media/freiberger-alumni-netzwerk-6127/wbm_orig_rgb_0.jpg)\n",
    "\n",
    "In our teaching we employ interactive Jupyter notebooks in order to allow our students to play with the concepts and hence familiarize themselves more quickly with the new knowledge. Below, we give two simple examples of such scripts. The remainder can be found in Opal in the respective course materials.\n",
    "\n",
    "Comments to:\n",
    "\n",
    "*Prof. Dr. Thomas Nagel  \n",
    "Chair of Soil Mechanics and Foundation Engineering  \n",
    "Geotechnical Institute  \n",
    "Technische Universität Bergakademie Freiberg.*\n",
    "\n",
    "https://tu-freiberg.de/en/soilmechanics"
   ]
  },
  {
   "cell_type": "markdown",
   "metadata": {},
   "source": [
    "# Beschreibung von Kornverteilungskurven"
   ]
  },
  {
   "cell_type": "code",
   "execution_count": 11,
   "metadata": {},
   "outputs": [],
   "source": [
    "import matplotlib.pyplot as plt\n",
    "import numpy as np\n",
    "from ipywidgets import widgets\n",
    "from ipywidgets import interact\n",
    "from ipywidgets import interaction\n",
    "import scipy as sp\n",
    "from scipy import interpolate\n",
    "import pandas as pd\n",
    "\n",
    "#Some plot settings\n",
    "import plot_functions.plot_settings\n",
    "%run plot_functions/kornverteilungskurve_plots.ipynb"
   ]
  },
  {
   "cell_type": "markdown",
   "metadata": {},
   "source": [
    "Im Zuge der Bestimmung einer Sieblinie werden Siebrückstände $m_i$ ermittelt. Die einzelnen zu den Siebdurchmessern $d_i$ gehörigen Siebrückstände $m_i$ können nun auf die Gesamtmasse $m_\\text{d} = \\sum m_i$ (Annahme vernachlässigbarer Siebverluste) bezogen werden, womit die Masseanteile\n",
    "\n",
    "$$\n",
    "    x_i = \\frac{m_i}{m_\\text{d}}\n",
    "$$\n",
    "\n",
    "ermittelt werden. Diese werden typischerweise in einer Summenkurve\n",
    "\n",
    "$$\n",
    "    F(d_i) = \\sum \\limits_{k=1}^i x_i\n",
    "$$\n",
    "\n",
    "aufgetragen. Dabei wird aufgrund der über Größenordnungen verteilten Korndurchmesser eine halblogarithmische Darstellung gewählt (siehe folgende Abbildung, rechts). Feinanteile, die nicht durch Siebung näher untersucht werden, sind nicht mit dargestellt. In der linken Abbildung sind die Masseanteile selbst und das zugehörige Histogramm der Masseverteilung dargestellt.\n",
    "\n",
    "Mithilfe der Körnungslinie bzw. Kornverteilungskurve können die dominierenden Bestandteile (T, U, S, G) ermittelt werden. Des weiteren können die Ungleichförmigkeitszahl\n",
    "\n",
    "$$\n",
    "    C_U = \\frac{d_{60}}{d_{10}}\n",
    "$$\n",
    "\n",
    "und die Krümmungszahl\n",
    "\n",
    "$$\n",
    "    C_C = \\frac{d_{30}^2}{d_{10}\\ d_{60}}\n",
    "$$\n",
    "\n",
    "abgeleitet werden. \n",
    "\n",
    "Die folgenden Siebrückstände seien gegeben:"
   ]
  },
  {
   "cell_type": "code",
   "execution_count": 12,
   "metadata": {},
   "outputs": [
    {
     "data": {
      "application/vnd.jupyter.widget-view+json": {
       "model_id": "8afbfc3b638d463fbfff27642e347ce3",
       "version_major": 2,
       "version_minor": 0
      },
      "text/plain": [
       "VBox(children=(FloatText(value=0.0, description='63.0 mm'), FloatText(value=0.0, description='31.5 mm'), Float…"
      ]
     },
     "metadata": {},
     "output_type": "display_data"
    }
   ],
   "source": [
    "Siebdurchmesser = np.array([63,31.5,16,8,4,2,1,0.5,0.25,0.125,0.063,0.001])#letzter: Rückstand in Null\n",
    "Startwerte = np.array([0,0,842.4,1059.8,1222.9,788.0,706.6,407.6,210.0,195.7,0,0])\n",
    "\n",
    "Massen = [widgets.FloatText(value=Startwerte[i],description=str(Siebdurchmesser[i])+' mm') for i in range(len(Siebdurchmesser))]\n",
    "Eingabe=widgets.VBox(Massen)\n",
    "Eingabe"
   ]
  },
  {
   "cell_type": "code",
   "execution_count": null,
   "metadata": {},
   "outputs": [],
   "source": []
  },
  {
   "cell_type": "code",
   "execution_count": 13,
   "metadata": {},
   "outputs": [
    {
     "data": {
      "application/vnd.jupyter.widget-view+json": {
       "model_id": "bba95460bfae4285aa920735b7c06886",
       "version_major": 2,
       "version_minor": 0
      },
      "text/plain": [
       "interactive(children=(Checkbox(value=False, description='Neuauswertung'), Output()), _dom_classes=('widget-int…"
      ]
     },
     "metadata": {},
     "output_type": "display_data"
    }
   ],
   "source": [
    "def plot(Neuauswertung):\n",
    "    m_i = Siebmassen(Eingabe)\n",
    "    dm_i = Masseanteile(m_i)\n",
    "    sum_dm_i = Siebdurchgang(dm_i)\n",
    "    plot_KVK(sum_dm_i)\n",
    "\n",
    "interact(plot, Neuauswertung=False);"
   ]
  },
  {
   "cell_type": "markdown",
   "metadata": {},
   "source": [
    "Damit lassen sich die Masseanteile der einzelnen Kornfraktionen ablesen:"
   ]
  },
  {
   "cell_type": "code",
   "execution_count": 14,
   "metadata": {},
   "outputs": [
    {
     "data": {
      "application/vnd.jupyter.widget-view+json": {
       "model_id": "640fb4920ffb4adfb7c0933dc4928155",
       "version_major": 2,
       "version_minor": 0
      },
      "text/plain": [
       "interactive(children=(Checkbox(value=False, description='Neuauswertung'), Output()), _dom_classes=('widget-int…"
      ]
     },
     "metadata": {},
     "output_type": "display_data"
    }
   ],
   "source": [
    "def Anteilsbestimmung(Neuauswertung):\n",
    "    a=Anteile(Siebdurchmesser,Siebdurchgang(Masseanteile(Siebmassen(Eingabe))))\n",
    "    display(a)\n",
    "    \n",
    "interact(Anteilsbestimmung, Neuauswertung=False);"
   ]
  },
  {
   "cell_type": "markdown",
   "metadata": {},
   "source": [
    "# Aktive und passive Erddrücke aus dem Mohr'schen Spannungskreis"
   ]
  },
  {
   "cell_type": "code",
   "execution_count": 15,
   "metadata": {},
   "outputs": [],
   "source": [
    "from matplotlib import patches\n",
    "\n",
    "#Some plot settings\n",
    "%run plot_functions/Mohrs_circle_K0_plots.ipynb"
   ]
  },
  {
   "cell_type": "markdown",
   "metadata": {},
   "source": [
    "## Ebene Betrachtungen\n",
    "\n",
    "Die folgenden Betrachtungen liegen in der $x$-$z$ Ebene und gelten für ebene Spannungszustände und ebene Verzerrungszustände mit $\\sigma_{yy} = \\sigma_2$.\n",
    "\n",
    "Zusätzlich legen wir $\\sigma_{zz}$ beliebig, aber ohne Einschränkung der Allgemeingültigkeit, zu 200 kPa fest.\n",
    "\n",
    "Im kohäsionslosen Boden ergibt sich aus dem Mohr-Coulomb'schen Bruchkriterium:\n",
    "\n",
    "$$\n",
    "\\displaystyle\\frac{1-\\sin\\phi}{1+\\sin \\phi} \\sigma_{zz} < \\sigma_{xx} < \\frac{1+\\sin\\phi}{1-\\sin \\phi} \\sigma_{zz}\n",
    "$$\n",
    "\n",
    "mit \n",
    "\n",
    "\\begin{align*}\n",
    "    K_{\\text{a}} &= \\displaystyle\\frac{1-\\sin\\phi}{1+\\sin \\phi}\n",
    "    \\\\\\\\\n",
    "    K_{\\text{p}} &= \\displaystyle \\frac{1+\\sin\\phi}{1-\\sin \\phi}\n",
    "\\end{align*}\n",
    "\n",
    "In kohäsiven Böden ergibt sich in analoger Betrachtungsweise der von den aktiven und passiven Grenzzuständen begrenzte Horizontalspannungsbereich\n",
    "\n",
    "$$\n",
    "K_{\\text{a}} \\sigma_{zz} - 2c \\sqrt{K_{\\text{a}}} < \\sigma_{xx} < K_{\\text{p}} \\sigma_{zz} + 2c \\sqrt{K_{\\text{p}}}\n",
    "$$"
   ]
  },
  {
   "cell_type": "code",
   "execution_count": 16,
   "metadata": {},
   "outputs": [],
   "source": [
    "s_zz = 200."
   ]
  },
  {
   "cell_type": "code",
   "execution_count": 17,
   "metadata": {},
   "outputs": [
    {
     "data": {
      "application/vnd.jupyter.widget-view+json": {
       "model_id": "39e98eead4d342989aebfe502cafaa34",
       "version_major": 2,
       "version_minor": 0
      },
      "text/plain": [
       "interactive(children=(FloatSlider(value=20.0, description='$\\\\phi$ / °', max=30.0, min=10.0, step=5.0), FloatS…"
      ]
     },
     "metadata": {},
     "output_type": "display_data"
    }
   ],
   "source": [
    "plot_interactive_K0c()"
   ]
  },
  {
   "cell_type": "markdown",
   "metadata": {},
   "source": [
    "## Spannungszustände und Schnittebenen im Mohr'schen Spannungskreis\n",
    "\n",
    "In diesem Beispiel wollen wir einen gegebenen Spannungszustand mitsamt seiner Orientierung sowie den Bruchzustand in den Spannungskreis integrieren. Außerdem wollen wir die Funktion des Pols für die Bestimmung der Schnittebenen einzelner Komponenten des Spannungstensors demonstrieren.\n",
    "\n",
    "Der Pol ist über den angegebenen Spannungszustand definiert. Damit sind alle angegebenen Ebenen in Bezug auf das $x-z$ Koordinatensystem zu verstehen. Der eingetragene grüne Zentriwinkel $2\\theta^*$ hingegen beschreibt die Orientierung der Bruchebenen gegenüber den Hauptspannungsrichtungen (nur eine gezeichnet)."
   ]
  },
  {
   "cell_type": "code",
   "execution_count": 18,
   "metadata": {},
   "outputs": [
    {
     "data": {
      "application/vnd.jupyter.widget-view+json": {
       "model_id": "99fb29be0933414295ecc0d2606e72dc",
       "version_major": 2,
       "version_minor": 0
      },
      "text/plain": [
       "interactive(children=(BoundedFloatText(value=30.0, description='$\\\\phi$ / °'), FloatText(value=1.3, descriptio…"
      ]
     },
     "metadata": {},
     "output_type": "display_data"
    }
   ],
   "source": [
    "%run plot_functions/Mohrs_circle_plots.ipynb\n",
    "plot_interactive_failure()"
   ]
  },
  {
   "cell_type": "markdown",
   "metadata": {},
   "source": [
    "## Aktiver Erddruck mit Linienbruch"
   ]
  },
  {
   "cell_type": "code",
   "execution_count": 19,
   "metadata": {},
   "outputs": [
    {
     "data": {
      "application/vnd.jupyter.widget-view+json": {
       "model_id": "236c48b6b0f448c9919965eac3a3eea8",
       "version_major": 2,
       "version_minor": 0
      },
      "text/plain": [
       "interactive(children=(IntSlider(value=10, description='$c$ / kN m$^{-2}$:', max=50, step=5), IntSlider(value=3…"
      ]
     },
     "metadata": {},
     "output_type": "display_data"
    }
   ],
   "source": [
    "%run plot_functions/earth_pressure_plots.ipynb\n",
    "plot_interactive_earth_pressure()"
   ]
  },
  {
   "cell_type": "markdown",
   "metadata": {},
   "source": [
    "## Tasks\n",
    "\n",
    "* Compare the numbers you get to results obtained from the analytical expressions you find in the current norm.\n",
    "* Investigate the influence of the different parameters.\n",
    "* What happens at very high cohesion values? What does this mean?\n",
    "* How high can a cohesive vertical slope be roughly? Select suitable parameters to answer this question."
   ]
  },
  {
   "cell_type": "markdown",
   "metadata": {},
   "source": [
    "![Erddruck.png](https://raw.githubusercontent.com/nagelt/Teaching_Scripts/master/Images/Erddruck.png)"
   ]
  }
 ],
 "metadata": {
  "kernelspec": {
   "display_name": "Python 3",
   "language": "python",
   "name": "python3"
  },
  "language_info": {
   "codemirror_mode": {
    "name": "ipython",
    "version": 3
   },
   "file_extension": ".py",
   "mimetype": "text/x-python",
   "name": "python",
   "nbconvert_exporter": "python",
   "pygments_lexer": "ipython3",
   "version": "3.8.5"
  }
 },
 "nbformat": 4,
 "nbformat_minor": 4
}
