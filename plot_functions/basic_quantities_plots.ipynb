{
 "cells": [
  {
   "cell_type": "code",
   "execution_count": 1,
   "metadata": {},
   "outputs": [],
   "source": [
    "def plot_e_n(por):\n",
    "    plt.rcParams['figure.figsize'] = (13, 6)\n",
    "    fig,ax = plt.subplots(ncols=2)\n",
    "    \n",
    "    fig.suptitle('$n = %.2f$, $e = %.2f$' %(por,porenzahl(por)))\n",
    "    \n",
    "    n_range = np.linspace(0.01,0.99,100)\n",
    "    \n",
    "    for i in range(2):\n",
    "        ax[i].plot(n_range,porenzahl(n_range))\n",
    "        ax[i].plot(por,porenzahl(por),marker='o',color='red')\n",
    "        ax[i].set_xlabel('$n$')\n",
    "        ax[i].set_ylabel('$e$')\n",
    "    ax[1].set_yscale('log')\n",
    "    fig.tight_layout()\n",
    "    plt.subplots_adjust(top=0.88)\n",
    "    plt.show()"
   ]
  },
  {
   "cell_type": "code",
   "execution_count": null,
   "metadata": {},
   "outputs": [],
   "source": [
    "def water_content(e,S):\n",
    "    rho_s = 2600. #kg/m³ unterstellte Korndichte\n",
    "    rho_w = 1000. #kg/m³ Wasserdichte\n",
    "    return S*e*rho_w/rho_s\n",
    "\n",
    "def plot_w_S_n(por,Sat):\n",
    "    plt.rcParams['figure.figsize'] = (10, 10)\n",
    "    \n",
    "    n_range = np.linspace(0.1,0.8,100)\n",
    "    S_range = np.linspace(0.,1.,100)\n",
    "    \n",
    "    X, Y = np.meshgrid(n_range,S_range)\n",
    "    Z = water_content(porenzahl(X),Y)\n",
    "\n",
    "    fig, ax = plt.subplots()\n",
    "    \n",
    "    fig.suptitle('$n = %.2f$, $S = %.2f$, $e = %.2f$, $w = %.2f$' \n",
    "                 %(por,Sat,porenzahl(por),water_content(porenzahl(por),Sat)))\n",
    "\n",
    "    CS = ax.contour(X, Y, Z,150)\n",
    "    ax.plot(por,Sat,marker='o',color='red',markersize=10)\n",
    "    ax.set_xlabel('$n$')\n",
    "    ax.set_ylabel('$S$')\n",
    "    ax.set_ylim(0,1)\n",
    "    fig.colorbar(CS,label='water content')\n",
    "    fig.tight_layout()\n",
    "    plt.subplots_adjust(top=0.88)\n",
    "    plt.show()"
   ]
  }
 ],
 "metadata": {
  "kernelspec": {
   "display_name": "Python 3",
   "language": "python",
   "name": "python3"
  },
  "language_info": {
   "codemirror_mode": {
    "name": "ipython",
    "version": 3
   },
   "file_extension": ".py",
   "mimetype": "text/x-python",
   "name": "python",
   "nbconvert_exporter": "python",
   "pygments_lexer": "ipython3",
   "version": "3.8.5"
  }
 },
 "nbformat": 4,
 "nbformat_minor": 4
}
