{
 "cells": [
  {
   "cell_type": "code",
   "execution_count": 1,
   "id": "frank-shape",
   "metadata": {},
   "outputs": [],
   "source": [
    "def vec_from_by(ax,fro=[0,0],delta=[1,1],scale=1,col='black',label=''):\n",
    "    ax.text(fro[0]+delta[0]/2,fro[1]+delta[1]/3,label,color=col,fontsize=14*scale)\n",
    "    return ax.arrow(fro[0], fro[1], delta[0], delta[1], head_width=0.1*scale, head_length=0.15*scale, color=col,length_includes_head=True)"
   ]
  },
  {
   "cell_type": "code",
   "execution_count": 2,
   "id": "arabic-accident",
   "metadata": {},
   "outputs": [],
   "source": [
    "def define_element(geo,ids):\n",
    "    block = geo.loc[geo['Pkt'] < 0] #emtpy\n",
    "    for i in ids:\n",
    "        block = block.append(geo.loc[geo['Pkt'] == i])\n",
    "    return block"
   ]
  },
  {
   "cell_type": "code",
   "execution_count": 4,
   "id": "comfortable-naples",
   "metadata": {},
   "outputs": [],
   "source": [
    "def plot_blocks(blocks):\n",
    "    fig, ax = plt.subplots()\n",
    "    for i,block in enumerate(blocks):\n",
    "        block = block.append(block.iloc[0])#to close the loop\n",
    "        ax.plot(block['x / m'], block['y / m'],label='Element %i' %(i+1))#,color='black')\n",
    "    ax.set_xlabel('$x$ / m')\n",
    "    ax.set_ylabel('$y$ / m')\n",
    "    ax.legend()\n",
    "    fig.tight_layout()"
   ]
  },
  {
   "cell_type": "code",
   "execution_count": null,
   "id": "extended-chorus",
   "metadata": {},
   "outputs": [],
   "source": [
    "def block_area(block):\n",
    "    if len(block) == 3:\n",
    "        A = np.abs(block.iloc[0]['x / m'] * (block.iloc[1]['y / m'] - block.iloc[2]['y / m']) + \n",
    "                   block.iloc[1]['x / m']* (block.iloc[2]['y / m'] - block.iloc[0]['y / m']) + \n",
    "                   block.iloc[2]['x / m'] * (block.iloc[0]['y / m'] - block.iloc[1]['y / m']))/2\n",
    "    elif len(block) == 4:\n",
    "        A = np.abs((block.iloc[2]['x / m'] - block.iloc[0]['x / m']) * (block.iloc[3]['y / m'] - block.iloc[1]['y / m']) + \n",
    "                   (block.iloc[3]['x / m'] - block.iloc[1]['x / m']) * (block.iloc[0]['y / m'] - block.iloc[2]['y / m'])) / 2\n",
    "    else:\n",
    "        raise SystemExit('Element neither triangle nor quadrilateral')\n",
    "    return A"
   ]
  }
 ],
 "metadata": {
  "kernelspec": {
   "display_name": "Python 3",
   "language": "python",
   "name": "python3"
  },
  "language_info": {
   "codemirror_mode": {
    "name": "ipython",
    "version": 3
   },
   "file_extension": ".py",
   "mimetype": "text/x-python",
   "name": "python",
   "nbconvert_exporter": "python",
   "pygments_lexer": "ipython3",
   "version": "3.8.6"
  }
 },
 "nbformat": 4,
 "nbformat_minor": 5
}
