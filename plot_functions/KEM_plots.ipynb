{
 "cells": [
  {
   "cell_type": "code",
   "execution_count": 1,
   "id": "daily-bangkok",
   "metadata": {},
   "outputs": [],
   "source": [
    "def vec_from_by(ax,fro=[0,0],delta=[1,1],scale=1,col='black',label=''):\n",
    "    ax.text(fro[0]+delta[0]/2,fro[1]+delta[1]/3,label,color=col,fontsize=20)\n",
    "    return ax.arrow(fro[0], fro[1], delta[0], delta[1], head_width=0.1*scale, head_length=0.15*scale, color=col,length_includes_head=True)"
   ]
  },
  {
   "cell_type": "code",
   "execution_count": 1,
   "id": "southern-constraint",
   "metadata": {},
   "outputs": [],
   "source": [
    "def line_from_by(ax,fro=[0,0],delta=[1,1],scale=1,col='black',label='',ls='-'):\n",
    "    ax.text(fro[0]+delta[0]/2*scale,fro[1]+delta[1]/3*scale,label,color=col,fontsize=20)\n",
    "    return ax.arrow(fro[0], fro[1], delta[0]*scale, delta[1]*scale, head_width=0, head_length=0, color=col,length_includes_head=True,ls=ls)"
   ]
  },
  {
   "cell_type": "code",
   "execution_count": 2,
   "id": "alert-salmon",
   "metadata": {},
   "outputs": [],
   "source": [
    "def define_element(geo,ids):\n",
    "    block = geo.loc[geo['Pkt'] < 0] #emtpy\n",
    "    for i in ids:\n",
    "        block = block.append(geo.loc[geo['Pkt'] == i])\n",
    "    return block"
   ]
  },
  {
   "cell_type": "code",
   "execution_count": 5,
   "id": "threaded-hollywood",
   "metadata": {},
   "outputs": [],
   "source": [
    "def plot_blocks(blocks):\n",
    "    fig, ax = plt.subplots()\n",
    "    for i,block in enumerate(blocks):\n",
    "        for k in range(len(block)):\n",
    "            ax.plot([block.iloc[k]['x / m']],[block.iloc[k]['y / m']],marker='o',color='black')\n",
    "            ax.text(block.iloc[k]['x / m'],block.iloc[k]['y / m']+0.2, str(int(block.iloc[k]['Pkt'])))\n",
    "        block = block.append(block.iloc[0])#to close the loop\n",
    "        ax.plot(block['x / m'], block['y / m'],label='Element %i' %(i+1))#,color='black')\n",
    "    ax.set_xlabel('$x$ / m')\n",
    "    ax.set_ylabel('$y$ / m')\n",
    "    ax.legend()\n",
    "    fig.tight_layout()"
   ]
  },
  {
   "cell_type": "code",
   "execution_count": null,
   "id": "bigger-advice",
   "metadata": {},
   "outputs": [],
   "source": [
    "def block_area(block):\n",
    "    if len(block) == 3:\n",
    "        A = np.abs(block.iloc[0]['x / m'] * (block.iloc[1]['y / m'] - block.iloc[2]['y / m']) + \n",
    "                   block.iloc[1]['x / m']* (block.iloc[2]['y / m'] - block.iloc[0]['y / m']) + \n",
    "                   block.iloc[2]['x / m'] * (block.iloc[0]['y / m'] - block.iloc[1]['y / m']))/2\n",
    "    elif len(block) == 4:\n",
    "        A = np.abs((block.iloc[2]['x / m'] - block.iloc[0]['x / m']) * (block.iloc[3]['y / m'] - block.iloc[1]['y / m']) + \n",
    "                   (block.iloc[3]['x / m'] - block.iloc[1]['x / m']) * (block.iloc[0]['y / m'] - block.iloc[2]['y / m'])) / 2\n",
    "    else:\n",
    "        raise SystemExit('Element neither triangle nor quadrilateral')\n",
    "    return A"
   ]
  },
  {
   "cell_type": "code",
   "execution_count": 6,
   "id": "scheduled-flower",
   "metadata": {},
   "outputs": [],
   "source": [
    "def length(geo,ids):\n",
    "    a = geo.loc[geo['Pkt']==ids[0]]\n",
    "    b = geo.loc[geo['Pkt']==ids[1]]\n",
    "    L = np.sqrt((a.iloc[0]['x / m'] - b.iloc[0]['x / m'])**2 + (a.iloc[0]['y / m'] - b.iloc[0]['y / m'])**2)\n",
    "    return L"
   ]
  },
  {
   "cell_type": "code",
   "execution_count": 7,
   "id": "brave-sellers",
   "metadata": {},
   "outputs": [],
   "source": [
    "def gravity_vector(data,nr):\n",
    "    return np.array([0,-data.iloc[nr-1]['G / kN/m']])"
   ]
  },
  {
   "cell_type": "code",
   "execution_count": null,
   "id": "secure-copper",
   "metadata": {},
   "outputs": [],
   "source": [
    "def cohesion(c,geo,from_id,to_id):\n",
    "    L = length(geo,[from_id,to_id])\n",
    "    from_node = geo.loc[geo['Pkt']==from_id]\n",
    "    to_node = geo.loc[geo['Pkt']==to_id]\n",
    "    vec = np.array([to_node.iloc[0]['x / m'] - from_node.iloc[0]['x / m'], to_node.iloc[0]['y / m'] - from_node.iloc[0]['y / m']])\n",
    "    vec /= np.linalg.norm(vec)\n",
    "    vec *= L * c\n",
    "    return vec"
   ]
  },
  {
   "cell_type": "code",
   "execution_count": null,
   "id": "ruled-burns",
   "metadata": {},
   "outputs": [],
   "source": [
    "def line_of_Q(geo,R,from_id,to_id):\n",
    "    from_node = geo.loc[geo['Pkt']==from_id]\n",
    "    to_node = geo.loc[geo['Pkt']==to_id]\n",
    "    vec = R.dot(np.array([to_node.iloc[0]['x / m'] - from_node.iloc[0]['x / m'], to_node.iloc[0]['y / m'] - from_node.iloc[0]['y / m']]))\n",
    "    vec /= np.linalg.norm(vec)\n",
    "    return vec"
   ]
  }
 ],
 "metadata": {
  "kernelspec": {
   "display_name": "Python 3",
   "language": "python",
   "name": "python3"
  },
  "language_info": {
   "codemirror_mode": {
    "name": "ipython",
    "version": 3
   },
   "file_extension": ".py",
   "mimetype": "text/x-python",
   "name": "python",
   "nbconvert_exporter": "python",
   "pygments_lexer": "ipython3",
   "version": "3.8.6"
  }
 },
 "nbformat": 4,
 "nbformat_minor": 5
}
