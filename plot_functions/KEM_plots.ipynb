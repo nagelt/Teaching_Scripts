{
 "cells": [
  {
   "cell_type": "code",
   "execution_count": 1,
   "id": "effective-amateur",
   "metadata": {},
   "outputs": [],
   "source": [
    "def vec_from_by(ax,fro=[0,0],delta=[1,1],scale=1,col='black',label='',ls='-'):\n",
    "    ax.text(fro[0]+delta[0]/2,fro[1]+delta[1]/3,label,color=col,fontsize=20)\n",
    "    return ax.arrow(fro[0], fro[1], delta[0], delta[1], head_width=0.1*scale, head_length=0.15*scale, color=col,length_includes_head=True,ls=ls)"
   ]
  },
  {
   "cell_type": "code",
   "execution_count": 1,
   "id": "southwest-messaging",
   "metadata": {},
   "outputs": [],
   "source": [
    "def line_from_by(ax,fro=[0,0],delta=[1,1],scale=1,col='black',label='',ls='-'):\n",
    "    ax.text(fro[0]+delta[0]/2*scale,fro[1]+delta[1]/3*scale,label,color=col,fontsize=20)\n",
    "    return ax.arrow(fro[0], fro[1], delta[0]*scale, delta[1]*scale, head_width=0, head_length=0, color=col,length_includes_head=True,ls=ls)"
   ]
  },
  {
   "cell_type": "code",
   "execution_count": 2,
   "id": "developed-douglas",
   "metadata": {},
   "outputs": [],
   "source": [
    "def define_element(geo,ids):\n",
    "    block = geo.loc[geo['Pkt'] < 0] #emtpy\n",
    "    for i in ids:\n",
    "        block = block.append(geo.loc[geo['Pkt'] == i])\n",
    "    return block"
   ]
  },
  {
   "cell_type": "code",
   "execution_count": 5,
   "id": "innocent-money",
   "metadata": {},
   "outputs": [],
   "source": [
    "def plot_blocks(blocks):\n",
    "    fig, ax = plt.subplots()\n",
    "    for i,block in enumerate(blocks):\n",
    "        for k in range(len(block)):\n",
    "            ax.plot([block.iloc[k]['x / m']],[block.iloc[k]['y / m']],marker='o',color='black')\n",
    "            ax.text(block.iloc[k]['x / m'],block.iloc[k]['y / m']+0.2, str(int(block.iloc[k]['Pkt'])))\n",
    "        block = block.append(block.iloc[0])#to close the loop\n",
    "        ax.plot(block['x / m'], block['y / m'],label='Element %i' %(i+1))#,color='black')\n",
    "    ax.set_xlabel('$x$ / m')\n",
    "    ax.set_ylabel('$y$ / m')\n",
    "    ax.legend()\n",
    "    fig.tight_layout()"
   ]
  },
  {
   "cell_type": "code",
   "execution_count": 5,
   "id": "assumed-colon",
   "metadata": {},
   "outputs": [],
   "source": [
    "def auto_plot_blocks(geometry):\n",
    "    block1 = define_element(geometry,[1,2,3,4])\n",
    "    block2 = define_element(geometry,[4,3,6,5])\n",
    "    block3 = define_element(geometry,[5,6,7,8])\n",
    "    block4 = define_element(geometry,[8,7,9])\n",
    "    plot_blocks([block1,block2,block3,block4])"
   ]
  },
  {
   "cell_type": "code",
   "execution_count": null,
   "id": "rotary-chocolate",
   "metadata": {},
   "outputs": [],
   "source": [
    "def block_area(block):\n",
    "    if len(block) == 3:\n",
    "        A = np.abs(block.iloc[0]['x / m'] * (block.iloc[1]['y / m'] - block.iloc[2]['y / m']) + \n",
    "                   block.iloc[1]['x / m']* (block.iloc[2]['y / m'] - block.iloc[0]['y / m']) + \n",
    "                   block.iloc[2]['x / m'] * (block.iloc[0]['y / m'] - block.iloc[1]['y / m']))/2\n",
    "    elif len(block) == 4:\n",
    "        A = np.abs((block.iloc[2]['x / m'] - block.iloc[0]['x / m']) * (block.iloc[3]['y / m'] - block.iloc[1]['y / m']) + \n",
    "                   (block.iloc[3]['x / m'] - block.iloc[1]['x / m']) * (block.iloc[0]['y / m'] - block.iloc[2]['y / m'])) / 2\n",
    "    else:\n",
    "        raise SystemExit('Element neither triangle nor quadrilateral')\n",
    "    return A"
   ]
  },
  {
   "cell_type": "code",
   "execution_count": 6,
   "id": "welcome-kingston",
   "metadata": {},
   "outputs": [],
   "source": [
    "def length(geo,ids):\n",
    "    a = geo.loc[geo['Pkt']==ids[0]]\n",
    "    b = geo.loc[geo['Pkt']==ids[1]]\n",
    "    L = np.sqrt((a.iloc[0]['x / m'] - b.iloc[0]['x / m'])**2 + (a.iloc[0]['y / m'] - b.iloc[0]['y / m'])**2)\n",
    "    return L"
   ]
  },
  {
   "cell_type": "code",
   "execution_count": 7,
   "id": "severe-enzyme",
   "metadata": {},
   "outputs": [],
   "source": [
    "def gravity_vector(data,nr):\n",
    "    return np.array([0,-data.iloc[nr-1]['G / kN/m']])"
   ]
  },
  {
   "cell_type": "code",
   "execution_count": null,
   "id": "devoted-dinner",
   "metadata": {},
   "outputs": [],
   "source": [
    "def cohesion(c,geo,from_id,to_id):\n",
    "    L = length(geo,[from_id,to_id])\n",
    "    from_node = geo.loc[geo['Pkt']==from_id]\n",
    "    to_node = geo.loc[geo['Pkt']==to_id]\n",
    "    vec = np.array([to_node.iloc[0]['x / m'] - from_node.iloc[0]['x / m'], to_node.iloc[0]['y / m'] - from_node.iloc[0]['y / m']])\n",
    "    vec /= np.linalg.norm(vec)\n",
    "    vec *= L * c\n",
    "    return vec"
   ]
  },
  {
   "cell_type": "code",
   "execution_count": 8,
   "id": "alien-cherry",
   "metadata": {},
   "outputs": [],
   "source": [
    "def line_of_Q(geo,R,from_id,to_id):\n",
    "    from_node = geo.loc[geo['Pkt']==from_id]\n",
    "    to_node = geo.loc[geo['Pkt']==to_id]\n",
    "    vec = R.dot(np.array([to_node.iloc[0]['x / m'] - from_node.iloc[0]['x / m'], to_node.iloc[0]['y / m'] - from_node.iloc[0]['y / m']]))\n",
    "    vec /= np.linalg.norm(vec)\n",
    "    return vec"
   ]
  },
  {
   "cell_type": "code",
   "execution_count": null,
   "id": "fifty-collector",
   "metadata": {},
   "outputs": [],
   "source": [
    "def get_P_T(eta, *args):\n",
    "    eta=eta[0]\n",
    "    geometry = args[0]\n",
    "    gamma = args[1]\n",
    "    c=args[2]\n",
    "    phi=args[3]\n",
    "    plotfig=args[4]\n",
    "    #mobilised values\n",
    "    c /= eta\n",
    "    phi = np.arctan(np.tan(np.deg2rad(phi))/eta)\n",
    "    #Achtung: Nummerierung im Umlaufsinn!\n",
    "    block1 = define_element(geometry,[1,2,3,4])\n",
    "    block2 = define_element(geometry,[4,3,6,5])\n",
    "    block3 = define_element(geometry,[5,6,7,8])\n",
    "    block4 = define_element(geometry,[8,7,9])\n",
    "    #\n",
    "    data = {'A / m²': np.array([block_area(block1),block_area(block2),block_area(block3),block_area(block4)])} #in m\n",
    "    data['G / kN/m'] = data['A / m²']*gamma\n",
    "    blockdata = pd.DataFrame(data)\n",
    "    #\n",
    "    beta = np.deg2rad(90) - phi\n",
    "    Rp = np.array([[np.cos(beta),-np.sin(beta)],[np.sin(beta),np.cos(beta)]])\n",
    "    Rn = np.array([[np.cos(-beta),-np.sin(-beta)],[np.sin(-beta),np.cos(-beta)]])\n",
    "    #\n",
    "    G_4 = gravity_vector(blockdata,4)\n",
    "    C_98 = cohesion(c,geometry,9,8)\n",
    "    C_78 = cohesion(c,geometry,7,8)\n",
    "    e_Q98 = line_of_Q(geometry,Rp,9,8)\n",
    "    e_Q78 = line_of_Q(geometry,Rn,7,8)\n",
    "    b4 = -(G_4 + C_98 + C_78)\n",
    "    A4 = np.array([e_Q78,e_Q98]).T\n",
    "    f4 = np.linalg.solve(A4,b4)\n",
    "    Q_78 = e_Q78 * f4[0]\n",
    "    Q_98 = e_Q98 * f4[1]\n",
    "    #\n",
    "    G_3 = gravity_vector(blockdata,3)\n",
    "    C_87 = - C_78\n",
    "    Q_87 = - Q_78\n",
    "    #\n",
    "    C_85 = cohesion(c,geometry,8,5)\n",
    "    C_65 = cohesion(c,geometry,6,5)\n",
    "    e_Q85 = line_of_Q(geometry,Rp,8,5)\n",
    "    e_Q65 = line_of_Q(geometry,Rn,6,5)\n",
    "    b3 = -(G_3 + C_87 + C_85 + C_65 + Q_87)\n",
    "    A3 = np.array([e_Q85,e_Q65]).T\n",
    "    f3 = np.linalg.solve(A3,b3)\n",
    "    Q_85 = e_Q85 * f3[0]\n",
    "    Q_65 = e_Q65 * f3[1]\n",
    "    #\n",
    "    G_2 = gravity_vector(blockdata,2)\n",
    "    C_56 = - C_65\n",
    "    Q_56 = - Q_65\n",
    "    C_54 = cohesion(c,geometry,5,4)\n",
    "    C_34 = cohesion(c,geometry,3,4)\n",
    "    e_Q54 = line_of_Q(geometry,Rp,5,4)\n",
    "    e_Q34 = line_of_Q(geometry,Rn,3,4)\n",
    "    b2 = -(G_2 + C_56 + C_54 + C_34 + Q_56)\n",
    "    A2 = np.array([e_Q54,e_Q34]).T\n",
    "    f2 = np.linalg.solve(A2,b2)\n",
    "    Q_54 = e_Q54 * f2[0]\n",
    "    Q_34 = e_Q34 * f2[1]\n",
    "    #\n",
    "    G_1 = gravity_vector(blockdata,1)\n",
    "    C_43 = - C_34\n",
    "    Q_43 = - Q_34\n",
    "    C_41 = cohesion(c,geometry,4,1)\n",
    "    e_Q41 = line_of_Q(geometry,Rp,4,1)\n",
    "    e_PT = np.array([0,-1])\n",
    "    b1 = -(G_1 + C_43 + C_41 + Q_43)\n",
    "    A1 = np.array([e_Q41,e_PT]).T\n",
    "    f1 = np.linalg.solve(A1,b1)\n",
    "    Q_41 = e_Q41 * f1[0]\n",
    "    P_T = e_PT * f1[1]\n",
    "    #\n",
    "    if plotfig:\n",
    "        scale = np.linalg.norm(G_2)\n",
    "        fig, ax = plt.subplots(figsize=(12,12))\n",
    "        vec_from_by(ax,delta=G_1,label='$G_1$',scale=scale)\n",
    "        vec_from_by(ax,fro=G_1,delta=G_2,label='$G_2$',scale=scale)\n",
    "        vec_from_by(ax,fro=G_1+G_2,delta=G_3,label='$G_3$',scale=scale)\n",
    "        vec_from_by(ax,fro=G_1+G_2+G_3,delta=G_4,label='$G_4$',scale=scale)\n",
    "        #\n",
    "        vec_from_by(ax,fro=G_1+G_2+G_3+G_4,delta=Q_98,label='$Q_{98}$',scale=scale,col='green')\n",
    "        vec_from_by(ax,fro=G_1+G_2+G_3+G_4+Q_98,delta=C_98,label='$C_{98}$',scale=scale,col='blue')\n",
    "        vec_from_by(ax,fro=G_1+G_2+G_3+G_4+Q_98+C_98,delta=Q_85,label='$Q_{85}$',scale=scale,col='green')\n",
    "        vec_from_by(ax,fro=G_1+G_2+G_3+G_4+Q_98+C_98+Q_85,delta=C_85,label='$C_{85}$',scale=scale,col='blue')\n",
    "        vec_from_by(ax,fro=G_1+G_2+G_3+G_4+Q_98+C_98+Q_85+C_85,delta=Q_54,label='$Q_{54}$',scale=scale,col='green')\n",
    "        vec_from_by(ax,fro=G_1+G_2+G_3+G_4+Q_98+C_98+Q_85+C_85+Q_54,delta=C_54,label='$C_{54}$',scale=scale,col='blue')\n",
    "        vec_from_by(ax,fro=G_1+G_2+G_3+G_4+Q_98+C_98+Q_85+C_85+Q_54+C_54,delta=Q_41,label='$Q_{41}$',scale=scale,col='green')\n",
    "        vec_from_by(ax,fro=G_1+G_2+G_3+G_4+Q_98+C_98+Q_85+C_85+Q_54+C_54+Q_41,delta=C_41,label='$C_{41}$',scale=scale,col='blue')\n",
    "        #\n",
    "        vec_from_by(ax,fro=G_1+G_2+G_3+G_4+Q_98+C_98+Q_85+C_85+Q_54+C_54+Q_41+C_41,delta=P_T,label='$P_\\\\mathrm{T} = %.2f kN/m$' %(np.linalg.norm(P_T)),scale=scale,col='red')\n",
    "        ax.set(adjustable='box', aspect='equal')\n",
    "        plt.axis('off');\n",
    "        plt.show();\n",
    "    obj_value = np.linalg.norm(P_T)\n",
    "    return obj_value"
   ]
  }
 ],
 "metadata": {
  "kernelspec": {
   "display_name": "Python 3",
   "language": "python",
   "name": "python3"
  },
  "language_info": {
   "codemirror_mode": {
    "name": "ipython",
    "version": 3
   },
   "file_extension": ".py",
   "mimetype": "text/x-python",
   "name": "python",
   "nbconvert_exporter": "python",
   "pygments_lexer": "ipython3",
   "version": "3.8.6"
  }
 },
 "nbformat": 4,
 "nbformat_minor": 5
}
