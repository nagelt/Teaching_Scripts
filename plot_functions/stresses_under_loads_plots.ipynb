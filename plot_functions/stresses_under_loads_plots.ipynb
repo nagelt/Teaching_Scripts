{
 "cells": [
  {
   "cell_type": "code",
   "execution_count": 1,
   "metadata": {},
   "outputs": [],
   "source": [
    "r = lambda x, y: np.sqrt(x**2 + y**2)"
   ]
  },
  {
   "cell_type": "code",
   "execution_count": 2,
   "metadata": {},
   "outputs": [],
   "source": [
    "R = lambda x, y, z: np.sqrt(x**2 + y**2 + z**2)"
   ]
  },
  {
   "cell_type": "code",
   "execution_count": 5,
   "metadata": {},
   "outputs": [],
   "source": [
    "def delta_sigma_point_Boussinesq(x, y, z, F, nu):\n",
    "    Rad = R(x,y,z)\n",
    "    rad = r(x,y)\n",
    "    a = (3*F)/(2*np.pi*Rad**2)\n",
    "    delta_sigma_xx = a * ( (x**2 * z)/(Rad**3) - (1 - 2*nu)/3 * ( (x**2 - y**2) * Rad/(rad**2 * (Rad + z)) + (y**2 * z)/(Rad * rad**2) ))\n",
    "    delta_sigma_yy = a * ( (y**2 * z)/(Rad**3) - (1 - 2*nu)/3 * ( (x**2 - y**2) * Rad/(rad**2 * (Rad + z)) + (x**2 * z)/(Rad * rad**2) ))\n",
    "    delta_sigma_zz = a * z**3/Rad**3\n",
    "    delta_sigma_xy = a * ( (x * y * z)/(Rad**3) - (1 - 2*nu)/3 * (x * y * (2 * Rad + z))/(Rad * (Rad + z)**2) )\n",
    "    delta_sigma_yz = a * (y * z**2)/(Rad**3)\n",
    "    delta_sigma_xz = a * (x * z**2)/(Rad**3)\n",
    "    return delta_sigma_xx, delta_sigma_yy, delta_sigma_zz, delta_sigma_xy, delta_sigma_yz, delta_sigma_xz"
   ]
  },
  {
   "cell_type": "code",
   "execution_count": 6,
   "metadata": {},
   "outputs": [],
   "source": [
    "def delta_sigma_point_Boussinesq_dl(x, y, z, nu):\n",
    "    Rad = R(x,y,z)\n",
    "    rad = r(x,y)\n",
    "    delta_sigma_xx = ( (x**2 * z)/(Rad**3) - (1 - 2*nu)/3 * ( (x**2 - y**2) * Rad/(rad**2 * (Rad + z)) + (y**2 * z)/(Rad * rad**2) ))\n",
    "    delta_sigma_yy = ( (y**2 * z)/(Rad**3) - (1 - 2*nu)/3 * ( (x**2 - y**2) * Rad/(rad**2 * (Rad + z)) + (x**2 * z)/(Rad * rad**2) ))\n",
    "    delta_sigma_zz = z**3/Rad**3\n",
    "    delta_sigma_xy = ( (x * y * z)/(Rad**3) - (1 - 2*nu)/3 * (x * y * (2 * Rad + z))/(Rad * (Rad + z)**2) )\n",
    "    delta_sigma_yz = (y * z**2)/(Rad**3)\n",
    "    delta_sigma_xz = (x * z**2)/(Rad**3)\n",
    "    return delta_sigma_xx, delta_sigma_yy, delta_sigma_zz, delta_sigma_xy, delta_sigma_yz, delta_sigma_xz"
   ]
  },
  {
   "cell_type": "code",
   "execution_count": 7,
   "metadata": {},
   "outputs": [],
   "source": [
    "def plot_szz_Boussinesq():\n",
    "    z = np.array([1,2,5,10]) # m\n",
    "    F = 100 # kN\n",
    "    y = 0. # nur in x-z Ebene (bzw. radial)\n",
    "    x = np.linspace(-10,10,1000)\n",
    "\n",
    "    fig, ax = plt.subplots(figsize=(12,6))\n",
    "    for i in z:\n",
    "        ax.plot(x,delta_sigma_point_Boussinesq(x,y,i,F,0.3)[2],label=\"$z = %i$ m\" %i)\n",
    "\n",
    "    ax.legend()\n",
    "    ax.set_xlabel('$x$ / m')\n",
    "    ax.set_ylabel('$\\\\Delta \\\\sigma_{zz}$ / kPa')\n",
    "    fig.tight_layout();"
   ]
  },
  {
   "cell_type": "code",
   "execution_count": 8,
   "metadata": {},
   "outputs": [],
   "source": [
    "def plot_szz_Boussinesq_depth():\n",
    "    z = np.array([0.5,1,2,3,5]) # m\n",
    "    y = 0. # nur in x-z Ebene (bzw. radial)\n",
    "    x = np.linspace(-10,10,1000)\n",
    "\n",
    "    fig, ax = plt.subplots(figsize=(12,6))\n",
    "    for i in z:\n",
    "        ax.plot(x,-delta_sigma_point_Boussinesq_dl(x,y,i,0.3)[2]/R(x,y,i)**2-i,label=\"$z = %i$ m\" %i)\n",
    "        ax.axhline(-i,ls=':',color='black')\n",
    "\n",
    "    #ax.axhline(0,ls='')\n",
    "    ax.legend()\n",
    "    ax.set_xlabel('$x$ / m')\n",
    "    ax.set_ylabel('$\\\\Delta \\\\sigma_{zz}$ / $[(3F)/(2 \\\\pi)]$; $z$ / m')\n",
    "    ax.set_yticks([-1,-2,-3,-4,-5])\n",
    "    ax.set_yticklabels([1,2,3,4,5])\n",
    "    #ax.spines['bottom'].set_position(('data', 0))\n",
    "    #ax.xaxis.set_label_position('top') \n",
    "    #ax.xaxis.tick_top()\n",
    "    fig.tight_layout();"
   ]
  },
  {
   "cell_type": "code",
   "execution_count": 9,
   "metadata": {},
   "outputs": [],
   "source": [
    "def plot_all_Boussinesq(nu):\n",
    "    z = 1\n",
    "    F = 100 # kN\n",
    "    y = 0. # nur in x-z Ebene (bzw. radial)\n",
    "    x = np.linspace(-5,5,1000)\n",
    "\n",
    "    fig, ax = plt.subplots(figsize=(12,6))\n",
    "    ax.plot(x,delta_sigma_point_Boussinesq(x,y,z,F,nu)[0],label=\"$\\\\Delta \\\\sigma_{xx}$\")\n",
    "    ax.plot(x,delta_sigma_point_Boussinesq(x,y,z,F,nu)[1],label=\"$\\\\Delta \\\\sigma_{yy}$\")\n",
    "    ax.plot(x,delta_sigma_point_Boussinesq(x,y,z,F,nu)[2],label=\"$\\\\Delta \\\\sigma_{zz}$\")\n",
    "    ax.plot(x,delta_sigma_point_Boussinesq(x,y,z,F,nu)[3],label=\"$\\\\Delta \\\\sigma_{xy}$\",ls='--')\n",
    "    ax.plot(x,delta_sigma_point_Boussinesq(x,y,z,F,nu)[4],label=\"$\\\\Delta \\\\sigma_{yz}$\",ls='--')\n",
    "    ax.plot(x,delta_sigma_point_Boussinesq(x,y,z,F,nu)[5],label=\"$\\\\Delta \\\\sigma_{xz}$\",ls='--')\n",
    "\n",
    "    ax.legend()\n",
    "    ax.set_xlabel('$x$ / m')\n",
    "    ax.set_ylabel('$\\\\Delta \\\\sigma_{ij}$ / kPa')\n",
    "    ax.spines['bottom'].set_position(('data', 0))\n",
    "    fig.tight_layout();"
   ]
  },
  {
   "cell_type": "code",
   "execution_count": 13,
   "metadata": {},
   "outputs": [],
   "source": [
    "def plot_isobars_zz_Boussinesq(nu=0.3):\n",
    "    fig, ax = plt.subplots(figsize=(12,12))\n",
    "    xs = np.linspace(-5,5,500)\n",
    "    zs = np.linspace(0,5,250)\n",
    "    sigmas = np.zeros((len(xs),len(zs)))\n",
    "    for i,x in enumerate(xs):\n",
    "        for j,z in enumerate(zs):\n",
    "            sigmas[i,j] = delta_sigma_point_Boussinesq(x,0,z,100,nu)[2]\n",
    "    X, Z = np.meshgrid(xs,zs)\n",
    "    cp = plt.contour(X, -Z, sigmas.T,levels=[1,2,4,8,16,32,64,128,256,512])\n",
    "    ax.clabel(cp, inline=True, \n",
    "              fontsize=12)\n",
    "    ax.set_xlabel('$x$ / m')\n",
    "    ax.set_ylabel('$z$ / m')\n",
    "    ax.set_yticks([-1,-2,-3,-4,-5])\n",
    "    ax.set_yticklabels([1,2,3,4,5])\n",
    "    ax.spines['bottom'].set_position(('data', 0))\n",
    "    ax.xaxis.set_label_position('top') \n",
    "    ax.xaxis.tick_top()\n",
    "    ax.set(adjustable='box', aspect='equal')\n",
    "    fig.tight_layout();"
   ]
  },
  {
   "cell_type": "code",
   "execution_count": 14,
   "metadata": {},
   "outputs": [],
   "source": [
    "def calc_principal_stresses(s):\n",
    "    eigenValues, eigenVectors = np.linalg.eig(s)\n",
    "    idx = eigenValues.argsort()[::-1]   \n",
    "    eigenValues = eigenValues[idx]\n",
    "    eigenVectors = eigenVectors[:,idx]\n",
    "    return eigenValues, eigenVectors"
   ]
  },
  {
   "cell_type": "code",
   "execution_count": 15,
   "metadata": {},
   "outputs": [],
   "source": [
    "def vector_to_tensor(vec):\n",
    "    return np.array([[vec[0],vec[3],vec[5]],\n",
    "                    [vec[3],vec[1],vec[4]],\n",
    "                    [vec[5],vec[4],vec[2]]])"
   ]
  },
  {
   "cell_type": "code",
   "execution_count": null,
   "metadata": {},
   "outputs": [],
   "source": [
    "def plot_isobars_principal_Boussinesq(nu=0.3):\n",
    "    fig, ax = plt.subplots(figsize=(18,6),ncols=3)\n",
    "    xs = np.linspace(-5,5,500)\n",
    "    zs = np.linspace(0,5,250)\n",
    "    s1 = np.zeros((len(xs),len(zs)))\n",
    "    s2 = np.zeros((len(xs),len(zs)))\n",
    "    s3 = np.zeros((len(xs),len(zs)))\n",
    "    for i,x in enumerate(xs):\n",
    "        for j,z in enumerate(zs):\n",
    "            sigma_vec = delta_sigma_point_Boussinesq(x,0,z,100,nu)\n",
    "            e_val, e_vec = calc_principal_stresses(vector_to_tensor(sigma_vec))\n",
    "            s1[i,j] = e_val[0]\n",
    "            s2[i,j] = e_val[1]\n",
    "            s3[i,j] = e_val[2]\n",
    "    X, Z = np.meshgrid(xs,zs)\n",
    "    cp1 = ax[0].contour(X, -Z, s1.T,levels=[1,2,4,8,16,32,64,128,256,512])\n",
    "    cp2 = ax[1].contour(X, -Z, s2.T,levels=[-8,-4,-2,-1,-0.2])\n",
    "    cp3 = ax[2].contour(X, -Z, s3.T,levels=[-64,-32,-16,-8,-4,-2,-1,-0.3])\n",
    "    ax[0].clabel(cp1, inline=True, \n",
    "              fontsize=12)\n",
    "    ax[1].clabel(cp2, inline=True, \n",
    "              fontsize=12)\n",
    "    ax[2].clabel(cp3, inline=True, \n",
    "              fontsize=12)\n",
    "    for i in range(3):\n",
    "        ax[i].set_xlabel('$x$ / m')\n",
    "        ax[i].set_ylabel('$z$ / m')\n",
    "        ax[i].set_yticks([-1,-2,-3,-4,-5])\n",
    "        ax[i].set_yticklabels([1,2,3,4,5])\n",
    "        ax[i].spines['bottom'].set_position(('data', 0))\n",
    "        ax[i].xaxis.set_label_position('top') \n",
    "        ax[i].xaxis.tick_top()\n",
    "        ax[i].set(adjustable='box', aspect='equal')\n",
    "    fig.tight_layout();"
   ]
  }
 ],
 "metadata": {
  "kernelspec": {
   "display_name": "Python 3",
   "language": "python",
   "name": "python3"
  },
  "language_info": {
   "codemirror_mode": {
    "name": "ipython",
    "version": 3
   },
   "file_extension": ".py",
   "mimetype": "text/x-python",
   "name": "python",
   "nbconvert_exporter": "python",
   "pygments_lexer": "ipython3",
   "version": "3.8.6"
  }
 },
 "nbformat": 4,
 "nbformat_minor": 4
}
