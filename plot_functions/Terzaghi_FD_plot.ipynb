{
  "cells": [
    {
      "cell_type": "code",
      "execution_count": 1,
      "metadata": {},
      "outputs": [],
      "source": [
        "def initial_pressure(upper_pressure,lower_pressure):\n",
        "    return np.linspace(lower_pressure,upper_pressure,number_of_points)"
      ]
    },
    {
      "cell_type": "code",
      "execution_count": 2,
      "metadata": {},
      "outputs": [],
      "source": [
        "def build_system_matrix(Cv_top,Cv_bottom):\n",
        "    #build system matrix\n",
        "    A = np.diag([-2.]*number_of_points,0) + np.diag([1.]*(number_of_points-1),1) + np.diag([1.]*(number_of_points-1),-1)\n",
        "    #material properties bottom layer\n",
        "    transition_index = int(number_of_points/2)\n",
        "    A[:transition_index,:] *= Cv_bottom * dt/dz**2\n",
        "    #material properties top layer\n",
        "    A[transition_index+1:,:] *= Cv_top * dt/dz**2\n",
        "    #Transition condition (flux continuity)\n",
        "    A[transition_index,transition_index-1] = Cv_bottom\n",
        "    A[transition_index,transition_index+1] = Cv_top\n",
        "    A[transition_index,transition_index] = -(Cv_bottom + Cv_top)\n",
        "    A[transition_index,:] *= dt/dz**2\n",
        "    #add previous time step\n",
        "    A += np.diag([1.] * number_of_points,0)\n",
        "    #upper\n",
        "    A[-1,:] = 0.\n",
        "    #lower\n",
        "    A[0,0] = 1.\n",
        "    return A"
      ]
    },
    {
      "cell_type": "code",
      "execution_count": 3,
      "metadata": {},
      "outputs": [],
      "source": [
        "def run_time_steps(A,sol,T):\n",
        "    for t in T:\n",
        "        #step forward\n",
        "        u = np.dot(A,sol[-1])\n",
        "        #apply bc\n",
        "        u[0] = u[1]\n",
        "        sol = np.append(sol,[u],0)\n",
        "    return sol"
      ]
    },
    {
      "cell_type": "code",
      "execution_count": 4,
      "metadata": {},
      "outputs": [],
      "source": [
        "def find_closest(array,value):\n",
        "    return (np.abs(array - value)).argmin()"
      ]
    },
    {
      "cell_type": "code",
      "execution_count": 6,
      "metadata": {},
      "outputs": [],
      "source": [
        "def run_and_plot_simulation_CF(u_0,Cv_1,Cv_2,figname):\n",
        "    solutions_12 = np.array([u_0])\n",
        "    solutions_21 = np.array([u_0])\n",
        "    solutions_11 = np.array([u_0])\n",
        "    A_12 = build_system_matrix(Cv_1,Cv_2)\n",
        "    A_21 = build_system_matrix(Cv_2,Cv_1)\n",
        "    A_11 = build_system_matrix(Cv_1,Cv_1)\n",
        "\n",
        "    with cf.ProcessPoolExecutor(max_workers=3) as executor:\n",
        "        solutions_12 = executor.submit(run_time_steps, A_12, solutions_12, time)\n",
        "        solutions_21 = executor.submit(run_time_steps, A_21, solutions_21, time)\n",
        "        solutions_11 = executor.submit(run_time_steps, A_11, solutions_11, time)\n",
        "\n",
        "    fig, ax = plt.subplots(ncols=3,figsize=(18,8))\n",
        "    Ts = [0.0,0.01,0.02,0.1,0.2,0.5,0.8,1.0]\n",
        "    for t in Ts:\n",
        "        idx = find_closest(time,t)\n",
        "        ax[0].plot(solutions_11.result()[idx],zeta,label=r'$T_\\mathrm{V} = %.2f$' %time[idx])\n",
        "        ax[1].plot(solutions_12.result()[idx],zeta)\n",
        "        ax[2].plot(solutions_21.result()[idx],zeta)\n",
        "\n",
        "    for i in range(3):\n",
        "        ax[i].set_xlabel(r'$\\Delta u\\ /\\ p_0$')\n",
        "        ax[i].set_ylabel(r'$z\\ /\\ H$')\n",
        "\n",
        "    ax[0].set_title(r'Ton, homogen')\n",
        "    ax[1].set_title(r'Ton auf Schluff')\n",
        "    ax[2].set_title(r'Schluff auf Ton')\n",
        "    fig.legend(ncol=8,loc='upper center')\n",
        "    fig.savefig(figname)"
      ]
    },
    {
      "cell_type": "code",
      "execution_count": null,
      "metadata": {},
      "outputs": [],
      "source": [
        "def run_and_plot_simulation(u_0,Cv_1,Cv_2,figname):\n",
        "    solutions_12 = np.array([u_0])\n",
        "    solutions_21 = np.array([u_0])\n",
        "    solutions_11 = np.array([u_0])\n",
        "    A_12 = build_system_matrix(Cv_1,Cv_2)\n",
        "    A_21 = build_system_matrix(Cv_2,Cv_1)\n",
        "    A_11 = build_system_matrix(Cv_1,Cv_1)\n",
        "    solutions_12 = run_time_steps(A_12, solutions_12, time)\n",
        "    solutions_21 = run_time_steps(A_21, solutions_21, time)\n",
        "    solutions_11 = run_time_steps(A_11, solutions_11, time)\n",
        "\n",
        "    fig, ax = plt.subplots(ncols=3,figsize=(18,8))\n",
        "    Ts = [0.0,0.01,0.02,0.1,0.2,0.5,0.8,1.0]\n",
        "    for t in Ts:\n",
        "        idx = find_closest(time,t)\n",
        "        ax[0].plot(solutions_11[idx],zeta,label=r'$T_\\mathrm{V} = %.2f$' %time[idx])\n",
        "        ax[1].plot(solutions_12[idx],zeta)\n",
        "        ax[2].plot(solutions_21[idx],zeta)\n",
        "\n",
        "    for i in range(3):\n",
        "        ax[i].set_xlabel(r'$\\Delta u\\ /\\ p_0$')\n",
        "        ax[i].set_ylabel(r'$z\\ /\\ H$')\n",
        "\n",
        "    ax[0].set_title(r'Ton, homogen')\n",
        "    ax[1].set_title(r'Ton auf Schluff')\n",
        "    ax[2].set_title(r'Schluff auf Ton')\n",
        "    fig.legend(ncol=8,loc='upper center')\n",
        "    fig.savefig(figname)"
      ]
    }
  ],
  "metadata": {
    "kernelspec": {
      "display_name": "Python 3",
      "language": "python",
      "name": "python3"
    },
    "language_info": {
      "codemirror_mode": {
        "name": "ipython",
        "version": 3
      },
      "file_extension": ".py",
      "mimetype": "text/x-python",
      "name": "python",
      "nbconvert_exporter": "python",
      "pygments_lexer": "ipython3",
      "version": "3.8.6"
    }
  },
  "nbformat": 4,
  "nbformat_minor": 4
}