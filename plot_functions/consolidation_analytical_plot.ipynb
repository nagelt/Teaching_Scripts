{
  "cells": [
    {
      "cell_type": "code",
      "execution_count": 2,
      "metadata": {},
      "outputs": [],
      "source": [
        "def Stroemungsdruck(zeta,T,sum_max=1000):\n",
        "    du = 0.\n",
        "    sign = -1; #Sign factor\n",
        "    for i in range(sum_max):\n",
        "        sign *= -1\n",
        "        aux = (2.*i+1)*np.pi/2\n",
        "        du += sign/aux * np.cos(aux * zeta) * np.exp(-aux*aux*T)\n",
        "    return 2.*du"
      ]
    },
    {
      "cell_type": "code",
      "execution_count": 3,
      "metadata": {},
      "outputs": [],
      "source": [
        "def plot_solution():\n",
        "    zeta = np.linspace(0.,1.,100)\n",
        "    T = np.array([0.001,0.01,0.05,0.1,0.2,0.5,1.,2.])\n",
        "    fig, ax = plt.subplots(ncols=2,figsize=(18,8))\n",
        "    for i in T:\n",
        "        ax[0].plot(Stroemungsdruck(zeta,i),zeta,label=r'$T_\\mathrm{V} = $'+str(i))\n",
        "        ax[1].plot(1-Stroemungsdruck(zeta,i),zeta)\n",
        "    ax[0].set_ylabel(r'$z$ / $H$')\n",
        "    ax[1].set_ylabel(r'$z$ / $H$')\n",
        "    ax[0].set_xlabel(r'$\\Delta u$ / $p_0$')\n",
        "    ax[1].set_xlabel(r\"$\\Delta \\sigma'$ / $p_0$; $\\beta_\\mathrm{F} = 0$\")\n",
        "    fig.legend(loc='upper center',ncol=4);"
      ]
    },
    {
      "cell_type": "code",
      "execution_count": 4,
      "metadata": {},
      "outputs": [],
      "source": [
        "def Verdichtungsgrad(T,sum_max=1000):\n",
        "    U = 1.\n",
        "    for i in range(sum_max):\n",
        "        aux = (2.*i+1)*np.pi/2\n",
        "        aux2 = aux*aux\n",
        "        U -= 2./(aux2) * np.exp(-aux2*T)\n",
        "    return U"
      ]
    },
    {
      "cell_type": "code",
      "execution_count": 5,
      "metadata": {},
      "outputs": [],
      "source": [
        "def plot_verdichtungsgrad():\n",
        "    zeta = np.linspace(0.,1.,100)\n",
        "    times = np.logspace(-3,1,1000)\n",
        "    du_0 = Stroemungsdruck(zeta,0,100000)\n",
        "    du_3 = Stroemungsdruck(zeta,0.3,100000)\n",
        "\n",
        "    fig, ax = plt.subplots(ncols=2,figsize=(18,8))\n",
        "    ax[0].fill_between(du_0,zeta,alpha=0.1,color='blue')\n",
        "    ax[0].fill_between(du_3,zeta,alpha=0.5,color='green')\n",
        "    ax[0].text(0.1,0.2,\"$\\int_0^1 \\Delta \\bar{u}(\\zeta,T_\\mathrm{V})\\,\\mathrm{d}\\zeta$\",size=22,color='green')\n",
        "    ax[0].text(0.4,0.8,\"$U = 1 - \\int_0^1 \\Delta \\bar{u}(\\zeta,T_\\mathrm{V})\\,\\mathrm{d}\\zeta$\",size=22,color='blue')\n",
        "\n",
        "    ax[0].plot(du_0,zeta,label=r'$T_\\mathrm{V} = 0$')\n",
        "    ax[0].plot(du_3,zeta,label=r'$T_\\mathrm{V} = 0.3$')\n",
        "    ax[0].set_ylabel(r'$z$ / $H$')\n",
        "    ax[0].set_xlabel(r'$\\Delta u$ / $p_0$')\n",
        "    ax[0].legend(loc='upper center',bbox_to_anchor=(0.5, 1.2),ncol=4);\n",
        "\n",
        "    ax[1].plot(times,Verdichtungsgrad(times))\n",
        "    ax[1].set_ylabel(r\"$U$\")\n",
        "    ax[1].set_xlabel(r\"$T_\\mathrm{V}$\")\n",
        "    ax[1].set_xscale('log')\n",
        "    ax[1].plot([0.3,0.3,1.e-3],[0,Verdichtungsgrad(0.3),Verdichtungsgrad(0.3)],ls='--',color='black')\n",
        "    ax[1].text(0.01,0.7,\"$U(T_\\mathrm{V} = 0.3) = %.2f$\" %(Verdichtungsgrad(0.3)));"
      ]
    },
    {
      "cell_type": "code",
      "execution_count": 6,
      "metadata": {},
      "outputs": [],
      "source": [
        "def Verdichtungsgrad_approx(T):\n",
        "    U1 = 2./np.sqrt(np.pi) * np.sqrt(T)\n",
        "    U2 = 1. - 8./(np.pi*np.pi) * np.exp(-np.pi*np.pi/4. * T)\n",
        "    return U2 * np.heaviside(U1-0.5,0) + U1 * (1.-np.heaviside(U1-0.5,0))"
      ]
    },
    {
      "cell_type": "code",
      "execution_count": 6,
      "metadata": {},
      "outputs": [],
      "source": [
        "def Verdichtungsgrad_approx_4019(T):\n",
        "    U1 = 2./np.sqrt(np.pi) * np.sqrt(T)\n",
        "    U2 = 1. - 1/2 * np.exp(1/2 - 8/np.pi * T)\n",
        "    return U2 * np.heaviside(T-0.2,0) + U1 * (1.-np.heaviside(T-0.2,0))"
      ]
    },
    {
      "cell_type": "code",
      "execution_count": null,
      "metadata": {},
      "outputs": [],
      "source": [
        "def plot_verdichtungsgrad_approx():\n",
        "    fig, ax = plt.subplots(ncols=2,figsize=(18,8))\n",
        "    times = np.logspace(-3,1,1000)\n",
        "    ax[0].plot(times,Verdichtungsgrad(times),label=r'Summenformel',color='red')\n",
        "    ax[0].plot(times,Verdichtungsgrad_approx(times),label=r'Näherungslösung',ls='--')\n",
        "    ax[0].set_ylabel(r\"$U$\")\n",
        "    ax[0].set_xlabel(r\"$T_\\mathrm{V}$\")\n",
        "    ax[0].set_xscale('log')\n",
        "\n",
        "    ax[1].plot(times[np.where(times < 2)] ,Verdichtungsgrad(times[np.where(times < 2)]),color='red')\n",
        "    ax[1].plot(times[np.where(times < 2)],Verdichtungsgrad_approx(times[np.where(times < 2)]),ls='--')\n",
        "    ax[1].set_ylabel(r\"$U$\")\n",
        "    ax[1].set_xlabel(r\"$T_\\mathrm{V}$\")\n",
        "\n",
        "    fig.legend(loc='upper center',ncol=3);"
      ]
    },
    {
      "cell_type": "code",
      "execution_count": 7,
      "metadata": {},
      "outputs": [],
      "source": [
        "def plot_verdichtungsgrad_approx_mod():\n",
        "    fig, ax = plt.subplots(ncols=2,nrows=2,figsize=(18,16))\n",
        "    times = np.logspace(-3,1,1000)\n",
        "    ax[0][0].plot(times,Verdichtungsgrad(times),label=r'Summenformel',color='red')\n",
        "    ax[0][0].plot(times,Verdichtungsgrad_approx(times),label=r'Näherungslösung',ls='--')\n",
        "    ax[0][0].set_ylabel(r\"$U$\")\n",
        "    ax[0][0].set_xlabel(r\"$T_\\mathrm{V}$\")\n",
        "    ax[0][0].set_xscale('log')\n",
        "\n",
        "    ax[0][1].plot(times[np.where(times < 2)] ,Verdichtungsgrad(times[np.where(times < 2)]),color='red')\n",
        "    ax[0][1].plot(times[np.where(times < 2)],Verdichtungsgrad_approx(times[np.where(times < 2)]),ls='--')\n",
        "    ax[0][1].set_ylabel(r\"$U$\")\n",
        "    ax[0][1].set_xlabel(r\"$T_\\mathrm{V}$\")\n",
        "    \n",
        "    ax[1][0].plot(times,Verdichtungsgrad(times),color='red')\n",
        "    ax[1][0].plot(times,Verdichtungsgrad_approx(times),ls='--')\n",
        "    ax[1][0].set_ylabel(r\"$U$\")\n",
        "    ax[1][0].set_xlabel(r\"$T_\\mathrm{V}$\")\n",
        "    ax[1][0].set_xscale('log')\n",
        "    ax[1][0].set_yscale('log')\n",
        "\n",
        "    ax[1][1].plot(np.sqrt(times[np.where(times < 2)]) ,Verdichtungsgrad(times[np.where(times < 2)]),color='red')\n",
        "    ax[1][1].plot(np.sqrt(times[np.where(times < 2)]),Verdichtungsgrad_approx(times[np.where(times < 2)]),ls='--')\n",
        "    ax[1][1].set_ylabel(r\"$U$\")\n",
        "    ax[1][1].set_xlabel(r\"$\\sqrt{T_\\mathrm{V}}$\")\n",
        "\n",
        "    fig.legend(loc='upper center',ncol=3);"
      ]
    },
    {
      "cell_type": "code",
      "execution_count": 2,
      "metadata": {},
      "outputs": [],
      "source": [
        "def plot_zweiseitig():\n",
        "    zeta = np.linspace(-1,1,200)\n",
        "    T = np.array([0.001,0.01,0.05,0.1,0.2,0.5,1.,2.])\n",
        "    fig, ax = plt.subplots(ncols=2,figsize=(18,8))\n",
        "    for i in T:\n",
        "        ax[0].plot(Stroemungsdruck(zeta,i),zeta,label=r'$T_\\mathrm{V} = $'+str(i))\n",
        "        ax[1].plot(1-Stroemungsdruck(zeta,i),zeta)\n",
        "    ax[0].set_ylabel(r'$z$ / $H$')\n",
        "    ax[1].set_ylabel(r'$z$ / $H$')\n",
        "    ax[0].set_xlabel(r'$\\Delta u$ / $p_0$')\n",
        "    ax[1].set_xlabel(r\"$\\Delta \\sigma'$ / $p_0$; $\\beta_\\mathrm{F} = 0$\")\n",
        "    fig.legend(loc='upper center',ncol=4);"
      ]
    },
    {
      "cell_type": "code",
      "execution_count": 3,
      "metadata": {},
      "outputs": [],
      "source": [
        "def plot_interactive_verdichtungsgrad():\n",
        "    @interact(Tv=widgets.FloatSlider(min=0, max=2, step=0.1, value=0.3,description=r'$T_\\mathrm{V}$')\n",
        "    )\n",
        "    def plot_verdichtungsgrad_var(Tv):\n",
        "        zeta = np.linspace(0.,1.,100)\n",
        "        times = np.logspace(-3,1,1000)\n",
        "        du_0 = Stroemungsdruck(zeta,0,100000)\n",
        "        du_3 = Stroemungsdruck(zeta,Tv,100000)\n",
        "\n",
        "        fig, ax = plt.subplots(ncols=2,figsize=(18,8))\n",
        "        ax[0].fill_between(du_0,zeta,alpha=0.1,color='blue')\n",
        "        ax[0].fill_between(du_3,zeta,alpha=0.5,color='green')\n",
        "        ax[0].text(0.1,0.2,\"$\\int_0^1 \\Delta \\bar{u}(\\zeta,T_\\mathrm{V})\\,\\mathrm{d}\\zeta$\",size=22,color='green')\n",
        "        ax[0].text(0.4,0.8,\"$U = 1 - \\int_0^1 \\Delta \\bar{u}(\\zeta,T_\\mathrm{V})\\,\\mathrm{d}\\zeta$\",size=22,color='blue')\n",
        "\n",
        "        ax[0].plot(du_0,zeta,label=r'$T_\\mathrm{V} = 0$')\n",
        "        ax[0].plot(du_3,zeta,label=r'$T_\\mathrm{V} = %.1f$' %Tv)\n",
        "        ax[0].set_ylabel(r'$z$ / $H$')\n",
        "        ax[0].set_xlabel(r'$\\Delta u$ / $p_0$')\n",
        "        ax[0].legend(loc='upper center',bbox_to_anchor=(0.5, 1.2),ncol=4);\n",
        "\n",
        "        ax[1].plot(times,Verdichtungsgrad(times))\n",
        "        ax[1].set_ylabel(r\"$U$\")\n",
        "        ax[1].set_xlabel(r\"$T_\\mathrm{V}$\")\n",
        "        ax[1].set_xscale('log')\n",
        "        ax[1].plot([Tv,Tv,1.e-3],[0,Verdichtungsgrad(Tv),Verdichtungsgrad(Tv)],ls='--',color='black')\n",
        "        ax[1].text(Tv+0.01,Verdichtungsgrad(Tv),\"$U(T_\\mathrm{V} = %.1f) = %.2f$\" %(Tv,Verdichtungsgrad(Tv)))\n",
        "        fig.tight_layout()\n",
        "        plt.show()"
      ]
    },
    {
      "cell_type": "code",
      "execution_count": null,
      "metadata": {},
      "outputs": [],
      "source": [
        "def plot_verdichtungsgrad_approx2():\n",
        "    fig, ax = plt.subplots(ncols=2,figsize=(18,8))\n",
        "    times = np.logspace(-3,1,1000)\n",
        "    ax[0].plot(times,Verdichtungsgrad(times),label=r'Summenformel',color='red')\n",
        "    ax[0].plot(times,Verdichtungsgrad_approx(times),label=r'Näherungslösung 1',ls='--')\n",
        "    ax[0].plot(times,Verdichtungsgrad_approx_4019(times),label=r'Näherungslösung DIN 4019',ls=':')\n",
        "    ax[0].set_ylabel(r\"$U$\")\n",
        "    ax[0].set_xlabel(r\"$T_\\mathrm{V}$\")\n",
        "    ax[0].set_xscale('log')\n",
        "\n",
        "    ax[1].plot(times[np.where(times < 2)] ,Verdichtungsgrad(times[np.where(times < 2)]),color='red')\n",
        "    ax[1].plot(times[np.where(times < 2)],Verdichtungsgrad_approx(times[np.where(times < 2)]),ls='--')\n",
        "    ax[1].plot(times[np.where(times < 2)],Verdichtungsgrad_approx_4019(times[np.where(times < 2)]),ls=':')\n",
        "    ax[1].set_ylabel(r\"$U$\")\n",
        "    ax[1].set_xlabel(r\"$T_\\mathrm{V}$\")\n",
        "\n",
        "    fig.legend(loc='upper center',ncol=3);"
      ]
    }
  ],
  "metadata": {
    "kernelspec": {
      "display_name": "Python 3 (ipykernel)",
      "language": "python",
      "name": "python3"
    },
    "language_info": {
      "codemirror_mode": {
        "name": "ipython",
        "version": 3
      },
      "file_extension": ".py",
      "mimetype": "text/x-python",
      "name": "python",
      "nbconvert_exporter": "python",
      "pygments_lexer": "ipython3",
      "version": "3.11.6"
    }
  },
  "nbformat": 4,
  "nbformat_minor": 4
}