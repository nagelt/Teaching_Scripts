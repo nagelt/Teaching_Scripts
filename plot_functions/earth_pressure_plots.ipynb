{
 "cells": [
  {
   "cell_type": "code",
   "execution_count": 7,
   "metadata": {},
   "outputs": [],
   "source": [
    "H = 4.\n",
    "c = 10.e3\n",
    "phi = 30.\n",
    "alpha = 10.\n",
    "beta = 10.\n",
    "delta = 5\n",
    "gamma = 16.e3\n",
    "import numpy as np"
   ]
  },
  {
   "cell_type": "code",
   "execution_count": 8,
   "metadata": {},
   "outputs": [],
   "source": [
    "def slip_length(theta):\n",
    "    L = H * (1 + np.tan(alpha) * np.tan(beta))/(np.sin(theta) - np.cos(theta)*np.tan(beta))\n",
    "    return L"
   ]
  },
  {
   "cell_type": "code",
   "execution_count": 9,
   "metadata": {},
   "outputs": [],
   "source": [
    "def area(theta):\n",
    "    L = slip_length(theta)\n",
    "    A = np.array([0,0])\n",
    "    B = np.array([- H * np.tan(alpha), H])\n",
    "    C = np.array([L * np.cos(theta), L*np.sin(theta)])\n",
    "    term1 = (B[0]*C[1] - C[0] * B[1])\n",
    "    term2 = (A[0]*C[1] - C[0] * A[1])\n",
    "    term3 = (A[0]*B[1] - B[0] * A[1])\n",
    "    return np.abs((term1 - term2 + term3))"
   ]
  },
  {
   "cell_type": "code",
   "execution_count": 10,
   "metadata": {},
   "outputs": [],
   "source": [
    "def cohesive_force(theta):\n",
    "    return c * slip_length(theta)"
   ]
  },
  {
   "cell_type": "code",
   "execution_count": 11,
   "metadata": {},
   "outputs": [],
   "source": [
    "def weight(theta):\n",
    "    return gamma*area(theta)"
   ]
  },
  {
   "cell_type": "code",
   "execution_count": 12,
   "metadata": {},
   "outputs": [],
   "source": [
    "def Eact(theta):\n",
    "    term1 = weight(theta) * np.sin(theta-phi) - cohesive_force(theta) * np.cos(phi)\n",
    "    term2 = np.cos(alpha+delta+phi-theta)\n",
    "    return term1/term2"
   ]
  },
  {
   "cell_type": "code",
   "execution_count": 13,
   "metadata": {},
   "outputs": [],
   "source": [
    "def dEa_dtheta(theta,eps=1.e-8):\n",
    "    return (Eact(theta+eps) - Eact(theta-eps))/(2.*eps)"
   ]
  },
  {
   "cell_type": "code",
   "execution_count": 14,
   "metadata": {},
   "outputs": [],
   "source": [
    "def residual(theta):\n",
    "    return dEa_dtheta(theta)"
   ]
  },
  {
   "cell_type": "code",
   "execution_count": 15,
   "metadata": {},
   "outputs": [],
   "source": [
    "def dr_dtheta(theta,eps=1.e-8):\n",
    "    return (residual(theta+eps) - residual(theta-eps))/(2.*eps)"
   ]
  },
  {
   "cell_type": "code",
   "execution_count": 19,
   "metadata": {},
   "outputs": [
    {
     "ename": "NameError",
     "evalue": "name 'np' is not defined",
     "output_type": "error",
     "traceback": [
      "\u001b[0;31m---------------------------------------------------------------------------\u001b[0m",
      "\u001b[0;31mNameError\u001b[0m                                 Traceback (most recent call last)",
      "\u001b[0;32m<ipython-input-19-e3060f24a921>\u001b[0m in \u001b[0;36m<module>\u001b[0;34m\u001b[0m\n\u001b[0;32m----> 1\u001b[0;31m \u001b[0;32mdef\u001b[0m \u001b[0mfind_theta\u001b[0m\u001b[0;34m(\u001b[0m\u001b[0mtheta_0\u001b[0m\u001b[0;34m=\u001b[0m\u001b[0mnp\u001b[0m\u001b[0;34m.\u001b[0m\u001b[0mpi\u001b[0m\u001b[0;34m/\u001b[0m\u001b[0;36m6\u001b[0m\u001b[0;34m,\u001b[0m \u001b[0mtol\u001b[0m\u001b[0;34m=\u001b[0m\u001b[0;36m1.e-5\u001b[0m\u001b[0;34m)\u001b[0m\u001b[0;34m:\u001b[0m\u001b[0;34m\u001b[0m\u001b[0;34m\u001b[0m\u001b[0m\n\u001b[0m\u001b[1;32m      2\u001b[0m     \u001b[0mtheta\u001b[0m \u001b[0;34m=\u001b[0m \u001b[0mtheta_0\u001b[0m\u001b[0;34m\u001b[0m\u001b[0;34m\u001b[0m\u001b[0m\n\u001b[1;32m      3\u001b[0m     \u001b[0miteration_counter\u001b[0m \u001b[0;34m=\u001b[0m \u001b[0;36m0\u001b[0m\u001b[0;34m\u001b[0m\u001b[0;34m\u001b[0m\u001b[0m\n\u001b[1;32m      4\u001b[0m     \u001b[0;32mwhile\u001b[0m \u001b[0;34m(\u001b[0m\u001b[0mnp\u001b[0m\u001b[0;34m.\u001b[0m\u001b[0mabs\u001b[0m\u001b[0;34m(\u001b[0m\u001b[0mresidual\u001b[0m\u001b[0;34m(\u001b[0m\u001b[0mtheta\u001b[0m\u001b[0;34m)\u001b[0m\u001b[0;34m)\u001b[0m \u001b[0;34m>\u001b[0m \u001b[0mtol\u001b[0m \u001b[0;32mand\u001b[0m \u001b[0miteration_counter\u001b[0m \u001b[0;34m<\u001b[0m \u001b[0;36m100\u001b[0m\u001b[0;34m)\u001b[0m\u001b[0;34m:\u001b[0m\u001b[0;34m\u001b[0m\u001b[0;34m\u001b[0m\u001b[0m\n\u001b[1;32m      5\u001b[0m         \u001b[0mtheta\u001b[0m \u001b[0;34m-=\u001b[0m \u001b[0mresidual\u001b[0m\u001b[0;34m(\u001b[0m\u001b[0mtheta\u001b[0m\u001b[0;34m)\u001b[0m \u001b[0;34m/\u001b[0m \u001b[0mdr_dtheta\u001b[0m\u001b[0;34m(\u001b[0m\u001b[0mtheta\u001b[0m\u001b[0;34m)\u001b[0m\u001b[0;34m\u001b[0m\u001b[0;34m\u001b[0m\u001b[0m\n",
      "\u001b[0;31mNameError\u001b[0m: name 'np' is not defined"
     ]
    }
   ],
   "source": [
    "def find_theta(theta_0=np.pi/6, tol=1.e-5):\n",
    "    theta = theta_0\n",
    "    iteration_counter = 0\n",
    "    while (np.abs(residual(theta)) > tol and iteration_counter < 100):\n",
    "        theta -= residual(theta) / dr_dtheta(theta)\n",
    "        iteration_counter += 1\n",
    "    return theta, iteration_counter"
   ]
  },
  {
   "cell_type": "code",
   "execution_count": 17,
   "metadata": {},
   "outputs": [],
   "source": [
    "def theta_ag_norm():\n",
    "    t1 = np.cos(phi - alpha)\n",
    "    t2 = np.sin(phi - alpha) + np.sqrt((np.sin(phi + delta)*np.cos(alpha-beta))/(np.sin(phi-beta)*np.cos(alpha+delta)))\n",
    "    print(\"For the non-cohesive case the norm gives us %.2f °.\" %((phi + np.arctan(t1/t2))*180/np.pi))"
   ]
  },
  {
   "cell_type": "code",
   "execution_count": 18,
   "metadata": {},
   "outputs": [],
   "source": [
    "from ipywidgets import widgets\n",
    "from ipywidgets import interact\n",
    "\n",
    "def plot_interactive_earth_pressure():\n",
    "    @interact(ic=widgets.IntSlider(min=0, max=50, value=10, step=5, description='$c$ / kN m$^{-2}$:'),\n",
    "              iphi = widgets.IntSlider(min=20, max=45, value=30, step=5, description='$\\\\varphi$ / °:'),\n",
    "              igamma=widgets.IntSlider(min=14, max=25, value=18, step=1, description='$\\\\gamma$ / kN m$^{-3}$:'),\n",
    "              iH=widgets.IntSlider(min=2, max=10, value=3, step=1, description='$H$ / m:'),\n",
    "              ialpha = widgets.IntSlider(min=0, max=15, value=5, step=1, description='$\\\\alpha$ / °:'),\n",
    "              ibeta = widgets.IntSlider(min=0, max=15, value=5, step=1, description='$\\\\beta$ / °:'),\n",
    "              idelta = widgets.IntSlider(min=0, max=20, value=10, step=2, description='$\\\\delta_\\\\mathrm{a}$ / °:'),\n",
    "             )\n",
    "    def plot_earth_pressure(ic,iphi,igamma,iH,ialpha,ibeta,idelta):\n",
    "        #unit conversion\n",
    "        global c\n",
    "        global gamma\n",
    "        global phi\n",
    "        global alpha\n",
    "        global beta\n",
    "        global delta\n",
    "        global H\n",
    "\n",
    "        H = iH\n",
    "        c = ic * 1000.\n",
    "        gamma = igamma * 1000.\n",
    "        phi = iphi * np.pi/180.\n",
    "        alpha = ialpha * np.pi/180.\n",
    "        beta = ibeta * np.pi/180.\n",
    "        delta = idelta * np.pi/180.\n",
    "        #Calculation\n",
    "        theta_a, it = find_theta(np.pi/4 + phi/2)\n",
    "\n",
    "        thetas = np.linspace(np.pi/6,np.pi/2*0.9,100)\n",
    "        plt.figure(figsize=(14,8))\n",
    "        plt.plot(thetas*180/np.pi,Eact(thetas)/1e6)\n",
    "        plt.plot(theta_a*180/np.pi,Eact(theta_a)/1e6,marker='d',color='red')\n",
    "        plt.xlabel('$\\\\vartheta$ / °')\n",
    "        plt.ylabel('$E_\\\\mathrm{a}$ / MN m$^{-1}$')\n",
    "        plt.text(theta_a*180/np.pi,Eact(theta_a)/1e6,'$E_\\\\mathrm{a} = %.2f$ MN m$^{-1}$, $\\\\vartheta$ = %.1f °' %(Eact(theta_a)/1e6,theta_a*180/np.pi))\n",
    "        \n",
    "        plt.show();"
   ]
  }
 ],
 "metadata": {
  "kernelspec": {
   "display_name": "Python 3",
   "language": "python",
   "name": "python3"
  },
  "language_info": {
   "codemirror_mode": {
    "name": "ipython",
    "version": 3
   },
   "file_extension": ".py",
   "mimetype": "text/x-python",
   "name": "python",
   "nbconvert_exporter": "python",
   "pygments_lexer": "ipython3",
   "version": "3.8.5"
  }
 },
 "nbformat": 4,
 "nbformat_minor": 4
}
