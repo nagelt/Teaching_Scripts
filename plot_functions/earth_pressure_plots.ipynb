{
 "cells": [
  {
   "cell_type": "code",
   "execution_count": 68,
   "metadata": {},
   "outputs": [],
   "source": [
    "H = 4.\n",
    "c = 10.e3\n",
    "phi = 30.\n",
    "alpha = 10.\n",
    "beta = 10.\n",
    "delta = 5\n",
    "gamma = 16.e3\n",
    "import numpy as np"
   ]
  },
  {
   "cell_type": "code",
   "execution_count": 69,
   "metadata": {},
   "outputs": [],
   "source": [
    "def slip_length(theta):\n",
    "    L = H * (1 + np.tan(alpha) * np.tan(beta))/(np.sin(theta) - np.cos(theta)*np.tan(beta))\n",
    "    return L"
   ]
  },
  {
   "cell_type": "code",
   "execution_count": 70,
   "metadata": {},
   "outputs": [],
   "source": [
    "def area(theta):\n",
    "    L = slip_length(theta)\n",
    "    A = np.array([0,0])\n",
    "    B = np.array([- H * np.tan(alpha), H])\n",
    "    C = np.array([L * np.cos(theta), L*np.sin(theta)])\n",
    "    term1 = (B[0]*C[1] - C[0] * B[1])\n",
    "    term2 = (A[0]*C[1] - C[0] * A[1])\n",
    "    term3 = (A[0]*B[1] - B[0] * A[1])\n",
    "    return np.abs((term1 - term2 + term3))/2."
   ]
  },
  {
   "cell_type": "code",
   "execution_count": 71,
   "metadata": {},
   "outputs": [],
   "source": [
    "def cohesive_force(theta):\n",
    "    return c * slip_length(theta)"
   ]
  },
  {
   "cell_type": "code",
   "execution_count": 72,
   "metadata": {},
   "outputs": [],
   "source": [
    "def weight(theta):\n",
    "    return gamma*area(theta)"
   ]
  },
  {
   "cell_type": "code",
   "execution_count": 73,
   "metadata": {},
   "outputs": [],
   "source": [
    "def Qa(theta):\n",
    "    term1 = weight(theta) * np.cos(alpha+delta) + cohesive_force(theta) * np.sin(alpha+delta-theta)\n",
    "    term2 = np.cos(alpha+delta+phi-theta)\n",
    "    return term1/term2"
   ]
  },
  {
   "cell_type": "code",
   "execution_count": 1,
   "metadata": {},
   "outputs": [],
   "source": [
    "def Qp(theta):\n",
    "    term1 = weight(theta) * np.cos(alpha-delta) + cohesive_force(theta) * np.sin(-alpha+delta+theta)\n",
    "    term2 = np.cos(-alpha+delta+phi+theta)\n",
    "    return term1/term2"
   ]
  },
  {
   "cell_type": "code",
   "execution_count": 74,
   "metadata": {},
   "outputs": [],
   "source": [
    "def Eact(theta):\n",
    "    term1 = weight(theta) * np.sin(theta-phi) - cohesive_force(theta) * np.cos(phi)\n",
    "    term2 = np.cos(alpha+delta+phi-theta)\n",
    "    return term1/term2"
   ]
  },
  {
   "cell_type": "code",
   "execution_count": 74,
   "metadata": {},
   "outputs": [],
   "source": [
    "def Epass(theta):\n",
    "    term1 = weight(theta) * np.sin(theta+phi) + cohesive_force(theta) * np.cos(phi)\n",
    "    term2 = np.cos(-alpha+delta+phi+theta)\n",
    "    return term1/term2"
   ]
  },
  {
   "cell_type": "code",
   "execution_count": 75,
   "metadata": {},
   "outputs": [],
   "source": [
    "def df_dtheta(f,theta,eps=1.e-4):\n",
    "    return (f(theta+eps) - f(theta-eps))/(2.*eps)"
   ]
  },
  {
   "cell_type": "code",
   "execution_count": 76,
   "metadata": {},
   "outputs": [],
   "source": [
    "def residual_a(theta):\n",
    "    return df_dtheta(Eact,theta)"
   ]
  },
  {
   "cell_type": "code",
   "execution_count": 76,
   "metadata": {},
   "outputs": [],
   "source": [
    "def residual_p(theta):\n",
    "    return df_dtheta(Epass,theta)"
   ]
  },
  {
   "cell_type": "code",
   "execution_count": 78,
   "metadata": {},
   "outputs": [],
   "source": [
    "def find_theta_a(theta_0=np.pi/6, tol=1.e-5):\n",
    "    theta = theta_0\n",
    "    iteration_counter = 0\n",
    "    while (np.abs(residual_a(theta)) > tol and iteration_counter < 100):\n",
    "        theta -= residual_a(theta) / df_dtheta(residual_a,theta)\n",
    "        iteration_counter += 1\n",
    "    return theta, iteration_counter"
   ]
  },
  {
   "cell_type": "code",
   "execution_count": 78,
   "metadata": {},
   "outputs": [],
   "source": [
    "def find_theta_p(theta_0=np.pi/6, tol=1.e-5):\n",
    "    theta = theta_0\n",
    "    iteration_counter = 0\n",
    "    while (np.abs(residual_p(theta)) > tol and iteration_counter < 100):\n",
    "        theta -= residual_p(theta) / df_dtheta(residual_p,theta)\n",
    "        iteration_counter += 1\n",
    "    return theta, iteration_counter"
   ]
  },
  {
   "cell_type": "code",
   "execution_count": 1,
   "metadata": {},
   "outputs": [],
   "source": [
    "def theta_ag_norm():\n",
    "    t1 = np.cos(phi - alpha)\n",
    "    t2 = np.sin(phi - alpha) + np.sqrt((np.sin(phi + delta)*np.cos(alpha-beta))/(np.sin(phi-beta)*np.cos(alpha+delta)))\n",
    "    print(\"For the non-cohesive case the norm gives us %.1f °.\" %((phi + np.arctan(t1/t2))*180/np.pi))\n",
    "    return (phi + np.arctan(t1/t2))"
   ]
  },
  {
   "cell_type": "code",
   "execution_count": 80,
   "metadata": {},
   "outputs": [],
   "source": [
    "from ipywidgets import widgets\n",
    "from ipywidgets import interact\n",
    "\n",
    "def plot_interactive_earth_pressure():\n",
    "    @interact(ic=widgets.IntSlider(min=0, max=50, value=10, step=5, description='$c$ / kN m$^{-2}$:'),\n",
    "              iphi = widgets.IntSlider(min=20, max=45, value=30, step=5, description='$\\\\varphi$ / °:'),\n",
    "              igamma=widgets.IntSlider(min=14, max=25, value=18, step=1, description='$\\\\gamma$ / kN m$^{-3}$:'),\n",
    "              iH=widgets.IntSlider(min=1, max=15, value=5, step=1, description='$H$ / m:'),\n",
    "              ialpha = widgets.IntSlider(min=0, max=15, value=5, step=1, description='$\\\\alpha$ / °:'),\n",
    "              ibeta = widgets.IntSlider(min=0, max=15, value=5, step=1, description='$\\\\beta$ / °:'),\n",
    "              idelta = widgets.IntSlider(min=0, max=20, value=10, step=2, description='$\\\\delta_\\\\mathrm{a}$ / °:'),\n",
    "             )\n",
    "    def plot_earth_pressure(ic,iphi,igamma,iH,ialpha,ibeta,idelta):\n",
    "        #unit conversion\n",
    "        global c\n",
    "        global gamma\n",
    "        global phi\n",
    "        global alpha\n",
    "        global beta\n",
    "        global delta\n",
    "        global H\n",
    "\n",
    "        H = iH\n",
    "        c = ic * 1000.\n",
    "        gamma = igamma * 1000.\n",
    "        phi = iphi * np.pi/180.\n",
    "        alpha = ialpha * np.pi/180.\n",
    "        beta = ibeta * np.pi/180.\n",
    "        delta = idelta * np.pi/180.\n",
    "        #Calculation\n",
    "        theta_a, it = find_theta_a(theta_ag_norm())\n",
    "\n",
    "        thetas = np.linspace(np.pi/6,np.pi/2*0.9,100)\n",
    "        fig, ax = plt.subplots(ncols=2,figsize=(16,8))\n",
    "        ax[1].plot(thetas*180/np.pi,Eact(thetas)/1e3)\n",
    "        ax[1].plot(theta_a*180/np.pi,Eact(theta_a)/1e3,marker='d',color='red')\n",
    "        ax[1].set_xlabel('$\\\\vartheta$ / °')\n",
    "        ax[1].set_ylabel('$E_\\\\mathrm{a}$ / kN m$^{-1}$')\n",
    "        ax[1].text(theta_a*180/np.pi,Eact(theta_a)/1e3,'$E_\\\\mathrm{a} = %.2f$ kN m$^{-1}$, $\\\\vartheta$ = %.1f °' \n",
    "                   %(Eact(theta_a)/1e3,theta_a*180/np.pi))\n",
    "        \n",
    "        ax[0].set_aspect('equal')\n",
    "        ax[0].axis('off')\n",
    "        ##Schnittebene\n",
    "        #ax[0].plot([0,A_x],[0,A_y],ls='-',color='green',lw=3)\n",
    "        #ax[0].annotate(\"$A_\\\\beta$\", xy=(A_x*1.01,A_y*1.01),color='green')\n",
    "        #Reaktionskraft\n",
    "\n",
    "        G = weight(theta_a)\n",
    "        scale = 1./np.abs(G)\n",
    "        offset = 0.5\n",
    "        G *= scale\n",
    "        C = c * slip_length(theta_a) * scale\n",
    "        Q = Qa(theta_a) * scale\n",
    "        \n",
    "        ax[0].annotate(\"\", xy=(offset+0, 0), xytext=(offset+0,G),\n",
    "                       arrowprops=dict(arrowstyle=\"-|>\",lw=3,color='green'),color='green',xycoords='axes fraction')\n",
    "        ax[0].annotate(\" $\\\\vec{G}$ \", xy=(offset+0,G/2),color='green',xycoords='axes fraction')\n",
    "        \n",
    "        ax[0].annotate(\"\", xy=(offset+C*np.cos(theta_a), C*np.sin(theta_a)), xytext=(offset+0,0),\n",
    "                       arrowprops=dict(arrowstyle=\"-|>\",lw=3,color='blue'),color='blue',xycoords='axes fraction')\n",
    "        ax[0].annotate(\" $\\\\vec{C}$ \", xy=(offset+C*np.cos(theta_a)/2, C*np.sin(theta_a)/2),color='blue',xycoords='axes fraction')\n",
    "        \n",
    "        ax[0].annotate(\"\", xy=(offset+C*np.cos(theta_a)-Q*np.sin(theta_a-phi), C*np.sin(theta_a)+Q*np.cos(theta_a-phi)),\n",
    "                       xytext=(offset+C*np.cos(theta_a), C*np.sin(theta_a)), \n",
    "                       arrowprops=dict(arrowstyle=\"-|>\",lw=3,color='lightblue'),color='lightblue',xycoords='axes fraction')\n",
    "        ax[0].annotate(\" $\\\\vec{Q}$ \", xy=(offset+C*np.cos(theta_a), C*np.sin(theta_a)),color='lightblue',xycoords='axes fraction')\n",
    "        \n",
    "        ax[0].annotate(\"\",xy=(offset+C*np.cos(theta_a)-Q*np.sin(theta_a-phi)+Eact(theta_a)*scale*np.cos(alpha+delta),\n",
    "                              C*np.sin(theta_a)+Q*np.cos(theta_a-phi)+Eact(theta_a)*scale*np.sin(alpha+delta)),\n",
    "                       xytext=(offset+C*np.cos(theta_a)-Q*np.sin(theta_a-phi), C*np.sin(theta_a)+Q*np.cos(theta_a-phi)),\n",
    "                       arrowprops=dict(arrowstyle=\"-|>\",lw=3,color='red'),color='red',xycoords='axes fraction')\n",
    "        ax[0].annotate(\"$\\\\vec{E}_\\\\mathrm{a}$ \", xy=(offset+C*np.cos(theta_a)-Q*np.sin(theta_a-phi)+Eact(theta_a)*scale*np.cos(alpha+delta)/2,\n",
    "                              C*np.sin(theta_a)+Q*np.cos(theta_a-phi)+Eact(theta_a)*scale*np.sin(alpha+delta)/2),color='red',xycoords='axes fraction')\n",
    "        \n",
    "        #fig.tight_layout()\n",
    "        plt.show();"
   ]
  },
  {
   "cell_type": "code",
   "execution_count": null,
   "metadata": {},
   "outputs": [],
   "source": [
    "from ipywidgets import widgets\n",
    "from ipywidgets import interact\n",
    "\n",
    "def plot_interactive_earth_pressure_passive():\n",
    "    @interact(ic=widgets.IntSlider(min=0, max=50, value=10, step=5, description='$c$ / kN m$^{-2}$:'),\n",
    "              iphi = widgets.IntSlider(min=20, max=45, value=30, step=5, description='$\\\\varphi$ / °:'),\n",
    "              igamma=widgets.IntSlider(min=14, max=25, value=18, step=1, description='$\\\\gamma$ / kN m$^{-3}$:'),\n",
    "              iH=widgets.IntSlider(min=1, max=15, value=5, step=1, description='$H$ / m:'),\n",
    "              ialpha = widgets.IntSlider(min=0, max=15, value=5, step=1, description='$\\\\alpha$ / °:'),\n",
    "              ibeta = widgets.IntSlider(min=0, max=15, value=5, step=1, description='$\\\\beta$ / °:'),\n",
    "              idelta = widgets.IntSlider(min=0, max=20, value=10, step=2, description='$\\\\delta_\\\\mathrm{p}$ / °:'),\n",
    "             )\n",
    "    def plot_earth_pressure(ic,iphi,igamma,iH,ialpha,ibeta,idelta):\n",
    "        #unit conversion\n",
    "        global c\n",
    "        global gamma\n",
    "        global phi\n",
    "        global alpha\n",
    "        global beta\n",
    "        global delta\n",
    "        global H\n",
    "\n",
    "        H = iH\n",
    "        c = ic * 1000.\n",
    "        gamma = igamma * 1000.\n",
    "        phi = iphi * np.pi/180.\n",
    "        alpha = ialpha * np.pi/180.\n",
    "        beta = ibeta * np.pi/180.\n",
    "        delta = idelta * np.pi/180.\n",
    "        #Calculation\n",
    "        theta_p, it = find_theta_p(np.pi/4-np.deg2rad(phi)/2)\n",
    "\n",
    "        thetas = np.linspace(np.pi/10,np.pi/4,100)\n",
    "        fig, ax = plt.subplots(ncols=2,figsize=(16,8))\n",
    "        ax[1].plot(thetas*180/np.pi,Epass(thetas)/1e3)\n",
    "        ax[1].plot(theta_p*180/np.pi,Epass(theta_p)/1e3,marker='d',color='red')\n",
    "        ax[1].set_xlabel('$\\\\vartheta$ / °')\n",
    "        ax[1].set_ylabel('$E_\\\\mathrm{p}$ / kN m$^{-1}$')\n",
    "        ax[1].text(theta_p*180/np.pi,Epass(theta_p)/1e3,'$E_\\\\mathrm{p} = %.2f$ kN m$^{-1}$, $\\\\vartheta$ = %.1f °' \n",
    "                   %(Epass(theta_p)/1e3,theta_p*180/np.pi))\n",
    "        \n",
    "        ax[0].set_aspect('equal')\n",
    "        ax[0].axis('off')\n",
    "        ##Schnittebene\n",
    "        #ax[0].plot([0,A_x],[0,A_y],ls='-',color='green',lw=3)\n",
    "        #ax[0].annotate(\"$A_\\\\beta$\", xy=(A_x*1.01,A_y*1.01),color='green')\n",
    "        #Reaktionskraft\n",
    "\n",
    "        Q = Qp(theta_p)\n",
    "        scale = 1./np.abs(Q)\n",
    "        Q *= scale\n",
    "        offset = 0.5\n",
    "        G = weight(theta_p) * scale\n",
    "        C = -c * slip_length(theta_p) * scale\n",
    "        \n",
    "        ax[0].annotate(\"\", xy=(offset+0, 0), xytext=(offset+0,G),\n",
    "                       arrowprops=dict(arrowstyle=\"-|>\",lw=3,color='green'),color='green',xycoords='axes fraction')\n",
    "        ax[0].annotate(\" $\\\\vec{G}$ \", xy=(offset+0,G/2),color='green',xycoords='axes fraction')\n",
    "        \n",
    "        ax[0].annotate(\"\", xy=(offset+C*np.cos(theta_p), C*np.sin(theta_p)), xytext=(offset+0,0),\n",
    "                       arrowprops=dict(arrowstyle=\"-|>\",lw=3,color='blue'),color='blue',xycoords='axes fraction')\n",
    "        ax[0].annotate(\" $\\\\vec{C}$ \", xy=(offset+C*np.cos(theta_p)/2, C*np.sin(theta_p)/2),color='blue',xycoords='axes fraction')\n",
    "        \n",
    "        ax[0].annotate(\"\", xy=(offset+C*np.cos(theta_p)-Q*np.sin(theta_p+phi), C*np.sin(theta_p)+Q*np.cos(theta_p+phi)),\n",
    "                       xytext=(offset+C*np.cos(theta_p), C*np.sin(theta_p)), \n",
    "                       arrowprops=dict(arrowstyle=\"-|>\",lw=3,color='lightblue'),color='lightblue',xycoords='axes fraction')\n",
    "        ax[0].annotate(\" $\\\\vec{Q}$ \", xy=(offset+C*np.cos(theta_p)-Q*np.sin(theta_p+phi)/2, C*np.sin(theta_p)+Q*np.cos(theta_p+phi)/2),color='lightblue',xycoords='axes fraction')\n",
    "        \n",
    "        ax[0].annotate(\"\",xy=(offset+C*np.cos(theta_p)-Q*np.sin(theta_p+phi)+Epass(theta_p)*scale*np.cos(alpha-delta),\n",
    "                              C*np.sin(theta_p)+Q*np.cos(theta_p+phi)+Epass(theta_p)*scale*np.sin(alpha-delta)),\n",
    "                       xytext=(offset+C*np.cos(theta_p)-Q*np.sin(theta_p+phi), C*np.sin(theta_p)+Q*np.cos(theta_p+phi)),\n",
    "                       arrowprops=dict(arrowstyle=\"-|>\",lw=3,color='red'),color='red',xycoords='axes fraction')\n",
    "        ax[0].annotate(\"$\\\\vec{E}_\\\\mathrm{p}$ \", xy=(offset+C*np.cos(theta_p)-Q*np.sin(theta_p+phi)+Epass(theta_p)*scale*np.cos(alpha-delta)/2,\n",
    "                              C*np.sin(theta_p)+Q*np.cos(theta_p+phi)+Epass(theta_p)*scale*np.sin(alpha-delta)/2),color='red',xycoords='axes fraction')\n",
    "        \n",
    "        #fig.tight_layout()\n",
    "        plt.show();"
   ]
  }
 ],
 "metadata": {
  "kernelspec": {
   "display_name": "Python 3 (ipykernel)",
   "language": "python",
   "name": "python3"
  },
  "language_info": {
   "codemirror_mode": {
    "name": "ipython",
    "version": 3
   },
   "file_extension": ".py",
   "mimetype": "text/x-python",
   "name": "python",
   "nbconvert_exporter": "python",
   "pygments_lexer": "ipython3",
   "version": "3.9.7"
  }
 },
 "nbformat": 4,
 "nbformat_minor": 4
}
