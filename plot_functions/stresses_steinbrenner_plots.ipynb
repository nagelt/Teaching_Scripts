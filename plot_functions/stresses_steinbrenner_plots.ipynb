{
 "cells": [
  {
   "cell_type": "code",
   "execution_count": 2,
   "metadata": {},
   "outputs": [],
   "source": [
    "def sigma_z_rectangle(x,y,z,s0,a,b):\n",
    "    xi = np.array([-a/2,-a/2,a/2,a/2])\n",
    "    yi = np.array([-b/2,b/2,b/2,-b/2])\n",
    "    Ri = np.sqrt( (x+xi)**2 + (y+yi)**2 + z**2 )\n",
    "    \n",
    "    term1i = ( 1/((x+xi)**2 + z**2) + 1/((y+yi)**2 + z**2) ) * ( (x+xi)*(y+yi)*z ) / Ri\n",
    "    term2i = np.arctan( ( (x+xi)*(y+yi) ) / (Ri * z) )\n",
    "    signi = np.array([(-1)**i for i in range(0,4)])\n",
    "    \n",
    "    sigmai = signi*(term1i + term2i)\n",
    "    return s0/(2 * np.pi) * sigmai.sum()"
   ]
  },
  {
   "cell_type": "code",
   "execution_count": 2,
   "metadata": {},
   "outputs": [],
   "source": [
    "def plot_isobars_zz():\n",
    "    a = 1\n",
    "    b = 0.4\n",
    "    fig, ax = plt.subplots(ncols=2,figsize=(24,10))\n",
    "    xs = np.linspace(-1.2*a,1.2*a,200)\n",
    "    zs = np.linspace(0.001,2*a,100)\n",
    "    sigmas = np.zeros((len(xs),len(zs)))\n",
    "    for i,x in enumerate(xs):\n",
    "        for j,z in enumerate(zs):\n",
    "            sigmas[i,j] = sigma_z_rectangle(x,0.0,z,1,a,b)\n",
    "    X, Z = np.meshgrid(xs,zs)\n",
    "    cp = ax[0].contour(X, -Z, sigmas.T,levels=10)\n",
    "    ax[0].clabel(cp, inline=True, \n",
    "              fontsize=12)\n",
    "    ax[0].plot([-a/2,a/2],[0,0],lw=10,color='black')\n",
    "    ax[0].set_xlabel('$x$ / $a$')\n",
    "    ax[0].set_ylabel('$z$ / $a$')\n",
    "    ax[0].set_yticks([0,-1,-2])\n",
    "    ax[0].set_yticklabels([0,1,2])\n",
    "    ax[0].set(adjustable='box', aspect='equal')\n",
    "    #\n",
    "    ys = np.linspace(-1.2*a,1.2*a,200)\n",
    "    zs = np.linspace(0.001,2*a,100)\n",
    "    sigmas = np.zeros((len(ys),len(zs)))\n",
    "    for i,y in enumerate(ys):\n",
    "        for j,z in enumerate(zs):\n",
    "            sigmas[i,j] = sigma_z_rectangle(0.0,y,z,1,a,b)\n",
    "    Y, Z = np.meshgrid(ys,zs)\n",
    "    cp = ax[1].contour(Y, -Z, sigmas.T,levels=10)\n",
    "    ax[1].clabel(cp, inline=True, \n",
    "              fontsize=12)\n",
    "    ax[1].plot([-b/2,b/2],[0,0],lw=10,color='black')\n",
    "    ax[1].set_xlabel('$y$ / $a$')\n",
    "    ax[1].set_ylabel('$z$ / $a$')\n",
    "    ax[1].set_yticks([0,-1,-2])\n",
    "    ax[1].set_yticklabels([0,1,2])\n",
    "    ax[1].set(adjustable='box', aspect='equal')\n",
    "    fig.tight_layout();"
   ]
  },
  {
   "cell_type": "code",
   "execution_count": 2,
   "metadata": {},
   "outputs": [],
   "source": [
    "def i_Rechteck(z,a,b):\n",
    "    R = np.sqrt(a**2 + b**2 + z**2)\n",
    "    term1 = b*z/(b**2+z**2) * a*(R**2 + z**2)/((a**2+z**2)*R)\n",
    "    term2 = np.arctan( b/z * (a*(a**2+b**2) - 2*a*z * (R-z))/((a**2+b**2)*(R-z) - z*(R-z)**2) )\n",
    "    return (term1+term2)/(2*np.pi)"
   ]
  },
  {
   "cell_type": "code",
   "execution_count": 1,
   "metadata": {},
   "outputs": [],
   "source": [
    "from ipywidgets import widgets\n",
    "from ipywidgets import interact\n",
    "def interactive_i_rechteck():\n",
    "    @interact(#c=widgets.BoundedFloatText(value=0.3,min=0, description='$c$ / MPa'),\n",
    "               z_to_b=widgets.BoundedFloatText(value=1, min=0.01, max=20., description='$z/b$'),\n",
    "               a_to_b=widgets.BoundedFloatText(value=2, min=1, max=10., description='$a/b$')\n",
    "    )\n",
    "    def plot_MC_states(z_to_b,a_to_b):\n",
    "        plt.rcParams['axes.spines.right'] = True\n",
    "        fig, ax = plt.subplots(figsize=(10,10))\n",
    "        sns.set_palette(\"Paired\",n_colors=5)\n",
    "        ax2 = ax.twinx()\n",
    "        z1 = np.linspace(0.001,20,100)\n",
    "        z2 = np.linspace(0.001,2,100)\n",
    "        for a in [1,2,3,5,10]:\n",
    "            ax.plot(i_Rechteck(z1,a,1),-z1,label='%.1f' %a)\n",
    "            ax2.plot(i_Rechteck(z2,a,1),-z2)\n",
    "        \n",
    "        i = i_Rechteck(z_to_b,a_to_b,1)\n",
    "        ax.set_xlim(0,0.25)\n",
    "        ax.set_ylim(top=0.)\n",
    "        ax2.set_ylim(top=0.)\n",
    "        ax.grid(which='both')\n",
    "        #ax.set_xticks([0.001,0.002,0.0063,0.02,0.063,0.2,0.63,2.0,6.3,20,63])\n",
    "        #ax.set_xticklabels([0.001,0.002,0.0063,0.02,0.063,0.2,0.63,2.0,6.3,20,63])\n",
    "        if (z_to_b < 2):\n",
    "            ax2.plot(i_Rechteck(z2,a_to_b,1),-z2,label='%.1f' %a_to_b,color='black',ls='--')\n",
    "            ax2.plot([0.25,i,i],[-z_to_b,-z_to_b,0],color='black',ls=':')\n",
    "            ax2.plot(i,-z_to_b,marker='o',color='red')\n",
    "        else: \n",
    "            ax.plot(i_Rechteck(z1,a_to_b,1),-z1,label='%.1f' %a_to_b,color='black',ls='--')\n",
    "            ax.plot([0,i,i],[-z_to_b,-z_to_b,0],color='black',ls=':')\n",
    "            ax.plot(i,-z_to_b,marker='o',color='red')\n",
    "        fig.legend(loc='upper center',ncol=3)\n",
    "        plt.show();"
   ]
  },
  {
   "cell_type": "code",
   "execution_count": null,
   "metadata": {},
   "outputs": [],
   "source": []
  }
 ],
 "metadata": {
  "kernelspec": {
   "display_name": "Python 3",
   "language": "python",
   "name": "python3"
  },
  "language_info": {
   "codemirror_mode": {
    "name": "ipython",
    "version": 3
   },
   "file_extension": ".py",
   "mimetype": "text/x-python",
   "name": "python",
   "nbconvert_exporter": "python",
   "pygments_lexer": "ipython3",
   "version": "3.8.6"
  }
 },
 "nbformat": 4,
 "nbformat_minor": 4
}
