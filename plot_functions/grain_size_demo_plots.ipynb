{
 "cells": [
  {
   "cell_type": "code",
   "execution_count": 1,
   "metadata": {},
   "outputs": [],
   "source": [
    "def plot_characteristics(d_Korn):\n",
    "    plt.rcParams['figure.figsize'] = (18, 6)\n",
    "    fig,ax = plt.subplots(ncols=3)\n",
    "    \n",
    "    #Fläche Tennisplatz:\n",
    "    A_TP = 11.89*2*10.97 #m²\n",
    "    \n",
    "    d_range = np.logspace(-7,-2,1000)#100nm bis 1cm\n",
    "    d_range2 = np.logspace(-7,-6,1000)\n",
    "    \n",
    "    ax[0].plot(d_range*1.e3,Kornzahl(d_range))\n",
    "    ax[0].plot(d_Korn*1.e3,Kornzahl(d_Korn),marker='o',color='red')\n",
    "    ax[0].set_xlabel(r'$d_\\mathrm{Korn}$ / mm')\n",
    "    ax[0].set_ylabel(r'Anzahl Körner je kg Boden')\n",
    "    ax[0].set_xscale('log')\n",
    "    ax[0].set_yscale('log')\n",
    "    ax[0].set_xticks([1e-5,1e-3,1e0])\n",
    "    ax[0].set_xticklabels([r'10 nm',r'1 $\\mu$m',r'1 mm'])\n",
    "    \n",
    "    ax[1].plot(d_range*1.e3,Spezifische_Feststoffoberflaeche(d_range)/A_TP)    \n",
    "    ax[1].plot(d_range2*1.e3,Spezifische_Feststoffoberflaeche(d_range2,24)/A_TP)\n",
    "    ax[1].plot(d_range2*1.e3,Spezifische_Feststoffoberflaeche(d_range2,204)/A_TP)\n",
    "    \n",
    "    ax[1].plot(d_Korn*1.e3,Spezifische_Feststoffoberflaeche(d_Korn)/A_TP,marker='o',color='red')\n",
    "    ax[1].text(0.1,10,'$%5.2f$ TP/kg (Q)' %(Spezifische_Feststoffoberflaeche(d_Korn)/A_TP))\n",
    "    if (d_Korn <= np.max(d_range2)):\n",
    "        ax[1].plot(d_Korn*1.e3,Spezifische_Feststoffoberflaeche(d_Korn,24)/A_TP,marker='o',color='red')\n",
    "        ax[1].plot(d_Korn*1.e3,Spezifische_Feststoffoberflaeche(d_Korn,204)/A_TP,marker='o',color='red')\n",
    "        ax[1].text(0.1,100,'$%5.2f$ TP/kg (K,I)' %(Spezifische_Feststoffoberflaeche(d_Korn,24)/A_TP))\n",
    "        ax[1].text(0.1,1000,'$%5.2f$ TP/kg (M)' %(Spezifische_Feststoffoberflaeche(d_Korn,204)/A_TP))\n",
    "    \n",
    "    ax[1].set_xlabel(r'$d_\\mathrm{Korn}$ / mm')\n",
    "    ax[1].set_ylabel(r'$a_\\mathrm{S}$ / Anzahl Tennisplätze je kg Boden')\n",
    "    ax[1].set_xscale('log')\n",
    "    ax[1].set_yscale('log')\n",
    "    \n",
    "    ax[2].plot(d_range*1.e3,Spezifische_Feststoffoberflaeche(d_range)/1000,label=r'Quarz')\n",
    "    ax[2].plot(d_range2*1.e3,Spezifische_Feststoffoberflaeche(d_range2,24)/1000, label=r'Kaolin, Illit')\n",
    "    ax[2].plot(d_range2*1.e3,Spezifische_Feststoffoberflaeche(d_range2,204)/1000, label=r'Montmorillonit')\n",
    "    ax[2].plot(d_Korn*1.e3,Spezifische_Feststoffoberflaeche(d_Korn)/1000,marker='o',color='red')\n",
    "    ax[2].text(0.1,10,'$%.1e$ m$^2$/g (Q)' %(Spezifische_Feststoffoberflaeche(d_Korn)/1000))\n",
    "    if (d_Korn <= np.max(d_range2)):\n",
    "        ax[2].plot(d_Korn*1.e3,Spezifische_Feststoffoberflaeche(d_Korn,24)/1000,marker='o',color='red')\n",
    "        ax[2].plot(d_Korn*1.e3,Spezifische_Feststoffoberflaeche(d_Korn,204)/1000,marker='o',color='red')\n",
    "        ax[2].text(0.1,100,'$%.1e$ m$^2$/g (K,I)' %(Spezifische_Feststoffoberflaeche(d_Korn,24)/1000))\n",
    "        ax[2].text(0.1,1000,'$%.1e$ m$^2$/g (M)' %(Spezifische_Feststoffoberflaeche(d_Korn,204)/1000))\n",
    "    ax[2].set_xlabel(r'$d_\\mathrm{Korn}$ / mm')\n",
    "    ax[2].set_ylabel(r'$a_\\mathrm{S}$ / m$^2$g$^{-1}$')\n",
    "    ax[2].set_xscale('log')\n",
    "    ax[2].set_yscale('log')\n",
    "    fig.tight_layout()\n",
    "    plt.subplots_adjust(top=0.88)"
   ]
  },
  {
   "cell_type": "code",
   "execution_count": null,
   "metadata": {},
   "outputs": [],
   "source": []
  },
  {
   "cell_type": "code",
   "execution_count": null,
   "metadata": {},
   "outputs": [],
   "source": []
  }
 ],
 "metadata": {
  "kernelspec": {
   "display_name": "Python 3 (ipykernel)",
   "language": "python",
   "name": "python3"
  },
  "language_info": {
   "codemirror_mode": {
    "name": "ipython",
    "version": 3
   },
   "file_extension": ".py",
   "mimetype": "text/x-python",
   "name": "python",
   "nbconvert_exporter": "python",
   "pygments_lexer": "ipython3",
   "version": "3.12.4"
  }
 },
 "nbformat": 4,
 "nbformat_minor": 4
}
