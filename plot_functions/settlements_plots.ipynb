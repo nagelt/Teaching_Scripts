{
 "cells": [
  {
   "cell_type": "code",
   "execution_count": 5,
   "metadata": {},
   "outputs": [],
   "source": [
    "def u3D(r,z,E=100e6,nu=0.3,F=100e3):\n",
    "    Rad = np.sqrt(r**2 + z**2)\n",
    "    G = E/(2*(1+nu))\n",
    "    fak = F/(4*np.pi*G*Rad)\n",
    "    return fak * (2*(1-nu) + (z/Rad)**2)"
   ]
  },
  {
   "cell_type": "code",
   "execution_count": 6,
   "metadata": {},
   "outputs": [],
   "source": [
    "def u1D(r,z,E=100e6,nu=0.3,F=100e3):\n",
    "    Rad = np.sqrt(r**2 + z**2)\n",
    "    Es = E*(1-nu)/((1+nu)*(1-2*nu))\n",
    "    fak = F/(2*np.pi*Es*Rad)\n",
    "    return fak * (2 + (z/Rad)**2)"
   ]
  },
  {
   "cell_type": "code",
   "execution_count": null,
   "metadata": {},
   "outputs": [],
   "source": [
    "from ipywidgets import widgets\n",
    "from ipywidgets import interact\n",
    "def interactive_point_settlement():\n",
    "    @interact(#c=widgets.BoundedFloatText(value=0.3,min=0, description='$c$ / MPa'),\n",
    "               E=widgets.BoundedFloatText(value=100, min=1e-3, max=1e3, description='$E$ / MPa'),\n",
    "               F=widgets.BoundedFloatText(value=100, min=1, max=1e4, description='$F_z$ / kN'),\n",
    "               nu=widgets.BoundedFloatText(value=0.3, min=0, max=0.49, description='$\\\\nu$')\n",
    "    )\n",
    "    def plot_MC_states(E,F,nu):\n",
    "        E *= 1e6\n",
    "        F *= 1e3\n",
    "        z = np.array([0.1,0.5,1,2,3,5]) # m\n",
    "        r = np.linspace(0,5,100)\n",
    "        sns.set_palette(\"Paired\",n_colors=12)\n",
    "        fig, ax = plt.subplots(figsize=(18,8),ncols=2)\n",
    "        for i in z:\n",
    "            ax[0].plot(r,-u3D(r,i,E,nu,F)*1e3-i,label=\"$z = %.2f$ m\" %i)\n",
    "            ax[0].plot(r,-u1D(r,i,E,nu,F)*1e3-i,label=\"$z = %.2f$ m\" %i,ls='--')\n",
    "            ax[0].axhline(-i,ls=':',color='black')\n",
    "\n",
    "        ax[0].set_xlabel('$r$ / m')\n",
    "        ax[0].set_ylabel('$u_z$ / mm + $z$ / m')\n",
    "        ax[0].set_yticks([0,-1,-2,-3,-4,-5])\n",
    "        ax[0].set_yticklabels([0,1,2,3,4,5])\n",
    "        ax[0].set_xlim(0,5)\n",
    "        ax[0].spines['bottom'].set_position(('data', 0))\n",
    "        ax[0].xaxis.set_label_position('top') \n",
    "        ax[0].xaxis.tick_top()\n",
    "        #\n",
    "        z = np.linspace(0.1,5,100)\n",
    "        ax[1].plot(z,u3D(0,z,E,nu,F)*1e3,label='3D solution')\n",
    "        ax[1].plot(z,u1D(0,z,E,nu,F)*1e3,label='$\\\\epsilon_{xx}=\\\\epsilon_{yy} = 0$',ls='--')\n",
    "        ax[1].set_xlabel('$z$ / m')\n",
    "        ax[1].set_ylabel('$u_z$ / mm')\n",
    "        ax[1].set_xlim(left=0)\n",
    "        ax[1].set_ylim(bottom=0)\n",
    "        ax[1].legend()\n",
    "        fig.tight_layout();"
   ]
  },
  {
   "cell_type": "code",
   "execution_count": null,
   "metadata": {},
   "outputs": [],
   "source": [
    "def u3D_Rechteck(t,a,b,E=100e6,nu=0.3,s0=100.e3):\n",
    "    Rad = np.sqrt(a**2+b**2+t**2)\n",
    "    fak1 = s0*(1-nu**2)/(np.pi * E)\n",
    "    fak2 = s0*(1-nu-2*nu**2)/(2*np.pi * E)\n",
    "    t1 = a*np.log( (b + np.sqrt(a**2+b**2)) * np.sqrt(a**2+t**2) / (a*(b+Rad)) )\n",
    "    t2 = b*np.log( (a + np.sqrt(a**2+b**2)) * np.sqrt(b**2+t**2) / (b*(a+Rad)) )\n",
    "    t3 = t * np.arctan(a*b/(t*Rad))\n",
    "    return fak1 * (t1 + t2) + fak2 * t3"
   ]
  },
  {
   "cell_type": "code",
   "execution_count": null,
   "metadata": {},
   "outputs": [],
   "source": [
    "def interactive_rect_settlement():\n",
    "    @interact(#c=widgets.BoundedFloatText(value=0.3,min=0, description='$c$ / MPa'),\n",
    "               E=widgets.BoundedFloatText(value=100, min=1e-3, max=1e3, description='$E$ / MPa'),\n",
    "               s0=widgets.BoundedFloatText(value=100, min=1, max=1e4, description='$\\\\sigma_0$ / kPa'),\n",
    "               a=widgets.BoundedFloatText(value=3, min=0.1, max=10, description='$a$ / m'),\n",
    "               b=widgets.BoundedFloatText(value=2, min=0.1, max=10, description='$b$ / m')\n",
    "    )\n",
    "    def plot_MC_states(E,s0,a,b):\n",
    "        E *= 1e6\n",
    "        s0 *=1e3\n",
    "        t = np.linspace(0.1,100,1000) # m\n",
    "        sns.set_palette(\"rocket\")\n",
    "        fig, ax = plt.subplots(figsize=(12,8))\n",
    "        for nu in [0.0,0.1,0.2,0.3,0.4,0.5]:\n",
    "            ax.plot(t,u3D_Rechteck(t,a,b,E,nu,s0)*1e3,label='$\\\\nu = %.1f$' %nu)\n",
    "        ax.set_xlabel('$t$ / m')\n",
    "        ax.set_ylabel('$s$ / mm')\n",
    "        ax.set_xlim(left=0)\n",
    "        ax.set_ylim(bottom=0)\n",
    "        ax.legend()\n",
    "        fig.tight_layout();"
   ]
  }
 ],
 "metadata": {
  "kernelspec": {
   "display_name": "Python 3",
   "language": "python",
   "name": "python3"
  },
  "language_info": {
   "codemirror_mode": {
    "name": "ipython",
    "version": 3
   },
   "file_extension": ".py",
   "mimetype": "text/x-python",
   "name": "python",
   "nbconvert_exporter": "python",
   "pygments_lexer": "ipython3",
   "version": "3.8.6"
  }
 },
 "nbformat": 4,
 "nbformat_minor": 4
}
