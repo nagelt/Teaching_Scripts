{
 "cells": [
  {
   "cell_type": "code",
   "execution_count": 5,
   "metadata": {},
   "outputs": [],
   "source": [
    "def u3D(r,z,E=100e6,nu=0.3,F=100e3):\n",
    "    Rad = np.sqrt(r**2 + z**2)\n",
    "    G = E/(2*(1+nu))\n",
    "    fak = F/(4*np.pi*G*Rad)\n",
    "    return fak * (2*(1-nu) + (z/Rad)**2)"
   ]
  },
  {
   "cell_type": "code",
   "execution_count": 6,
   "metadata": {},
   "outputs": [],
   "source": [
    "def u1D(r,z,E=100e6,nu=0.3,F=100e3):\n",
    "    Rad = np.sqrt(r**2 + z**2)\n",
    "    Es = E*(1-nu)/((1+nu)*(1-2*nu))\n",
    "    fak = F/(2*np.pi*Es*Rad)\n",
    "    return fak * (2 + (z/Rad)**2)"
   ]
  },
  {
   "cell_type": "code",
   "execution_count": null,
   "metadata": {},
   "outputs": [],
   "source": [
    "from ipywidgets import widgets\n",
    "from ipywidgets import interact\n",
    "def interactive_point_settlement():\n",
    "    @interact(#c=widgets.BoundedFloatText(value=0.3,min=0, description='$c$ / MPa'),\n",
    "               E=widgets.BoundedFloatText(value=100, min=1e-3, max=1e3, description='$E$ / MPa'),\n",
    "               F=widgets.BoundedFloatText(value=100, min=1, max=1e4, description='$F_z$ / kN'),\n",
    "               nu=widgets.BoundedFloatText(value=0.3, min=0, max=0.49, description='$\\\\nu$')\n",
    "    )\n",
    "    def plot_MC_states(E,F,nu):\n",
    "        E *= 1e6\n",
    "        F *= 1e3\n",
    "        z = np.array([0.1,0.5,1,2,3,5]) # m\n",
    "        r = np.linspace(0,5,100)\n",
    "        sns.set_palette(\"Paired\",n_colors=12)\n",
    "        fig, ax = plt.subplots(figsize=(18,8),ncols=2)\n",
    "        for i in z:\n",
    "            ax[0].plot(r,-u3D(r,i,E,nu,F)*1e3-i,label=\"$z = %.2f$ m\" %i)\n",
    "            ax[0].plot(r,-u1D(r,i,E,nu,F)*1e3-i,label=\"$z = %.2f$ m\" %i,ls='--')\n",
    "            ax[0].axhline(-i,ls=':',color='black')\n",
    "\n",
    "        ax[0].set_xlabel('$r$ / m')\n",
    "        ax[0].set_ylabel('$u_z$ / mm + $z$ / m')\n",
    "        ax[0].set_yticks([0,-1,-2,-3,-4,-5])\n",
    "        ax[0].set_yticklabels([0,1,2,3,4,5])\n",
    "        ax[0].set_xlim(0,5)\n",
    "        ax[0].spines['bottom'].set_position(('data', 0))\n",
    "        ax[0].xaxis.set_label_position('top') \n",
    "        ax[0].xaxis.tick_top()\n",
    "        #\n",
    "        z = np.linspace(0.1,5,100)\n",
    "        ax[1].plot(z,u3D(0,z,E,nu,F)*1e3,label='3D solution')\n",
    "        ax[1].plot(z,u1D(0,z,E,nu,F)*1e3,label='$\\\\epsilon_{xx}=\\\\epsilon_{yy} = 0$',ls='--')\n",
    "        ax[1].set_xlabel('$z$ / m')\n",
    "        ax[1].set_ylabel('$u_z$ / mm')\n",
    "        ax[1].set_xlim(left=0)\n",
    "        ax[1].set_ylim(bottom=0)\n",
    "        ax[1].legend()\n",
    "        fig.tight_layout();"
   ]
  },
  {
   "cell_type": "code",
   "execution_count": null,
   "metadata": {},
   "outputs": [],
   "source": [
    "def u3D_Rechteck(t,a,b,E=100e6,nu=0.3,s0=100.e3):\n",
    "    Rad = np.sqrt(a**2+b**2+t**2)\n",
    "    fak1 = s0*(1-nu**2)/(np.pi * E)\n",
    "    fak2 = s0*(1-nu-2*nu**2)/(2*np.pi * E)\n",
    "    t1 = a*np.log( (b + np.sqrt(a**2+b**2)) * np.sqrt(a**2+t**2) / (a*(b+Rad)) )\n",
    "    t2 = b*np.log( (a + np.sqrt(a**2+b**2)) * np.sqrt(b**2+t**2) / (b*(a+Rad)) )\n",
    "    t3 = t * np.arctan(a*b/(t*Rad))\n",
    "    return fak1 * (t1 + t2) + fak2 * t3"
   ]
  },
  {
   "cell_type": "code",
   "execution_count": null,
   "metadata": {},
   "outputs": [],
   "source": [
    "def u3D_Kreis(t,R,E,nu,s0):\n",
    "    wrzl = np.sqrt(t**2 + R**2)\n",
    "    t1 = (1-nu**2)*(R+t-wrzl)\n",
    "    t2 = t*(1+nu)/2 * (1-t/wrzl)\n",
    "    return 2*s0/E * (t1-t2)"
   ]
  },
  {
   "cell_type": "code",
   "execution_count": null,
   "metadata": {},
   "outputs": [],
   "source": [
    "def interactive_rect_settlement():\n",
    "    @interact(#c=widgets.BoundedFloatText(value=0.3,min=0, description='$c$ / MPa'),\n",
    "               E=widgets.BoundedFloatText(value=100, min=1e-3, max=1e3, description='$E$ / MPa'),\n",
    "               s0=widgets.BoundedFloatText(value=100, min=1, max=1e4, description='$q$ / kPa'),\n",
    "               a=widgets.BoundedFloatText(value=3, min=0.1, max=10, description='$a$ / m'),\n",
    "               b=widgets.BoundedFloatText(value=2, min=0.1, max=10, description='$b$ / m')\n",
    "    )\n",
    "    def plot_MC_states(E,s0,a,b):\n",
    "        E *= 1e6\n",
    "        s0 *=1e3\n",
    "        t = np.linspace(0.1,100,1000) # m\n",
    "        sns.set_palette(\"rocket\")\n",
    "        fig, ax = plt.subplots(figsize=(12,8))\n",
    "        for nu in [0.0,0.1,0.2,0.3,0.4,0.5]:\n",
    "            ax.plot(t,u3D_Rechteck(t,a,b,E,nu,s0)*1e3,label='$\\\\nu = %.1f$' %nu)\n",
    "        ax.set_xlabel('$t$ / m')\n",
    "        ax.set_ylabel('$s$ / mm')\n",
    "        ax.set_xlim(left=0)\n",
    "        ax.set_ylim(bottom=0)\n",
    "        ax.legend()\n",
    "        fig.tight_layout();"
   ]
  },
  {
   "cell_type": "code",
   "execution_count": 1,
   "metadata": {},
   "outputs": [],
   "source": [
    "def interactive_rect_circ_settlement():\n",
    "    @interact(E=widgets.BoundedFloatText(value=100, min=1e-3, max=1e3, description='$E$ / MPa'),\n",
    "              s0=widgets.BoundedFloatText(value=100, min=1, max=1e4, description='$q$ / kPa'),\n",
    "              a=widgets.BoundedFloatText(value=3, min=0.1, max=10, description='$a$ / m'),\n",
    "              b=widgets.BoundedFloatText(value=2, min=0.1, max=10, description='$b$ / m')\n",
    "    )\n",
    "    def plot_MC_states(E,s0,a,b):\n",
    "        E *= 1e6\n",
    "        s0 *=1e3\n",
    "        R = np.sqrt(a*b/np.pi)\n",
    "        t = np.linspace(0.1,100,1000) # m\n",
    "        colors = sns.color_palette(\"rocket\").as_hex()\n",
    "        fig, ax = plt.subplots(figsize=(12,8))\n",
    "        for i,nu in enumerate([0.15,0.3,0.45]):\n",
    "            uMR = 4*u3D_Rechteck(t,a/2,b/2,E,nu,s0)*1e3\n",
    "            uER = u3D_Rechteck(t,a,b,E,nu,s0)*1e3\n",
    "            uMK = u3D_Kreis(t,R,E,nu,s0)*1e3\n",
    "            ax.plot(t,uMR,label='$\\\\nu = %.1f$' %nu,color=colors[i])\n",
    "            ax.plot(t,uER,color=colors[i],ls=':')\n",
    "            ax.plot(t,uMK,color=colors[i],ls='--')\n",
    "        ax.set_xlabel('$t$ / m')\n",
    "        ax.set_ylabel('$s$ / mm')\n",
    "        ax.plot(0,0,color='black',ls='-',label='Rechteck, Mitte')\n",
    "        ax.plot(0,0,color='black',ls=':',label='Rechteck, Eckpunkt')\n",
    "        ax.plot(0,0,color='black',ls='--',label='Kreis mit R = %.3f m, Mitte' %R)\n",
    "        ax.set_xlim(left=0)\n",
    "        ax.set_ylim(bottom=0)\n",
    "        ax.legend(ncol=2)\n",
    "        fig.tight_layout();"
   ]
  },
  {
   "cell_type": "code",
   "execution_count": null,
   "metadata": {},
   "outputs": [],
   "source": [
    "def i_Rechteck(z,a,b):\n",
    "    R = np.sqrt(a**2 + b**2 + z**2)\n",
    "    term1 = b*z/(b**2+z**2) * a*(R**2 + z**2)/((a**2+z**2)*R)\n",
    "    term2 = np.arctan( b/z * (a*(a**2+b**2) - 2*a*z * (R-z))/((a**2+b**2)*(R-z) - z*(R-z)**2) )\n",
    "    return (term1+term2)/(2*np.pi)"
   ]
  },
  {
   "cell_type": "code",
   "execution_count": null,
   "metadata": {},
   "outputs": [],
   "source": [
    "def u3D_inf(a,b,E=100e6,nu=0.3,s0=100.e3):\n",
    "    fak1 = s0*(1-nu**2)/(np.pi * E)\n",
    "    t1 = a*np.log( (b + np.sqrt(a**2+b**2))/ a )\n",
    "    t2 = b*np.log( (a + np.sqrt(a**2+b**2))/ b )\n",
    "    return fak1 * (t1 + t2)"
   ]
  },
  {
   "cell_type": "code",
   "execution_count": null,
   "metadata": {},
   "outputs": [],
   "source": [
    "import scipy as scp\n",
    "def interactive_grenztiefe():\n",
    "    @interact(a=widgets.BoundedFloatText(value=3, min=0.1, max=10, description='$a$ / m'),\n",
    "              b=widgets.BoundedFloatText(value=2, min=0.1, max=10, description='$b$ / m'),\n",
    "              s0=widgets.BoundedFloatText(value=100, min=1, max=1e4, description='$q$ / kPa'),\n",
    "              teval=widgets.BoundedFloatText(value=10, min=0.1, max=100, description='$t_\\\\mathrm{s}$ / m'),\n",
    "              n=widgets.BoundedFloatText(value=0.3, min=0, max=0.49, description='$\\\\nu$'),\n",
    "              gamma=widgets.BoundedFloatText(value=18, min=16, max=24, description='$\\\\gamma$ / kPa m$^{-1}$')\n",
    "    )\n",
    "    def plot_MC_states(a,b,s0,teval,n,gamma):\n",
    "        t = np.linspace(1,100,1000) # m\n",
    "        sns.set_palette(\"tab10\")\n",
    "        fig, ax = plt.subplots(figsize=(12,8))\n",
    "        s_ratio = lambda ts: u3D_Rechteck(ts,a,b,s0=s0,nu=n)/u3D_inf(a,b,s0=s0,nu=n)*100\n",
    "        sig_ratio = lambda ts: i_Rechteck(ts,a,b)*s0 / (gamma * ts) *100\n",
    "        ax.plot(t,s_ratio(t),label='settlement ratio')\n",
    "        ax.plot(t,sig_ratio(t),label='stress ratio')\n",
    "        ax.plot(teval,s_ratio(teval),marker='o',color='red')\n",
    "        ax.plot(teval,sig_ratio(teval),marker='o',color='red')\n",
    "        ax.plot([teval,teval],[0,np.maximum(s_ratio(teval),s_ratio(teval))],ls='--',color='black')\n",
    "        ax.plot([teval,0],[s_ratio(teval),s_ratio(teval)],ls='--',color='black')\n",
    "        ax.plot([teval,0],[sig_ratio(teval),sig_ratio(teval)],ls='--',color='black')\n",
    "        ax.text(teval,s_ratio(teval)+5,\"%.1f\" %s_ratio(teval))\n",
    "        ax.text(teval,sig_ratio(teval)+5,\"%.1f\" %sig_ratio(teval))\n",
    "        limit_f = lambda z: u3D_Rechteck(z,a,b,nu=n)/u3D_inf(a,b,nu=n) - 0.95\n",
    "        res = scp.optimize.root(fun=limit_f,x0=10)\n",
    "        ax.set_xlabel('$t$ / m')\n",
    "        ax.set_ylabel('ratio / %')\n",
    "        ax.set_xlim(left=0,right=res.x)\n",
    "        ax.set_ylim(bottom=0)\n",
    "        ax.legend()\n",
    "        fig.tight_layout();"
   ]
  }
 ],
 "metadata": {
  "kernelspec": {
   "display_name": "Python 3",
   "language": "python",
   "name": "python3"
  },
  "language_info": {
   "codemirror_mode": {
    "name": "ipython",
    "version": 3
   },
   "file_extension": ".py",
   "mimetype": "text/x-python",
   "name": "python",
   "nbconvert_exporter": "python",
   "pygments_lexer": "ipython3",
   "version": "3.8.6"
  }
 },
 "nbformat": 4,
 "nbformat_minor": 4
}
