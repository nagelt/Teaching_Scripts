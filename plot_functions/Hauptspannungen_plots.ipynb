{
  "cells": [
    {
      "cell_type": "code",
      "execution_count": 1,
      "metadata": {},
      "outputs": [],
      "source": [
        "def calc_principal_stresses(s):\n",
        "    eigenValues, eigenVectors = np.linalg.eig(s)\n",
        "    idx = eigenValues.argsort()[::-1]   \n",
        "    eigenValues = eigenValues[idx]\n",
        "    eigenVectors = eigenVectors[:,idx]\n",
        "    return eigenValues, eigenVectors"
      ]
    },
    {
      "cell_type": "code",
      "execution_count": 4,
      "metadata": {},
      "outputs": [],
      "source": [
        "def plot_ellipsoid_3d(ax,sigma_a,v_a):\n",
        "    \"\"\"Plot the 3-d Ellipsoid ell on the Axes3D ax.\"\"\"\n",
        "\n",
        "    # points on unit sphere\n",
        "    u = np.linspace(0.0, 2.0 * np.pi, 200)\n",
        "    v = np.linspace(0.0, np.pi, 200)\n",
        "    z = np.outer(np.cos(u), np.sin(v))\n",
        "    y = np.outer(np.sin(u), np.sin(v))\n",
        "    x = np.outer(np.ones_like(u), np.cos(v))\n",
        "\n",
        "    # transform points to ellipsoid\n",
        "    for i in range(len(x)):\n",
        "        for j in range(len(x)):\n",
        "            x[i,j], y[i,j], z[i,j] = np.dot(sigma_a*v_a,[x[i,j],y[i,j],z[i,j]])\n",
        "\n",
        "    #ax.plot_surface(x, y, z,  rstride=3, cstride=3, color='#2980b9', alpha=0.1)\n",
        "    ax.plot_wireframe(x, y, z,  rstride=4, cstride=4, color='#2980b9', alpha=0.2)"
      ]
    },
    {
      "cell_type": "code",
      "execution_count": 7,
      "metadata": {},
      "outputs": [],
      "source": [
        "def plot_interactive_stress():\n",
        "    @interact(sxx=widgets.FloatText(value=1.3, step = 0.1, description=r'$\\sigma_{xx}$ / MPa'),\n",
        "              syy=widgets.FloatText(value=1.3, step = 0.1, description=r'$\\sigma_{yy}$ / MPa'),\n",
        "              szz=widgets.FloatText(value=2.3, step = 0.1, description=r'$\\sigma_{zz}$ / MPa'),\n",
        "              sxy=widgets.FloatText(value=0.0, step = 0.1, description=r'$\\sigma_{xy}$ / MPa'),\n",
        "              syz=widgets.FloatText(value=0.2, step = 0.1, description=r'$\\sigma_{yz}$ / MPa'),\n",
        "              sxz=widgets.FloatText(value=-0.3, step = 0.1, description=r'$\\sigma_{xz}$ / MPa')\n",
        "    )\n",
        "    def plot_stress_ellipsoid(sxx,syy,szz,sxy,syz,sxz):\n",
        "        stress = np.array([[sxx,sxy,sxz],\n",
        "                          [sxy,syy,syz],\n",
        "                          [sxz,syz,szz]])\n",
        "        sigma_a, v_a = calc_principal_stresses(stress)\n",
        "        fig = plt.figure()\n",
        "        ax = fig.add_subplot(111, projection='3d')\n",
        "        plot_ellipsoid_3d(ax,sigma_a,v_a)\n",
        "        ax.quiver(0,0,0,sigma_a[0]*v_a[0][0],sigma_a[0]*v_a[1][0],sigma_a[0]*v_a[2][0],pivot='tail',arrow_length_ratio=0,color='red',label=r'$\\sigma_1 = %.2f$ MPa' %sigma_a[0])\n",
        "        ax.quiver(0,0,0,-sigma_a[0]*v_a[0][0],-sigma_a[0]*v_a[1][0],-sigma_a[0]*v_a[2][0],pivot='tail',arrow_length_ratio=0,color='red')\n",
        "        ax.quiver(0,0,0,sigma_a[1]*v_a[0][1],sigma_a[1]*v_a[1][1],sigma_a[1]*v_a[2][1],pivot='tail',arrow_length_ratio=0,color='green',label=r'$\\sigma_2 = %.2f$ MPa' %sigma_a[1])\n",
        "        ax.quiver(0,0,0,-sigma_a[1]*v_a[0][1],-sigma_a[1]*v_a[1][1],-sigma_a[1]*v_a[2][1],pivot='tail',arrow_length_ratio=0,color='green')\n",
        "        ax.quiver(0,0,0,sigma_a[2]*v_a[0][2],sigma_a[2]*v_a[1][2],sigma_a[2]*v_a[2][2],pivot='tail',arrow_length_ratio=0,color='blue',label=r'$\\sigma_3 = %.2f$ MPa' %sigma_a[2])\n",
        "        ax.quiver(0,0,0,-sigma_a[2]*v_a[0][2],-sigma_a[2]*v_a[1][2],-sigma_a[2]*v_a[2][2],pivot='tail',arrow_length_ratio=0,color='blue')\n",
        "        sc = np.max(np.abs(sigma_a))\n",
        "        ax.set_xlim([-sc,sc])\n",
        "        ax.set_ylim([-sc,sc])\n",
        "        ax.set_zlim([-sc,sc])\n",
        "        ax.set_xlabel(r'$x$')\n",
        "        ax.set_ylabel(r'$y$')\n",
        "        ax.set_zlabel(r'$z$')\n",
        "        #ax.set_aspect('auto')\n",
        "        fig.tight_layout()\n",
        "        fig.legend()\n",
        "        #ax.get_proj = lambda: np.dot(Axes3D.get_proj(ax), np.diag([1,1,1,1]))\n",
        "        plt.show();"
      ]
    },
    {
      "cell_type": "code",
      "execution_count": null,
      "metadata": {},
      "outputs": [],
      "source": [
        "def plot_stress_ellipsoid(sxx,syy,szz,sxy,syz,sxz):\n",
        "    stress = np.array([[sxx,sxy,sxz],\n",
        "                      [sxy,syy,syz],\n",
        "                      [sxz,syz,szz]])\n",
        "    sigma_a, v_a = calc_principal_stresses(stress)\n",
        "    fig = plt.figure()\n",
        "    ax = fig.add_subplot(111, projection='3d')\n",
        "    plot_ellipsoid_3d(ax,sigma_a,v_a)\n",
        "    ax.quiver(0,0,0,sigma_a[0]*v_a[0][0],sigma_a[0]*v_a[1][0],sigma_a[0]*v_a[2][0],pivot='tail',arrow_length_ratio=0,color='red',label=r'$\\sigma_1 = %.2f$ MPa' %sigma_a[0])\n",
        "    ax.quiver(0,0,0,-sigma_a[0]*v_a[0][0],-sigma_a[0]*v_a[1][0],-sigma_a[0]*v_a[2][0],pivot='tail',arrow_length_ratio=0,color='red')\n",
        "    ax.quiver(0,0,0,sigma_a[1]*v_a[0][1],sigma_a[1]*v_a[1][1],sigma_a[1]*v_a[2][1],pivot='tail',arrow_length_ratio=0,color='green',label=r'$\\sigma_2 = %.2f$ MPa' %sigma_a[1])\n",
        "    ax.quiver(0,0,0,-sigma_a[1]*v_a[0][1],-sigma_a[1]*v_a[1][1],-sigma_a[1]*v_a[2][1],pivot='tail',arrow_length_ratio=0,color='green')\n",
        "    ax.quiver(0,0,0,sigma_a[2]*v_a[0][2],sigma_a[2]*v_a[1][2],sigma_a[2]*v_a[2][2],pivot='tail',arrow_length_ratio=0,color='blue',label=r'$\\sigma_3 = %.2f$ MPa' %sigma_a[2])\n",
        "    ax.quiver(0,0,0,-sigma_a[2]*v_a[0][2],-sigma_a[2]*v_a[1][2],-sigma_a[2]*v_a[2][2],pivot='tail',arrow_length_ratio=0,color='blue')\n",
        "    sc = np.max(np.abs(sigma_a))\n",
        "    ax.set_xlim([-sc,sc])\n",
        "    ax.set_ylim([-sc,sc])\n",
        "    ax.set_zlim([-sc,sc])\n",
        "    ax.set_xlabel(r'$x$')\n",
        "    ax.set_ylabel(r'$y$')\n",
        "    ax.set_zlabel(r'$z$')\n",
        "    #ax.set_aspect('auto')\n",
        "    fig.tight_layout()\n",
        "    fig.legend()\n",
        "    #ax.get_proj = lambda: np.dot(Axes3D.get_proj(ax), np.diag([1,1,1,1]))\n",
        "    plt.show();"
      ]
    }
  ],
  "metadata": {
    "kernelspec": {
      "display_name": "Python 3",
      "language": "python",
      "name": "python3"
    },
    "language_info": {
      "codemirror_mode": {
        "name": "ipython",
        "version": 3
      },
      "file_extension": ".py",
      "mimetype": "text/x-python",
      "name": "python",
      "nbconvert_exporter": "python",
      "pygments_lexer": "ipython3",
      "version": "3.8.6"
    }
  },
  "nbformat": 4,
  "nbformat_minor": 4
}