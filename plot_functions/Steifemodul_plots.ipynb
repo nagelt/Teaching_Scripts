{
 "cells": [
  {
   "cell_type": "code",
   "execution_count": 3,
   "metadata": {},
   "outputs": [],
   "source": [
    "sigma_at = 1.e5 #Pa\n",
    "nu_e = 100.\n",
    "omega_e = 0.6\n",
    "e0 = 0.5\n",
    "\n",
    "E_s = lambda sig, nu, om: nu * sigma_at * np.power(sig/sigma_at,om)"
   ]
  },
  {
   "cell_type": "code",
   "execution_count": 2,
   "metadata": {},
   "outputs": [
    {
     "ename": "NameError",
     "evalue": "name 'np' is not defined",
     "output_type": "error",
     "traceback": [
      "\u001b[0;31m---------------------------------------------------------------------------\u001b[0m",
      "\u001b[0;31mNameError\u001b[0m                                 Traceback (most recent call last)",
      "\u001b[0;32m<ipython-input-2-d134db418998>\u001b[0m in \u001b[0;36m<module>\u001b[0;34m\u001b[0m\n\u001b[0;32m----> 1\u001b[0;31m \u001b[0msigma_1\u001b[0m \u001b[0;34m=\u001b[0m \u001b[0mnp\u001b[0m\u001b[0;34m.\u001b[0m\u001b[0mlinspace\u001b[0m\u001b[0;34m(\u001b[0m\u001b[0msigma_at\u001b[0m\u001b[0;34m,\u001b[0m \u001b[0;36m2.e5\u001b[0m\u001b[0;34m,\u001b[0m\u001b[0;36m1000\u001b[0m\u001b[0;34m)\u001b[0m \u001b[0;31m#Pa\u001b[0m\u001b[0;34m\u001b[0m\u001b[0;34m\u001b[0m\u001b[0m\n\u001b[0m\u001b[1;32m      2\u001b[0m \u001b[0msigma_2\u001b[0m \u001b[0;34m=\u001b[0m \u001b[0mnp\u001b[0m\u001b[0;34m.\u001b[0m\u001b[0mlinspace\u001b[0m\u001b[0;34m(\u001b[0m\u001b[0;36m2.e5\u001b[0m\u001b[0;34m,\u001b[0m \u001b[0;36m4.e5\u001b[0m\u001b[0;34m,\u001b[0m\u001b[0;36m1000\u001b[0m\u001b[0;34m)\u001b[0m \u001b[0;31m#Pa\u001b[0m\u001b[0;34m\u001b[0m\u001b[0;34m\u001b[0m\u001b[0m\n",
      "\u001b[0;31mNameError\u001b[0m: name 'np' is not defined"
     ]
    }
   ],
   "source": [
    "sigma_1 = np.linspace(sigma_at, 2.e5,1000) #Pa\n",
    "sigma_2 = np.linspace(2.e5, 4.e5,1000) #Pa"
   ]
  },
  {
   "cell_type": "code",
   "execution_count": 5,
   "metadata": {},
   "outputs": [],
   "source": [
    "def calc_strain(nu_e,omega_e):\n",
    "    eps = np.array([0.])\n",
    "    #Erstbelastung\n",
    "    for i in range(1,len(sigma_1)):\n",
    "        eps = np.append(eps,eps[-1]+(sigma_1[i]-sigma_1[i-1])/E_s(sigma_1[i-1],nu_e,omega_e))\n",
    "    #Entlastung\n",
    "    for i in range(len(sigma_1)-1,0,-1):\n",
    "        eps = np.append(eps,eps[-1]-(sigma_1[i]-sigma_1[i-1])/E_s(sigma_1[i-1],nu_e*10,1))\n",
    "    eps=np.append(eps,eps[-1])\n",
    "    #Wiederbelastung\n",
    "    for i in range(1,len(sigma_1)):\n",
    "        eps = np.append(eps,eps[-1]+(sigma_1[i]-sigma_1[i-1])/E_s(sigma_1[i-1],nu_e*10,1))\n",
    "    eps=np.append(eps,eps[-1])\n",
    "    #Erstbelastung\n",
    "    for i in range(1,len(sigma_2)):\n",
    "        eps = np.append(eps,eps[-1]+(sigma_2[i]-sigma_2[i-1])/E_s(sigma_2[i-1],nu_e,omega_e))\n",
    "    eps=np.append(eps,eps[-1]+(sigma_2[-1]-sigma_2[-2])/E_s(sigma_2[-2],nu_e,omega_e))\n",
    "    return eps"
   ]
  },
  {
   "cell_type": "code",
   "execution_count": 5,
   "metadata": {},
   "outputs": [],
   "source": [
    "def e(strain):\n",
    "    return e0-strain*(1+e0)"
   ]
  },
  {
   "cell_type": "code",
   "execution_count": 7,
   "metadata": {},
   "outputs": [],
   "source": [
    "def plot_interactive_curve():\n",
    "    @interact(show_Ton = widgets.Checkbox(value=False, description='Ton'),\n",
    "              show_Schluff = widgets.Checkbox(value=False, description='Schluff'),\n",
    "              show_Sand_Kies = widgets.Checkbox(value=False, description='Sand und Kies')\n",
    "    )\n",
    "    def plot_curve(show_Ton,show_Schluff,show_Sand_Kies):\n",
    "        \n",
    "        eps_Ton = calc_strain(10,0.9)\n",
    "        eps_Schluff = calc_strain(50,0.85)\n",
    "        eps_Sand_Kies = calc_strain(400,0.65)        \n",
    "        \n",
    "        fig, ax = plt.subplots(ncols=2,figsize=(18,8))\n",
    "        if (show_Ton):\n",
    "            ax[0].plot(np.append(sigma_1,\n",
    "                               np.append(np.append(np.flip(sigma_1),sigma_1),\n",
    "                                         sigma_2))/1e3,\n",
    "                  -eps_Ton*100)\n",
    "        if (show_Schluff):\n",
    "            ax[0].plot(np.append(sigma_1,\n",
    "                           np.append(np.append(np.flip(sigma_1),sigma_1),\n",
    "                                     sigma_2))/1e3,\n",
    "              -eps_Schluff*100)\n",
    "        if (show_Sand_Kies):\n",
    "            ax[0].plot(np.append(sigma_1,\n",
    "                           np.append(np.append(np.flip(sigma_1),sigma_1),\n",
    "                                     sigma_2))/1e3,\n",
    "              -eps_Sand_Kies*100)\n",
    "        \n",
    "        ticks =  ax[0].get_yticks()\n",
    "        # set labels to absolute values and with integer representation\n",
    "        ax[0].set_yticks(ticks)\n",
    "        ax[0].set_yticklabels([round(abs(tick),3) for tick in ticks])\n",
    "        ax[0].set_xlabel('$\\\\sigma$ / kPa')\n",
    "        ax[0].set_ylabel('$\\\\epsilon$ / %')\n",
    "\n",
    "        if (show_Ton):\n",
    "            ax[1].plot(np.append(sigma_1,\n",
    "                               np.append(np.append(np.flip(sigma_1),sigma_1),\n",
    "                                         sigma_2))/1e3,\n",
    "                  e(eps_Ton),label='Ton')\n",
    "        if (show_Schluff):\n",
    "            ax[1].plot(np.append(sigma_1,\n",
    "                           np.append(np.append(np.flip(sigma_1),sigma_1),\n",
    "                                     sigma_2))/1e3,\n",
    "              e(eps_Schluff),label='Schluff')\n",
    "        if (show_Sand_Kies):\n",
    "            ax[1].plot(np.append(sigma_1,\n",
    "                           np.append(np.append(np.flip(sigma_1),sigma_1),\n",
    "                                     sigma_2))/1e3,\n",
    "              e(eps_Sand_Kies),label='Sand und Kies')\n",
    "        ax[1].set_xlabel('$\\\\sigma$ / kPa')\n",
    "        ax[1].set_ylabel('$e$')\n",
    "        ax[1].set_xscale('log')\n",
    "        if (show_Ton or show_Schluff or show_Sand_Kies):\n",
    "            ax[1].legend()\n",
    "        plt.show;"
   ]
  },
  {
   "cell_type": "code",
   "execution_count": null,
   "metadata": {},
   "outputs": [],
   "source": []
  }
 ],
 "metadata": {
  "kernelspec": {
   "display_name": "Python 3",
   "language": "python",
   "name": "python3"
  },
  "language_info": {
   "codemirror_mode": {
    "name": "ipython",
    "version": 3
   },
   "file_extension": ".py",
   "mimetype": "text/x-python",
   "name": "python",
   "nbconvert_exporter": "python",
   "pygments_lexer": "ipython3",
   "version": "3.8.5"
  }
 },
 "nbformat": 4,
 "nbformat_minor": 4
}
