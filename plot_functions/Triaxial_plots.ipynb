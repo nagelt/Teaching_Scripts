{
 "cells": [
  {
   "cell_type": "code",
   "execution_count": 2,
   "metadata": {},
   "outputs": [],
   "source": [
    "def create_circle(m,r,ls='-'):\n",
    "    return patches.Circle((m,0), radius=r, angle=180.,lw=2,fill=False,ls=ls)"
   ]
  },
  {
   "cell_type": "code",
   "execution_count": 3,
   "metadata": {},
   "outputs": [],
   "source": [
    "def principal_to_pq(s_1fe,s_3fe):\n",
    "    return (s_1fe + s_3fe)/2, (s_1fe - s_3fe)/2"
   ]
  },
  {
   "cell_type": "code",
   "execution_count": 4,
   "metadata": {},
   "outputs": [],
   "source": [
    "def find_b_tanalpha(s_1fe,s_3fe):\n",
    "    s_m, t_m = principal_to_pq(s_1fe,s_3fe)\n",
    "    regr = sp.stats.linregress(s_m,t_m)\n",
    "    return regr.slope, regr.intercept"
   ]
  },
  {
   "cell_type": "code",
   "execution_count": 5,
   "metadata": {},
   "outputs": [],
   "source": [
    "def find_c_sinphi(s_1fe,s_3fe):\n",
    "    s_m, t_m = principal_to_pq(s_1fe,s_3fe)\n",
    "    regr = sp.stats.linregress(s_m,t_m)\n",
    "    return regr.slope, regr.intercept/np.cos(np.arcsin(regr.slope))"
   ]
  },
  {
   "cell_type": "code",
   "execution_count": 6,
   "metadata": {},
   "outputs": [],
   "source": [
    "def find_failure_stresses(s_1fe,s_3fe):\n",
    "    sinphi, c = find_c_sinphi(s_1fe,s_3fe)\n",
    "    phi = np.arcsin(sinphi)\n",
    "    theta = np.pi/4 + phi/2\n",
    "    tau_alpha = (c + s_3fe*np.tan(phi))/(1-np.tan(phi)/np.tan(theta))\n",
    "    s_alpha = (tau_alpha - c)/np.tan(phi)\n",
    "    return s_alpha, tau_alpha"
   ]
  },
  {
   "cell_type": "code",
   "execution_count": 7,
   "metadata": {},
   "outputs": [],
   "source": [
    "def plot_basic_circles(s_1fe,s_3fe):\n",
    "    fig, ax = plt.subplots(figsize=(12,12))\n",
    "    s_m, t_m = principal_to_pq(s_1fe,s_3fe)\n",
    "    for i in range(len(s_1fe)):\n",
    "        ax.add_patch(create_circle(s_m[i],t_m[i]))\n",
    "\n",
    "    ax.set(aspect='equal')\n",
    "    ax.set_xlabel(\"$\\\\sigma'_\\\\mathrm{n}$ / kPa\")\n",
    "    ax.set_ylabel('$\\\\tau$ / kPa')\n",
    "    #ax.legend(fontsize=12)\n",
    "    ax.set_xlim(0,np.max(s_1fe))\n",
    "    ax.set_ylim(0,np.max(s_1fe)/2)\n",
    "    #ax.spines['left'].set_position(('data', 0))\n",
    "    fig.tight_layout()\n",
    "    plt.show();"
   ]
  },
  {
   "cell_type": "code",
   "execution_count": 8,
   "metadata": {},
   "outputs": [],
   "source": [
    "def plot_pq(s_1fe,s_3fe,u=0):\n",
    "    s_m, t_m = principal_to_pq(s_1fe,s_3fe)\n",
    "    m, b = find_b_tanalpha(s_1fe,s_3fe)\n",
    "    \n",
    "    fig, ax = plt.subplots(figsize=(12,8))\n",
    "    ax.set_xlabel(\"$\\\\sigma_\\\\mathrm{M}$ / kPa\")\n",
    "    ax.set_ylabel(\"$(\\\\sigma_1 - \\\\sigma_3) / 2$ / kPa\")\n",
    "    ax.plot(s_m,t_m,ls='',marker='d',label=\"$\\\\sigma_\\\\mathrm{M} = (\\\\sigma_1'+\\\\sigma_3')/2$\")\n",
    "    \n",
    "    ax.plot([0,np.max(s_m)],[b,b+m*np.max(s_m)],label=\"$b' + \\\\sigma_\\\\mathrm{M}' \\\\tan \\\\alpha'$\")\n",
    "    fig.tight_layout()\n",
    "    ax.legend()\n",
    "    ax.set_xlim(0,np.max(s_m)*1.02)\n",
    "    ax.set_ylim(0,np.max(t_m)*1.02)\n",
    "    plt.show();"
   ]
  },
  {
   "cell_type": "code",
   "execution_count": 9,
   "metadata": {},
   "outputs": [],
   "source": [
    "def plot_circles_tangent(s_1fe,s_3fe):\n",
    "    fig, ax = plt.subplots(figsize=(12,12))\n",
    "    s_m, t_m = principal_to_pq(s_1fe,s_3fe)\n",
    "    sinphi, c = find_c_sinphi(s_1fe,s_3fe)\n",
    "    for i in range(len(s_1fe)):\n",
    "        ax.add_patch(create_circle(s_m[i],t_m[i]))\n",
    "\n",
    "    ax.plot([0,np.max(s_1fe)],[c,c+np.max(s_1fe)*np.tan(np.arcsin(sinphi))],label=\"$c' + \\\\sigma_\\\\mathrm{n}' \\\\tan \\\\varphi'$\")\n",
    "    ax.set(aspect='equal')\n",
    "    ax.set_xlabel(\"$\\\\sigma'_\\\\mathrm{n}$ / kPa\")\n",
    "    ax.set_ylabel('$\\\\tau$ / kPa')\n",
    "    ax.legend()\n",
    "    ax.set_xlim(0,np.max(s_1fe))\n",
    "    ax.set_ylim(0,np.max(s_1fe)/2)\n",
    "    #ax.spines['left'].set_position(('data', 0))\n",
    "    fig.tight_layout()\n",
    "    plt.show();"
   ]
  },
  {
   "cell_type": "code",
   "execution_count": 10,
   "metadata": {},
   "outputs": [],
   "source": [
    "def plot_circles_failure(s_1fe,s_3fe):\n",
    "    fig, ax = plt.subplots(figsize=(12,12))\n",
    "    s_m, t_m = principal_to_pq(s_1fe,s_3fe)\n",
    "    sinphi, c = find_c_sinphi(s_1fe,s_3fe)\n",
    "    s_a, t_a = find_failure_stresses(s_1fe,s_3fe)\n",
    "    for i in range(len(s_1fe)):\n",
    "        ax.add_patch(create_circle(s_m[i],t_m[i]))\n",
    "\n",
    "    ax.plot([0,np.max(s_1fe)],[c,c+np.max(s_1fe)*np.tan(np.arcsin(sinphi))],label=\"$c' + \\\\sigma_\\\\mathrm{n}' \\\\tan \\\\varphi'$\")\n",
    "    ax.plot(s_a,t_a,ls='',marker='o', label=\"$\\\\sigma_\\\\vartheta', \\\\tau_\\\\vartheta$\",color='red')\n",
    "    for i in range(len(s_1fe)):\n",
    "        ax.plot([s_3fe[i],s_a[i]],[0,t_a[i]],ls='--',color='red')\n",
    "    ax.set(aspect='equal')\n",
    "    ax.set_xlabel(\"$\\\\sigma'_\\\\mathrm{n}$ / kPa\")\n",
    "    ax.set_ylabel('$\\\\tau$ / kPa')\n",
    "    ax.legend()\n",
    "    ax.set_xlim(0,np.max(s_1fe))\n",
    "    ax.set_ylim(0,np.max(s_1fe)/2)\n",
    "    #ax.spines['left'].set_position(('data', 0))\n",
    "    fig.tight_layout()\n",
    "    plt.show();"
   ]
  },
  {
   "cell_type": "code",
   "execution_count": 11,
   "metadata": {},
   "outputs": [],
   "source": [
    "def plot_pq_tot(s_1fe,s_3fe,u=0,u0=0):\n",
    "    s_me, t_me = principal_to_pq(s_1fe,s_3fe)\n",
    "    m, b = find_b_tanalpha(s_1fe,s_3fe)\n",
    "    \n",
    "    s_conf = s_3fe+u\n",
    "    \n",
    "    fig, ax = plt.subplots(figsize=(12,8))\n",
    "    ax.set_xlabel(\"$\\\\sigma_\\\\mathrm{M}$ / kPa\")\n",
    "    ax.set_ylabel(\"$(\\\\sigma_1 - \\\\sigma_3) / 2$ / kPa\")\n",
    "    ax.plot(s_me,t_me,ls='',marker='d',label=\"$\\\\sigma_\\\\mathrm{M} = (\\\\sigma_1'+\\\\sigma_3')/2$\")\n",
    "    ax.plot(s_me+u,t_me,ls='',marker='o',label=\"$\\\\sigma_\\\\mathrm{M} = (\\\\sigma_1+\\\\sigma_3)/2$\")\n",
    "    ax.plot(s_3fe+u,s_3fe*0,ls='',marker='s',label=\"$\\\\sigma_\\\\mathrm{M} = \\\\sigma_\\\\mathrm{c} + u_0 = \\\\sigma_3$\")\n",
    "    \n",
    "    ax.plot([0,np.max(s_me)],[b,b+m*np.max(s_me)],label=\"$b' + \\\\sigma_\\\\mathrm{M}' \\\\tan \\\\alpha'$\")\n",
    "    \n",
    "    \n",
    "    for i in range(len(s_1fe)):\n",
    "        t = np.linspace(0,t_me[i],40)\n",
    "        du = np.power(np.linspace(0,u[i]-u0[i],40)/(u[i]-u0[i]+1.e-14),3)*(u[i]-u0[i]) + u0[i]\n",
    "        ds = np.linspace(s_3fe[i]+u[i],s_me[i]+u[i],40)\n",
    "        if (i==0):\n",
    "            ax.plot([0,s_3fe[i]+u[i],s_me[i]+u[i]],[0,0,t_me[i]],color='green',label='Totalspannungspfad')\n",
    "            ax.plot(ds-du,t,color='red',label='Effektivpannungspfad',ls='--')\n",
    "        else:\n",
    "            ax.plot([0,s_3fe[i]+u[i],s_me[i]+u[i]],[0,0,t_me[i]],color='green')\n",
    "            ax.plot(ds-du,t,color='red',ls='--')\n",
    "        for j in range(len(t)):\n",
    "            if (np.abs(du[j])>10):\n",
    "                ax.annotate(\"\", xy=(ds[j]-du[j], t[j]), xytext=(ds[j], t[j]), arrowprops=dict(arrowstyle=\"->\",color='blue'))\n",
    "            else:\n",
    "                ax.annotate(\"\", xy=(ds[j]-du[j], t[j]), xytext=(ds[j], t[j]), arrowprops=dict(arrowstyle=\"-\",color='blue'))\n",
    "    \n",
    "    fig.tight_layout()\n",
    "    ax.set_xlim(0,np.max(s_me+u)*1.02)\n",
    "    ax.set_ylim(0,np.max(t_me)*1.02)\n",
    "    ax.legend()\n",
    "    plt.show();"
   ]
  },
  {
   "cell_type": "code",
   "execution_count": null,
   "metadata": {},
   "outputs": [],
   "source": [
    "def plot_circles_tangent_total(s_1fe,s_3fe,uf):\n",
    "    fig, ax = plt.subplots(figsize=(12,12))\n",
    "    s_m, t_m = principal_to_pq(s_1fe,s_3fe)\n",
    "    sinphi, c = find_c_sinphi(s_1fe,s_3fe)\n",
    "    for i in range(len(s_1fe)):\n",
    "        ax.add_patch(create_circle(s_m[i],t_m[i]))\n",
    "    \n",
    "    s_mt, t_mt = principal_to_pq(s_1fe+uf,s_3fe+uf)\n",
    "    sinphiu, cu = find_c_sinphi(s_1fe+uf,s_3fe+uf)\n",
    "    for i in range(len(s_1fe)):\n",
    "        ax.add_patch(create_circle(s_mt[i],t_mt[i],':'))\n",
    "\n",
    "    ax.plot([0,np.max(s_1fe)],[c,c+np.max(s_1fe)*np.tan(np.arcsin(sinphi))],label=\"$c' + \\\\sigma_\\\\mathrm{n}' \\\\tan \\\\varphi'$\")\n",
    "    ax.plot([0,np.max(s_1fe+uf)],[cu,cu+np.max(s_1fe+uf)*np.tan(np.arcsin(sinphiu))],label=\"$c_\\\\mathrm{u} + \\\\sigma_\\\\mathrm{n} \\\\tan \\\\varphi_\\\\mathrm{u}$\")\n",
    "    ax.set(aspect='equal')\n",
    "    ax.set_xlabel(\"$\\\\sigma'_\\\\mathrm{n}$, $\\\\sigma_\\\\mathrm{n}$ / kPa\")\n",
    "    ax.set_ylabel('$\\\\tau$ / kPa')\n",
    "    ax.legend()\n",
    "    ax.set_xlim(0,np.max(s_1fe+uf))\n",
    "    ax.set_ylim(0,np.max(s_1fe+uf)/2)\n",
    "    #ax.spines['left'].set_position(('data', 0))\n",
    "    fig.tight_layout()\n",
    "    plt.show();"
   ]
  }
 ],
 "metadata": {
  "kernelspec": {
   "display_name": "Python 3",
   "language": "python",
   "name": "python3"
  },
  "language_info": {
   "codemirror_mode": {
    "name": "ipython",
    "version": 3
   },
   "file_extension": ".py",
   "mimetype": "text/x-python",
   "name": "python",
   "nbconvert_exporter": "python",
   "pygments_lexer": "ipython3",
   "version": "3.8.6"
  }
 },
 "nbformat": 4,
 "nbformat_minor": 4
}
