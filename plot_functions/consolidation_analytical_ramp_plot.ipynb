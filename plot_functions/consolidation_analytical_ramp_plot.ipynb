{
 "cells": [
  {
   "cell_type": "code",
   "execution_count": 2,
   "metadata": {},
   "outputs": [],
   "source": [
    "def Stroemungsdruck1(zeta,T,sum_max=1000,TB=0.1):\n",
    "    du = 0.\n",
    "    sign = -1; #Sign factor\n",
    "    for i in range(sum_max):\n",
    "        sign *= -1\n",
    "        aux = (2.*i+1)*np.pi/2\n",
    "        du += sign/(aux**3) * np.cos(aux * zeta) * (1.-np.exp(-aux*aux*T))\n",
    "    return 2.*du/TB\n",
    "\n",
    "def Stroemungsdruck2(zeta,T,sum_max=1000,TB=0.1):\n",
    "    du = 0.\n",
    "    sign = -1; #Sign factor\n",
    "    for i in range(sum_max):\n",
    "        sign *= -1\n",
    "        aux = (2.*i+1)*np.pi/2\n",
    "        du += sign/(aux**3) * np.cos(aux * zeta) * (np.exp(-aux*aux*(T-TB))-np.exp(-aux*aux*T))\n",
    "    return 2.*du/TB  "
   ]
  },
  {
   "cell_type": "code",
   "execution_count": 3,
   "metadata": {},
   "outputs": [],
   "source": [
    "def plot_solution():\n",
    "    zeta = np.linspace(0.,1.,100)\n",
    "    T = np.array([0.05,0.1,0.2,0.5,1.,2.])\n",
    "    fig, ax = plt.subplots(ncols=2,figsize=(18,8))\n",
    "    TB=0.1\n",
    "    for i in T:\n",
    "        if (i <= TB):\n",
    "            ax[0].plot(Stroemungsdruck1(zeta,i,1000,TB),zeta,label='$T_\\\\mathrm{V} = $'+str(i),ls='--')\n",
    "            ax[1].plot(1-Stroemungsdruck1(zeta,i,1000,TB),zeta,ls='--')\n",
    "        else:\n",
    "            ax[0].plot(Stroemungsdruck2(zeta,i,1000,TB),zeta,label='$T_\\\\mathrm{V} = $'+str(i),)\n",
    "            ax[1].plot(1-Stroemungsdruck2(zeta,i,1000,TB),zeta)\n",
    "    ax[0].set_ylabel('$z$ / $H$')\n",
    "    ax[1].set_ylabel('$z$ / $H$')\n",
    "    ax[0].set_xlabel('$\\Delta u$ / $p_0$')\n",
    "    ax[1].set_xlabel(\"$\\Delta \\sigma'$ / $p_0$; $\\\\beta_\\\\mathrm{F} = 0$\")\n",
    "    fig.legend(loc='upper center',ncol=6);"
   ]
  },
  {
   "cell_type": "code",
   "execution_count": 4,
   "metadata": {},
   "outputs": [],
   "source": [
    "def Verdichtungsgrad1(T,sum_max=1000,TB=0.1):\n",
    "    U1 = T/TB\n",
    "    for i in range(sum_max):\n",
    "        aux = (2.*i+1)*np.pi/2\n",
    "        aux2 = aux*aux\n",
    "        U1 -= 2./(TB*aux2*aux2) * (1.-np.exp(-aux2*T))\n",
    "    return U1\n",
    "\n",
    "def Verdichtungsgrad2(T,sum_max=1000,TB=0.1):\n",
    "    U2 = 1.\n",
    "    for i in range(sum_max):\n",
    "        aux = (2.*i+1)*np.pi/2\n",
    "        aux2 = aux*aux\n",
    "        U2 -= 2./(TB*aux2*aux2) * (np.exp(-aux2*(T-TB))-np.exp(-aux2*T))\n",
    "    return U2"
   ]
  },
  {
   "cell_type": "code",
   "execution_count": 5,
   "metadata": {},
   "outputs": [],
   "source": [
    "def plot_verdichtungsgrad_log():\n",
    "    times = np.logspace(-2,1,1000)\n",
    "    TBs = np.array([0.001,0.1,0.2,0.8,1.5])\n",
    "    colors=['black','cyan', 'red','green','blue']\n",
    "    fig, ax = plt.subplots(figsize=(12,6))\n",
    "    for i, TB in enumerate(TBs):\n",
    "        ax.plot(times[np.where(times>TB)],Verdichtungsgrad2(times[np.where(times>TB)],1000,TB),label='$T_\\\\mathrm{B}=$'+str(TB),color=colors[i])\n",
    "        ax.plot(times[np.where(times<=TB)],Verdichtungsgrad1(times[np.where(times<=TB)],1000,TB),color=colors[i],ls='--')\n",
    "    ax.set_ylabel(\"$U$\")\n",
    "    ax.set_xlabel(\"$T_\\\\mathrm{V}$\")\n",
    "    ax.set_xscale('log')\n",
    "    ax.text(1,0.2,\"- - -: $T_\\\\mathrm{V} \\\\leq T_\\\\mathrm{B}$\",fontsize=18)\n",
    "    ax.legend();\n",
    "\n",
    "def plot_verdichtungsgrad_lin():\n",
    "    times = np.linspace(0,1.5,1000)\n",
    "    TBs = np.array([0.001,0.1,0.2,0.8,1.5])\n",
    "    colors=['black','cyan', 'red','green','blue']\n",
    "    fig, ax = plt.subplots(figsize=(12,6))\n",
    "    for i, TB in enumerate(TBs):\n",
    "        ax.plot(times[np.where(times>TB)],Verdichtungsgrad2(times[np.where(times>TB)],1000,TB),label='$T_\\\\mathrm{B}=$'+str(TB),color=colors[i])\n",
    "        ax.plot(times[np.where(times<=TB)],Verdichtungsgrad1(times[np.where(times<=TB)],1000,TB),color=colors[i],ls='--')\n",
    "    ax.set_ylabel(\"$U$\")\n",
    "    ax.set_xlabel(\"$T_\\\\mathrm{V}$\")\n",
    "    ax.text(0.8,0.1,\"- - -: $T_\\\\mathrm{V} \\\\leq T_\\\\mathrm{B}$\",fontsize=18)\n",
    "    ax.legend();"
   ]
  },
  {
   "cell_type": "code",
   "execution_count": null,
   "metadata": {},
   "outputs": [],
   "source": [
    "def plot_pwd_dissipation_lin():\n",
    "    times = np.linspace(0,1.5,1000)\n",
    "    TBs = np.array([0.001,0.1,0.2,0.8,1.5])\n",
    "    colors=['black','cyan', 'red','green','blue']\n",
    "    fig, ax = plt.subplots(figsize=(12,6))\n",
    "    for i, TB in enumerate(TBs):\n",
    "        ax.plot(times[np.where(times>TB)],Stroemungsdruck2(0,times[np.where(times>TB)],10000,TB),label='$T_\\\\mathrm{B}=$'+str(TB),color=colors[i])\n",
    "        ax.plot(times[np.where(times<=TB)],Stroemungsdruck1(0,times[np.where(times<=TB)],10000,TB),ls='--',color=colors[i])\n",
    "    ax.set_ylabel(\"$\\Delta u(z=0)$ / $p_0$\")\n",
    "    ax.set_xlabel(\"$T_\\\\mathrm{V}$\")\n",
    "    ax.text(0.5,0.8,\"- - -: $T_\\\\mathrm{V} \\\\leq T_\\\\mathrm{B}$\",fontsize=18)\n",
    "    ax.legend();\n",
    "\n",
    "def plot_pwd_dissipation_log():\n",
    "    times = np.linspace(0,1.5,1000)\n",
    "    TBs = np.array([0.001,0.1,0.2,0.8,1.5])\n",
    "    colors=['black','cyan', 'red','green','blue']\n",
    "    fig, ax = plt.subplots(figsize=(12,6))\n",
    "    for i, TB in enumerate(TBs):\n",
    "        ax.plot(times[np.where(times>TB)],Stroemungsdruck2(0,times[np.where(times>TB)],10000,TB),label='$T_\\\\mathrm{B}=$'+str(TB),color=colors[i])\n",
    "        ax.plot(times[np.where(times<=TB)],Stroemungsdruck1(0,times[np.where(times<=TB)],10000,TB),ls='--',color=colors[i])\n",
    "    ax.set_ylabel(\"$\\Delta u(z=0)$ / $p_0$\")\n",
    "    ax.set_xlabel(\"$T_\\\\mathrm{V}$\")\n",
    "    ax.set_xscale('log')\n",
    "    ax.text(1e-2,0.7,\"- - -: $T_\\\\mathrm{V} \\\\leq T_\\\\mathrm{B}$\",fontsize=18)\n",
    "    ax.legend();"
   ]
  },
  {
   "cell_type": "code",
   "execution_count": 6,
   "metadata": {},
   "outputs": [],
   "source": [
    "def Verdichtungsgrad_approx(T):\n",
    "    U1 = 2./np.sqrt(np.pi) * np.sqrt(T)\n",
    "    U2 = 1. - 8./(np.pi*np.pi) * np.exp(-np.pi*np.pi/4. * T)\n",
    "    return U2 * np.heaviside(U1-0.5,0) + U1 * (1.-np.heaviside(U1-0.5,0))"
   ]
  },
  {
   "cell_type": "code",
   "execution_count": 7,
   "metadata": {},
   "outputs": [],
   "source": [
    "def plot_verdichtungsgrad_approx():\n",
    "    fig, ax = plt.subplots(ncols=2,figsize=(18,8))\n",
    "    times = np.logspace(-3,1,1000)\n",
    "    ax[0].plot(times,Verdichtungsgrad(times),label='Summenformel',color='red')\n",
    "    ax[0].plot(times,Verdichtungsgrad_approx(times),label='Näherungslösung',ls='--')\n",
    "    ax[0].set_ylabel(\"$U$\")\n",
    "    ax[0].set_xlabel(\"$T_\\\\mathrm{V}$\")\n",
    "    ax[0].set_xscale('log')\n",
    "\n",
    "    ax[1].plot(times[np.where(times < 2)] ,Verdichtungsgrad(times[np.where(times < 2)]),color='red')\n",
    "    ax[1].plot(times[np.where(times < 2)],Verdichtungsgrad_approx(times[np.where(times < 2)]),label='Näherungslösung',ls='--')\n",
    "    ax[1].set_ylabel(\"$U$\")\n",
    "    ax[1].set_xlabel(\"$T_\\\\mathrm{V}$\")\n",
    "\n",
    "    fig.legend(loc='upper center',ncol=3);"
   ]
  },
  {
   "cell_type": "code",
   "execution_count": null,
   "metadata": {},
   "outputs": [],
   "source": [
    "def plot_zweiseitig():\n",
    "    zeta = np.linspace(-1,1,200)\n",
    "    T = np.array([0.001,0.01,0.05,0.1,0.2,0.5,1.,2.])\n",
    "    fig, ax = plt.subplots(ncols=2,figsize=(18,8))\n",
    "    for i in T:\n",
    "        ax[0].plot(Stroemungsdruck(zeta,i),zeta,label='$T_\\\\mathrm{V} = $'+str(i))\n",
    "        ax[1].plot(1-Stroemungsdruck(zeta,i),zeta)\n",
    "    ax[0].set_ylabel('$z$ / $H$')\n",
    "    ax[1].set_ylabel('$z$ / $H$')\n",
    "    ax[0].set_xlabel('$\\Delta u$ / $p_0$')\n",
    "    ax[1].set_xlabel(\"$\\Delta \\sigma'$ / $p_0$; $\\\\beta_\\\\mathrm{F} = 0$\")\n",
    "    fig.legend(loc='upper center',ncol=4);"
   ]
  }
 ],
 "metadata": {
  "kernelspec": {
   "display_name": "Python 3",
   "language": "python",
   "name": "python3"
  },
  "language_info": {
   "codemirror_mode": {
    "name": "ipython",
    "version": 3
   },
   "file_extension": ".py",
   "mimetype": "text/x-python",
   "name": "python",
   "nbconvert_exporter": "python",
   "pygments_lexer": "ipython3",
   "version": "3.8.5"
  }
 },
 "nbformat": 4,
 "nbformat_minor": 4
}
