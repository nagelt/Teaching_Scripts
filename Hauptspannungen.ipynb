{
 "cells": [
  {
   "cell_type": "markdown",
   "metadata": {},
   "source": [
    "![Logo TUBAF](https://tu-freiberg.de/sites/default/files/media/freiberger-alumni-netzwerk-6127/wbm_orig_rgb_0.jpg)\n",
    "\n",
    "Exercise material of the BSc-level course **Mechanical Properties of Loose Rocks and Soils**.\n",
    "Held at Technische Universität Bergakademie Freiberg.\n",
    "\n",
    "Comments to:\n",
    "\n",
    "*Prof. Dr. Thomas Nagel  \n",
    "Chair of Soil Mechanics and Foundation Engineering  \n",
    "Geotechnical Institute  \n",
    "Technische Universität Bergakademie Freiberg.*\n",
    "\n",
    "https://tu-freiberg.de/en/fakultaet3/gt/soilmechanics"
   ]
  },
  {
   "cell_type": "markdown",
   "metadata": {},
   "source": [
    "# Hauptspannungen"
   ]
  },
  {
   "cell_type": "code",
   "execution_count": 8,
   "metadata": {},
   "outputs": [],
   "source": [
    "%matplotlib widget\n",
    "import matplotlib.pyplot as plt\n",
    "from mpl_toolkits.mplot3d import Axes3D\n",
    "import numpy as np\n",
    "from ipywidgets import widgets\n",
    "from ipywidgets import interact, interactive\n",
    "from IPython.display import display\n",
    "\n",
    "#Some plot settings\n",
    "import plot_functions.plot_settings\n",
    "%run plot_functions/Hauptspannungen_plots.ipynb"
   ]
  },
  {
   "cell_type": "markdown",
   "metadata": {},
   "source": [
    "Ein allgemeiner Spannungszustand ist im $x-y-z$ Koordinatensystem gegeben durch die symmetrische Matrix der Tensorkoordinaten\n",
    "\n",
    "$$\n",
    "    \\sigma_{ij} = \\begin{pmatrix}\n",
    "        \\sigma_{xx} & \\sigma_{xy} & \\sigma_{xz}\n",
    "        \\\\\n",
    "        \\sigma_{xy} & \\sigma_{yy} & \\sigma_{yz}\n",
    "        \\\\\n",
    "        \\sigma_{xz} & \\sigma_{yz} & \\sigma_{zz}\n",
    "    \\end{pmatrix}\n",
    "$$\n",
    "\n",
    "Durch Lösung des Eigenwertproblems lassen sich die Hauptspannungen $\\sigma_a$ mit $a = 1,2,3$ im zugehörigen Hauptachsensystem $1-2-3$ finden, für die gilt:\n",
    "\n",
    "$$\n",
    "    \\sigma_{ij} = \\begin{pmatrix}\n",
    "        \\sigma_{1} & 0 & 0\n",
    "        \\\\\n",
    "        0 & \\sigma_{2} & 0\n",
    "        \\\\\n",
    "        0 & 0 & \\sigma_{3}\n",
    "    \\end{pmatrix}\n",
    "$$\n",
    "\n",
    "Das Eigenwertproblem definiert die Eigenwerte $\\sigma_a$ und -vektoren $v_j^{(a)}$ wie folgt:\n",
    "\n",
    "$$\n",
    "    \\sigma_{ij} v^{(a)}_j = \\sigma_a v_j^{(a)}\n",
    "$$\n",
    "\n",
    "Wenn man also eine Matrix mit einem ihrer Eigenvektoren multipliziert, so erfährt dieser keine Drehung sondern lediglich eine Längenänderung in Form einer Skalierung mit dem zugehörigen Eigenwert. Das ist äquivalent zur Bedeutung des Hauptachsensystems: Es treten in diesem Koordinatensystem -- gegeben durch die Eigenvektoren -- nur Normalspannungen -- die Hauptspannungen -- auf, jedoch keine Schubspannungen.\n",
    "\n",
    "Das Eigenwertproblem\n",
    "\n",
    "$$\n",
    "    (\\sigma_{ij} - \\sigma_a \\delta_{ij}) v^{(a)}_j = 0\n",
    "$$\n",
    "\n",
    "lösen wir zunächst nach den Eigenwerten mittels des charakteristischen Polynoms:\n",
    "\n",
    "$$\n",
    "    \\det (\\sigma_{ij} - \\sigma_a \\delta_{ij}) = 0\n",
    "$$\n",
    "\n",
    "Danach lassen sich die Eigenvektoren identifizieren.\n",
    "\n",
    "Die Spannungszustände lassen sich nun aufgrund der bekannten Hauptspannungen sowie deren Wirkungsrichtungen als Ellipsoide visualisieren."
   ]
  },
  {
   "cell_type": "code",
   "execution_count": 9,
   "metadata": {},
   "outputs": [
    {
     "data": {
      "application/vnd.jupyter.widget-view+json": {
       "model_id": "fa1cdf7d59c7492e89c0c352ba743273",
       "version_major": 2,
       "version_minor": 0
      },
      "text/plain": [
       "interactive(children=(FloatText(value=1.3, description='$\\\\sigma_{xx}$ / MPa', step=0.1), FloatText(value=1.3,…"
      ]
     },
     "metadata": {},
     "output_type": "display_data"
    }
   ],
   "source": [
    "plot_interactive_stress()"
   ]
  },
  {
   "cell_type": "code",
   "execution_count": 10,
   "metadata": {},
   "outputs": [
    {
     "data": {
      "application/vnd.jupyter.widget-view+json": {
       "model_id": "986d09b19d5f4008ad6e96f76604ad61",
       "version_major": 2,
       "version_minor": 0
      },
      "text/plain": [
       "Canvas(toolbar=Toolbar(toolitems=[('Home', 'Reset original view', 'home', 'home'), ('Back', 'Back to previous …"
      ]
     },
     "metadata": {},
     "output_type": "display_data"
    }
   ],
   "source": [
    "plot_stress_ellipsoid(1,1,3,0,0,0)"
   ]
  },
  {
   "cell_type": "markdown",
   "metadata": {},
   "source": [
    "Wir können uns einige spezielle Spannungszustände anschauen. Beispielsweise den eines Triaxialtests:"
   ]
  },
  {
   "cell_type": "code",
   "execution_count": 11,
   "metadata": {},
   "outputs": [
    {
     "data": {
      "application/vnd.jupyter.widget-view+json": {
       "model_id": "9756816a4f0a4f808d911e068d0b94ef",
       "version_major": 2,
       "version_minor": 0
      },
      "text/plain": [
       "Canvas(toolbar=Toolbar(toolitems=[('Home', 'Reset original view', 'home', 'home'), ('Back', 'Back to previous …"
      ]
     },
     "metadata": {},
     "output_type": "display_data"
    }
   ],
   "source": [
    "plot_stress_ellipsoid(1,1,3,0,0,0)"
   ]
  },
  {
   "cell_type": "markdown",
   "metadata": {},
   "source": [
    "Oder einen isotropen Spannungszustand:"
   ]
  },
  {
   "cell_type": "code",
   "execution_count": 12,
   "metadata": {},
   "outputs": [
    {
     "data": {
      "application/vnd.jupyter.widget-view+json": {
       "model_id": "981a5f0ea1284b94ab6cc143977c4fee",
       "version_major": 2,
       "version_minor": 0
      },
      "text/plain": [
       "Canvas(toolbar=Toolbar(toolitems=[('Home', 'Reset original view', 'home', 'home'), ('Back', 'Back to previous …"
      ]
     },
     "metadata": {},
     "output_type": "display_data"
    }
   ],
   "source": [
    "plot_stress_ellipsoid(3,3,3,0,0,0)"
   ]
  },
  {
   "cell_type": "markdown",
   "metadata": {},
   "source": [
    "Oder eine einfache Scherung in der $x-y$ Ebene ...."
   ]
  },
  {
   "cell_type": "code",
   "execution_count": 13,
   "metadata": {},
   "outputs": [
    {
     "data": {
      "application/vnd.jupyter.widget-view+json": {
       "model_id": "0dc4c69809fd424ead601bf23e8b1e6f",
       "version_major": 2,
       "version_minor": 0
      },
      "text/plain": [
       "Canvas(toolbar=Toolbar(toolitems=[('Home', 'Reset original view', 'home', 'home'), ('Back', 'Back to previous …"
      ]
     },
     "metadata": {},
     "output_type": "display_data"
    }
   ],
   "source": [
    "plot_stress_ellipsoid(0,0,0,1,0,0)"
   ]
  },
  {
   "cell_type": "markdown",
   "metadata": {},
   "source": [
    "oder der $x-z$ Ebene mit einer Normalbelastung in $y$ Richtung:"
   ]
  },
  {
   "cell_type": "code",
   "execution_count": 14,
   "metadata": {},
   "outputs": [
    {
     "data": {
      "application/vnd.jupyter.widget-view+json": {
       "model_id": "e5c2ae474fc148b98b5b54ce688e0bc9",
       "version_major": 2,
       "version_minor": 0
      },
      "text/plain": [
       "Canvas(toolbar=Toolbar(toolitems=[('Home', 'Reset original view', 'home', 'home'), ('Back', 'Back to previous …"
      ]
     },
     "metadata": {},
     "output_type": "display_data"
    }
   ],
   "source": [
    "plot_stress_ellipsoid(0,0.5,0,0,0,1)"
   ]
  },
  {
   "cell_type": "code",
   "execution_count": null,
   "metadata": {},
   "outputs": [],
   "source": []
  }
 ],
 "metadata": {
  "kernelspec": {
   "display_name": "Python 3",
   "language": "python",
   "name": "python3"
  },
  "language_info": {
   "codemirror_mode": {
    "name": "ipython",
    "version": 3
   },
   "file_extension": ".py",
   "mimetype": "text/x-python",
   "name": "python",
   "nbconvert_exporter": "python",
   "pygments_lexer": "ipython3",
   "version": "3.8.5"
  }
 },
 "nbformat": 4,
 "nbformat_minor": 4
}
