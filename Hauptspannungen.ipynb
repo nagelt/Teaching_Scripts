{
 "cells": [
  {
   "cell_type": "markdown",
   "metadata": {},
   "source": [
    "![Logo TUBAF](https://tu-freiberg.de/sites/default/files/media/freiberger-alumni-netzwerk-6127/wbm_orig_rgb_0.jpg)\n",
    "\n",
    "Exercise material of the BSc-level course **Mechanical Properties of Loose Rocks and Soils**.\n",
    "Held at Technische Universität Bergakademie Freiberg.\n",
    "\n",
    "Comments to:\n",
    "\n",
    "*Prof. Dr. Thomas Nagel  \n",
    "Chair of Soil Mechanics and Foundation Engineering  \n",
    "Geotechnical Institute  \n",
    "Technische Universität Bergakademie Freiberg.*\n",
    "\n",
    "https://tu-freiberg.de/en/fakultaet3/gt/soilmechanics"
   ]
  },
  {
   "cell_type": "markdown",
   "metadata": {},
   "source": [
    "# Hauptspannungen"
   ]
  },
  {
   "cell_type": "code",
   "execution_count": 1,
   "metadata": {},
   "outputs": [],
   "source": [
    "%matplotlib widget\n",
    "import matplotlib.pyplot as plt\n",
    "from mpl_toolkits.mplot3d import Axes3D\n",
    "import numpy as np\n",
    "from ipywidgets import widgets\n",
    "from ipywidgets import interact, interactive\n",
    "\n",
    "#Some plot settings\n",
    "import plot_functions.plot_settings\n",
    "%run plot_functions/Hauptspannungen_plots.ipynb"
   ]
  },
  {
   "cell_type": "markdown",
   "metadata": {},
   "source": [
    "Ein allgemeiner Spannungszustand ist im $x-y-z$ Koordinatensystem gegeben durch die symmetrische Matrix der Tensorkoordinaten\n",
    "\n",
    "$$\n",
    "    \\sigma_{ij} = \\begin{pmatrix}\n",
    "        \\sigma_{xx} & \\sigma_{xy} & \\sigma_{xz}\n",
    "        \\\\\n",
    "        \\sigma_{xy} & \\sigma_{yy} & \\sigma_{yz}\n",
    "        \\\\\n",
    "        \\sigma_{xz} & \\sigma_{yz} & \\sigma_{zz}\n",
    "    \\end{pmatrix}\n",
    "$$\n",
    "\n",
    "Durch Lösung des Eigenwertproblems lassen sich die Hauptspannungen $\\sigma_a$ mit $a = 1,2,3$ im zugehörigen Hauptachsensystem $1-2-3$ finden, für die gilt:\n",
    "\n",
    "$$\n",
    "    \\sigma_{ij} = \\begin{pmatrix}\n",
    "        \\sigma_{1} & 0 & 0\n",
    "        \\\\\n",
    "        0 & \\sigma_{2} & 0\n",
    "        \\\\\n",
    "        0 & 0 & \\sigma_{3}\n",
    "    \\end{pmatrix}\n",
    "$$\n",
    "\n",
    "Das Eigenwertproblem definiert die Eigenwerte $\\sigma_a$ und -vektoren $v_j^{(a)}$ wie folgt:\n",
    "\n",
    "$$\n",
    "    \\sigma_{ij} v^{(a)}_j = \\sigma_a v_j^{(a)}\n",
    "$$\n",
    "\n",
    "Wenn man also eine Matrix mit einem ihrer Eigenvektoren multipliziert, so erfährt dieser keine Drehung sondern lediglich eine Längenänderung in Form einer Skalierung mit dem zugehörigen Eigenwert. Das ist äquivalent zur Bedeutung des Hauptachsensystems: Es treten in diesem Koordinatensystem -- gegeben durch die Eigenvektoren -- nur Normalspannungen -- die Hauptspannungen -- auf, jedoch keine Schubspannungen.\n",
    "\n",
    "Das Eigenwertproblem\n",
    "\n",
    "$$\n",
    "    (\\sigma_{ij} - \\sigma_a \\delta_{ij}) v^{(a)}_j = 0\n",
    "$$\n",
    "\n",
    "lösen wir zunächst nach den Eigenwerten mittels des charakteristischen Polynoms:\n",
    "\n",
    "$$\n",
    "    \\det (\\sigma_{ij} - \\sigma_a \\delta_{ij}) = 0\n",
    "$$\n",
    "\n",
    "Danach lassen sich die Eigenvektoren identifizieren."
   ]
  },
  {
   "cell_type": "code",
   "execution_count": 2,
   "metadata": {},
   "outputs": [],
   "source": [
    "sigma_ij = np.array([[2,0.5,0.5],\n",
    "                     [0.5,3.2,-0.3],\n",
    "                     [0.5,-0.3,1.8]])"
   ]
  },
  {
   "cell_type": "code",
   "execution_count": 3,
   "metadata": {},
   "outputs": [],
   "source": [
    "sigma_a, v_a = np.linalg.eig(sigma_ij)\n",
    "#sorting by size\n",
    "idx = sigma_a.argsort()[::-1]\n",
    "sigma_a = sigma_a[idx]\n",
    "v_a = v_a[:,idx]"
   ]
  },
  {
   "cell_type": "code",
   "execution_count": 4,
   "metadata": {},
   "outputs": [
    {
     "data": {
      "application/vnd.jupyter.widget-view+json": {
       "model_id": "446647957084432ba987b40152d215c0",
       "version_major": 2,
       "version_minor": 0
      },
      "text/plain": [
       "interactive(children=(FloatText(value=1.3, description='$\\\\sigma_{xx}$ / MPa', step=0.1), FloatText(value=1.3,…"
      ]
     },
     "metadata": {},
     "output_type": "display_data"
    }
   ],
   "source": [
    "plot_interactive_stress()"
   ]
  },
  {
   "cell_type": "code",
   "execution_count": 5,
   "metadata": {},
   "outputs": [
    {
     "data": {
      "application/vnd.jupyter.widget-view+json": {
       "model_id": "6765dcfdfbdf4144ace25dd15de30b17",
       "version_major": 2,
       "version_minor": 0
      },
      "text/plain": [
       "Canvas(toolbar=Toolbar(toolitems=[('Home', 'Reset original view', 'home', 'home'), ('Back', 'Back to previous …"
      ]
     },
     "metadata": {},
     "output_type": "display_data"
    }
   ],
   "source": [
    "plot_stress_ellipsoid(1,1,3,0,0,0)"
   ]
  },
  {
   "cell_type": "markdown",
   "metadata": {},
   "source": [
    "Wir können uns einige spezielle Spannungszustände anschauen. Beispielsweise den eines Triaxialtests:"
   ]
  },
  {
   "cell_type": "code",
   "execution_count": 7,
   "metadata": {},
   "outputs": [
    {
     "data": {
      "application/vnd.jupyter.widget-view+json": {
       "model_id": "a2ac6249e3e04dc09623b8236a291f5c",
       "version_major": 2,
       "version_minor": 0
      },
      "text/plain": [
       "Canvas(toolbar=Toolbar(toolitems=[('Home', 'Reset original view', 'home', 'home'), ('Back', 'Back to previous …"
      ]
     },
     "metadata": {},
     "output_type": "display_data"
    }
   ],
   "source": [
    "plot_stress_ellipsoid(1,1,3,0,0,0)"
   ]
  },
  {
   "cell_type": "markdown",
   "metadata": {},
   "source": [
    "Oder einen isotropen Spannungszustand:"
   ]
  },
  {
   "cell_type": "code",
   "execution_count": 8,
   "metadata": {},
   "outputs": [
    {
     "data": {
      "application/vnd.jupyter.widget-view+json": {
       "model_id": "a56793ec2c814648aeb9ad1d9c76939b",
       "version_major": 2,
       "version_minor": 0
      },
      "text/plain": [
       "Canvas(toolbar=Toolbar(toolitems=[('Home', 'Reset original view', 'home', 'home'), ('Back', 'Back to previous …"
      ]
     },
     "metadata": {},
     "output_type": "display_data"
    }
   ],
   "source": [
    "plot_stress_ellipsoid(3,3,3,0,0,0)"
   ]
  },
  {
   "cell_type": "markdown",
   "metadata": {},
   "source": [
    "Oder eine einfache Scherung in der $x-y$ Ebene ...."
   ]
  },
  {
   "cell_type": "code",
   "execution_count": 9,
   "metadata": {},
   "outputs": [
    {
     "data": {
      "application/vnd.jupyter.widget-view+json": {
       "model_id": "e33956c2f8404a85ab20533d188062b6",
       "version_major": 2,
       "version_minor": 0
      },
      "text/plain": [
       "Canvas(toolbar=Toolbar(toolitems=[('Home', 'Reset original view', 'home', 'home'), ('Back', 'Back to previous …"
      ]
     },
     "metadata": {},
     "output_type": "display_data"
    }
   ],
   "source": [
    "plot_stress_ellipsoid(0,0,0,1,0,0)"
   ]
  },
  {
   "cell_type": "markdown",
   "metadata": {},
   "source": [
    "oder der $x-z$ Ebene mit einer Normalbelastung in $y$ Richtung:"
   ]
  },
  {
   "cell_type": "code",
   "execution_count": 11,
   "metadata": {},
   "outputs": [
    {
     "data": {
      "application/vnd.jupyter.widget-view+json": {
       "model_id": "1f41ac7f63fb45b0917be279f177d499",
       "version_major": 2,
       "version_minor": 0
      },
      "text/plain": [
       "Canvas(toolbar=Toolbar(toolitems=[('Home', 'Reset original view', 'home', 'home'), ('Back', 'Back to previous …"
      ]
     },
     "metadata": {},
     "output_type": "display_data"
    }
   ],
   "source": [
    "plot_stress_ellipsoid(0,0.5,0,0,0,1)"
   ]
  },
  {
   "cell_type": "code",
   "execution_count": null,
   "metadata": {},
   "outputs": [],
   "source": []
  }
 ],
 "metadata": {
  "kernelspec": {
   "display_name": "Python 3",
   "language": "python",
   "name": "python3"
  },
  "language_info": {
   "codemirror_mode": {
    "name": "ipython",
    "version": 3
   },
   "file_extension": ".py",
   "mimetype": "text/x-python",
   "name": "python",
   "nbconvert_exporter": "python",
   "pygments_lexer": "ipython3",
   "version": "3.8.5"
  }
 },
 "nbformat": 4,
 "nbformat_minor": 4
}
