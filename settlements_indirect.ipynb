{
 "cells": [
  {
   "cell_type": "markdown",
   "metadata": {
    "deletable": false,
    "editable": false
   },
   "source": [
    "![Logo TUBAF](https://tu-freiberg.de/sites/default/files/media/freiberger-alumni-netzwerk-6127/wbm_orig_rgb_0.jpg)\n",
    "\n",
    "Exercise material of the MSc-level course **Advanced Soil Mechanics**.\n",
    "Held at Technische Universität Bergakademie Freiberg.\n",
    "\n",
    "Comments to:\n",
    "\n",
    "*Prof. Dr. Thomas Nagel  \n",
    "Chair of Soil Mechanics and Foundation Engineering  \n",
    "Geotechnical Institute  \n",
    "Technische Universität Bergakademie Freiberg.*\n",
    "\n",
    "https://tu-freiberg.de/en/fakultaet3/gt/soilmechanics\n"
   ]
  },
  {
   "cell_type": "markdown",
   "metadata": {},
   "source": [
    "# Von Spannungen, Verzerrungen und Verschiebungen zu Setzungen -- indirekte Setzungsberechnungen\n",
    "\n",
    "Ein weiteres Verfahren, dass sich insbesondere bei mit der Tiefe varrierenden Baugrundeigenschaften oder bei Vorhandensein von Spannungsmessungen oder -prognosen, die nicht aus den bisher behandelten geschlossenen Lösungen resultieren, eignet, sind die indirekten Setzungsberechnungen."
   ]
  },
  {
   "cell_type": "code",
   "execution_count": 1,
   "metadata": {},
   "outputs": [],
   "source": [
    "#HIDDEN\n",
    "import numpy as np #numerical methods\n",
    "import matplotlib.pyplot as plt #plotting\n",
    "import seaborn as sns\n",
    "import sympy as sp\n",
    "from ipywidgets import widgets\n",
    "from ipywidgets import interact\n",
    "from ipywidgets import interactive\n",
    "sp.init_printing(use_latex='mathjax') #makes sympy output look nice\n",
    "\n",
    "#Some plot settings\n",
    "import plot_functions.plot_settings\n",
    "%run plot_functions/settlements_plots.ipynb"
   ]
  },
  {
   "cell_type": "markdown",
   "metadata": {},
   "source": [
    "Dafür wird der Baugrund in Schichten eingeteilt. Schichtgrenzen können bspw.\n",
    "\n",
    "* geologisch vorgegeben sein;\n",
    "* aus spannungsabhängigen Steifigkeitsänderungen resultieren;\n",
    "* veränderliche Lagerungsdichten oder Konsistenzen widerspiegeln;\n",
    "* durch die Berücksichtigung von Grundwasserständen (Wichte unter Auftrieb) notwendig werden.\n",
    "\n",
    "Für jede Schicht wird mit Bezug auf ihre mittlere Tiefe\n",
    "\n",
    "* die vertikale Überlagerungseffektivspannung vor Beginn der Baumaßnahme bestimmt;\n",
    "* die effektive Vertikalspannungseröhung infolge der Baumaßnahme ermittelt (bspw. über die Methode der $i$ Beiwerte);\n",
    "* der zur Ausgangsspannung und zum Spannungszuwachs gehörige Streifemodul als Sekantenmodul aus Druck-Setzungskurven bestimmt und daraus der Rechenmodul abgeleitet. \n",
    "\n",
    "Mit diesen Informationen kann für jede Schicht die Zusammendrückung (Teilsetzungsbeitrag) mittels\n",
    "\n",
    "$$\n",
    "    \\Delta s_i = \\frac{\\Delta \\sigma'_i}{E^*_i(\\sigma'_{0,i},\\Delta \\sigma'_i)} h_i\n",
    "$$\n",
    "\n",
    "ermittelt werden.\n",
    "\n",
    "Die Gesamtsetzung ergibt sich durch Summation über alle $n$ Schichten:\n",
    "\n",
    "$$\n",
    "    s = \\sum \\limits_{i=1}^n \\Delta s_i\n",
    "$$"
   ]
  },
  {
   "cell_type": "code",
   "execution_count": null,
   "metadata": {},
   "outputs": [],
   "source": []
  }
 ],
 "metadata": {
  "kernelspec": {
   "display_name": "Python 3",
   "language": "python",
   "name": "python3"
  },
  "language_info": {
   "codemirror_mode": {
    "name": "ipython",
    "version": 3
   },
   "file_extension": ".py",
   "mimetype": "text/x-python",
   "name": "python",
   "nbconvert_exporter": "python",
   "pygments_lexer": "ipython3",
   "version": "3.8.6"
  }
 },
 "nbformat": 4,
 "nbformat_minor": 4
}
