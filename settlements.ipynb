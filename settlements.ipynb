{
 "cells": [
  {
   "cell_type": "markdown",
   "metadata": {
    "deletable": false,
    "editable": false
   },
   "source": [
    "![Logo TUBAF](https://tu-freiberg.de/sites/default/files/media/freiberger-alumni-netzwerk-6127/wbm_orig_rgb_0.jpg)\n",
    "\n",
    "Exercise material of the MSc-level course **Advanced Soil Mechanics**.\n",
    "Held at Technische Universität Bergakademie Freiberg.\n",
    "\n",
    "Comments to:\n",
    "\n",
    "*Prof. Dr. Thomas Nagel  \n",
    "Chair of Soil Mechanics and Foundation Engineering  \n",
    "Geotechnical Institute  \n",
    "Technische Universität Bergakademie Freiberg.*\n",
    "\n",
    "https://tu-freiberg.de/en/fakultaet3/gt/soilmechanics\n"
   ]
  },
  {
   "cell_type": "markdown",
   "metadata": {},
   "source": [
    "# Von Spannungen, Verzerrungen und Verschiebungen zu Setzungen -- direkte Setzungsberechnungen\n",
    "\n",
    "Die folgenden Überlegungen dienen der Darstellung grundlegender mechanischer Zusammenhänge, bevor die praktischen Setzungsberechnungsverfahren eingeführt werden."
   ]
  },
  {
   "cell_type": "code",
   "execution_count": 1,
   "metadata": {},
   "outputs": [],
   "source": [
    "#HIDDEN\n",
    "import numpy as np #numerical methods\n",
    "import matplotlib.pyplot as plt #plotting\n",
    "import seaborn as sns\n",
    "import sympy as sp\n",
    "sp.init_printing(use_latex='mathjax') #makes sympy output look nice\n",
    "\n",
    "#Some plot settings\n",
    "import plot_functions.plot_settings\n",
    "%run plot_functions/settlements_plots.ipynb"
   ]
  },
  {
   "cell_type": "markdown",
   "metadata": {},
   "source": [
    "## Wiederholung: Lineare Elastizität in 3D\n",
    "\n",
    "Die Effektivspannungsänderungen, die durch den Lasteintrag hervorgerufen werden, gehen mit Verformungen einher. Die Verbindung von Spannungs- und Verzerrungsänderungen erfolgt über konstitutive Modelle, also Material- oder Stoffmodelle.\n",
    "\n",
    "Der linear elastische Festkörper wird im dreidimensionalen Raum beschrieben durch das generalisierte Hooke'sche Gesetz:\n",
    "\n",
    "\\begin{align}\n",
    "\\left(\n",
    "    \\begin{array}{c}\n",
    "    \\epsilon_{xx}\n",
    "    \\\\\n",
    "    \\epsilon_{yy}\n",
    "    \\\\\n",
    "    \\epsilon_{zz}\n",
    "    \\\\\n",
    "    \\epsilon_{xy}\n",
    "    \\\\\n",
    "    \\epsilon_{yz}\n",
    "    \\\\\n",
    "    \\epsilon_{xz}\n",
    "    \\end{array}\n",
    "\\right)\n",
    "=\n",
    "\\frac{1}{E}\n",
    "\\left(\n",
    "    \\begin{array}{cccccc}\n",
    "    1 & -\\nu & -\\nu & 0 & 0 & 0\n",
    "    \\\\\n",
    "    -\\nu & 1 & -\\nu & 0 & 0 & 0\n",
    "    \\\\\n",
    "    -\\nu & -\\nu & 1 & 0 & 0 & 0\n",
    "    \\\\\n",
    "    0 & 0 & 0 & 1 + \\nu & 0 & 0\n",
    "    \\\\\n",
    "    0 & 0 & 0 & 0 & 1 + \\nu & 0\n",
    "    \\\\\n",
    "    0 & 0 & 0 & 0 & 0 & 1 + \\nu\n",
    "    \\end{array}\n",
    "\\right)\n",
    "\\left(\n",
    "    \\begin{array}{c}\n",
    "    \\Delta \\sigma_{xx}'\n",
    "    \\\\\n",
    "    \\Delta \\sigma_{yy}'\n",
    "    \\\\\n",
    "    \\Delta \\sigma_{zz}'\n",
    "    \\\\\n",
    "    \\Delta \\sigma_{xy}'\n",
    "    \\\\\n",
    "    \\Delta \\sigma_{yz}'\n",
    "    \\\\\n",
    "    \\Delta \\sigma_{xz}'\n",
    "    \\end{array}\n",
    "\\right)\n",
    "\\end{align}\n",
    "\n",
    "bzw. nach den Spannungen aufgelöst\n",
    "\n",
    "\\begin{align}\n",
    "\\left(\n",
    "    \\begin{array}{c}\n",
    "    \\Delta \\sigma_{xx}'\n",
    "    \\\\\n",
    "    \\Delta \\sigma_{yy}'\n",
    "    \\\\\n",
    "    \\Delta \\sigma_{zz}'\n",
    "    \\\\\n",
    "    \\Delta \\sigma_{xy}'\n",
    "    \\\\\n",
    "    \\Delta \\sigma_{yz}'\n",
    "    \\\\\n",
    "    \\Delta \\sigma_{xz}'\n",
    "    \\end{array}\n",
    "\\right)\n",
    "=\n",
    "\\frac{E}{(1+\\nu) (1-2\\nu)}\n",
    "\\left(\n",
    "    \\begin{array}{cccccc}\n",
    "    1 -\\nu & \\nu & \\nu & 0 & 0 & 0\n",
    "    \\\\\n",
    "    \\nu & 1 - \\nu & \\nu & 0 & 0 & 0\n",
    "    \\\\\n",
    "    \\nu & \\nu & 1 - \\nu & 0 & 0 & 0\n",
    "    \\\\\n",
    "    0 & 0 & 0 & 1 - 2\\nu & 0 & 0\n",
    "    \\\\\n",
    "    0 & 0 & 0 & 0 & 1 - 2\\nu & 0\n",
    "    \\\\\n",
    "    0 & 0 & 0 & 0 & 0 & 1 - 2\\nu\n",
    "    \\end{array}\n",
    "\\right)\n",
    "\\left(\n",
    "    \\begin{array}{c}\n",
    "    \\epsilon_{xx}\n",
    "    \\\\\n",
    "    \\epsilon_{yy}\n",
    "    \\\\\n",
    "    \\epsilon_{zz}\n",
    "    \\\\\n",
    "    \\epsilon_{xy}\n",
    "    \\\\\n",
    "    \\epsilon_{yz}\n",
    "    \\\\\n",
    "    \\epsilon_{xz}\n",
    "    \\end{array}\n",
    "\\right)\n",
    "\\end{align}\n",
    "\n",
    "Für die Verzerrungen wurde dabei auf die Ausweisung der Inkremente $\\Delta$ verzichtet, da implizit angenommen wird, dass der Primärspannungszustand als unvervormter Ausgangszustand betrachtet wird."
   ]
  },
  {
   "cell_type": "markdown",
   "metadata": {},
   "source": [
    "## Verzerrungen im Halbraum\n",
    "\n",
    "Uns interessieren nun vornehlich die Vertikalverschiebungen des Bodens an der Geländeoberkannte. Diese ergeben sich aus den sich über die Tiefe akkumulierenden Vertikaldehnungen:\n",
    "\n",
    "$$\n",
    "    s(x,y) = u_z(x,y)|_{z=0} = \\int \\limits_{z=0}^{z=\\infty} \\epsilon_{zz} \\text{d}z\n",
    "$$\n",
    "\n",
    "Für die Vertikaldehnung finden wir die Beziehung\n",
    "\n",
    "$$\n",
    "    \\epsilon_{zz} = \\frac{1}{E} \\left[ \\Delta \\sigma'_{zz} - \\nu (\\Delta \\sigma'_{xx} + \\Delta \\sigma'_{yy})  \\right],\n",
    "$$\n",
    "\n",
    "mit der Vertikalverformungen bei gegebenen Normalspannungsverteilungen berechnet werden können."
   ]
  },
  {
   "cell_type": "markdown",
   "metadata": {},
   "source": [
    "Im Sonderfall behinderter Seitendehnung, der oft unter ausgedehnten Lasten angenommen wird, ergeben sich die Horizontalspannungsinkremente zu\n",
    "\n",
    "$$\n",
    "    \\Delta \\sigma'_{xx} = \\Delta \\sigma'_{yy} = \\frac{E \\nu }{(1+\\nu) (1-2\\nu)} \\epsilon_{zz}\n",
    "$$\n",
    "\n",
    "Eingesetzt in die obige Beziehung für die Vertikaldehnung ergibt sich dann\n",
    "\n",
    "$$\n",
    "    \\epsilon_{zz} = \\frac{\\Delta \\sigma'_{zz}}{E_\\text{s}} \\quad \\text{mit} \\quad  E_\\text{s} = \\frac{E(1-\\nu)}{(1+\\nu) (1-2\\nu)}\n",
    "$$\n",
    "\n",
    "mit dem Steifemodul $E_\\text{s}$ (Steifigkeit bei behinderter Seitendehnung). Im Folgenden wird implizit $\\sigma'_{ij} = \\sigma_{ij}$ angenommen."
   ]
  },
  {
   "cell_type": "markdown",
   "metadata": {},
   "source": [
    "## Isotroper elastischer Halbraum unter einer vertikalen Punktlast\n",
    "\n",
    "Wir rufen uns die analytische Lösung nach Boussinesq in Erinnerung."
   ]
  },
  {
   "cell_type": "markdown",
   "metadata": {},
   "source": [
    "Die kartesischen Koordinaten $x,y,z$ ($z$ vertikal) haben ihren Ursprung am Angriffspunkt der Punktlast. Zusätzlich werden die horizontal radialen Abstände $r$ sowie der räumliche Abstant $R$ wie folgt definiert:\n",
    "\n",
    "\\begin{align}\n",
    "    r &= \\sqrt{x^2 + y^2}\n",
    "    \\\\\n",
    "    R &= \\sqrt{r^2 + z^2}\n",
    "\\end{align}"
   ]
  },
  {
   "cell_type": "markdown",
   "metadata": {},
   "source": [
    "Nach der analytischen Lösung von Boussinesq ergeben sich die folgenden Gleichungen für die drei Normalspannungsverläufe:\n",
    "\n",
    "\\begin{align}\n",
    "    \\Delta \\sigma_{xx} &= \\frac{3F_z}{2\\pi R^2} \\left[ \\frac{x^2 z}{R^3} - \\frac{1-2\\nu}{3} \\left( \\frac{(x^2 - y^2) R}{r^2 (R + z)} + \\frac{y^2 z}{R r^2}\\right) \\right]\n",
    "    \\\\\n",
    "    \\Delta \\sigma_{yy} &= \\frac{3F_z}{2\\pi R^2} \\left[ \\frac{y^2 z}{R^3} - \\frac{1-2\\nu}{3} \\left( \\frac{(y^2 - x^2) R}{r^2 (R + z)} + \\frac{x^2 z}{R r^2}\\right) \\right]\n",
    "    \\\\\n",
    "    \\Delta \\sigma_{zz} &= \\frac{3F_z}{2\\pi R^2} \\frac{z^3}{R^3}\n",
    "\\end{align}"
   ]
  },
  {
   "cell_type": "markdown",
   "metadata": {},
   "source": [
    "Die Summe der beiden horizontalen Normalspannungen ergibt sich zu:\n",
    "\n",
    "$$\n",
    "    \\Delta \\sigma_{xx} + \\Delta \\sigma_{yy} = \\frac{3F_z}{2\\pi R^2} \\left[ \\frac{r^2 z}{R^3} - \\frac{1-2\\nu}{3} \\frac{z}{R} \\right]\n",
    "$$"
   ]
  },
  {
   "cell_type": "markdown",
   "metadata": {},
   "source": [
    "\\begin{align}\n",
    "    \\epsilon_{zz} &= \\frac{1}{E} \\left[ \\Delta \\sigma'_{zz} - \\nu (\\Delta \\sigma'_{xx} + \\Delta \\sigma'_{yy})  \\right]\n",
    "    \\\\\n",
    "    &= \\frac{3F_z}{2\\pi R^2 E} \\left[ \\frac{z^3}{R^3} - \\nu \\left( \\frac{r^2 z}{R^3} - \\frac{1-2\\nu}{3} \\frac{z}{R} \\right) \\right]\n",
    "\\end{align}\n",
    "\n",
    "Wir berechnen nun das Integral über $\\epsilon_{zz}$ von $z=\\infty$ bis zu einer Tiefe $\\bar{z}$, also:\n",
    "\n",
    "$$\n",
    "    u_z(r,\\bar{z}) = \\frac{3F_z}{2\\pi E} \\int \\limits_{\\bar{z}}^{\\infty} \\frac{1}{R^2} \\left[ \\frac{z^3}{R^3} - \\nu \\left( \\frac{r^2 z}{R^3} - \\frac{1-2\\nu}{3} \\frac{z}{R} \\right) \\right] \\text{d}z\n",
    "$$\n",
    "\n",
    "Dazu definieren wir in \\texttt{sympy} den integranden \\text{eps} (ohne konstanten Vorfaktor) und den Radius R:"
   ]
  },
  {
   "cell_type": "code",
   "execution_count": 2,
   "metadata": {},
   "outputs": [
    {
     "data": {
      "text/latex": [
       "$\\displaystyle \\sqrt{r^{2} + z^{2}}$"
      ],
      "text/plain": [
       "   _________\n",
       "  ╱  2    2 \n",
       "╲╱  r  + z  "
      ]
     },
     "execution_count": 2,
     "metadata": {},
     "output_type": "execute_result"
    }
   ],
   "source": [
    "r, z, nu, eps = sp.symbols('r z nu epsilon')\n",
    "R = sp.sqrt(r**2 + z**2)\n",
    "R"
   ]
  },
  {
   "cell_type": "code",
   "execution_count": 3,
   "metadata": {},
   "outputs": [
    {
     "data": {
      "text/latex": [
       "$\\displaystyle \\frac{- \\nu \\left(\\frac{r^{2} z}{\\left(r^{2} + z^{2}\\right)^{\\frac{3}{2}}} - \\frac{z \\left(\\frac{1}{3} - \\frac{2 \\nu}{3}\\right)}{\\sqrt{r^{2} + z^{2}}}\\right) + \\frac{z^{3}}{\\left(r^{2} + z^{2}\\right)^{\\frac{3}{2}}}}{r^{2} + z^{2}}$"
      ],
      "text/plain": [
       "    ⎛                 ⎛1   2⋅ν⎞ ⎞               \n",
       "    ⎜     2         z⋅⎜─ - ───⎟ ⎟         3     \n",
       "    ⎜    r ⋅z         ⎝3    3 ⎠ ⎟        z      \n",
       "- ν⋅⎜──────────── - ────────────⎟ + ────────────\n",
       "    ⎜         3/2      _________⎟            3/2\n",
       "    ⎜⎛ 2    2⎞        ╱  2    2 ⎟   ⎛ 2    2⎞   \n",
       "    ⎝⎝r  + z ⎠      ╲╱  r  + z  ⎠   ⎝r  + z ⎠   \n",
       "────────────────────────────────────────────────\n",
       "                     2    2                     \n",
       "                    r  + z                      "
      ]
     },
     "execution_count": 3,
     "metadata": {},
     "output_type": "execute_result"
    }
   ],
   "source": [
    "eps = 1/R**2 * ((z/R)**3 - nu * (r**2*z/R**3 - (1-2*nu)/3 * z/R))\n",
    "eps"
   ]
  },
  {
   "cell_type": "code",
   "execution_count": 4,
   "metadata": {},
   "outputs": [
    {
     "data": {
      "text/latex": [
       "$\\displaystyle \\frac{- 2 \\nu^{2} r^{2} - 2 \\nu^{2} z^{2} + \\nu z^{2} + 2 r^{2} + 3 z^{2}}{3 \\left(r^{2} + z^{2}\\right)^{\\frac{3}{2}}}$"
      ],
      "text/plain": [
       "     2  2      2  2      2      2      2\n",
       "- 2⋅ν ⋅r  - 2⋅ν ⋅z  + ν⋅z  + 2⋅r  + 3⋅z \n",
       "────────────────────────────────────────\n",
       "                        3/2             \n",
       "               ⎛ 2    2⎞                \n",
       "             3⋅⎝r  + z ⎠                "
      ]
     },
     "execution_count": 4,
     "metadata": {},
     "output_type": "execute_result"
    }
   ],
   "source": [
    "sp.integrate(eps,(z,z,sp.oo)).simplify()"
   ]
  },
  {
   "cell_type": "markdown",
   "metadata": {},
   "source": [
    "Geschickte Umformung durch Ausklammern und Verwendung der dritten binomischen Formel liefert:\n",
    "\n",
    "\\begin{align}\n",
    "    u_z(r,z) &= \\frac{3F_z}{2\\pi E} \\frac{1}{3R} \\left[ 2(1-\\nu^2) + \\frac{z^2}{R^2} ( 1+\\nu) \\right]\n",
    "    \\\\\n",
    "    &= \\frac{F_z}{2\\pi E} \\frac{1+\\nu}{R} \\left[ 2(1-\\nu) + \\frac{z^2}{R^2} \\right]\n",
    "\\end{align}\n",
    "\n",
    "Der Schubmodul ist mit dem E-Modul und der Querkontraktionszahl über\n",
    "\n",
    "$$\n",
    "    G = \\frac{E}{2(1+\\nu)}\n",
    "$$\n",
    "\n",
    "verknüpft, so dass unser Ergebnis letztlich lautet\n",
    "\n",
    "$$\n",
    "    u_z(r,z) = \\frac{F_z}{4\\pi G R} \\left[ 2(1-\\nu) + \\frac{z^2}{R^2} \\right]\n",
    "$$\n",
    "\n",
    "Oberflächensetzungen ergeben sich direkt zu\n",
    "\n",
    "$$\n",
    "    s(r) = u_z(r,z=0) = \\frac{F_z(1-\\nu)}{2\\pi G r}\n",
    "$$\n",
    "\n",
    "Man erkennt in dieser Lösung wiederum die Singularität am Punkt des Lasteintrages."
   ]
  },
  {
   "cell_type": "markdown",
   "metadata": {},
   "source": [
    "Zum Vergleich berechnen wir nun noch die Vertikalverschiebung bei Verwendung der Annahme einachsiger Verformungen (bei der Punktlast eine fragwürdige Annahme).\n",
    "\n",
    "$$\n",
    "    \\epsilon_{zz} = \\frac{\\Delta \\sigma'_{zz}}{E_\\text{s}} = \\frac{3F_z}{2\\pi E_\\text{s} R^2} \\frac{z^3}{R^3}\n",
    "$$\n",
    "\n",
    "Damit ergibt sich\n",
    "\n",
    "$$\n",
    "    \\bar{u}_z(r,\\bar{z}) = \\frac{3F_z}{2\\pi E_\\text{s}} \\int \\limits_{\\bar{z}}^{\\infty} \\frac{1}{R^2} \\left[ \\frac{z^3}{R^3} \\right] \\text{d}z\n",
    "$$\n"
   ]
  },
  {
   "cell_type": "code",
   "execution_count": 5,
   "metadata": {},
   "outputs": [
    {
     "data": {
      "text/latex": [
       "$\\displaystyle \\frac{z^{3}}{\\left(r^{2} + z^{2}\\right)^{\\frac{5}{2}}}$"
      ],
      "text/plain": [
       "      3     \n",
       "     z      \n",
       "────────────\n",
       "         5/2\n",
       "⎛ 2    2⎞   \n",
       "⎝r  + z ⎠   "
      ]
     },
     "execution_count": 5,
     "metadata": {},
     "output_type": "execute_result"
    }
   ],
   "source": [
    "eps = 1/R**2 * ((z/R)**3)\n",
    "eps"
   ]
  },
  {
   "cell_type": "code",
   "execution_count": 6,
   "metadata": {},
   "outputs": [
    {
     "data": {
      "text/latex": [
       "$\\displaystyle \\frac{\\frac{2 r^{2}}{3} + z^{2}}{\\left(r^{2} + z^{2}\\right)^{\\frac{3}{2}}}$"
      ],
      "text/plain": [
       "    2       \n",
       " 2⋅r     2  \n",
       " ──── + z   \n",
       "  3         \n",
       "────────────\n",
       "         3/2\n",
       "⎛ 2    2⎞   \n",
       "⎝r  + z ⎠   "
      ]
     },
     "execution_count": 6,
     "metadata": {},
     "output_type": "execute_result"
    }
   ],
   "source": [
    "sp.integrate(eps,(z,z,sp.oo)).simplify()"
   ]
  },
  {
   "cell_type": "markdown",
   "metadata": {},
   "source": [
    "Umformung ergibt für die Vertikalverschiebung\n",
    "\n",
    "$$\n",
    "    \\bar{u}(r,z) = \\frac{F_z}{2\\pi E_\\text{s} R} \\left[ 2 + \\frac{z^2}{R^2} \\right]\n",
    "$$\n",
    "\n",
    "und für die Setzung\n",
    "\n",
    "$$\n",
    "    \\bar{s}(r) = \\bar{u}(r,z=0) = \\frac{F_z}{\\pi E_\\text{s} r}\n",
    "$$\n",
    "\n",
    "*Aufgabe*: Wie unterscheiden sich die Lösungen $s(r)$ und $\\bar{s}(r)$ bei $\\nu = 0$? Wie erklärt sich das?\n",
    "\n",
    "Wir stellen nun beide Lösungen graphisch dar."
   ]
  },
  {
   "cell_type": "code",
   "execution_count": 7,
   "metadata": {},
   "outputs": [
    {
     "data": {
      "application/vnd.jupyter.widget-view+json": {
       "model_id": "273a21980e004396a1d3391c5d1e5c0b",
       "version_major": 2,
       "version_minor": 0
      },
      "text/plain": [
       "interactive(children=(BoundedFloatText(value=100.0, description='$E$ / MPa', max=1000.0, min=0.001), BoundedFl…"
      ]
     },
     "metadata": {},
     "output_type": "display_data"
    }
   ],
   "source": [
    "#HIDDEN\n",
    "interactive_point_settlement()"
   ]
  },
  {
   "cell_type": "markdown",
   "metadata": {},
   "source": [
    "Es treten größere Abweichungen auf, da unter der Punktlast nicht nur Kompressionssetzungen, sondern auch Verdrängungssetzungen auftreten."
   ]
  },
  {
   "cell_type": "markdown",
   "metadata": {},
   "source": [
    "## Isotroper elastischer Halbraum unter konstanter Rechtecklast\n",
    "\n",
    "Aufgrund des Superpositionsprinzips kann die obige Lösung u.a. so integriert werden, dass die Eckpunktsetzungen einer $a \\times b$ großen Rechtecklast der Intensität $q$ ermittelt werden können. Führt man die Integration des Vertikaldehnungsfeldes in den veränderten Grenzen \n",
    "\n",
    "$$\n",
    "    s = \\int \\limits_{z=0}^{z=t} \\epsilon_{zz} \\text{d}z\n",
    "$$\n",
    "\n",
    "aus, also bis in eine endliche Tiefe $t$ durch, so entspricht das einer in der Tiefe $t$ anstehenden undeformierbaren Baugrundschicht. Die Eckpunktsetzung ergibt sich zu\n",
    "\n",
    "$$\n",
    "    s = \\frac{q (1-\\nu)^2}{\\pi E} \\left[\n",
    "        a \\ln \\frac{\\left( b + \\sqrt{a^2 + b^2} \\right) \\sqrt{a^2 + t^2}}{a(b+R)} + \n",
    "        b \\ln \\frac{\\left( a + \\sqrt{a^2 + b^2} \\right) \\sqrt{b^2 + t^2}}{b(a+R)}\n",
    "    \\right] + \n",
    "    \\frac{q (1-\\nu-2\\nu^2)}{2 \\pi E} t \\arctan \\left( \\frac{ab}{tR} \\right)\n",
    "$$\n",
    "\n",
    "Den Einfluss der Integrationsgrenztiefe $t$ demonstriert die folgende Abbildung."
   ]
  },
  {
   "cell_type": "code",
   "execution_count": 8,
   "metadata": {},
   "outputs": [
    {
     "data": {
      "application/vnd.jupyter.widget-view+json": {
       "model_id": "c235923325b74a6f8fcf8929aeb804da",
       "version_major": 2,
       "version_minor": 0
      },
      "text/plain": [
       "interactive(children=(BoundedFloatText(value=100.0, description='$E$ / MPa', max=1000.0, min=0.001), BoundedFl…"
      ]
     },
     "metadata": {},
     "output_type": "display_data"
    }
   ],
   "source": [
    "#HIDDEN\n",
    "#%run plot_functions/settlements_plots.ipynb\n",
    "interactive_rect_settlement()"
   ]
  },
  {
   "cell_type": "markdown",
   "metadata": {},
   "source": [
    "Oberflächennah anstehende sehr steife Baugrundschichten verringern die auftretenden Setzungen also sehr stark. Aufgrund der Spannungsausbreitung im Untergrund tragen tiefere Schichten immer weniger zum Setzungsbetrag bei. Es lässt sich also die Existenz einer Grenztiefe für die Setzungsberechnung erwarten. Dazu das nächste Mal mehr."
   ]
  }
 ],
 "metadata": {
  "kernelspec": {
   "display_name": "Python 3",
   "language": "python",
   "name": "python3"
  },
  "language_info": {
   "codemirror_mode": {
    "name": "ipython",
    "version": 3
   },
   "file_extension": ".py",
   "mimetype": "text/x-python",
   "name": "python",
   "nbconvert_exporter": "python",
   "pygments_lexer": "ipython3",
   "version": "3.8.6"
  }
 },
 "nbformat": 4,
 "nbformat_minor": 4
}
