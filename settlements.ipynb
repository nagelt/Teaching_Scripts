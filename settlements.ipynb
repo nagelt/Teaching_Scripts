{
 "cells": [
  {
   "cell_type": "markdown",
   "metadata": {
    "deletable": false,
    "editable": false
   },
   "source": [
    "![Logo TUBAF](https://tu-freiberg.de/sites/default/files/media/freiberger-alumni-netzwerk-6127/wbm_orig_rgb_0.jpg)\n",
    "\n",
    "Exercise material of the MSc-level course **Advanced Soil Mechanics**.\n",
    "Held at Technische Universität Bergakademie Freiberg.\n",
    "\n",
    "Comments to:\n",
    "\n",
    "*Prof. Dr. Thomas Nagel  \n",
    "Chair of Soil Mechanics and Foundation Engineering  \n",
    "Geotechnical Institute  \n",
    "Technische Universität Bergakademie Freiberg.*\n",
    "\n",
    "https://tu-freiberg.de/en/soilmechanics\n"
   ]
  },
  {
   "cell_type": "markdown",
   "metadata": {},
   "source": [
    "# Von Spannungen, Verzerrungen und Verschiebungen zu Setzungen -- direkte Setzungsberechnungen\n",
    "\n",
    "Die folgenden Überlegungen dienen der Darstellung grundlegender mechanischer Zusammenhänge, bevor die praktischen Setzungsberechnungsverfahren eingeführt werden."
   ]
  },
  {
   "cell_type": "code",
   "execution_count": 1,
   "metadata": {},
   "outputs": [],
   "source": [
    "#HIDDEN\n",
    "import numpy as np #numerical methods\n",
    "import matplotlib.pyplot as plt #plotting\n",
    "import seaborn as sns\n",
    "import sympy as sp\n",
    "from ipywidgets import widgets\n",
    "from ipywidgets import interact\n",
    "from ipywidgets import interactive\n",
    "sp.init_printing(use_latex='mathjax') #makes sympy output look nice\n",
    "\n",
    "#Some plot settings\n",
    "import plot_functions.plot_settings\n",
    "%run plot_functions/settlements_plots.ipynb\n",
    "plt.rcParams['axes.spines.top'] = False"
   ]
  },
  {
   "cell_type": "markdown",
   "metadata": {},
   "source": [
    "## Wiederholung: Lineare Elastizität in 3D\n",
    "\n",
    "Die Effektivspannungsänderungen, die durch den Lasteintrag hervorgerufen werden, gehen mit Verformungen einher. Die Verbindung von Spannungs- und Verzerrungsänderungen erfolgt über konstitutive Modelle, also Material- oder Stoffmodelle.\n",
    "\n",
    "Der linear elastische Festkörper wird im dreidimensionalen Raum beschrieben durch das generalisierte Hooke'sche Gesetz:\n",
    "\n",
    "\\begin{align}\n",
    "\\left(\n",
    "    \\begin{array}{c}\n",
    "    \\epsilon_{xx}\n",
    "    \\\\\n",
    "    \\epsilon_{yy}\n",
    "    \\\\\n",
    "    \\epsilon_{zz}\n",
    "    \\\\\n",
    "    \\epsilon_{xy}\n",
    "    \\\\\n",
    "    \\epsilon_{yz}\n",
    "    \\\\\n",
    "    \\epsilon_{xz}\n",
    "    \\end{array}\n",
    "\\right)\n",
    "=\n",
    "\\frac{1}{E}\n",
    "\\left(\n",
    "    \\begin{array}{cccccc}\n",
    "    1 & -\\nu & -\\nu & 0 & 0 & 0\n",
    "    \\\\\n",
    "    -\\nu & 1 & -\\nu & 0 & 0 & 0\n",
    "    \\\\\n",
    "    -\\nu & -\\nu & 1 & 0 & 0 & 0\n",
    "    \\\\\n",
    "    0 & 0 & 0 & 1 + \\nu & 0 & 0\n",
    "    \\\\\n",
    "    0 & 0 & 0 & 0 & 1 + \\nu & 0\n",
    "    \\\\\n",
    "    0 & 0 & 0 & 0 & 0 & 1 + \\nu\n",
    "    \\end{array}\n",
    "\\right)\n",
    "\\left(\n",
    "    \\begin{array}{c}\n",
    "    \\Delta \\sigma_{xx}'\n",
    "    \\\\\n",
    "    \\Delta \\sigma_{yy}'\n",
    "    \\\\\n",
    "    \\Delta \\sigma_{zz}'\n",
    "    \\\\\n",
    "    \\Delta \\sigma_{xy}'\n",
    "    \\\\\n",
    "    \\Delta \\sigma_{yz}'\n",
    "    \\\\\n",
    "    \\Delta \\sigma_{xz}'\n",
    "    \\end{array}\n",
    "\\right)\n",
    "\\end{align}\n",
    "\n",
    "bzw. nach den Spannungen aufgelöst\n",
    "\n",
    "\\begin{align}\n",
    "\\left(\n",
    "    \\begin{array}{c}\n",
    "    \\Delta \\sigma_{xx}'\n",
    "    \\\\\n",
    "    \\Delta \\sigma_{yy}'\n",
    "    \\\\\n",
    "    \\Delta \\sigma_{zz}'\n",
    "    \\\\\n",
    "    \\Delta \\sigma_{xy}'\n",
    "    \\\\\n",
    "    \\Delta \\sigma_{yz}'\n",
    "    \\\\\n",
    "    \\Delta \\sigma_{xz}'\n",
    "    \\end{array}\n",
    "\\right)\n",
    "=\n",
    "\\frac{E}{(1+\\nu) (1-2\\nu)}\n",
    "\\left(\n",
    "    \\begin{array}{cccccc}\n",
    "    1 -\\nu & \\nu & \\nu & 0 & 0 & 0\n",
    "    \\\\\n",
    "    \\nu & 1 - \\nu & \\nu & 0 & 0 & 0\n",
    "    \\\\\n",
    "    \\nu & \\nu & 1 - \\nu & 0 & 0 & 0\n",
    "    \\\\\n",
    "    0 & 0 & 0 & 1 - 2\\nu & 0 & 0\n",
    "    \\\\\n",
    "    0 & 0 & 0 & 0 & 1 - 2\\nu & 0\n",
    "    \\\\\n",
    "    0 & 0 & 0 & 0 & 0 & 1 - 2\\nu\n",
    "    \\end{array}\n",
    "\\right)\n",
    "\\left(\n",
    "    \\begin{array}{c}\n",
    "    \\epsilon_{xx}\n",
    "    \\\\\n",
    "    \\epsilon_{yy}\n",
    "    \\\\\n",
    "    \\epsilon_{zz}\n",
    "    \\\\\n",
    "    \\epsilon_{xy}\n",
    "    \\\\\n",
    "    \\epsilon_{yz}\n",
    "    \\\\\n",
    "    \\epsilon_{xz}\n",
    "    \\end{array}\n",
    "\\right)\n",
    "\\end{align}\n",
    "\n",
    "Für die Verzerrungen wurde dabei auf die Ausweisung der Inkremente $\\Delta$ verzichtet, da implizit angenommen wird, dass der Primärspannungszustand als unvervormter Ausgangszustand betrachtet wird."
   ]
  },
  {
   "cell_type": "markdown",
   "metadata": {},
   "source": [
    "## Verzerrungen im Halbraum\n",
    "\n",
    "Uns interessieren nun vornehlich die Vertikalverschiebungen des Bodens an der Geländeoberkannte. Diese ergeben sich aus den sich über die Tiefe akkumulierenden Vertikaldehnungen:\n",
    "\n",
    "$$\n",
    "    s(x,y) = u_z(x,y)|_{z=0} = \\int \\limits_{z=0}^{z=\\infty} \\epsilon_{zz} \\text{d}z\n",
    "$$\n",
    "\n",
    "Für die Vertikaldehnung finden wir die Beziehung\n",
    "\n",
    "$$\n",
    "    \\epsilon_{zz} = \\frac{1}{E} \\left[ \\Delta \\sigma'_{zz} - \\nu (\\Delta \\sigma'_{xx} + \\Delta \\sigma'_{yy})  \\right],\n",
    "$$\n",
    "\n",
    "mit der Vertikalverformungen bei gegebenen Normalspannungsverteilungen berechnet werden können."
   ]
  },
  {
   "cell_type": "markdown",
   "metadata": {},
   "source": [
    "Im Sonderfall behinderter Seitendehnung, der oft unter ausgedehnten Lasten angenommen wird, ergeben sich die Horizontalspannungsinkremente zu\n",
    "\n",
    "$$\n",
    "    \\Delta \\sigma'_{xx} = \\Delta \\sigma'_{yy} = \\frac{E \\nu }{(1+\\nu) (1-2\\nu)} \\epsilon_{zz}\n",
    "$$\n",
    "\n",
    "Eingesetzt in die obige Beziehung für die Vertikaldehnung ergibt sich dann\n",
    "\n",
    "$$\n",
    "    \\epsilon_{zz} = \\frac{\\Delta \\sigma'_{zz}}{E_\\text{s}} \\quad \\text{mit} \\quad  E_\\text{s} = \\frac{E(1-\\nu)}{(1+\\nu) (1-2\\nu)}\n",
    "$$\n",
    "\n",
    "mit dem Steifemodul $E_\\text{s}$ (Steifigkeit bei behinderter Seitendehnung). Im Folgenden wird implizit $\\sigma'_{ij} = \\sigma_{ij}$ angenommen."
   ]
  },
  {
   "cell_type": "markdown",
   "metadata": {},
   "source": [
    "## Isotroper elastischer Halbraum unter einer vertikalen Punktlast\n",
    "\n",
    "Wir rufen uns die analytische Lösung nach Boussinesq in Erinnerung."
   ]
  },
  {
   "cell_type": "markdown",
   "metadata": {},
   "source": [
    "Die kartesischen Koordinaten $x,y,z$ ($z$ vertikal) haben ihren Ursprung am Angriffspunkt der Punktlast. Zusätzlich werden die horizontal radialen Abstände $r$ sowie der räumliche Abstant $R$ wie folgt definiert:\n",
    "\n",
    "\\begin{align}\n",
    "    r &= \\sqrt{x^2 + y^2}\n",
    "    \\\\\n",
    "    R &= \\sqrt{r^2 + z^2}\n",
    "\\end{align}"
   ]
  },
  {
   "cell_type": "markdown",
   "metadata": {},
   "source": [
    "Nach der analytischen Lösung von Boussinesq ergeben sich die folgenden Gleichungen für die drei Normalspannungsverläufe:\n",
    "\n",
    "\\begin{align}\n",
    "    \\Delta \\sigma_{xx} &= \\frac{3F_z}{2\\pi R^2} \\left[ \\frac{x^2 z}{R^3} - \\frac{1-2\\nu}{3} \\left( \\frac{(x^2 - y^2) R}{r^2 (R + z)} + \\frac{y^2 z}{R r^2}\\right) \\right]\n",
    "    \\\\\n",
    "    \\Delta \\sigma_{yy} &= \\frac{3F_z}{2\\pi R^2} \\left[ \\frac{y^2 z}{R^3} - \\frac{1-2\\nu}{3} \\left( \\frac{(y^2 - x^2) R}{r^2 (R + z)} + \\frac{x^2 z}{R r^2}\\right) \\right]\n",
    "    \\\\\n",
    "    \\Delta \\sigma_{zz} &= \\frac{3F_z}{2\\pi R^2} \\frac{z^3}{R^3}\n",
    "\\end{align}"
   ]
  },
  {
   "cell_type": "markdown",
   "metadata": {},
   "source": [
    "Die Summe der beiden horizontalen Normalspannungen ergibt sich zu:\n",
    "\n",
    "$$\n",
    "    \\Delta \\sigma_{xx} + \\Delta \\sigma_{yy} = \\frac{3F_z}{2\\pi R^2} \\left[ \\frac{r^2 z}{R^3} - \\frac{1-2\\nu}{3} \\frac{z}{R} \\right]\n",
    "$$"
   ]
  },
  {
   "cell_type": "markdown",
   "metadata": {},
   "source": [
    "\\begin{align}\n",
    "    \\epsilon_{zz} &= \\frac{1}{E} \\left[ \\Delta \\sigma'_{zz} - \\nu (\\Delta \\sigma'_{xx} + \\Delta \\sigma'_{yy})  \\right]\n",
    "    \\\\\n",
    "    &= \\frac{3F_z}{2\\pi R^2 E} \\left[ \\frac{z^3}{R^3} - \\nu \\left( \\frac{r^2 z}{R^3} - \\frac{1-2\\nu}{3} \\frac{z}{R} \\right) \\right]\n",
    "\\end{align}\n",
    "\n",
    "Wir berechnen nun das Integral über $\\epsilon_{zz}$ von $z=\\infty$ bis zu einer Tiefe $\\bar{z}$, also:\n",
    "\n",
    "$$\n",
    "    u_z(r,\\bar{z}) = \\frac{3F_z}{2\\pi E} \\int \\limits_{\\bar{z}}^{\\infty} \\frac{1}{R^2} \\left[ \\frac{z^3}{R^3} - \\nu \\left( \\frac{r^2 z}{R^3} - \\frac{1-2\\nu}{3} \\frac{z}{R} \\right) \\right] \\text{d}z\n",
    "$$\n",
    "\n",
    "Dazu definieren wir in `sympy` den Integranden eps (ohne konstanten Vorfaktor) und den Radius R:"
   ]
  },
  {
   "cell_type": "code",
   "execution_count": 2,
   "metadata": {},
   "outputs": [
    {
     "data": {
      "text/latex": [
       "$\\displaystyle \\sqrt{r^{2} + z^{2}}$"
      ],
      "text/plain": [
       "   _________\n",
       "  ╱  2    2 \n",
       "╲╱  r  + z  "
      ]
     },
     "execution_count": 2,
     "metadata": {},
     "output_type": "execute_result"
    }
   ],
   "source": [
    "r, z, nu, eps = sp.symbols('r z nu epsilon')\n",
    "R = sp.sqrt(r**2 + z**2)\n",
    "R"
   ]
  },
  {
   "cell_type": "code",
   "execution_count": 3,
   "metadata": {},
   "outputs": [
    {
     "data": {
      "text/latex": [
       "$\\displaystyle \\frac{- \\nu \\left(\\frac{r^{2} z}{\\left(r^{2} + z^{2}\\right)^{\\frac{3}{2}}} - \\frac{z \\left(\\frac{1}{3} - \\frac{2 \\nu}{3}\\right)}{\\sqrt{r^{2} + z^{2}}}\\right) + \\frac{z^{3}}{\\left(r^{2} + z^{2}\\right)^{\\frac{3}{2}}}}{r^{2} + z^{2}}$"
      ],
      "text/plain": [
       "    ⎛                 ⎛1   2⋅ν⎞ ⎞               \n",
       "    ⎜     2         z⋅⎜─ - ───⎟ ⎟         3     \n",
       "    ⎜    r ⋅z         ⎝3    3 ⎠ ⎟        z      \n",
       "- ν⋅⎜──────────── - ────────────⎟ + ────────────\n",
       "    ⎜         3/2      _________⎟            3/2\n",
       "    ⎜⎛ 2    2⎞        ╱  2    2 ⎟   ⎛ 2    2⎞   \n",
       "    ⎝⎝r  + z ⎠      ╲╱  r  + z  ⎠   ⎝r  + z ⎠   \n",
       "────────────────────────────────────────────────\n",
       "                     2    2                     \n",
       "                    r  + z                      "
      ]
     },
     "execution_count": 3,
     "metadata": {},
     "output_type": "execute_result"
    }
   ],
   "source": [
    "eps = 1/R**2 * ((z/R)**3 - nu * (r**2*z/R**3 - (1-2*nu)/3 * z/R))\n",
    "eps"
   ]
  },
  {
   "cell_type": "code",
   "execution_count": 4,
   "metadata": {},
   "outputs": [
    {
     "data": {
      "text/latex": [
       "$\\displaystyle \\frac{- 2 \\nu^{2} r^{2} - 2 \\nu^{2} z^{2} + \\nu z^{2} + 2 r^{2} + 3 z^{2}}{3 \\left(r^{2} + z^{2}\\right)^{\\frac{3}{2}}}$"
      ],
      "text/plain": [
       "     2  2      2  2      2      2      2\n",
       "- 2⋅ν ⋅r  - 2⋅ν ⋅z  + ν⋅z  + 2⋅r  + 3⋅z \n",
       "────────────────────────────────────────\n",
       "                        3/2             \n",
       "               ⎛ 2    2⎞                \n",
       "             3⋅⎝r  + z ⎠                "
      ]
     },
     "execution_count": 4,
     "metadata": {},
     "output_type": "execute_result"
    }
   ],
   "source": [
    "sp.integrate(eps,(z,z,sp.oo)).simplify()"
   ]
  },
  {
   "cell_type": "markdown",
   "metadata": {},
   "source": [
    "Geschickte Umformung durch Ausklammern und Verwendung der dritten binomischen Formel liefert:\n",
    "\n",
    "\\begin{align}\n",
    "    u_z(r,z) &= \\frac{3F_z}{2\\pi E} \\frac{1}{3R} \\left[ 2(1-\\nu^2) + \\frac{z^2}{R^2} ( 1+\\nu) \\right]\n",
    "    \\\\\n",
    "    &= \\frac{F_z}{2\\pi E} \\frac{1+\\nu}{R} \\left[ 2(1-\\nu) + \\frac{z^2}{R^2} \\right]\n",
    "\\end{align}\n",
    "\n",
    "Der Schubmodul ist mit dem E-Modul und der Querkontraktionszahl über\n",
    "\n",
    "$$\n",
    "    G = \\frac{E}{2(1+\\nu)}\n",
    "$$\n",
    "\n",
    "verknüpft, so dass unser Ergebnis letztlich lautet\n",
    "\n",
    "$$\n",
    "    u_z(r,z) = \\frac{F_z}{4\\pi G R} \\left[ 2(1-\\nu) + \\frac{z^2}{R^2} \\right]\n",
    "$$\n",
    "\n",
    "Oberflächensetzungen ergeben sich direkt zu\n",
    "\n",
    "$$\n",
    "    s(r) = u_z(r,z=0) = \\frac{F_z(1-\\nu)}{2\\pi G r}\n",
    "$$\n",
    "\n",
    "Man erkennt in dieser Lösung wiederum die Singularität am Punkt des Lasteintrages."
   ]
  },
  {
   "cell_type": "markdown",
   "metadata": {},
   "source": [
    "Zum Vergleich berechnen wir nun noch die Vertikalverschiebung bei Verwendung der Annahme einachsiger Verformungen (bei der Punktlast eine fragwürdige Annahme).\n",
    "\n",
    "$$\n",
    "    \\epsilon_{zz} = \\frac{\\Delta \\sigma'_{zz}}{E_\\text{s}} = \\frac{3F_z}{2\\pi E_\\text{s} R^2} \\frac{z^3}{R^3}\n",
    "$$\n",
    "\n",
    "Damit ergibt sich\n",
    "\n",
    "$$\n",
    "    \\bar{u}_z(r,\\bar{z}) = \\frac{3F_z}{2\\pi E_\\text{s}} \\int \\limits_{\\bar{z}}^{\\infty} \\frac{1}{R^2} \\left[ \\frac{z^3}{R^3} \\right] \\text{d}z\n",
    "$$\n"
   ]
  },
  {
   "cell_type": "code",
   "execution_count": 5,
   "metadata": {},
   "outputs": [
    {
     "data": {
      "text/latex": [
       "$\\displaystyle \\frac{z^{3}}{\\left(r^{2} + z^{2}\\right)^{\\frac{5}{2}}}$"
      ],
      "text/plain": [
       "      3     \n",
       "     z      \n",
       "────────────\n",
       "         5/2\n",
       "⎛ 2    2⎞   \n",
       "⎝r  + z ⎠   "
      ]
     },
     "execution_count": 5,
     "metadata": {},
     "output_type": "execute_result"
    }
   ],
   "source": [
    "eps = 1/R**2 * ((z/R)**3)\n",
    "eps"
   ]
  },
  {
   "cell_type": "code",
   "execution_count": 6,
   "metadata": {},
   "outputs": [
    {
     "data": {
      "text/latex": [
       "$\\displaystyle \\frac{\\frac{2 r^{2}}{3} + z^{2}}{\\left(r^{2} + z^{2}\\right)^{\\frac{3}{2}}}$"
      ],
      "text/plain": [
       "    2       \n",
       " 2⋅r     2  \n",
       " ──── + z   \n",
       "  3         \n",
       "────────────\n",
       "         3/2\n",
       "⎛ 2    2⎞   \n",
       "⎝r  + z ⎠   "
      ]
     },
     "execution_count": 6,
     "metadata": {},
     "output_type": "execute_result"
    }
   ],
   "source": [
    "sp.integrate(eps,(z,z,sp.oo)).simplify()"
   ]
  },
  {
   "cell_type": "markdown",
   "metadata": {},
   "source": [
    "Umformung ergibt für die Vertikalverschiebung\n",
    "\n",
    "$$\n",
    "    \\bar{u}(r,z) = \\frac{F_z}{2\\pi E_\\text{s} R} \\left[ 2 + \\frac{z^2}{R^2} \\right]\n",
    "$$\n",
    "\n",
    "und für die Setzung\n",
    "\n",
    "$$\n",
    "    \\bar{s}(r) = \\bar{u}(r,z=0) = \\frac{F_z}{\\pi E_\\text{s} r}\n",
    "$$\n",
    "\n",
    "*Aufgabe*: Wie unterscheiden sich die Lösungen $s(r)$ und $\\bar{s}(r)$ bei $\\nu = 0$? Wie erklärt sich das?\n",
    "\n",
    "Wir stellen nun beide Lösungen graphisch dar."
   ]
  },
  {
   "cell_type": "code",
   "execution_count": 7,
   "metadata": {},
   "outputs": [
    {
     "data": {
      "application/vnd.jupyter.widget-view+json": {
       "model_id": "5e17c6f10d8c44009a3d407c32abe52b",
       "version_major": 2,
       "version_minor": 0
      },
      "text/plain": [
       "interactive(children=(BoundedFloatText(value=100.0, description='$E$ / MPa', max=1000.0, min=0.001), BoundedFl…"
      ]
     },
     "metadata": {},
     "output_type": "display_data"
    }
   ],
   "source": [
    "#HIDDEN\n",
    "interactive_point_settlement()"
   ]
  },
  {
   "cell_type": "markdown",
   "metadata": {},
   "source": [
    "Es treten größere Abweichungen auf, da unter der Punktlast nicht nur Kompressionssetzungen, sondern auch Verdrängungssetzungen auftreten."
   ]
  },
  {
   "cell_type": "markdown",
   "metadata": {},
   "source": [
    "## Isotroper elastischer Halbraum unter konstanter Rechtecklast\n",
    "\n",
    "Aufgrund des Superpositionsprinzips kann die obige Lösung u.a. so integriert werden, dass die Eckpunktsetzungen einer $a \\times b$ großen Rechtecklast der Intensität $q_0$ ermittelt werden können. Führt man die Integration des Vertikaldehnungsfeldes in den veränderten Grenzen \n",
    "\n",
    "$$\n",
    "    s = \\int \\limits_{z=0}^{z=t} \\epsilon_{zz} \\text{d}z\n",
    "$$\n",
    "\n",
    "aus, also bis in eine endliche Tiefe $t$ durch, so entspricht das einer in der Tiefe $t$ anstehenden undeformierbaren Baugrundschicht. Die Eckpunktsetzung ergibt sich zu\n",
    "\n",
    "$$\n",
    "    s = \\frac{q_0 (1-\\nu^2)}{\\pi E} \\left[\n",
    "        a \\ln \\frac{\\left( b + \\sqrt{a^2 + b^2} \\right) \\sqrt{a^2 + t^2}}{a(b+R)} + \n",
    "        b \\ln \\frac{\\left( a + \\sqrt{a^2 + b^2} \\right) \\sqrt{b^2 + t^2}}{b(a+R)}\n",
    "    \\right] + \n",
    "    \\frac{q_0 (1-\\nu-2\\nu^2)}{2 \\pi E} t \\arctan \\left( \\frac{ab}{tR} \\right)\n",
    "$$\n",
    "\n",
    "mit $R = \\sqrt{a^2 + b^2 + t^2}$.\n",
    "\n",
    "Den Einfluss der Integrationsgrenztiefe $t$ demonstriert die folgende Abbildung."
   ]
  },
  {
   "cell_type": "code",
   "execution_count": 8,
   "metadata": {},
   "outputs": [
    {
     "data": {
      "application/vnd.jupyter.widget-view+json": {
       "model_id": "702e37be176d454cb105f0181622642d",
       "version_major": 2,
       "version_minor": 0
      },
      "text/plain": [
       "interactive(children=(BoundedFloatText(value=100.0, description='$E$ / MPa', max=1000.0, min=0.001), BoundedFl…"
      ]
     },
     "metadata": {},
     "output_type": "display_data"
    }
   ],
   "source": [
    "#HIDDEN\n",
    "#%run plot_functions/settlements_plots.ipynb\n",
    "interactive_rect_settlement()"
   ]
  },
  {
   "cell_type": "markdown",
   "metadata": {},
   "source": [
    "Oberflächennah anstehende sehr steife Baugrundschichten verringern die auftretenden Setzungen also sehr stark. Aufgrund der Spannungsausbreitung im Untergrund tragen tiefere Schichten immer weniger zum Setzungsbetrag bei. Zudem nimmt die Steifigkeit des Bodens mit der Tiefe zu. Die Schersteifigkeit bei sehr kleinen Deformationen ist zudem ebenfalls höher, als aus Versuchen mit größeren Deformationen zu erwarten wäre. Es lässt sich also die Existenz einer Grenztiefe für die Setzungsberechnung erwarten. Dazu das nächste Mal mehr."
   ]
  },
  {
   "cell_type": "markdown",
   "metadata": {},
   "source": [
    "## Mittelpunktsetzungen unter konstanten Rechteck bzw. Kreislasten\n",
    "\n",
    "Für Mittelpunktsetzungen unter schlaffen Lasten $q_0$ auf kreisförmigen Flächen des Radius $R$ gilt nach *Fischer* \n",
    "\n",
    "$$\n",
    "    s_{\\text{M; Kreis}}(R) = \\frac{2q_0}{E} \\left[ (1-\\nu^2) \\left( R + t - \\sqrt{t^2 + R^2} \\right) - \\frac{t(1+\\nu)}{2} \\left( 1 - \\frac{t}{\\sqrt{t^2 + R^2}} \\right) \\right]\n",
    "$$\n",
    "\n",
    "Die Mittelpunktsetzung der Rechtecklast berechnen wir aus der bereits bekannten Eckpunktformel durch Superposition:\n",
    "\n",
    "$$\n",
    "    s_{\\text{M; Rechteck}}(a \\times b) = 4 s_{\\text{E; Rechteck}}\\left( \\frac{a}{2} \\times \\frac{b}{2} \\right)\n",
    "$$\n",
    "\n",
    "In der folgenden Abbildung werden die Setzungen unter Rechtecklasten (Eck- und Mittelpunkte) mit denen unter flächengleichen Kreislasten verglichen."
   ]
  },
  {
   "cell_type": "code",
   "execution_count": 9,
   "metadata": {},
   "outputs": [
    {
     "data": {
      "application/vnd.jupyter.widget-view+json": {
       "model_id": "c2b55c963fd445b29d0ac2573115a311",
       "version_major": 2,
       "version_minor": 0
      },
      "text/plain": [
       "interactive(children=(BoundedFloatText(value=100.0, description='$E$ / MPa', max=1000.0, min=0.001), BoundedFl…"
      ]
     },
     "metadata": {},
     "output_type": "display_data"
    }
   ],
   "source": [
    "#HIDDEN\n",
    "#%run plot_functions/settlements_plots.ipynb\n",
    "interactive_rect_circ_settlement()"
   ]
  },
  {
   "cell_type": "markdown",
   "metadata": {},
   "source": [
    "## Zur Grenztiefe\n",
    "\n",
    "Wir nähern uns nun der Fragestellung einer Grenztiefe für die Setzungsermittlung und nutzen dafür die bekannten Formeln für die Eckpunkte von Rechtecklasten. Wir betrachten einerseits das Verhältnis des berechneten Setzungswertes bei Ansatz einer bestimmten Grenztiefe $t$ und des Grenzwertes bei unendlicher Grenztiefe:\n",
    "\n",
    "$$\n",
    "    \\frac{s(t)}{\\lim \\limits_{t \\rightarrow \\infty} s(t)}\n",
    "$$\n",
    "\n",
    "Dieses Verhältnis vergleichen wir mit dem Verhältnis der auflastinduzierten Spannungsänderung $\\Delta \\sigma_{zz}$ zum Betrag der Vertikalspannung im Grundspannungszustand $\\sigma_{0,zz}$ in:\n",
    "\n",
    "$$\n",
    "    \\frac{\\Delta \\sigma_{zz}(t)}{\\sigma_{0,zz}(t)} \\quad \\text{mit} \\quad \\sigma_{0,zz}(z) = \\gamma t\n",
    "$$"
   ]
  },
  {
   "cell_type": "code",
   "execution_count": 10,
   "metadata": {},
   "outputs": [
    {
     "data": {
      "application/vnd.jupyter.widget-view+json": {
       "model_id": "3ee97a330bf14f11ad2af64ef13df1d4",
       "version_major": 2,
       "version_minor": 0
      },
      "text/plain": [
       "interactive(children=(BoundedFloatText(value=3.0, description='$a$ / m', max=10.0, min=0.1), BoundedFloatText(…"
      ]
     },
     "metadata": {},
     "output_type": "display_data"
    }
   ],
   "source": [
    "#HIDDEN\n",
    "#%run plot_functions/settlements_plots.ipynb\n",
    "interactive_grenztiefe()"
   ]
  },
  {
   "cell_type": "markdown",
   "metadata": {},
   "source": [
    "Der reale Baugrund ist kein unendlicher Halbraum mit konstanten Eigenschaften. Die Steifigkeit des Bodens nimmt i.d.R. mit zunehmender Tiefe stark zu (es können aber auch stark kompressible und damit setzungsgebende Schichten anstehen). Zudem sind die Steifigkeiten bei sehr kleinen Verformungen deutlich höher als die Werte, die aus den typischen Kompressionsversuchen (Ödometer, Triax) bei den dort üblichen Deformationen ermittelt werden. Die mit der obigen Formel ermittelten Setzungsbeträge sind daher in der Regel unrealistisch. Die Schichtung des Baugrundes mit ihren variablen Eigenschaften ist daher in den Berechnungen zu berücksichtigen.\n",
    "\n",
    "Wenn keine stark zusammendrückbaren Schichten ein anderes Vorgehen nahelegen, wird die Grenztiefe der Setzungsberechnung als die Dicke des die tatsächlich auftretenden Setzungen bestimmenden Bereichs durch das Kriterium $\\Delta \\sigma_{zz}(t_\\text{s}) \\leq 0.2 \\sigma_{0,zz}$ festgelegt.\n",
    "\n",
    "Details zur Festlegung der Grenztiefe siehe Vorlesungsunterlagen und DIN 4019."
   ]
  },
  {
   "cell_type": "markdown",
   "metadata": {},
   "source": [
    "## Formulierung in Beiwerten\n",
    "\n",
    "Man kann die bisherige Beziehung\n",
    "\n",
    "$$\n",
    "    s = \\frac{q_0 (1-\\nu)^2}{\\pi E} \\left[\n",
    "        a \\ln \\frac{\\left( b + \\sqrt{a^2 + b^2} \\right) \\sqrt{a^2 + t^2}}{a(b+R)} + \n",
    "        b \\ln \\frac{\\left( a + \\sqrt{a^2 + b^2} \\right) \\sqrt{b^2 + t^2}}{b(a+R)}\n",
    "    \\right] + \n",
    "    \\frac{q_0 (1-\\nu-2\\nu^2)}{2 \\pi E} t \\arctan \\left( \\frac{ab}{tR} \\right)\n",
    "$$\n",
    "\n",
    "auch mit Hilfe des dimensionslosen Beiwertes $f_\\text{R}$ formulieren:\n",
    "\n",
    "\\begin{align*}\n",
    "    s &= \\frac{q_0 b f_\\text{R}}{E}\n",
    "    &\\text{mit } f_\\text{R} = \\frac{(1-\\nu)^2}{b \\pi} \\left[\n",
    "        a \\ln \\frac{\\left( b + \\sqrt{a^2 + b^2} \\right) \\sqrt{a^2 + z^2}}{a(b+R)} + \n",
    "        b \\ln \\frac{\\left( a + \\sqrt{a^2 + b^2} \\right) \\sqrt{b^2 + z^2}}{b(a+R)}\n",
    "    \\right] + \n",
    "    \\frac{(1-\\nu-2\\nu^2)}{2 b \\pi} t \\arctan \\left( \\frac{ab}{zR} \\right)\n",
    "\\end{align*}\n",
    "\n",
    "wobei die Dicke der zusammendrückbaren Schicht hier mit $z$ bezeichnet wurde.\n",
    "\n",
    "Für die baupraktische Berechnung wird nun ein Rechenmodul $E^*$ eingeführt, der die Zusammendrückbarkeit des Materials charakterisiert. Für homogene Verhältnisse kann $E^* = E/(1-\\nu^2)$ abgeleitet werden. Allerdings hat diese Beziehung praktisch kaum Bedeutung und $E^*$ wird aus anderen Überlegungen ermittelt. Setzt man in die obigen Beziehungen $\\nu \\leftarrow 0$ und $E \\leftarrow E^*$, so gelangt man zu folgender Formulierung mit der beiwertbasierten Beziehung, die innerhalb der Lastfläche mit ausreichender Genauigkeit Verwendung findet:\n",
    "\n",
    "\\begin{align*}\n",
    "    s &= \\frac{q_0 b f_\\text{R}}{E^*}\n",
    "    \\\\\n",
    "    &\\text{mit } f_\\text{R} = \\frac{1}{b \\pi} \\left[\n",
    "        a \\ln \\frac{\\left( b + \\sqrt{a^2 + b^2} \\right) \\sqrt{a^2 + z^2}}{a(b+R)} + \n",
    "        b \\ln \\frac{\\left( a + \\sqrt{a^2 + b^2} \\right) \\sqrt{b^2 + z^2}}{b(a+R)}\n",
    "    \\right] + \n",
    "    \\frac{1}{2 b \\pi} t \\arctan \\left( \\frac{ab}{zR} \\right)\n",
    "    \\\\\n",
    "    &\\text{und }  R = \\sqrt{a^2 + b^2 + z^2}\n",
    "\\end{align*}\n",
    "\n",
    "Zur einfacheren Handhabung werden Bemessungsdiagramme eingeführt:"
   ]
  },
  {
   "cell_type": "code",
   "execution_count": 11,
   "metadata": {},
   "outputs": [
    {
     "data": {
      "application/vnd.jupyter.widget-view+json": {
       "model_id": "cc1e986e513a4463925cb00a0218545e",
       "version_major": 2,
       "version_minor": 0
      },
      "text/plain": [
       "interactive(children=(BoundedFloatText(value=1.0, description='$z$ / $b$', min=0.1), BoundedFloatText(value=2.…"
      ]
     },
     "metadata": {},
     "output_type": "display_data"
    }
   ],
   "source": [
    "#HIDDEN\n",
    "#%run plot_functions/settlements_plots.ipynb\n",
    "interactive_fR_rechteck()"
   ]
  },
  {
   "cell_type": "markdown",
   "metadata": {},
   "source": [
    "Zum Vergleich werden die Kurven für $\\nu \\neq 0$ geplottet, die bei Punkten außerhalb der Lastfläche Anwendung finden. Es sei darauf hingewiesen, dass die Verwendung mit $s = q_0 b f_\\text{R}/E^*$ nur für $E^* \\leftarrow E$ der mechanisch korrekten Lösung entspricht. Man verfolgt mit der Einführung der generalisierten Rechenmoduln allerdings das Ziel, das Einsetzen von erfahrungsbasiert korrigierten Werten in der Normung zu ermöglichen. In der folgenden Abbildung sind die gestrichelten Linien für $\\nu = 0$ zum Vergleich dargestellt."
   ]
  },
  {
   "cell_type": "code",
   "execution_count": 12,
   "metadata": {},
   "outputs": [
    {
     "data": {
      "application/vnd.jupyter.widget-view+json": {
       "model_id": "e3a43dbe7e0643bca0bc414f2c8632eb",
       "version_major": 2,
       "version_minor": 0
      },
      "text/plain": [
       "interactive(children=(BoundedFloatText(value=1.0, description='$z$ / $b$', min=0.1), BoundedFloatText(value=2.…"
      ]
     },
     "metadata": {},
     "output_type": "display_data"
    }
   ],
   "source": [
    "#HIDDEN\n",
    "#%run plot_functions/settlements_plots.ipynb\n",
    "interactive_fR_rechteck_nu()"
   ]
  },
  {
   "cell_type": "markdown",
   "metadata": {},
   "source": [
    "Durch Anwendung der Formel für $\\nu=0$ können Setzungen an beliebigen Punkten im Inneren der Lastfläche ermittelt werden. Von besonderem Interesse ist der sog. kennzeichnende Punkt, an dem die Setzungen einer Setzungsmulde unter einer schlaffen Last gleich denen unter einer starren Last mit gleicher Resultierender sind. Definiert man auch hier \n",
    "\n",
    "$$\n",
    "    s_\\text{K} = \\frac{q_0bf_\\text{K}}{E^*}\n",
    "$$\n",
    "\n",
    "so gilt demzufolge\n",
    "\n",
    "$$\n",
    "    f_\\text{K} = \\sum \\limits_{i=0}^3 f_\\text{R}(a_i, b_i) \\frac{b_i}{b}\n",
    "$$\n",
    "\n",
    "mit den Koordinaten des kennzeichnenden Punktes (Eckpunkte der vier superponierten Rechtecke)\n",
    "\n",
    "\\begin{align}\n",
    "    x_i &= \\{0.87a,\\ 0.87a,\\ 0.87b,\\ 0.13a\\} \\quad \\text{für } i \\in [0,3]\n",
    "    \\\\\n",
    "    y_i &= \\{0.87b,\\ 0.13b,\\ 0.13a,\\ 0.13b\\} \\quad \\text{für } i \\in [0,3]\n",
    "\\end{align}"
   ]
  },
  {
   "cell_type": "code",
   "execution_count": 13,
   "metadata": {},
   "outputs": [
    {
     "data": {
      "application/vnd.jupyter.widget-view+json": {
       "model_id": "1f2a6f5e214e4ddcae9d5ffb396341f2",
       "version_major": 2,
       "version_minor": 0
      },
      "text/plain": [
       "interactive(children=(BoundedFloatText(value=1.0, description='$z$ / $b$', min=0.1), BoundedFloatText(value=2.…"
      ]
     },
     "metadata": {},
     "output_type": "display_data"
    }
   ],
   "source": [
    "#HIDDEN\n",
    "#%run plot_functions/settlements_plots.ipynb\n",
    "interactive_fK_rechteck_nu()"
   ]
  },
  {
   "cell_type": "markdown",
   "metadata": {},
   "source": [
    "## Anwendung auf geschichteten Baugrund\n",
    "\n",
    "Für die Erweiterung auf geschichteten Baugrund werden die Setzungsbeträge schichtweise berechnet und aufaddiert. Die nachfolgende Skizze veranschaulicht das Prinzip:\n",
    "\n",
    "<img src=\"https://github.com/nagelt/Teaching_Scripts/raw/master/Images/settlement_layers.png\" style=\"width: 1200px;\"/>\n",
    "\n",
    "Zur Anwendung kommt folgende Formel:\n",
    "\n",
    "$$\n",
    "    s = q_0 b \\left( \\frac{f_1}{E_1^*} + \\sum \\limits_{i=2}^n \\frac{f_i - f_{i-1}}{E_i^*} \\right)\n",
    "$$\n",
    "\n",
    "Der laufende Index $i$ kennzeichnet die Schichtnummer ($i=1$: oberste Schicht), $f_i$ bezeichnet den Setzungsbeiwert der $i$-ten Schicht bezogen auf ihre Unterkante und $E_i^*$ ist der mittlere Zusammendrückungsmodul (Rechenmodul) der $i$-ten Schicht.\n",
    "\n",
    "Die folgenden Skripte können zur Übung von Beispielen genutzt werden:\n",
    "\n",
    "1. Anzahl der Bodenschichten bestimmen und anschließend 'update_layers' anklicken (funktioniert nur in Jupyter. In HTML Version auf 5 Bodenschichten festgelegt; 'update_layers' entfällt).\n",
    "2. Die Sohlnormalspannung $q_0$, die Tiefe $d$ und mittlere Wichte $\\gamma_d$ des Aushubs, die Querkontraktionszahl $\\nu$, sowie die Fundamentabmessungen eingeben.\n",
    "3. Die Tiefen der Schichtunterkanten gemessen ab Baugrundsohle ($z_i$), die Rechenmodule der Schichten $E_i^*$ und deren Wichten $\\gamma_i$ (unter Auftrieb oder total) angeben.\n",
    "3. 'update_analysis' anklicken und Ergebnis anhand der graphischen Darstellung auswerten."
   ]
  },
  {
   "cell_type": "code",
   "execution_count": 14,
   "metadata": {},
   "outputs": [
    {
     "name": "stdout",
     "output_type": "stream",
     "text": [
      "In the HTML version you can only work with 5 layers.\n"
     ]
    },
    {
     "data": {
      "application/vnd.jupyter.widget-view+json": {
       "model_id": "0008c28d0ae645d18a808fa5d9d9f28e",
       "version_major": 2,
       "version_minor": 0
      },
      "text/plain": [
       "BoundedIntText(value=5, description='$n_\\\\mathrm{layers}$', max=5, min=5)"
      ]
     },
     "metadata": {},
     "output_type": "display_data"
    }
   ],
   "source": [
    "#HIDDEN\n",
    "#global variables\n",
    "#%run plot_functions/settlements_plots.ipynb\n",
    "html = True\n",
    "items = []\n",
    "if html:\n",
    "    n_layers = widgets.BoundedIntText(value=5,min=5,max=5,description='$n_\\\\mathrm{layers}$')\n",
    "    print('In the HTML version you can only work with 5 layers.')\n",
    "else:\n",
    "    n_layers = widgets.BoundedIntText(value=5,min=1,max=10,description='$n_\\\\mathrm{layers}$')\n",
    "n_layers"
   ]
  },
  {
   "cell_type": "code",
   "execution_count": 15,
   "metadata": {},
   "outputs": [
    {
     "data": {
      "application/vnd.jupyter.widget-view+json": {
       "model_id": "eec6bdcd59db4c00b8a0eaf140f1b77b",
       "version_major": 2,
       "version_minor": 0
      },
      "text/plain": [
       "GridBox(children=(BoundedFloatText(value=300.0, description='$q_0$ / kPa', max=2000.0), BoundedFloatText(value…"
      ]
     },
     "metadata": {},
     "output_type": "display_data"
    }
   ],
   "source": [
    "#HIDDEN\n",
    "if html:\n",
    "    items = [widgets.BoundedFloatText(description='$q_0$ / kPa',value=300,min=0,max=2000),\n",
    "             widgets.BoundedFloatText(description='$d$ / m',value=2,min=0,max=100),\n",
    "             widgets.BoundedFloatText(description='$\\\\gamma_d$ / kN m$^{-3}$',value=18,min=0,max=30),\n",
    "             widgets.BoundedFloatText(description='$\\\\nu$',value=0,min=0,max=0.499),\n",
    "             widgets.BoundedFloatText(description='$a$ / m',value=2,min=0.01,max=50),\n",
    "             widgets.BoundedFloatText(description='$b$ / m',value=2,min=0.01,max=50)]\n",
    "    for i in range(n_layers.value):\n",
    "        items.append(widgets.BoundedFloatText(description='$z_{%i}$ / m' %(i+1),value=1+i*2,min=0,max=200))\n",
    "        items.append(widgets.BoundedFloatText(description='$E^*_{%i}$ / MPa' %(i+1),value=(i+1)*10,min=0.01,max=10000))\n",
    "        items.append(widgets.BoundedFloatText(description='$\\gamma_{%i}$ / kN m$^{-3}$' %(i+1),value=18-i,min=1,max=35))\n",
    "    w = widgets.GridBox(items, layout=widgets.Layout(grid_template_columns=\"repeat(3,350px)\"))\n",
    "else:\n",
    "    w = interact(run_layers, update_layers=True);\n",
    "\n",
    "display(w);"
   ]
  },
  {
   "cell_type": "code",
   "execution_count": 16,
   "metadata": {},
   "outputs": [
    {
     "data": {
      "application/vnd.jupyter.widget-view+json": {
       "model_id": "5e215a1061db422cb22801be0b65e07f",
       "version_major": 2,
       "version_minor": 0
      },
      "text/plain": [
       "interactive(children=(Checkbox(value=True, description='update_analysis'), Output()), _dom_classes=('widget-in…"
      ]
     },
     "metadata": {},
     "output_type": "display_data"
    }
   ],
   "source": [
    "#HIDDEN\n",
    "#%run plot_functions/settlements_plots.ipynb\n",
    "interact(run_analysis, update_analysis=True);"
   ]
  },
  {
   "cell_type": "markdown",
   "metadata": {},
   "source": [
    "## Spannungsänderung durch GW Absenkung oder Anstieg\n",
    "\n",
    "Die folgende Abbildung verdeutlicht die Veränderung neutraler, effektiver und totaler Spannungen infolge variabler Grundwasserstände für ausgewählte Wichten und einen mit der Tiefe zunehmenden Steifemodul nach Ohde. Die Zahlenwerte sind als exemplarisch zu erachten. Man beachte die Relevanz der tiefenabhängigen Steifigkeit und des Konzeptes der Grenztiefe, um bei großräumigen Spannungsänderungen wie in diesem Fall zu sinnvollen Ergebnissen zu gelangen. Man beachte auch, dass bei Grundwasserspiegeländerungen Sackungen und ähnliche Phänomene auftreten können, die zu Deformationen führen, die mit dem unten verwendeten einfachen Modell nicht erklärbar sind und qualitativ falsch abgeschätzt werden könnten."
   ]
  },
  {
   "cell_type": "code",
   "execution_count": 17,
   "metadata": {},
   "outputs": [
    {
     "data": {
      "application/vnd.jupyter.widget-view+json": {
       "model_id": "86621ac029344c0d9d55aa50d7dce97f",
       "version_major": 2,
       "version_minor": 0
      },
      "text/plain": [
       "interactive(children=(FloatSlider(value=2.0, description='$\\\\Delta z_\\\\mathrm{GW}$ / m', max=4.0, min=-2.0), O…"
      ]
     },
     "metadata": {},
     "output_type": "display_data"
    }
   ],
   "source": [
    "interact(stress_depth, dzw = widgets.FloatSlider(min=-2, max=4, value=2,description='$\\\\Delta z_\\\\mathrm{GW}$ / m'));"
   ]
  }
 ],
 "metadata": {
  "kernelspec": {
   "display_name": "Python 3 (ipykernel)",
   "language": "python",
   "name": "python3"
  },
  "language_info": {
   "codemirror_mode": {
    "name": "ipython",
    "version": 3
   },
   "file_extension": ".py",
   "mimetype": "text/x-python",
   "name": "python",
   "nbconvert_exporter": "python",
   "pygments_lexer": "ipython3",
   "version": "3.9.7"
  }
 },
 "nbformat": 4,
 "nbformat_minor": 4
}
