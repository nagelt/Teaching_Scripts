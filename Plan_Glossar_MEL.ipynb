{
 "cells": [
  {
   "cell_type": "markdown",
   "metadata": {},
   "source": [
    "![Logo TUBAF](https://tu-freiberg.de/sites/default/files/media/freiberger-alumni-netzwerk-6127/wbm_orig_rgb_0.jpg)\n",
    "\n",
    "Comments to:\n",
    "\n",
    "*Prof. Dr. Thomas Nagel  \n",
    "Chair of Soil Mechanics and Foundation Engineering  \n",
    "Geotechnical Institute  \n",
    "Technische Universität Bergakademie Freiberg.*\n",
    "\n",
    "https://tu-freiberg.de/en/soilmechanics"
   ]
  },
  {
   "cell_type": "code",
   "execution_count": 1,
   "metadata": {
    "jupyter": {
     "source_hidden": true
    },
    "tags": []
   },
   "outputs": [],
   "source": [
    "#HIDDEN\n",
    "#%%HTML\n",
    "#<style>\n",
    "#td {\n",
    "#  font-size: 14pt\n",
    "#}\n",
    "#th {\n",
    "#  font-size: 14pt\n",
    "#}\n",
    "#</style>"
   ]
  },
  {
   "cell_type": "markdown",
   "metadata": {},
   "source": [
    "# Themen der Vorlesung Mechanische Eigenschaften der Lockergesteine"
   ]
  },
  {
   "cell_type": "markdown",
   "metadata": {},
   "source": [
    "- Kornformen, Korngrößen, Korngrößenverteilung\n",
    "- Siebanalyse, Sedimentationsanalyse\n",
    "- Filterregeln\n",
    "- Dichten, Porenanteile, Wassergehalt, Sättigung\n",
    "- Lockerste / dichteste Lagerung, Konsistenzgrenzen\n",
    "- Proctorversuch, optimaler Wassergehalt\n",
    "- Klassifikation und Bodenansprache\n",
    "- Spannungen und Verzerrungen\n",
    "- Lineare Elastizität\n",
    "- Formänderungs- und Festigkeitseigenschaften von Böden\n",
    "- Einachsige Stauchung von Böden\n",
    "- Effektivspannungskonzept\n",
    "- Zeitsetzung wassergesättigter Böden, Konsolidation\n",
    "- Scherfestigkeit von Böden\n",
    "- Dilatante und kontraktante Verformungen\n",
    "- Kritische Zustände\n",
    "- Triaxiale Spannungspfade\n",
    "- Hydraulische Eigenschaften von Böden"
   ]
  },
  {
   "cell_type": "markdown",
   "metadata": {},
   "source": [
    "# Liste einiger Formelzeichen\n",
    "\n",
    "Diese Liste wird im Rahmen der Vorlesung gefüllt. Es wird empfohlen, eine eigene handschriftliche Liste zu führen und nach Bedarf zu ergänzen."
   ]
  },
  {
   "cell_type": "markdown",
   "metadata": {},
   "source": [
    "| Größe                            | Formelzeichen    | Typische Einheiten           |\n",
    "|:---------------------------------|:-----------------|:-----------------------------|\n",
    "| Dichte, Massedichte              | $\\varrho$        |  g/cm³, kg/m³                |\n",
    "| Dichte bei Vollsättigung         | $\\varrho_\\text{r}$ |  g/cm³, kg/m³              |\n",
    "| Korndichte                       | $\\varrho_\\text{s}$ |  g/cm³, kg/m³              |\n",
    "| Krümmungszahl                    | $C_\\text{C}$     |  --                          |\n",
    "| Lagerungsdichte                  | $D$              | --                           |\n",
    "| Lagerungsdichte, bezogene        | $I_\\text{D}$     | --                           |\n",
    "| Mittlerer Korndurchmesser        | $d_\\text{50}$    |  mm, µm, cm                  |\n",
    "| Porenanteil, Porosität           | $n$              |  --                          |\n",
    "| Porenzahl                        | $e$              |  --                          |\n",
    "| Sättigung                        | $S_\\text{r}$     |  --                          |\n",
    "| spezifische Kornoberfläche       | $a_\\text{s}$     |   m²/g                       |\n",
    "| Trockenmasse                     | $m_\\text{d}$     |  g, kg                       |\n",
    "| Trockendichte                    | $\\varrho_\\text{d}$ |  g/cm³, kg/m³              |\n",
    "| Ungleichförmigkeitszahl          | $C_\\text{U}$     |  --                          |\n",
    "| Verdichtungsfähigkeit            | $I_\\text{f}$     | --                           |\n",
    "| Volumenanteil Phase $\\alpha$     | $n_\\alpha$       |  --                          |\n",
    "| Wassergehalt                     | $w$              |  --                          |\n",
    "| Wichte (Indizes wie bei Dichte)  | $\\gamma$, $\\gamma_\\text{d}$, $\\gamma_\\text{r}$, ... | kN/m³ |"
   ]
  }
 ],
 "metadata": {
  "kernelspec": {
   "display_name": "Python 3 (ipykernel)",
   "language": "python",
   "name": "python3"
  },
  "language_info": {
   "codemirror_mode": {
    "name": "ipython",
    "version": 3
   },
   "file_extension": ".py",
   "mimetype": "text/x-python",
   "name": "python",
   "nbconvert_exporter": "python",
   "pygments_lexer": "ipython3",
   "version": "3.9.5"
  }
 },
 "nbformat": 4,
 "nbformat_minor": 4
}
