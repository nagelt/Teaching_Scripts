{
 "cells": [
  {
   "cell_type": "markdown",
   "metadata": {},
   "source": [
    "![Logo TUBAF](https://tu-freiberg.de/sites/default/files/media/freiberger-alumni-netzwerk-6127/wbm_orig_rgb_0.jpg)\n",
    "\n",
    "Comments to:\n",
    "\n",
    "*Prof. Dr. Thomas Nagel  \n",
    "Chair of Soil Mechanics and Foundation Engineering  \n",
    "Geotechnical Institute  \n",
    "Technische Universität Bergakademie Freiberg.*\n",
    "\n",
    "https://tu-freiberg.de/en/soilmechanics"
   ]
  },
  {
   "cell_type": "code",
   "execution_count": 1,
   "metadata": {
    "jupyter": {
     "source_hidden": true
    },
    "tags": []
   },
   "outputs": [],
   "source": [
    "#HIDDEN\n",
    "#%%HTML\n",
    "#<style>\n",
    "#td {\n",
    "#  font-size: 14pt\n",
    "#}\n",
    "#th {\n",
    "#  font-size: 14pt\n",
    "#}\n",
    "#</style>"
   ]
  },
  {
   "cell_type": "markdown",
   "metadata": {},
   "source": [
    "# Themen der Vorlesung Mechanische Eigenschaften der Lockergesteine"
   ]
  },
  {
   "cell_type": "markdown",
   "metadata": {},
   "source": [
    "- Kornformen, Korngrößen, Korngrößenverteilung\n",
    "- Siebanalyse, Sedimentationsanalyse\n",
    "- Filterregeln\n",
    "- Dichten, Porenanteile, Wassergehalt, Sättigung\n",
    "- Lockerste / dichteste Lagerung, Konsistenzgrenzen\n",
    "- Proctorversuch, optimaler Wassergehalt\n",
    "- Klassifikation und Bodenansprache\n",
    "- Spannungen und Verzerrungen\n",
    "- Lineare Elastizität\n",
    "- Formänderungs- und Festigkeitseigenschaften von Böden\n",
    "- Einachsige Stauchung von Böden\n",
    "- Effektivspannungskonzept\n",
    "- Zeitsetzung wassergesättigter Böden, Konsolidation\n",
    "- Scherfestigkeit von Böden\n",
    "- Dilatante und kontraktante Verformungen\n",
    "- Kritische Zustände\n",
    "- Triaxiale Spannungspfade\n",
    "- Hydraulische Eigenschaften von Böden"
   ]
  },
  {
   "cell_type": "markdown",
   "metadata": {},
   "source": [
    "# Liste einiger Formelzeichen\n",
    "\n",
    "Diese Liste wird im Rahmen der Vorlesung gefüllt. Es wird empfohlen, eine eigene handschriftliche Liste zu führen und nach Bedarf zu ergänzen."
   ]
  },
  {
   "cell_type": "markdown",
   "metadata": {},
   "source": [
    "| Größe                            | Formelzeichen    | Typische Einheiten           |\n",
    "|:---------------------------------|:-----------------|:-----------------------------|\n",
    "| Aktivitätszahl                   | $I_\\text{A}$     | --                           |\n",
    "| Ausrollgrenze                    | $w_\\text{P}$     | --                           |\n",
    "| Dichte, Massedichte              | $\\varrho$        |  g/cm³, kg/m³                |\n",
    "| Dichte bei Vollsättigung         | $\\varrho_\\text{r}$ |  g/cm³, kg/m³              |\n",
    "| Dichte, Korndichte               | $\\varrho_\\text{s}$ |  g/cm³, kg/m³              |\n",
    "| Dichte, Trockendichte            | $\\varrho_\\text{d}$ |  g/cm³, kg/m³              |\n",
    "| Fließgrenze                      | $w_\\text{L}$     | --                           |\n",
    "| Kompressionsbeiwert              | $C_\\text{c}$     | --                           |\n",
    "|Konsolidationsbeiwert             | $c_\\text{v}$    | m²/s                          |\n",
    "|Konsolidationsgrad, lokal         | $U_z$           | --                            |\n",
    "|Konsolidations-/Verdichtungs-/Verfestigungsgrad, mittlerer | $U$ | --               |\n",
    "| Konsistenzzahl                   | $I_\\text{C}$     | --                           |\n",
    "| Krümmungszahl                    | $C_\\text{C}$     | --                           |\n",
    "| Lagerungsdichte                  | $D$              | --                           |\n",
    "| Lagerungsdichte, bezogene        | $I_\\text{D}$     | --                           |\n",
    "| Liquiditätszahl                  | $I_\\text{L}$     | --                           |\n",
    "| Masse                            | $m$              |  g, kg                       |\n",
    "| Masse, Behälter                  | $m_\\text{B}$     |  g, kg                       |\n",
    "| Masse, Trockenmasse              | $m_\\text{d}$     |  g, kg                       |\n",
    "| Mittlerer Korndurchmesser        | $d_\\text{50}$    |  mm, µm, cm                  |\n",
    "| Plastizitätszahl                 | $I_\\text{P}$     | --                           |\n",
    "| Porenanteil, Porosität           | $n$              |  --                          |\n",
    "| Porenzahl                        | $e$              |  --                          |\n",
    "| Proctordichte                    | $\\varrho_\\text{pr}$ | g/cm³, kg/m³              |\n",
    "| Proctordichte, modifiziert       | $\\text{mod}\\,\\varrho_\\text{pr}$ | g/cm³, kg/m³  |\n",
    "| Sättigung                        | $S_\\text{r}$     |  --                          |\n",
    "| Schrumpfgrenze                   | $w_\\text{s}$     | --                           |\n",
    "| Schwellbeiwert                   | $C_\\text{s}$     | --                           |\n",
    "| Setzung                          | $s$, $u_z$       | m                            |\n",
    "| Setzung, Anfangs-                | $s_0$            | m                            |\n",
    "| Setzung, End-                    | $s_\\infty$       | m                            |\n",
    "| Spannung, effektiv               | $\\sigma'_{ij}$   | Pa (kPa, MPa)                |\n",
    "| Spannung, deviatorisch           | $s_{ij}$         | Pa (kPa, MPa)                |\n",
    "| Spannung, neutral (Porenwasserdruck) | $u$, $u\\delta_{ij}$ | Pa (kPa, MPa)         |\n",
    "| Spannung, total                  | $\\sigma_{ij}$    | Pa (kPa, MPa)                |\n",
    "| spezifische Kornoberfläche       | $a_\\text{s}$     |   m²/g                       |\n",
    "| Steifemodul                      | $E_\\text{s}$     | Pa (kPa, MPa)                |\n",
    "| Verschiebung                     | $\\vec{u}$, $u_i$ | m                            |\n",
    "| Verzerrung                       | $\\epsilon_{ij}$  | --                           |\n",
    "| Verzerrung, deviatorisch         | $e_{ij}$         | --                           |\n",
    "| Ungleichförmigkeitszahl          | $C_\\text{U}$     |  --                          |\n",
    "| Verdichtungsfähigkeit            | $I_\\text{f}$     | --                           |\n",
    "| Verdichtungsgrad                 | $D_\\text{pr}$    | --                           |\n",
    "| Volumenanteil Phase $\\alpha$     | $n_\\alpha$       | --                           |\n",
    "| Wassergehalt                     | $w$              | --                           |\n",
    "| Wassergehalt, optimaler          | $w_\\text{pr}$    | --                           |\n",
    "| Wassergehalt, optimaler, modifiziert | $\\text{mod}\\,w_\\text{pr}$ | --              |\n",
    "| Wichte (Indizes wie bei Dichte)  | $\\gamma$, $\\gamma_\\text{d}$, $\\gamma_\\text{r}$, ... | kN/m³ |"
   ]
  },
  {
   "cell_type": "markdown",
   "metadata": {},
   "source": [
    "Außerdem gelten folgende Konventionen für die Verwendung der Indexnotation bei vektoriellen und tensoriellen Größen:\n",
    "\n",
    "Unterscheidung Skalar, Vektor, Tensor zweiter Stufe, etc. über Anzahl der freien Indizes: $a$, $a_i$, $a_{ij}$\n",
    "\n",
    "Kronecker-Delta (Einheitstensor zweiter Stufe): $\\delta_{ij} = \\begin{pmatrix} 1 & 0 & 0\\\\ 0 & 1 & 0\\\\ 0 & 0 & 1 \\end{pmatrix}$"
   ]
  }
 ],
 "metadata": {
  "kernelspec": {
   "display_name": "Python 3 (ipykernel)",
   "language": "python",
   "name": "python3"
  },
  "language_info": {
   "codemirror_mode": {
    "name": "ipython",
    "version": 3
   },
   "file_extension": ".py",
   "mimetype": "text/x-python",
   "name": "python",
   "nbconvert_exporter": "python",
   "pygments_lexer": "ipython3",
   "version": "3.9.7"
  }
 },
 "nbformat": 4,
 "nbformat_minor": 4
}
