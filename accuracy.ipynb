{
 "cells": [
  {
   "cell_type": "markdown",
   "metadata": {},
   "source": [
    "<div style=\"display: flex; align-items: center;\">\n",
    "    <img src=\"https://github.com/nagelt/Teaching_Scripts/raw/9d9e29ecca4b04eaf7397938eacbf116d37ddc93/Images/TUBAF_Logo_blau.png\" width=\"500\" height=\"auto\" height=\"auto\" style=\"margin-right: 100px;\" />\n",
    "    <div>\n",
    "        <p><strong>Prof. Dr. Thomas Nagel</strong></p>\n",
    "        <p>Chair of Soil Mechanics and Foundation Engineering<br>Geotechnical Institute<br>Technische Universität Bergakademie Freiberg.</p>\n",
    "        <p><a href=\"https://tu-freiberg.de/en/soilmechanics\">https://tu-freiberg.de/en/soilmechanics</a></p>\n",
    "    </div>\n",
    "</div>"
   ]
  },
  {
   "cell_type": "markdown",
   "metadata": {},
   "source": [
    "# Gedanken zur Rechengenauigkeit\n",
    "\n",
    "Die folgenden Ausarbeitungen sind Kapitel 1.3 an Wolfgang Fellins Buch \"Geotechnik - Lernen mit Beispielen\", erschienen im Logos Verlag Berlin, angelehnt. Die dortige Darstellung ist sehr illustrativ und wird daher in weiten Teilen übernommen. Zitate sind mit [1] gekennzeichnet."
   ]
  },
  {
   "cell_type": "code",
   "execution_count": 17,
   "metadata": {
    "jupyter": {
     "source_hidden": true
    },
    "tags": []
   },
   "outputs": [],
   "source": [
    "#HIDDEN\n",
    "import matplotlib.pyplot as plt\n",
    "import numpy as np\n",
    "import sympy as sp\n",
    "sp.init_printing(use_latex='mathjax')\n",
    "\n",
    "#Some plot settings\n",
    "import plot_functions.plot_settings\n",
    "%run plot_functions/basic_quantities_plots.ipynb"
   ]
  },
  {
   "cell_type": "markdown",
   "metadata": {},
   "source": [
    "Im folgenden werden einige Gedanken dargelegt, die die häufig gestellten Fragen\n",
    "\n",
    "- Mit wie vielen Nachkommastellen soll ein Endergebnis angegeben werden?\n",
    "- Wie stark darf ich Zwischenergebnisse runden?\n",
    "\n",
    "betreffen. In grober Anlehnung an das [GiGo Prinzip](https://de.wikipedia.org/wiki/Garbage_In,_Garbage_Out) lässt sich festhalten:\n",
    "\n",
    "- \"Das Ergebnis einer Rechnung kann nie genauer sein als die ungenaueste Eingangsgröße.\" [1]\n",
    "- \"Durch das Runden von Zwischenergebnissen wird die Genauigkeit des Endergebnisses eventuell noch geringer.\" [1]\n",
    "\n",
    "Die folgenden Beispiele sollen drei Grundregeln in Bezug auf die notwendigen Kommastellen illustrieren:"
   ]
  },
  {
   "cell_type": "markdown",
   "metadata": {},
   "source": [
    "<div style=\"background-color: rgba(0, 0, 255, 0.5); padding: 5px; max-width: fit-content;\">\n",
    "1. \"Die Kommastellen sind nicht entscheidend, sondern die sogenannten signifikanten (richtigen) Stellen.<br>\n",
    "2. Die Anzahl der signifikanten Stellen des Ergebnisses ist höchstens gleich dem Minimum der Anzahl der signifikanten Stellen der Eingangsgrößen.<br>\n",
    "3. Zwischenwerte in den Berechnungen sind mit ein bis zwei Stellen mehr anzugeben, als signifikante Stellen im Endergebnis erwartet werden.\" [1] <br>\n",
    "</div>"
   ]
  },
  {
   "cell_type": "markdown",
   "metadata": {},
   "source": [
    "## Signifikante Stellen: Das Beispiel der Waage\n",
    "\n",
    "\"Wenn sich ein Mensch auf eine Waage stellt, zeigt diese zum Beispiel 86 kg an. Eine übliche Haushaltswaage misst eben nur auf Kilogramm genau. Es ist also irreführend, den Messwert als 86000 g anzuschreiben, denn es könnten auch 86499 g sein, die Anzeige der Waage macht zwischen diesen beiden Werten keinen Unterschied! Die Masse ist also nur auf 2 Stellen bekannt. Diese Stellen werden *signifikante* Stellen oder *gültige* Stellen genannt. Wenn die Wage vollflächig auf der quadratischen Fläche mit der Kantenlänge 35 cm = 0,35 m steht, ist der mittlere Druck auf die Fläche\" [1]\n",
    "\n",
    "\\begin{align*}\n",
    "    p &= \\frac{mg}{A}\n",
    "\\end{align*}\n",
    "\n",
    "Für $m = 86\\,$kg ergibt sich"
   ]
  },
  {
   "cell_type": "code",
   "execution_count": 18,
   "metadata": {},
   "outputs": [],
   "source": [
    "p = lambda m: print(\"Für m = %.3f kg ergeben sich %.5f N/m² bzw. %.1f kN/m²\" %(m,m*9.81/0.35**2,m*9.81/0.35**2/1000))"
   ]
  },
  {
   "cell_type": "code",
   "execution_count": 19,
   "metadata": {},
   "outputs": [
    {
     "name": "stdout",
     "output_type": "stream",
     "text": [
      "Für m = 86.000 kg ergeben sich 6887.02041 N/m² bzw. 6.9 kN/m²\n"
     ]
    }
   ],
   "source": [
    "p(86)"
   ]
  },
  {
   "cell_type": "markdown",
   "metadata": {},
   "source": [
    "\\begin{align*}\n",
    "    p &= \\frac{mg}{A} = \\frac{86\\,\\text{kg}\\cdot 9.81\\,\\text{m}\\,\\text{s}^{-2}}{(0.35\\,\\text{m})^2} = 6887,0204\\dots\\,\\text{N}\\,\\text{m}^{-2}\n",
    "    \\\\\n",
    "    &\\approx 6,9\\,\\text{kN}\\,\\text{m}^{-2}\n",
    "\\end{align*}"
   ]
  },
  {
   "cell_type": "markdown",
   "metadata": {},
   "source": [
    "Man beachte, dass das Endergebnis hier auf die zwei signifikanten Stellen gerundet wurde. Um den Effekt zu demonstrieren, berechnen wir den mittleren Druck für eine Reihe von Massen zwischen 85 und 87 kg."
   ]
  },
  {
   "cell_type": "code",
   "execution_count": 20,
   "metadata": {},
   "outputs": [
    {
     "name": "stdout",
     "output_type": "stream",
     "text": [
      "Für m = 85.000 kg ergeben sich 6806.93878 N/m² bzw. 6.8 kN/m²\n",
      "Für m = 85.100 kg ergeben sich 6814.94694 N/m² bzw. 6.8 kN/m²\n",
      "Für m = 85.200 kg ergeben sich 6822.95510 N/m² bzw. 6.8 kN/m²\n",
      "Für m = 85.300 kg ergeben sich 6830.96327 N/m² bzw. 6.8 kN/m²\n",
      "Für m = 85.400 kg ergeben sich 6838.97143 N/m² bzw. 6.8 kN/m²\n",
      "Für m = 85.500 kg ergeben sich 6846.97959 N/m² bzw. 6.8 kN/m²\n",
      "Für m = 85.600 kg ergeben sich 6854.98776 N/m² bzw. 6.9 kN/m²\n",
      "Für m = 85.700 kg ergeben sich 6862.99592 N/m² bzw. 6.9 kN/m²\n",
      "Für m = 85.800 kg ergeben sich 6871.00408 N/m² bzw. 6.9 kN/m²\n",
      "Für m = 85.900 kg ergeben sich 6879.01224 N/m² bzw. 6.9 kN/m²\n",
      "Für m = 86.000 kg ergeben sich 6887.02041 N/m² bzw. 6.9 kN/m²\n",
      "Für m = 86.100 kg ergeben sich 6895.02857 N/m² bzw. 6.9 kN/m²\n",
      "Für m = 86.200 kg ergeben sich 6903.03673 N/m² bzw. 6.9 kN/m²\n",
      "Für m = 86.300 kg ergeben sich 6911.04490 N/m² bzw. 6.9 kN/m²\n",
      "Für m = 86.400 kg ergeben sich 6919.05306 N/m² bzw. 6.9 kN/m²\n",
      "Für m = 86.500 kg ergeben sich 6927.06122 N/m² bzw. 6.9 kN/m²\n",
      "Für m = 86.600 kg ergeben sich 6935.06939 N/m² bzw. 6.9 kN/m²\n",
      "Für m = 86.700 kg ergeben sich 6943.07755 N/m² bzw. 6.9 kN/m²\n",
      "Für m = 86.800 kg ergeben sich 6951.08571 N/m² bzw. 7.0 kN/m²\n",
      "Für m = 86.900 kg ergeben sich 6959.09388 N/m² bzw. 7.0 kN/m²\n",
      "Für m = 87.000 kg ergeben sich 6967.10204 N/m² bzw. 7.0 kN/m²\n"
     ]
    }
   ],
   "source": [
    "for i in range(0,21):\n",
    "    p(85+i/10)"
   ]
  },
  {
   "cell_type": "markdown",
   "metadata": {},
   "source": [
    "Wir sehen, dass Massewerte etwa in einem 1 kg breiten Intervall um 86 kg alle denselben mittleren Druck von 6.9 kN/m² liefern."
   ]
  },
  {
   "cell_type": "markdown",
   "metadata": {},
   "source": [
    "\"Daraus erkennen wir, dass das Ergebnis nur auf (gerundete) 2 Stellen genau ist, $p=6,9\\,$kN/m², also dieselbe Anzahl signifikante Stellen hat, wie der Eingangswert. Die Stellen dahinter sind bedeutungslos. Das Ergebnis einer Berechnung kann also nie genauer sein als der ungenaueste Eingangswert. Dieser ungenaueste Eingangswert hat die geringste Anzahl an signifikanten Stellen in unserer Rechnung, und genau diese Anzahl können wir im Ergebnis auch erwarten und nicht mehr. Hier ist die Erdbeschleunigung $g$ auf 3 signifikante Stellen angegeben, die Masse und die Länge auf 2 Stellen. Das Ergebnis ist auf 2 Stellen genau.\n",
    "\n",
    "Es empfiehlt sich, die Wahl der wissenschaftlichen Schreibweise, oder entsprechend angepasster Einheiten, um die Anzahl der signifikanten Stellen sichtbar zu machen, z.B. würde die Angabe von 86 kg als 86000 g das Vorhandensein von 5 signifikanten Stellen vortäuschen, besser also $6,8\\cdot 10^4\\,$g oder eben 86 kg schreiben. Ein weiteres Beispiel für Längen:\" [1]\n",
    "\n",
    "- 2 signifikante Stellen: $22\\,\\text{cm} = 0,22\\,\\text{m} = 2,2\\cdot 10 ^{-1}\\,\\text{m}$\n",
    "- 3 signifikante Stellen: $220\\,\\text{mm} = 0,220\\,\\text{m}^* = 2,20\\cdot 10 ^{-1}\\,\\text{m}$\n",
    "\n",
    "<span style=\"font-size: 10px;\">$^*$ Tippfehler in der Originalquelle korrigiert</span>"
   ]
  },
  {
   "cell_type": "markdown",
   "metadata": {},
   "source": [
    "## Zwischenergebnisse nicht zu früh runden\n",
    "\n",
    "Um zu illustrieren, wie durch vorzeitiges Runden von Zwischenergebnissen bei einer Berechnung \"Stellen verloren gehen\" können, betrachten wir das Beispiel des schleifenden Schnitts zweier Geraden:\n",
    "\n",
    "\\begin{align}\n",
    "    y_1 &= x \\tan \\alpha\n",
    "    \\\\\n",
    "    y_2 &= d + x \\tan\\beta\n",
    "\\end{align}\n",
    "\n",
    "Aus $y_1 = y_2$ ergibt sich die Lage des Schnittpunktes auf der Abszisse zu\n",
    "\n",
    "$$\n",
    "    x_\\text{s} = \\frac{d}{\\tan\\alpha - \\tan\\beta}\n",
    "$$\n",
    "\n",
    "\"Der Schnitt ist schleifend, wenn $\\alpha \\approx \\beta$. In diesem Fall wirkt sich eine kleine Änderung eines der beiden Winkel stark auf $x_\\text{s}$ aus. Wir wollen hier den Fall $d=2$, $\\beta = 30^\\circ$ und $\\alpha = 30,\\bar{1}^\\circ$ untersuchen.\" [1]"
   ]
  },
  {
   "cell_type": "code",
   "execution_count": 21,
   "metadata": {},
   "outputs": [],
   "source": [
    "x_s = lambda alpha: 2/(np.tan(np.deg2rad(alpha)) - np.tan(np.deg2rad(30)))"
   ]
  },
  {
   "cell_type": "code",
   "execution_count": 22,
   "metadata": {},
   "outputs": [
    {
     "data": {
      "text/latex": [
       "$\\displaystyle 772.6260283951924$"
      ],
      "text/plain": [
       "772.6260283951924"
      ]
     },
     "execution_count": 22,
     "metadata": {},
     "output_type": "execute_result"
    }
   ],
   "source": [
    "x_s(30+1/9)"
   ]
  },
  {
   "cell_type": "markdown",
   "metadata": {},
   "source": [
    "\"Die exakte Lösung ist\n",
    "\n",
    "$$\n",
    "    x_\\text{s} = \\frac{2}{\\tan \\left(30 + \\frac{1}{9}\\right)^\\circ - \\tan 30^\\circ} \\approx 772,626\n",
    "$$\n",
    "\n",
    "hier auf 6 signifikante Stellen angegeben. Was passiert, wenn wir $\\alpha$ auf 6 signifikante Stellen runden?\" [1]"
   ]
  },
  {
   "cell_type": "code",
   "execution_count": 23,
   "metadata": {},
   "outputs": [
    {
     "data": {
      "text/latex": [
       "$\\displaystyle 772.7033855302165$"
      ],
      "text/plain": [
       "772.7033855302165"
      ]
     },
     "execution_count": 23,
     "metadata": {},
     "output_type": "execute_result"
    }
   ],
   "source": [
    "x_s(30.1111)"
   ]
  },
  {
   "cell_type": "markdown",
   "metadata": {},
   "source": [
    "Das Ergebnis\n",
    "\n",
    "$$\n",
    "    x_\\text{s} = \\frac{2}{\\tan 30,1111^\\circ - \\tan 30,0000^\\circ} \\approx 772,703.\n",
    "$$\n",
    "\n",
    "stimmt nur in den 3 führenden Ziffern 772 mit der vorherigen, auf 6 Stellen genauen, Lösung überein. Dies entspricht einem Genauigkeitsverlust von 3 Stellen! Schauen wir uns den Effekt der Rundung etwas genauer an:"
   ]
  },
  {
   "cell_type": "code",
   "execution_count": 24,
   "metadata": {
    "jupyter": {
     "source_hidden": true
    },
    "tags": []
   },
   "outputs": [
    {
     "name": "stdout",
     "output_type": "stream",
     "text": [
      "Alpha mit 8 signifikanten Stellen 30.111111° ergibt einen Schnittpunkt bei 772.626802. Die Abweichung vom exakten Ergebnis beträgt etwa 0.0001 Prozent.\n",
      "Alpha mit 7 signifikanten Stellen 30.11111°  ergibt einen Schnittpunkt bei 772.633763. Die Abweichung vom exakten Ergebnis beträgt etwa 0.0010 Prozent.\n",
      "Alpha mit 6 signifikanten Stellen 30.1111°   ergibt einen Schnittpunkt bei 772.703386. Die Abweichung vom exakten Ergebnis beträgt etwa 0.0100 Prozent.\n",
      "Alpha mit 5 signifikanten Stellen 30.111°    ergibt einen Schnittpunkt bei 773.400297. Die Abweichung vom exakten Ergebnis beträgt etwa 0.1002 Prozent.\n",
      "Alpha mit 4 signifikanten Stellen 30.11°     ergibt einen Schnittpunkt bei 780.439099. Die Abweichung vom exakten Ergebnis beträgt etwa 1.0112 Prozent.\n",
      "Alpha mit 3 signifikanten Stellen 30.1°      ergibt einen Schnittpunkt bei 858.569795. Die Abweichung vom exakten Ergebnis beträgt etwa 11.1236 Prozent.\n"
     ]
    }
   ],
   "source": [
    "for i in range(6,0,-1):\n",
    "    alpha = round(30+1/9,i)\n",
    "    print(\"Alpha mit %i\" %(i+2) + \n",
    "          \" signifikanten Stellen \" + \n",
    "          \"{:.{}f}°\".format(alpha, int(i)).ljust(10) + \n",
    "          \" ergibt einen Schnittpunkt bei %.6f\" %x_s(alpha) + \n",
    "          \". Die Abweichung vom exakten Ergebnis beträgt etwa %.4f Prozent.\" %((x_s(alpha) - x_s(30+1/9))/x_s(30+1/9)*100))"
   ]
  },
  {
   "cell_type": "markdown",
   "metadata": {},
   "source": [
    "Wir beobachten, dass mit jeder weiteren Rundung Genauigkeit verlorengeht. Anders gesagt, entspricht die Genauigkeit des Ergebnisses nicht den Erwartungen: Die auf 4 signifikante Stellen gerundete Eingabe ist nur noch auf eine Stelle richtig; die auf 3 signifikante Stellen gerundete Eingabe weist keine einzige richtige Stelle mehr auf.\n",
    "\n",
    "Würden wir auf 2 signifikante Stellen runden, würden wir mit $\\alpha = \\beta$ in die Berechnung gehen, was zu einem verschwindenden Nenner führt und somit zu $x_\\text{s} = \\infty$.\n",
    "\n",
    "Wir wollen das Problem der Schnittpunktverlagerung nun noch graphisch veranschaulichen."
   ]
  },
  {
   "cell_type": "code",
   "execution_count": 25,
   "metadata": {
    "jupyter": {
     "source_hidden": true
    },
    "tags": []
   },
   "outputs": [
    {
     "data": {
      "image/png": "[encoded data removed]",
      "text/plain": [
       "<Figure size 576x432 with 1 Axes>"
      ]
     },
     "metadata": {
      "needs_background": "light"
     },
     "output_type": "display_data"
    }
   ],
   "source": [
    "x = np.linspace(770,860,10)\n",
    "fig, ax = plt.subplots(figsize=(8,6))\n",
    "ax.plot(x,np.tan(np.deg2rad(30))*x+2,label='$y_2 = 2 + x\\, \\\\tan 30^°$',lw=1,color='black')\n",
    "ax.plot(x,np.tan(np.deg2rad(30+1/9))*x,label='$y_1 = x\\, \\\\tan (30+\\\\frac{1}{9})^°$',lw=1,color='red')\n",
    "ax.plot(x_s(30+1/9),np.tan(np.deg2rad(30+1/9))*x_s(30+1/9),marker='d',color='red',label='$x_s$ for $\\\\alpha = (30+\\\\frac{1}{9})^°$',ls='')\n",
    "for i in range(3,0,-1):\n",
    "    alpha = round(30+1/9,i)\n",
    "    label_str = '$x_s$ for $\\\\alpha = {:.{}f}°$'.format(alpha, int(i))\n",
    "    #ax.plot(x,np.tan(np.deg2rad(alpha))*x,color='yellow', lw=1)\n",
    "    ax.plot(x_s(alpha),np.tan(np.deg2rad(alpha))*x_s(alpha),label=label_str,marker='d',ls='')\n",
    "ax.legend()\n",
    "ax.set_ylabel('$y$')\n",
    "ax.set_xlabel('$x$')\n",
    "fig.tight_layout();"
   ]
  },
  {
   "cell_type": "markdown",
   "metadata": {},
   "source": [
    "Beide Geraden sind aufgrund des schleifenden Schnitts visuell kaum zu unterscheiden. Die Abweichungen des Schnittpunkts aufgrund der Genauigkeitsreduktion der Winkelangabe sind deutlich erkennbar.\n",
    "\n",
    "\"Probleme dieser Art heißen schlecht konditioniert, d.h. eine kleine Änderung der Eingangsgröße ergibt eine große Änderung des Ergebnisses. Wenn wir in unsere[r] Handrechnung Zwischenberechnungen solcher Art ausführen, müssen wir für Zwischenergebnisse mehr signifikante Stellen anschreiben als für das Endergebnis notwendig. Wie viel genau, hängt vom jeweiligen Berechnungsschritt ab. Es kann keine allgemeine Regel angegeben werden! Aber wenn wir davon ausgehen, dass unsere Berechnungen nicht extrem schlecht konditioniert sind, dann genügt es in der Regel, bei Zwischenergebnissen ein bis zwei Stellen mehr als die gegebenen signifikanten Stellen der Eingabewerte anzuschreiben. So sind z.B. Wichten typischerweise mit 3 signifikanten Stellen gegeben, z.B. $\\gamma_\\text{d} = 17,6\\,$kN/m³. Die daraus für Zwischenrechnungen ermittelte Porenzahl sollte damit auf mindestens 4 Stellen angeschrieben werden, z.B. $e=\\frac{\\gamma_\\text{s}}{\\gamma_\\text{d}} - 1 = \\frac{26,0}{17,6} - 1 = 0,4773^*$. Ist $e$ ein Endergebnis, darf allerdings maximal die Anzahl der signifikanten Stellen des Eingabewertes angegeben werden, also hier $e = 0,477$.\" [1]\n",
    "\n",
    "Bei Verwendung eines modernen Taschenrechners oder Computers zur Unterstützung der \"Handrechnung\" gilt schlichtweg der praktische Hinweis, dass Zwischenergebnisse praktischerweise mit der jeweiligen Rechengenauigkeit, d.h. ohne weiteres Runden, zwischengespeichert werden können. Die gesuchten Ergebnisse sind dann auf die signifikanten Stellen zu runden.\n",
    "\n",
    "<span style=\"font-size: 10px;\">$^*$ Tippfehler in der Originalquelle korrigiert</span>"
   ]
  },
  {
   "cell_type": "markdown",
   "metadata": {},
   "source": [
    "## Konditionszahlen\n",
    "\n",
    "Um herauszufinden, ob ein Problem schlecht konditioniert ist, können wir uns der aus der Physik bekannten Methoden der Fehlerrechnung bedienen. Diese beruht auf einer nach dem ersten Glied abgeschnittenen Taylorreihe. Diese sog. Linearisierung einer Funktion werden wir zukünftig in den unterschiedlichsten Zusammenhängen anwenden. Doch zurück zu unserem Problem. Gegeben sei eine im Allgemeinen nichtlineare Funktion $y=f(x)$, für die wir näherungsweise schreiben können:\n",
    "\n",
    "$$\n",
    "    y + \\Delta y = f(x+\\Delta x) \\approx f(x) + f'(x) \\Delta x\n",
    "$$\n",
    "\n",
    "Die Ableitung $f'(x)$ entspricht dem Anstieg der Funktion $f(x)$ an der Stelle $x$. \"Die Ableitung $f'(x)$ stellt graphisch eine Tangente an die Funktion $f(x)$ dar, und $f'(x)\\Delta x$ bedeutet, ein Stück weit dieser Tangente zu folgen, statt auf der gekrümmten Funktion zu bleiben. Eine Änderung des Eingabewertes $x$ um $\\Delta x$ bewirkt die Änderung\n",
    "\n",
    "$$\n",
    "    \\Delta y = f'(x) \\Delta x\n",
    "$$\n",
    "\n",
    "Im Ergebnis $y$. Es spielt also die Ableitung der Funktion eine Rolle. Wenn diese an der Stelle $x$ einen großen Wert aufweist, sind numerische Probleme zu erwarten\" [1]. Runden ist dann kritisch, da kleine Abweichungen $\\Delta x$ durch hohe Werte der Ableitungen skaliert (\"aufgeblasen\") werden und zu hohen Genauigkeitsverlusten führen. \n",
    "\n",
    "Wir stellen nun die Ableitung der Funktion zur Bestimmung von $x_\\text{s}$ einmal graphisch dar:"
   ]
  },
  {
   "cell_type": "code",
   "execution_count": 26,
   "metadata": {},
   "outputs": [],
   "source": [
    "a, b, d, x = sp.symbols('alpha beta d x')"
   ]
  },
  {
   "cell_type": "code",
   "execution_count": 27,
   "metadata": {},
   "outputs": [
    {
     "data": {
      "text/latex": [
       "$\\displaystyle \\frac{d}{\\tan{\\left(\\alpha \\right)} - \\tan{\\left(\\beta \\right)}}$"
      ],
      "text/plain": [
       "       d       \n",
       "───────────────\n",
       "tan(α) - tan(β)"
      ]
     },
     "execution_count": 27,
     "metadata": {},
     "output_type": "execute_result"
    }
   ],
   "source": [
    "f = d/(sp.tan(a) - sp.tan(b))\n",
    "f"
   ]
  },
  {
   "cell_type": "code",
   "execution_count": 28,
   "metadata": {},
   "outputs": [
    {
     "data": {
      "text/latex": [
       "$\\displaystyle - \\frac{d}{\\left(\\tan{\\left(\\alpha \\right)} - \\tan{\\left(\\beta \\right)}\\right)^{2} \\cos^{2}{\\left(\\alpha \\right)}}$"
      ],
      "text/plain": [
       "           -d             \n",
       "──────────────────────────\n",
       "                 2    2   \n",
       "(tan(α) - tan(β)) ⋅cos (α)"
      ]
     },
     "execution_count": 28,
     "metadata": {},
     "output_type": "execute_result"
    }
   ],
   "source": [
    "df_dx = f.diff(a)\n",
    "df_dx.simplify()"
   ]
  },
  {
   "cell_type": "code",
   "execution_count": 29,
   "metadata": {
    "jupyter": {
     "source_hidden": true
    },
    "tags": []
   },
   "outputs": [
    {
     "data": {
      "image/png": "[encoded data removed]",
      "text/plain": [
       "<Figure size 576x432 with 1 Axes>"
      ]
     },
     "metadata": {
      "needs_background": "light"
     },
     "output_type": "display_data"
    }
   ],
   "source": [
    "alpha = np.linspace(30+1/9,70,1000)\n",
    "alphas = np.deg2rad(alpha)\n",
    "plt.plot(alpha,-2/((np.tan(alphas)-np.tan(np.deg2rad(30)))**2 * np.cos(alphas)**2))\n",
    "plt.yscale('symlog',linthreshy=0.01)\n",
    "plt.xlabel(\"$\\\\alpha$ / °\")\n",
    "plt.ylabel(\"$f\\,'(\\\\alpha)$\");"
   ]
  },
  {
   "cell_type": "markdown",
   "metadata": {},
   "source": [
    "Es wird deutlich, dass der Betrag der Ableitung mit $\\alpha \\rightarrow \\beta$ rasant ansteigt. Kleine Abweichungen in $\\alpha$ wirken sich also sehr stark auf die Abschätzung des Schnittpunktes $x_\\text{s}$ aus.\n",
    "\n",
    "Die relative Änderung der Lösung kann als\n",
    "\n",
    "$$\n",
    "    \\frac{\\Delta y}{y} = \\frac{f'(x)\\Delta x}{f(x)} = \\frac{x f'(x)}{f(x)} \\frac{\\Delta x}{x}\n",
    "$$\n",
    "\n",
    "geschrieben werden. \"Der Faktor \n",
    "\n",
    "$$\n",
    "    \\left| \\frac{x f'(x)}{f(x)} \\right|\n",
    "$$\n",
    "\n",
    "heißt Konditionszahl des Problems an der Stelle $x$.\" [1]\n",
    "Je höher diese Ausfällt, umso schlechter ist das Problem gestellt (konditioniert).\n",
    "\n",
    "Wir stellen nun die Konditionszahl graphisch dar:"
   ]
  },
  {
   "cell_type": "code",
   "execution_count": 30,
   "metadata": {
    "jupyter": {
     "source_hidden": true
    },
    "tags": []
   },
   "outputs": [
    {
     "data": {
      "image/png": "[encoded data removed]",
      "text/plain": [
       "<Figure size 576x432 with 1 Axes>"
      ]
     },
     "metadata": {
      "needs_background": "light"
     },
     "output_type": "display_data"
    }
   ],
   "source": [
    "alpha = np.linspace(30+1/9,70,1000)\n",
    "alphas = np.deg2rad(alpha)\n",
    "plt.plot(alpha,np.abs(-2*alphas/((np.tan(alphas)-np.tan(np.deg2rad(30)))**2 * np.cos(alphas)**2) / (2/(np.tan(alphas) - np.tan(np.deg2rad(30))))))\n",
    "plt.yscale('symlog',linthreshy=0.01)\n",
    "plt.xlabel(\"$\\\\alpha$ / °\")\n",
    "plt.ylabel(\"$|\\\\alpha f\\,'(\\\\alpha) / f(\\\\alpha) |$\");"
   ]
  },
  {
   "cell_type": "markdown",
   "metadata": {},
   "source": [
    "Es ergibt sich eine Konditionszahl von 271 für den schleifenden Schnitt mit $\\alpha = 30,\\bar{1}^\\circ$, und von 4.8 für das besser gestellte Problem bei $\\alpha = 70^\\circ$. Der Anstieg der Konditionszahl für höhere Winkel hängt mit dem Verhalten der Tangensfunktion bei der Annäherung an 90° zusammen."
   ]
  }
 ],
 "metadata": {
  "kernelspec": {
   "display_name": "Python 3 (ipykernel)",
   "language": "python",
   "name": "python3"
  },
  "language_info": {
   "codemirror_mode": {
    "name": "ipython",
    "version": 3
   },
   "file_extension": ".py",
   "mimetype": "text/x-python",
   "name": "python",
   "nbconvert_exporter": "python",
   "pygments_lexer": "ipython3",
   "version": "3.11.6"
  },
  "widgets": {
   "application/vnd.jupyter.widget-state+json": {
    "state": {},
    "version_major": 2,
    "version_minor": 0
   }
  }
 },
 "nbformat": 4,
 "nbformat_minor": 4
}
