{
 "cells": [
  {
   "cell_type": "markdown",
   "metadata": {
    "deletable": false,
    "editable": false
   },
   "source": [
    "![Logo TUBAF](https://tu-freiberg.de/sites/default/files/media/freiberger-alumni-netzwerk-6127/wbm_orig_rgb_0.jpg)\n",
    "\n",
    "Exercise material of the MSc-level course **Numerical Methods in Geotechnical Engineering**.\n",
    "Held at Technische Universität Bergakademie Freiberg.\n",
    "\n",
    "Comments to:\n",
    "\n",
    "*Prof. Dr. Thomas Nagel  \n",
    "Chair of Soil Mechanics and Foundation Engineering  \n",
    "Geotechnical Institute  \n",
    "Technische Universität Bergakademie Freiberg.*\n",
    "\n",
    "https://tu-freiberg.de/en/fakultaet3/gt/soilmechanics\n"
   ]
  },
  {
   "cell_type": "code",
   "execution_count": 6,
   "metadata": {},
   "outputs": [],
   "source": [
    "import numpy as np\n",
    "import matplotlib.pyplot as plt\n",
    "#import concurrent.futures as cf\n",
    "\n",
    "#Some plot settings\n",
    "import plot_functions.plot_settings\n",
    "%run plot_functions/Terzaghi_FD_plot.ipynb"
   ]
  },
  {
   "cell_type": "markdown",
   "metadata": {},
   "source": [
    "# One-dimensional consolidation (Terzaghi): finite difference solution\n",
    "\n",
    "## Governing differential equation\n",
    "\n",
    "The equation is akin to a diffusion equation\n",
    "\n",
    "$$\n",
    "    \\frac{\\partial u}{\\partial t} = C_\\text{V} \\frac{\\partial^2 u}{\\partial z^2}\n",
    "$$\n",
    "\n",
    "In the present case we consider that the layer is sealed at the bottom and draining through the top."
   ]
  },
  {
   "cell_type": "markdown",
   "metadata": {},
   "source": [
    "Let's put this to test."
   ]
  },
  {
   "cell_type": "markdown",
   "metadata": {},
   "source": [
    "## Finite difference discretization\n",
    "\n",
    "In the finite difference method, we introduce a grid made up, in the one-dimensional case, of a series of points. The differentials are the evaluated by finite differences between values at these points:\n",
    "\n",
    "$$\n",
    "    \\frac{\\partial u}{\\partial z} \\approx \\frac{\\Delta u}{\\Delta z} = \\frac{u_i - u_{i-1}}{z_i - z_{i-1}} = u_i'\n",
    "$$\n",
    "\n",
    "where here, backward differences were chosen (viz. forward and central differences). We also assume a constant $\\Delta z$ here.\n",
    "\n",
    "A second derivative can likewise be approximated (now using forward differences):\n",
    "\n",
    "$$\n",
    "    \\frac{\\partial^2 u}{\\partial z^2} \\approx u_i'' = \\frac{u_{i+1}' - u_i'}{\\Delta z}\n",
    "$$\n",
    "\n",
    "Substitution of the first derivatives yields:\n",
    "\n",
    "$$\n",
    "    \\frac{\\partial^2 u}{\\partial z^2} \\approx u_i'' = \\frac{u_{i+1} - 2 u_i + u_{i-1}}{\\Delta z^2}\n",
    "$$\n",
    "\n",
    "Now we do the same in time by discretizing the time interval into distinct time steps $\\Delta t$ using an explicit forward Euler scheme:\n",
    "\n",
    "$$\n",
    "    \\frac{\\partial u}{\\partial t} \\approx \\frac{\\Delta u}{\\Delta t} = \\frac{u_i^{t+\\Delta t} - u_i^t}{\\Delta t}\n",
    "$$\n",
    "\n",
    "Our partial differential equation has now transformed into a finite difference equation evaluated at a series of points $i$ as:\n",
    "\n",
    "$$\n",
    "    \\frac{u_i^{t+\\Delta t} - u_i^t}{\\Delta t} = C_\\text{V} \\frac{u_{i+1}^t - 2 u_i^t + u_{i-1}^t}{\\Delta z^2}\n",
    "$$"
   ]
  },
  {
   "cell_type": "markdown",
   "metadata": {},
   "source": [
    "Thus, we find the solution at the next time step directly from the old solution:\n",
    "\n",
    "$$\n",
    "    u_i^{t+\\Delta t} = u_i^t + C_\\text{V} \\frac{\\Delta t}{\\Delta z^2} \\left( u_{i+1}^t - 2 u_i^t + u_{i-1}^t \\right)\n",
    "$$\n",
    "\n",
    "or in dimensionless form:\n",
    "\n",
    "$$\n",
    "    u_i^{\\tau+\\Delta \\tau} = u_i^\\tau + C_\\text{V} \\frac{\\Delta \\tau}{\\Delta \\zeta^2} \\left( u_{i+1}^\\tau - 2 u_i^\\tau + u_{i-1}^\\tau \\right)\n",
    "$$"
   ]
  },
  {
   "cell_type": "code",
   "execution_count": 7,
   "metadata": {},
   "outputs": [],
   "source": [
    "Cv_1 = 1.\n",
    "Cv_2 = 10."
   ]
  },
  {
   "cell_type": "markdown",
   "metadata": {},
   "source": [
    "Next, we set the location-specific consolidation coefficient (bottom and top layer). Since we use an explicit scheme, the stability requirement\n",
    "\n",
    "$$\n",
    "    \\Delta t < \\frac{\\Delta z^2}{2C_\\text{V}}\n",
    "$$\n",
    "\n",
    "must be met."
   ]
  },
  {
   "cell_type": "code",
   "execution_count": 8,
   "metadata": {},
   "outputs": [],
   "source": [
    "dz = 0.02\n",
    "L = 1.\n",
    "number_of_points = int(L/dz+1)\n",
    "zeta = np.linspace(0.,1.,number_of_points)\n",
    "dt_max = 1./2. * dz**2/np.maximum(Cv_1,Cv_2)\n",
    "dt = dt_max*0.99\n",
    "t_end = 1.\n",
    "time = np.linspace(0.,t_end,int(t_end/dt))"
   ]
  },
  {
   "cell_type": "markdown",
   "metadata": {},
   "source": [
    "What's missing are the boundary conditions: \n",
    "\n",
    "$$\n",
    "    \\left. \\frac{\\partial u}{\\partial \\zeta} \\right|_{\\zeta = 0} = 0 \\qquad u(\\zeta = 1) = 0\n",
    "$$\n",
    "\n",
    "They can be integrated easily by manipulating the first and last equations (rows).\n",
    "\n",
    "Additionally, we provide transition conditions between the two layers (constant mass flux):\n",
    "\n",
    "$$\n",
    "    \\left. \\frac{\\partial u}{\\partial \\zeta} \\right|_{\\zeta = \\frac{1}{2} - 0} = \\left. \\frac{\\partial u}{\\partial \\zeta} \\right|_{\\zeta = \\frac{1}{2} + 0}\n",
    "$$"
   ]
  },
  {
   "cell_type": "markdown",
   "metadata": {},
   "source": [
    "The final missing ingredient are the initial conditions:\n",
    "\n",
    "$$\n",
    "    u(z,t=0) = u_0(z)\n",
    "$$\n",
    "\n",
    "which are assumed to vary linearly here between an upper and a lower value."
   ]
  },
  {
   "cell_type": "code",
   "execution_count": 9,
   "metadata": {},
   "outputs": [],
   "source": [
    "u_0 = initial_pressure(1,1)#lower and upper value"
   ]
  },
  {
   "cell_type": "markdown",
   "metadata": {},
   "source": [
    "Now we run the simulations by initializing solution arrays (first and second index correspond to top and bottom layer, respectively), building the finite difference system matrices A and running the time stepper for each setting on another core (i.e. in parallel)."
   ]
  },
  {
   "cell_type": "code",
   "execution_count": null,
   "metadata": {},
   "outputs": [],
   "source": [
    "run_and_plot_simulation(u_0,Cv_1,Cv_2,'Mehrschichtproblem_Rechteck.pdf')"
   ]
  },
  {
   "cell_type": "markdown",
   "metadata": {},
   "source": [
    "Now we switch from a rectangular to an upper triangular initial excess pore pressure."
   ]
  },
  {
   "cell_type": "code",
   "execution_count": null,
   "metadata": {},
   "outputs": [],
   "source": [
    "u_0 = initial_pressure(1,0)"
   ]
  },
  {
   "cell_type": "code",
   "execution_count": null,
   "metadata": {},
   "outputs": [],
   "source": [
    "run_and_plot_simulation(u_0,Cv_1,Cv_2,'Mehrschichtproblem_inverses_Dreieck.pdf')"
   ]
  },
  {
   "cell_type": "markdown",
   "metadata": {},
   "source": [
    "Finally, we choose a lower triangular initial excess pore pressure distribution."
   ]
  },
  {
   "cell_type": "code",
   "execution_count": null,
   "metadata": {},
   "outputs": [],
   "source": [
    "u_0 = initial_pressure(0,1)"
   ]
  },
  {
   "cell_type": "code",
   "execution_count": null,
   "metadata": {},
   "outputs": [],
   "source": [
    "run_and_plot_simulation(u_0,Cv_1,Cv_2,'Mehrschichtproblem_Dreieck.pdf')"
   ]
  },
  {
   "cell_type": "code",
   "execution_count": null,
   "metadata": {},
   "outputs": [],
   "source": []
  }
 ],
 "metadata": {
  "kernelspec": {
   "display_name": "Python 3",
   "language": "python",
   "name": "python3"
  },
  "language_info": {
   "codemirror_mode": {
    "name": "ipython",
    "version": 3
   },
   "file_extension": ".py",
   "mimetype": "text/x-python",
   "name": "python",
   "nbconvert_exporter": "python",
   "pygments_lexer": "ipython3",
   "version": "3.8.5"
  }
 },
 "nbformat": 4,
 "nbformat_minor": 4
}
