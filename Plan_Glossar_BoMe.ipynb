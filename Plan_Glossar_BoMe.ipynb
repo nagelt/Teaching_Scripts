{
 "cells": [
  {
   "cell_type": "markdown",
   "metadata": {},
   "source": [
    "<div style=\"display: flex; align-items: center;\">\n",
    "    <img src=\"https://github.com/nagelt/Teaching_Scripts/raw/9d9e29ecca4b04eaf7397938eacbf116d37ddc93/Images/TUBAF_Logo_blau.png\" width=\"500\" height=\"auto\" height=\"auto\" style=\"margin-right: 100px;\" />\n",
    "    <div>\n",
    "        <p><strong>Prof. Dr. Thomas Nagel</strong></p>\n",
    "        <p>Chair of Soil Mechanics and Foundation Engineering<br>Geotechnical Institute<br>Technische Universität Bergakademie Freiberg.</p>\n",
    "        <p><a href=\"https://tu-freiberg.de/en/soilmechanics\">https://tu-freiberg.de/en/soilmechanics</a></p>\n",
    "    </div>\n",
    "</div>"
   ]
  },
  {
   "cell_type": "markdown",
   "metadata": {},
   "source": [
    "# Themen der Vorlesung Bodenmechanik (Grundlagen)"
   ]
  },
  {
   "cell_type": "markdown",
   "metadata": {},
   "source": [
    "## Inhalte\n",
    "\n",
    "- Von mechanischen Eigenschaften zu bodenmechanischen Modellen und Sicherheitsnachweisen\n",
    "- Wiederholung zu Kenngrößen und Spannungen\n",
    "- Grundspannungszustand im Untergrund bei stationärem Grundwasser\n",
    "- Grundwasserströmung, Strömungskräfte, Strömungsnetze\n",
    "- Konsolidationstheorie: Kopplung von Bodenverformung und Porenwasserbewegung\n",
    "- Einblicke in die Plastizitätstheorie\n",
    "- Erddrucktheorie nach Coulomb und Rankine\n",
    "- Geländebruch, Standsicherheit von Böschungen\n",
    "\n",
    "## Vorläufiger Abblaufplan:\n",
    "\n",
    "| KW | Vorlesung                               | Übung                          |\n",
    "|---:|:----------------------------------------|:-------------------------------|\n",
    "| 42 | dies academicus                         | Einführung                     |\n",
    "| 43 | Einführung + Grundspannungszustand (2V) |                                |\n",
    "| 44 | Grundspannungszustand                   | Grundspannungszustand          |\n",
    "| 45 | Grundwasserströmung                     | Grundspannungszustand          |\n",
    "| 46 | Grundwasserströmung                     | -                              |\n",
    "| 47 | Konsolidationstheorie                   | Grundwasserströmung            |\n",
    "| 48 | Konsolidationstheorie                   | Grundwasserströmung            |\n",
    "| 49 | Erddruck                                | Konsolidationstheorie          |\n",
    "| 50 | Erddruck                                | Konsolidationstheorie          |\n",
    "| 51 | Erddruck                                | Erddruck                       |\n",
    "| 52 | -                                       | -                              |\n",
    "| 1  | -                                       | -                              |\n",
    "| 2  | Standsicherheit von Böschungen          | Erddruck                       |\n",
    "| 3  | Standsicherheit von Böschungen          | Erddruck                       |\n",
    "| 4  | Standsicherheit von Böschungen          | Standsicherheit von Böschungen |\n",
    "| 5  | Nutzung für Grundbau                    | Standsicherheit von Böschungen |\n",
    "| 6  | Klausurwiederholung                     | Standsicherheit von Böschungen |"
   ]
  },
  {
   "cell_type": "markdown",
   "metadata": {},
   "source": [
    "# Liste einiger Formelzeichen\n",
    "\n",
    "Diese Liste wird im Rahmen der Vorlesung gefüllt. Es wird empfohlen, eine eigene handschriftliche Liste zu führen und nach Bedarf zu ergänzen."
   ]
  },
  {
   "cell_type": "markdown",
   "metadata": {},
   "source": [
    "| Größe                            | Formelzeichen   | Typische Einheiten            |\n",
    "|----------------------------------|-----------------|-------------------------------|\n",
    "|Dichte (Massedichte; Indizes siehe: Wichte)   | $\\varrho$  | kg/m³                  |\n",
    "|E-Modul                           | $E$             | Pa (kPa, MPa)                 |\n",
    "|Erddruck (aktiv, passiv)          | $e_\\text{a}$, $e_\\text{p}$ | Pa (kPa, MPa)      |\n",
    "|Erddruckbeiwert (aktiv, passiv)   | $K_\\text{a}$, $K_\\text{p}$ | --                 |\n",
    "|Erddruckkraft (aktiv, passiv)     | $E_\\text{a}$, $E_\\text{p}$ | Pa (kPa, MPa)      |\n",
    "|Filtergeschwindigkeit (Darcy)     | $\\vec{v}$, $v_i$ | m/s                          |\n",
    "|Hydraulische Höhe                 | $h$             | m                             |\n",
    "|Hydraulische Leitfähigkeit        | $k_\\text{f}$    | m/s                           |\n",
    "|Intrinsische Permeabilität        | $\\kappa_{ij}$, $K_{ij}$   | m²                  |\n",
    "|Kompressionsbeiwert               | $C_\\text{c}$    | --                            |\n",
    "|Kompressionsmodul                 | $K$             | Pa (kPa, MPa)                 |\n",
    "|Konsolidationsbeiwert             | $c_\\text{v}$    | m²/s                          |\n",
    "|Konsolidationsgrad, lokal         | $U_z$           | --                            |\n",
    "|Konsolidations-/Verdichtungs-/Verfestigungsgrad, mittlerer | $U$ | --               |\n",
    "|Porenwasserüberdruck/Strömungsdruck | $\\Delta u$    | Pa (kPa, MPa)                 |\n",
    "|Querkontraktionszahl              | $\\nu$           | --                            |\n",
    "|Schubmodul, Schersteifigkeit      | $G$             | Pa (kPa, MPa)                 |\n",
    "|Schwellbeiwert                    | $C_\\text{s}$    | --                            |\n",
    "|Setzung                           | $s$, $u_z$      | m                             |\n",
    "|Setzung, Anfangs-                 | $s_0$           | m                             |\n",
    "|Setzung, End-                     | $s_\\infty$      | m                             |\n",
    "|Steifemodul                       | $E_\\text{s}$    | Pa (kPa, MPa)                 |\n",
    "|Spannung, effektiv                | $\\sigma'_{ij}$  | Pa (kPa, MPa)                 |\n",
    "|Spannung, deviatorisch            | $s_{ij}$        | Pa (kPa, MPa)                 |\n",
    "|Spannung, neutral (Porenwasserdruck) | $u$, $u\\delta_{ij}$ | Pa (kPa, MPa)          |\n",
    "|Spannung, total                   | $\\sigma_{ij}$   | Pa (kPa, MPa)                 |\n",
    "|Verschiebung                      | $\\vec{u}$, $u_i$| m                             |\n",
    "|Verzerrung                        | $\\epsilon_{ij}$ | --                            |\n",
    "|Verzerrung, deviatorisch          | $e_{ij}$        | --                            |\n",
    "|Wichte, erdfeucht                 | $\\gamma$        | kN/m³                         |\n",
    "|Wichte, gesättigt                 | $\\gamma_\\text{r}$ | kN/m³                       |\n",
    "|Wichte, trocken                   | $\\gamma_\\text{d}$ | kN/m³                       |\n",
    "|Wichte, unter Auftrieb            | $\\gamma'$        | kN/m³                        |"
   ]
  },
  {
   "cell_type": "markdown",
   "metadata": {},
   "source": [
    "Außerdem gelten folgende Konventionen für die Verwendung der Indexnotation bei vektoriellen und tensoriellen Größen:\n",
    "\n",
    "Unterscheidung Skalar, Vektor, Tensor zweiter Stufe, etc. über Anzahl der freien Indizes: $a$, $a_i$, $a_{ij}$\n",
    "\n",
    "Kronecker-Delta (Einheitstensor zweiter Stufe): $\\delta_{ij} = \\begin{pmatrix} 1 & 0 & 0\\\\ 0 & 1 & 0\\\\ 0 & 0 & 1 \\end{pmatrix}$\n",
    "\n",
    "Nabla-Operator: $\\nabla = \\begin{pmatrix} \\frac{\\partial}{\\partial x_1}\\\\\\frac{\\partial}{\\partial x_2} \\\\ \\frac{\\partial}{\\partial x_3} \\end{pmatrix}$ \n",
    "\n",
    "Partielle Ableitung nach Ortskoordinaten durch Komma-Notation: $\\nabla a = \\displaystyle\\frac{\\partial a}{\\partial x_i} = a_{,i}$ (Gradient des skalaren Feldes $a$ ist ein Vektor).\n",
    "\n",
    "Einstein'sche Summationskonvention -- taucht ein Index in einem Monom doppelt auf, so ist über diesen zu summieren. Bspw. $v_{i,i} = v_{1,1} + v_{2,2} + v_{3,3}$ (Divergenz des Geschwindigkeitsvektorfeldes), oder $\\sigma_{ij,j} = \\sigma_{i1,1} + \\sigma_{i2,2} + \\sigma_{i3,3}$ (Divergenz des Spannungstensors), oder $\\epsilon_{ii} = \\epsilon_{11} + \\epsilon_{22} + \\epsilon_{33}$ (Spur des Verzerrungstensors, Volumendehnung)."
   ]
  }
 ],
 "metadata": {
  "kernelspec": {
   "display_name": "Python 3 (ipykernel)",
   "language": "python",
   "name": "python3"
  },
  "language_info": {
   "codemirror_mode": {
    "name": "ipython",
    "version": 3
   },
   "file_extension": ".py",
   "mimetype": "text/x-python",
   "name": "python",
   "nbconvert_exporter": "python",
   "pygments_lexer": "ipython3",
   "version": "3.9.18"
  },
  "widgets": {
   "application/vnd.jupyter.widget-state+json": {
    "state": {},
    "version_major": 2,
    "version_minor": 0
   }
  }
 },
 "nbformat": 4,
 "nbformat_minor": 4
}
