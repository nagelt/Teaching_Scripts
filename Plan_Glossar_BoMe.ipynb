{
 "cells": [
  {
   "cell_type": "markdown",
   "metadata": {},
   "source": [
    "![Logo TUBAF](https://tu-freiberg.de/sites/default/files/media/freiberger-alumni-netzwerk-6127/wbm_orig_rgb_0.jpg)\n",
    "\n",
    "Comments to:\n",
    "\n",
    "*Prof. Dr. Thomas Nagel  \n",
    "Chair of Soil Mechanics and Foundation Engineering  \n",
    "Geotechnical Institute  \n",
    "Technische Universität Bergakademie Freiberg.*\n",
    "\n",
    "https://tu-freiberg.de/en/soilmechanics"
   ]
  },
  {
   "cell_type": "code",
   "execution_count": 1,
   "metadata": {
    "jupyter": {
     "source_hidden": true
    },
    "tags": []
   },
   "outputs": [
    {
     "data": {
      "text/html": [
       "<style>\n",
       "td {\n",
       "  font-size: 14pt\n",
       "}\n",
       "th {\n",
       "  font-size: 14pt\n",
       "}\n",
       "</style>\n"
      ],
      "text/plain": [
       "<IPython.core.display.HTML object>"
      ]
     },
     "metadata": {},
     "output_type": "display_data"
    }
   ],
   "source": [
    "%%HTML\n",
    "<style>\n",
    "td {\n",
    "  font-size: 14pt\n",
    "}\n",
    "th {\n",
    "  font-size: 14pt\n",
    "}\n",
    "</style>"
   ]
  },
  {
   "cell_type": "markdown",
   "metadata": {},
   "source": [
    "# Themen der Vorlesung Bodenmechanik (Grundlagen)"
   ]
  },
  {
   "cell_type": "markdown",
   "metadata": {},
   "source": [
    "## Inhalte\n",
    "\n",
    "- Von mechanischen Eigenschaften zu bodenmechanischen Modellen und Sicherheitsnachweisen\n",
    "- Wiederholung zu Kenngrößen und Spannungen\n",
    "- Grundspannungszustand im Untergrund bei stationärem Grundwasser\n",
    "- Grundwasserströmung, Strömungskräfte, Strömungsnetze\n",
    "- Konsolidationstheorie: Kopplung von Bodenverformung und Porenwasserbewegung\n",
    "- Einblicke in die Plastizitätstheorie\n",
    "- Erddrucktheorie nach Coulomb und Rankine\n",
    "- Geländebruch, Standsicherheit von Böschungen\n",
    "\n",
    "## Vorläufiger Abblaufplan:\n",
    "\n",
    "| KW | Vorlesung                      | Übung                          |\n",
    "|---:|:-------------------------------|:-------------------------------|\n",
    "| 42 | Einführung                     | Einführung                     |\n",
    "| 43 | Grundspannungszustand          | Grundspannungszustand          |\n",
    "| 44 | Grundspannungszustand          | Grundspannungszustand          |\n",
    "| 45 | Grundwasserströmung            | Grundwasserströmung            |\n",
    "| 46 | -                              | -                              |\n",
    "| 47 | Grundwasserströmung            | Grundwasserströmung            |\n",
    "| 48 | Konsolidationstheorie          | Konsolidationstheorie          |\n",
    "| 49 | Konsolidationstheorie          | Konsolidationstheorie          |\n",
    "| 50 | Erddruck                       | Erddruck                       |\n",
    "| 51 | Erddruck                       | Erddruck                       |\n",
    "| 52 | -                              | -                              |\n",
    "| 1  | -                              | -                              |\n",
    "| 2  | Erddruck                       | Erddruck                       |\n",
    "| 3  | Standsicherheit von Böschungen | Standsicherheit von Böschungen |\n",
    "| 4  | Standsicherheit von Böschungen | Standsicherheit von Böschungen |\n",
    "| 5  | Standsicherheit von Böschungen | Standsicherheit von Böschungen |\n",
    "| 6  | Nutzung für Grundbau           | Klausurwiederholung            |"
   ]
  },
  {
   "cell_type": "markdown",
   "metadata": {},
   "source": [
    "# Liste einiger Formelzeichen\n",
    "\n",
    "Diese Liste ist nicht vollständig. Es wird empfohlen, eine eigene handschriftliche Liste zu führen."
   ]
  },
  {
   "cell_type": "markdown",
   "metadata": {},
   "source": [
    "| Größe                            | Formelzeichen   | Typische Einheiten            |\n",
    "|----------------------------------|-----------------|-------------------------------|\n",
    "|                                  |                 |                               |\n",
    "|                                  |                 |                               |\n",
    "|                                  |                 |                               |"
   ]
  }
 ],
 "metadata": {
  "kernelspec": {
   "display_name": "Python 3 (ipykernel)",
   "language": "python",
   "name": "python3"
  },
  "language_info": {
   "codemirror_mode": {
    "name": "ipython",
    "version": 3
   },
   "file_extension": ".py",
   "mimetype": "text/x-python",
   "name": "python",
   "nbconvert_exporter": "python",
   "pygments_lexer": "ipython3",
   "version": "3.9.5"
  }
 },
 "nbformat": 4,
 "nbformat_minor": 4
}
