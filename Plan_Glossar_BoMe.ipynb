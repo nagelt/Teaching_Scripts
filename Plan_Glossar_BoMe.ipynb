{
 "cells": [
  {
   "cell_type": "markdown",
   "metadata": {},
   "source": [
    "![Logo TUBAF](https://tu-freiberg.de/sites/default/files/media/freiberger-alumni-netzwerk-6127/wbm_orig_rgb_0.jpg)\n",
    "\n",
    "Comments to:\n",
    "\n",
    "*Prof. Dr. Thomas Nagel  \n",
    "Chair of Soil Mechanics and Foundation Engineering  \n",
    "Geotechnical Institute  \n",
    "Technische Universität Bergakademie Freiberg.*\n",
    "\n",
    "https://tu-freiberg.de/en/soilmechanics"
   ]
  },
  {
   "cell_type": "code",
   "execution_count": 1,
   "metadata": {
    "jupyter": {
     "source_hidden": true
    },
    "tags": []
   },
   "outputs": [],
   "source": [
    "#HIDDEN\n",
    "#%%HTML\n",
    "#<style>\n",
    "#td {\n",
    "#  font-size: 14pt\n",
    "#}\n",
    "#th {\n",
    "#  font-size: 14pt\n",
    "#}\n",
    "#</style>"
   ]
  },
  {
   "cell_type": "markdown",
   "metadata": {},
   "source": [
    "# Themen der Vorlesung Bodenmechanik (Grundlagen)"
   ]
  },
  {
   "cell_type": "markdown",
   "metadata": {},
   "source": [
    "## Inhalte\n",
    "\n",
    "- Von mechanischen Eigenschaften zu bodenmechanischen Modellen und Sicherheitsnachweisen\n",
    "- Wiederholung zu Kenngrößen und Spannungen\n",
    "- Grundspannungszustand im Untergrund bei stationärem Grundwasser\n",
    "- Grundwasserströmung, Strömungskräfte, Strömungsnetze\n",
    "- Konsolidationstheorie: Kopplung von Bodenverformung und Porenwasserbewegung\n",
    "- Einblicke in die Plastizitätstheorie\n",
    "- Erddrucktheorie nach Coulomb und Rankine\n",
    "- Geländebruch, Standsicherheit von Böschungen\n",
    "\n",
    "## Vorläufiger Abblaufplan:\n",
    "\n",
    "| KW | Vorlesung                               | Übung                          |\n",
    "|---:|:----------------------------------------|:-------------------------------|\n",
    "| 42 | dies academicus                         | Einführung                     |\n",
    "| 43 | Einführung + Grundspannungszustand (2V) |                                |\n",
    "| 44 | Grundspannungszustand                   | Grundspannungszustand          |\n",
    "| 45 | Grundwasserströmung                     | Grundspannungszustand          |\n",
    "| 46 | Grundwasserströmung                     | -                              |\n",
    "| 47 | Konsolidationstheorie                   | Grundwasserströmung            |\n",
    "| 48 | Konsolidationstheorie                   | Grundwasserströmung            |\n",
    "| 49 | Erddruck                                | Konsolidationstheorie          |\n",
    "| 50 | Erddruck                                | Konsolidationstheorie          |\n",
    "| 51 | Erddruck                                | Erddruck                       |\n",
    "| 52 | -                                       | -                              |\n",
    "| 1  | -                                       | -                              |\n",
    "| 2  | Standsicherheit von Böschungen          | Erddruck                       |\n",
    "| 3  | Standsicherheit von Böschungen          | Erddruck                       |\n",
    "| 4  | Standsicherheit von Böschungen          | Standsicherheit von Böschungen |\n",
    "| 5  | Nutzung für Grundbau                    | Standsicherheit von Böschungen |\n",
    "| 6  | Klausurwiederholung                     | Standsicherheit von Böschungen |"
   ]
  },
  {
   "cell_type": "markdown",
   "metadata": {},
   "source": [
    "# Liste einiger Formelzeichen\n",
    "\n",
    "Diese Liste wird im Rahmen der Vorlesung gefüllt. Es wird empfohlen, eine eigene handschriftliche Liste zu führen und nach Bedarf zu ergänzen."
   ]
  },
  {
   "cell_type": "markdown",
   "metadata": {},
   "source": [
    "| Größe                            | Formelzeichen   | Typische Einheiten            |\n",
    "|----------------------------------|-----------------|-------------------------------|\n",
    "|Totale Spannung                   | $\\sigma_{ij}$   | Pa (kPa, MPa)                 |\n",
    "|Effektive Spannung                | $\\sigma'_{ij}$  | Pa (kPa, MPa)                 |\n",
    "|Neutrale Spannung                 | $u$, $u\\delta_{ij}$ | Pa (kPa, MPa)             |\n",
    "|Verzerrung                        | $\\epsilon_{ij}$ | --                            |\n",
    "|E-Modul                           | $E$             | Pa (kPa, MPa)                 |\n",
    "|Schubmodul, Schersteifigkeit      | $G$             | Pa (kPa, MPa)                 |\n",
    "|Kompressionsmodul                 | $K$             | Pa (kPa, MPa)                 |\n",
    "|Steifemodul                       | $E_\\text{s}$    | Pa (kPa, MPa)                 |\n",
    "|Querkontraktionszahl              | $\\nu$           | --                            |"
   ]
  },
  {
   "cell_type": "code",
   "execution_count": null,
   "metadata": {
    "jupyter": {
     "source_hidden": true
    }
   },
   "outputs": [],
   "source": []
  }
 ],
 "metadata": {
  "kernelspec": {
   "display_name": "Python 3 (ipykernel)",
   "language": "python",
   "name": "python3"
  },
  "language_info": {
   "codemirror_mode": {
    "name": "ipython",
    "version": 3
   },
   "file_extension": ".py",
   "mimetype": "text/x-python",
   "name": "python",
   "nbconvert_exporter": "python",
   "pygments_lexer": "ipython3",
   "version": "3.9.5"
  }
 },
 "nbformat": 4,
 "nbformat_minor": 4
}
