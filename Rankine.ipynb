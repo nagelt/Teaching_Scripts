{
 "cells": [
  {
   "cell_type": "markdown",
   "metadata": {},
   "source": [
    "![Logo TUBAF](https://tu-freiberg.de/sites/default/files/media/freiberger-alumni-netzwerk-6127/wbm_orig_rgb_0.jpg)\n",
    "\n",
    "Exercise material of the MSc-level course **Foundations of Soil Mechanics**.\n",
    "Held at Technische Universität Bergakademie Freiberg.\n",
    "\n",
    "Comments to:\n",
    "\n",
    "*Prof. Dr. Thomas Nagel  \n",
    "Chair of Soil Mechanics and Foundation Engineering  \n",
    "Geotechnical Institute  \n",
    "Technische Universität Bergakademie Freiberg.*\n",
    "\n",
    "https://tu-freiberg.de/en/fakultaet3/gt/soilmechanics"
   ]
  },
  {
   "cell_type": "markdown",
   "metadata": {},
   "source": [
    "# Erddrucktheorie nach Rankine -- Ergänzende Darstellungen\n",
    "\n",
    "![Rankine.png](https://raw.githubusercontent.com/nagelt/Teaching_Scripts/master/Images/Rankine.png)\n"
   ]
  },
  {
   "cell_type": "code",
   "execution_count": 638,
   "metadata": {},
   "outputs": [],
   "source": [
    "import matplotlib.pyplot as plt\n",
    "import numpy as np\n",
    "from scipy.optimize import fsolve\n",
    "from ipywidgets import widgets\n",
    "from ipywidgets import interact, interactive\n",
    "from matplotlib import patches\n",
    "from IPython.display import display, Math, Latex\n",
    "\n",
    "#Some plot settings\n",
    "import plot_functions.plot_settings"
   ]
  },
  {
   "cell_type": "code",
   "execution_count": 639,
   "metadata": {},
   "outputs": [],
   "source": [
    "%run plot_functions/Rankine_plots.ipynb"
   ]
  },
  {
   "cell_type": "markdown",
   "metadata": {},
   "source": [
    "Wir kennen den Spannungsvektor auf einer böschungsparallelen Ebene in der Tiefe $z$ aus den Gleichgewichtsbedingungen:\n",
    "\n",
    "$$\n",
    "\\begin{pmatrix}\n",
    "    \\sigma_\\text{n}^\\beta\n",
    "    \\\\\n",
    "    \\tau^\\beta\n",
    "\\end{pmatrix}\n",
    "=\n",
    "\\gamma z \\begin{pmatrix}\n",
    "    \\cos^2\\beta\n",
    "    \\\\\n",
    "    \\sin \\beta \\cos\\beta\n",
    "\\end{pmatrix}\n",
    "$$\n",
    "\n",
    "Zu diesem Wertepaar gehört der dem Böschungswinkel entsprechende mobilisierte Reibungswinkel\n",
    "\n",
    "$$\n",
    "    \\tan \\varphi_\\text{m} = \\frac{\\tau}{\\sigma_\\text{n}} = \\tan \\beta\n",
    "$$\n",
    "\n",
    "Des weiteren kennen wir die Coulomb'sche Grenzbedingung für den Boden\n",
    "\n",
    "$$\n",
    "    \\tau_\\text{f} = c + \\sigma_\\text{n} \\tan \\varphi\n",
    "$$\n",
    "\n",
    "Beides zeichnen wir in die $\\tau-\\sigma_\\text{n}$ Ebene:"
   ]
  },
  {
   "cell_type": "code",
   "execution_count": 640,
   "metadata": {},
   "outputs": [
    {
     "data": {
      "application/vnd.jupyter.widget-view+json": {
       "model_id": "3ff86b97048d41d2a3d804fe6a4bcfca",
       "version_major": 2,
       "version_minor": 0
      },
      "text/plain": [
       "interactive(children=(FloatSlider(value=30.0, description='$\\\\varphi$ / °', max=40.0, min=15.0, step=1.0), Flo…"
      ]
     },
     "metadata": {},
     "output_type": "display_data"
    }
   ],
   "source": [
    "plot_interactive_initial()"
   ]
  },
  {
   "cell_type": "markdown",
   "metadata": {},
   "source": [
    "Um nun zu $(\\sigma_\\text{n}^\\beta, \\tau^\\beta)$ zugehörige Spannungskreise zeichnen zu können, benötigt man zusätzliche Informationen (die zeichnerische Lösung ist im Vorlesungsskript zu finden). Eine solche Information ist durch die Annahme gegeben, dass ein Grenzzustand vorliegt, d.h. dass die zu zeichnenden Spannungskreise Bruchkreise darstellen. Unter einer bestimmten Orientierung gilt also auf der zugehörigen Schnittebene\n",
    "\n",
    "$$\n",
    "    \\tau^\\vartheta = \\tau_\\text{f} = c + \\sigma_\\text{n}^\\vartheta \\tan \\varphi\n",
    "$$\n",
    "\n",
    "Die Kreisgleichung ergibt sich mit mittlerer Hauptspannung $\\sigma_\\text{M}$ und maximaler Schubspannung $\\tau_\\text{max}$ zu\n",
    "\n",
    "$$\n",
    "    \\left( \\sigma_\\text{n} - \\sigma_\\text{M} \\right)^2 + \\tau^2 = \\tau_\\text{max}^2\n",
    "$$\n",
    "\n",
    "Mit den bisher gegebenen Größen ergibt sich das Gleichungssystem\n",
    "\n",
    "\\begin{align}\n",
    "    \\tau_\\text{max}^2 &= \\left( \\sigma_\\text{n}^\\beta - \\sigma_\\text{M} \\right)^2 + (\\tau^\\beta)^2\n",
    "    \\\\\n",
    "    \\tau_\\text{max}^2 &= \\left( \\sigma_\\text{n}^\\vartheta - \\sigma_\\text{M} \\right)^2 + \\left(c + \\sigma_\\text{n}^\\vartheta \\tan \\varphi \\right)^2\n",
    "\\end{align}\n",
    "\n",
    "Zu den Unbekannten der Kreisgleichung $\\sigma_\\text{M}$ und $\\tau_\\text{max}$ ist also die Unbekannte $\\sigma_\\text{n}^\\vartheta$ hinzugekommen. Die fehlende Gleichung erhalten wir aus geometrischen Überlegungen zum Spannungskreis:\n",
    "\n",
    "$$\n",
    "    \\sin \\varphi = \\frac{\\sigma_\\text{M} - \\sigma_\\text{n}^\\vartheta}{\\tau_\\text{max}}\n",
    "$$\n",
    "\n",
    "Nun lässt sich das nichtlineare Gleichungssystem lösen. Das Gleichungssystem hat zwei Lösungen, die dem aktiven und dem passiven Grenzzustand entsprechen. Bei der analytischen Lösung wählt man die entsprechenden Wurzelausdrücke, die bei der Lösung der quadratischen Gleichungen entstehen. Bei der numerischen Lösung des obigen Gleichungssystems geschieht die Auswahl praktischerweise über geeignet gewählte Startterme, die im Konvergenzbereich um die gesuchte Lösung liegen.\n",
    "\n",
    "Mittels der so bestimmten Werte für Kreismittelpunkt und Radiums können der aktive und der passive Bruchkreis gezeichnet werden."
   ]
  },
  {
   "cell_type": "code",
   "execution_count": 641,
   "metadata": {},
   "outputs": [
    {
     "data": {
      "application/vnd.jupyter.widget-view+json": {
       "model_id": "1f3734e1091b4124a1c7b9ed4a62a2ae",
       "version_major": 2,
       "version_minor": 0
      },
      "text/plain": [
       "interactive(children=(FloatSlider(value=30.0, description='$\\\\varphi$ / °', max=40.0, min=15.0, step=1.0), Flo…"
      ]
     },
     "metadata": {},
     "output_type": "display_data"
    }
   ],
   "source": [
    "plot_interactive_circle()"
   ]
  },
  {
   "cell_type": "markdown",
   "metadata": {},
   "source": [
    "**Zwischenübung:** Man spiele mit den Parametern. Was geschieht mit beiden Spannungskreisen in kohäsionslosem Boden bei $\\beta = \\varphi$? Warum?\n",
    "\n",
    "Es folgen die Spannungsvektoren der Grenzzustände\n",
    "\n",
    "$$\n",
    "\\begin{pmatrix}\n",
    "    \\sigma_\\text{n,f}\n",
    "    \\\\\n",
    "    \\tau_\\text{f}\n",
    "\\end{pmatrix}\n",
    "=\n",
    "\\begin{pmatrix}\n",
    "    \\sigma_\\text{M} - \\tau_\\text{max} \\sin \\varphi\n",
    "    \\\\\n",
    "    \\tau_\\text{max} \\cos \\varphi\n",
    "\\end{pmatrix},\n",
    "$$\n",
    "\n",
    "die Pole der Spannungskreise aus den Schnittpunkten mit der Geländelinie (Wirkungsebene des gegebenen Spannungszustandes) mit dem Spannungskreis,\n",
    "$$\n",
    "\\begin{pmatrix}\n",
    "    \\sigma_\\text{n,P}\n",
    "    \\\\\n",
    "    \\tau_\\text{P}\n",
    "\\end{pmatrix}\n",
    "=\n",
    "\\begin{pmatrix}\n",
    "    \\displaystyle \\frac{\\sigma_\\text{M}}{1+\\tan^2\\beta} \\mp \\sqrt{\\frac{\\sigma_\\text{M}^2 - (1+\\tan^2\\beta)(\\sigma_\\text{M}^2 - \\tau_\\text{max}^2)}{(1+\\tan^2\\beta)^2}}\n",
    "    \\\\\n",
    "    \\displaystyle \\frac{\\sigma_\\text{M}\\tan\\beta}{1+\\tan^2\\beta} \\mp \\tan\\beta\\sqrt{\\frac{\\sigma_\\text{M}^2 - (1+\\tan^2\\beta)(\\sigma_\\text{M}^2 - \\tau_\\text{max}^2)}{(1+\\tan^2\\beta)^2}}\n",
    "\\end{pmatrix},\n",
    "$$\n",
    "und damit auch die Gleitebenen durch die nun möglichen Polkonstruktionen."
   ]
  },
  {
   "cell_type": "code",
   "execution_count": 642,
   "metadata": {},
   "outputs": [
    {
     "data": {
      "application/vnd.jupyter.widget-view+json": {
       "model_id": "385070e78e0e42518509796ee6664a16",
       "version_major": 2,
       "version_minor": 0
      },
      "text/plain": [
       "interactive(children=(FloatSlider(value=30.0, description='$\\\\varphi$ / °', max=40.0, min=15.0, step=1.0), Flo…"
      ]
     },
     "metadata": {},
     "output_type": "display_data"
    }
   ],
   "source": [
    "plot_interactive_slip()"
   ]
  },
  {
   "cell_type": "markdown",
   "metadata": {},
   "source": [
    "Die Hauptspannungen ergeben sich direkt aus dem Spannungskreis zu:\n",
    "\n",
    "$$\n",
    "    \\sigma_{1,3} = \\sigma_\\text{M} \\pm \\tau_\\text{max}\n",
    "$$\n",
    "\n",
    "Ebenso wie die Gleitebenen folgen sofort die Hauptspannungsebenen aus der Polkonstruktion."
   ]
  },
  {
   "cell_type": "code",
   "execution_count": 643,
   "metadata": {},
   "outputs": [
    {
     "data": {
      "application/vnd.jupyter.widget-view+json": {
       "model_id": "1c2290d6cc6e477c9bd7c8f3e71a4580",
       "version_major": 2,
       "version_minor": 0
      },
      "text/plain": [
       "interactive(children=(FloatSlider(value=30.0, description='$\\\\varphi$ / °', max=40.0, min=15.0, step=1.0), Flo…"
      ]
     },
     "metadata": {},
     "output_type": "display_data"
    }
   ],
   "source": [
    "plot_interactive_principal()"
   ]
  },
  {
   "cell_type": "markdown",
   "metadata": {},
   "source": [
    "Zeichnen wir durch den Pol die senkrechte Wandlinie ($\\alpha = 0$), so ergibt sich die Wirkungslinie des Erddrucks als parallel zur Geländelinie."
   ]
  },
  {
   "cell_type": "code",
   "execution_count": 644,
   "metadata": {},
   "outputs": [
    {
     "data": {
      "application/vnd.jupyter.widget-view+json": {
       "model_id": "f00a5355bb3c497883953e94068f84f8",
       "version_major": 2,
       "version_minor": 0
      },
      "text/plain": [
       "interactive(children=(FloatSlider(value=30.0, description='$\\\\varphi$ / °', max=40.0, min=15.0, step=1.0), Flo…"
      ]
     },
     "metadata": {},
     "output_type": "display_data"
    }
   ],
   "source": [
    "plot_interactive_wall()"
   ]
  },
  {
   "cell_type": "markdown",
   "metadata": {},
   "source": [
    "Zum Abschluss fassen wir die gesammelten Informationen zahlenmäßig zusammen und visualisieren die Spannungszustände in der Böschung mittels Hauptspannungsellipsen."
   ]
  },
  {
   "cell_type": "code",
   "execution_count": 646,
   "metadata": {},
   "outputs": [
    {
     "data": {
      "application/vnd.jupyter.widget-view+json": {
       "model_id": "64db8379d4d14b10889a0f56f07e60d8",
       "version_major": 2,
       "version_minor": 0
      },
      "text/plain": [
       "interactive(children=(FloatSlider(value=30.0, description='$\\\\varphi$ / °', max=40.0, min=15.0, step=1.0), Flo…"
      ]
     },
     "metadata": {},
     "output_type": "display_data"
    }
   ],
   "source": [
    "summary_interactive()"
   ]
  },
  {
   "cell_type": "markdown",
   "metadata": {},
   "source": [
    "Man erkennt, dass die Gleitlinien sich symmetrisch um die Hauptspannungsrichtungen anordnen, und mit der Richtung der größten Hauptspannung jeweils einen Winkel von $\\pm (\\pi/4 - \\varphi/2)$ einschließen."
   ]
  }
 ],
 "metadata": {
  "kernelspec": {
   "display_name": "Python 3",
   "language": "python",
   "name": "python3"
  },
  "language_info": {
   "codemirror_mode": {
    "name": "ipython",
    "version": 3
   },
   "file_extension": ".py",
   "mimetype": "text/x-python",
   "name": "python",
   "nbconvert_exporter": "python",
   "pygments_lexer": "ipython3",
   "version": "3.8.6"
  }
 },
 "nbformat": 4,
 "nbformat_minor": 4
}
