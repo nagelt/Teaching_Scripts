{
 "cells": [
  {
   "cell_type": "markdown",
   "metadata": {},
   "source": [
    "![Logo TUBAF](https://tu-freiberg.de/sites/default/files/media/freiberger-alumni-netzwerk-6127/wbm_orig_rgb_0.jpg)\n",
    "\n",
    "Exercise material of the MSc-level course **Foundations of Soil Mechanics**.\n",
    "Held at Technische Universität Bergakademie Freiberg.\n",
    "\n",
    "Comments to:\n",
    "\n",
    "*Prof. Dr. Thomas Nagel  \n",
    "Chair of Soil Mechanics and Foundation Engineering  \n",
    "Geotechnical Institute  \n",
    "Technische Universität Bergakademie Freiberg.*\n",
    "\n",
    "https://tu-freiberg.de/en/fakultaet3/gt/soilmechanics"
   ]
  },
  {
   "cell_type": "code",
   "execution_count": 1,
   "metadata": {},
   "outputs": [],
   "source": [
    "import matplotlib.pyplot as plt\n",
    "import numpy as np\n",
    "from ipywidgets import widgets\n",
    "from ipywidgets import interact, interactive\n",
    "\n",
    "#Some plot settings\n",
    "import plot_functions.plot_settings\n",
    "%run plot_functions/Steifemodul_plots.ipynb"
   ]
  },
  {
   "cell_type": "markdown",
   "metadata": {},
   "source": [
    "# Zahlenbeispiele zum Steifemodul / Ödometerversuchen\n",
    "\n",
    "Gegeben ist die Beziehung\n",
    "\n",
    "$$\n",
    "    \\dot{\\sigma} = E_\\text{s} \\dot{\\epsilon},\n",
    "$$\n",
    "\n",
    "die im Ödometerversuch Spannungs- und Stauchungsraten über den Steifemodul verknüpft. Letzterer sei für Erstbelastung durch die Beziehung von Ohde gegeben:\n",
    "\n",
    "$$\n",
    "    E_\\text{s} = \\nu_\\text{e} \\sigma_\\text{at} \\left(\\frac{\\sigma'}{\\sigma_\\text{at}}\\right)^{\\omega_\\text{e}}\n",
    "$$\n",
    "\n",
    "Bei Entlastung / Wiederbelastung sei $\\omega_\\text{e}^\\text{ent} = 1$ und $\\nu_\\text{e}^\\text{ent} = 0.1 \\nu_\\text{e}$. Der atmosphärische Druck ist mit $\\sigma_\\text{at} = 1$ bar gegeben.\n",
    "\n",
    "Wir setzen vergleichen nun das Verhalten dreier Böden mit folgenden Eigenschaften für die Erstbelastungskurve:\n",
    "\n",
    "* Ton: $\\nu_\\mathrm{e} = 10$, $\\omega_\\mathrm{e} = 0.9$\n",
    "* Schluff: $\\nu_\\mathrm{e} = 50$, $\\omega_\\mathrm{e} = 0.85$\n",
    "* Sand und Kies: $\\nu_\\mathrm{e} = 400$, $\\omega_\\mathrm{e} = 0.65$"
   ]
  },
  {
   "cell_type": "code",
   "execution_count": 2,
   "metadata": {},
   "outputs": [
    {
     "data": {
      "application/vnd.jupyter.widget-view+json": {
       "model_id": "88c001d21e174dfd908edb22ec16d7fa",
       "version_major": 2,
       "version_minor": 0
      },
      "text/plain": [
       "interactive(children=(Checkbox(value=False, description='Ton'), Checkbox(value=False, description='Schluff'), …"
      ]
     },
     "metadata": {},
     "output_type": "display_data"
    }
   ],
   "source": [
    "plot_interactive_curve()"
   ]
  },
  {
   "cell_type": "markdown",
   "metadata": {},
   "source": [
    "Wie unterscheiden sich die Spannungs-Dehnungskurven für die drei Böden und warum? Für welche Böden gilt $C_\\text{c} \\approx \\text{const.}$?"
   ]
  },
  {
   "cell_type": "code",
   "execution_count": null,
   "metadata": {},
   "outputs": [],
   "source": []
  }
 ],
 "metadata": {
  "kernelspec": {
   "display_name": "Python 3",
   "language": "python",
   "name": "python3"
  },
  "language_info": {
   "codemirror_mode": {
    "name": "ipython",
    "version": 3
   },
   "file_extension": ".py",
   "mimetype": "text/x-python",
   "name": "python",
   "nbconvert_exporter": "python",
   "pygments_lexer": "ipython3",
   "version": "3.8.5"
  }
 },
 "nbformat": 4,
 "nbformat_minor": 4
}
