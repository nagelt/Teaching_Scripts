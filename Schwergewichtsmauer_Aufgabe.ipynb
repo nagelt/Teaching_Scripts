{
  "cells": [
    {
      "cell_type": "markdown",
      "metadata": {},
      "source": [
        "<div style=\"display: flex; align-items: center;\">\n",
        "    <img src=\"https://github.com/nagelt/Teaching_Scripts/raw/9d9e29ecca4b04eaf7397938eacbf116d37ddc93/Images/TUBAF_Logo_blau.png\" width=\"500\" height=\"auto\" height=\"auto\" style=\"margin-right: 100px;\" />\n",
        "    <div>\n",
        "        <p><strong>Prof. Dr. Thomas Nagel</strong></p>\n",
        "        <p>Chair of Soil Mechanics and Foundation Engineering<br>Geotechnical Institute<br>Technische Universität Bergakademie Freiberg.</p>\n",
        "        <p><a href=\"https://tu-freiberg.de/en/soilmechanics\">https://tu-freiberg.de/en/soilmechanics</a></p>\n",
        "    </div>\n",
        "</div>"
      ]
    },
    {
      "cell_type": "markdown",
      "metadata": {},
      "source": [
        "# Erddruckberechnung -- Schwergewichtsmauer\n",
        "\n",
        "Das folgende Beispiel ist an das Beispiel aus W. Fellin \"Geotechnik -- Lernen mit Beispielen\" angelehnt.\n",
        "\n",
        "![Rankine.png](https://raw.githubusercontent.com/nagelt/Teaching_Scripts/master/Images/Schwergewichtsmauer.png)\n",
        "\n",
        "**Aufgabe:** Berechnen Sie die wirkenden Erddruckkräfte und bestimmen Sie die Exzentrizität der Resultierenden der Sohlspannung der Schwergewichtsmauer. Die Wirkung des Erdwiderstands auf der Luftseite ist zu vernachlässigen.\n"
      ]
    },
    {
      "cell_type": "markdown",
      "metadata": {},
      "source": [
        "**Gegebene Größen in Bezug auf Geometrie und Hinterfüllmaterial:** $\\alpha = 0°$, $\\varphi = 32°$, $c = 0$, $\\beta = 12°$, $\\gamma = 19\\,$kN/m³, $\\delta_\\text{a} = 2/3 \\varphi$, $B_\\text{b} = 2.6\\,$m, $H_\\text{b} = 1.2\\,$m, $B_\\text{bt} = 0.8\\,$m, $H_\\text{t} = 3.8\\,$m, $B_\\text{t} = 1\\,$m, $p_\\text{v} = 12\\,$kN/m²."
      ]
    },
    {
      "cell_type": "markdown",
      "metadata": {},
      "source": [
        "## Weiterführende Aufgaben:\n",
        "\n",
        "* Wie ändert sich der Wert, wenn man den Wandreibungswinkel zu 0 ansetzt?\n",
        "* Welchen Einfluss hat die Neigung der Geländelinie?\n",
        "* Greift die Kraft im Kern des Rechteckfundaments an?\n",
        "* Ab welcher Auflast beginnt die Schwergewichtsmauer zu kippen, wenn $\\delta_\\text{a}=0$ angenommen wird?"
      ]
    }
  ],
  "metadata": {
    "kernelspec": {
      "display_name": "Python 3 (ipykernel)",
      "language": "python",
      "name": "python3"
    },
    "language_info": {
      "codemirror_mode": {
        "name": "ipython",
        "version": 3
      },
      "file_extension": ".py",
      "mimetype": "text/x-python",
      "name": "python",
      "nbconvert_exporter": "python",
      "pygments_lexer": "ipython3",
      "version": "3.9.13"
    },
    "widgets": {
      "application/vnd.jupyter.widget-state+json": {
        "state": {},
        "version_major": 2,
        "version_minor": 0
      }
    }
  },
  "nbformat": 4,
  "nbformat_minor": 4
}