{
 "cells": [
  {
   "cell_type": "markdown",
   "metadata": {},
   "source": [
    "![Logo TUBAF](https://tu-freiberg.de/sites/default/files/media/freiberger-alumni-netzwerk-6127/wbm_orig_rgb_0.jpg)\n",
    "\n",
    "Exercise material of the BSc-level course **Mechanical Properties of Loose Rocks and Soils**.\n",
    "Held at Technische Universität Bergakademie Freiberg.\n",
    "\n",
    "Comments to:\n",
    "\n",
    "*Prof. Dr. Thomas Nagel  \n",
    "Chair of Soil Mechanics and Foundation Engineering  \n",
    "Geotechnical Institute  \n",
    "Technische Universität Bergakademie Freiberg.*\n",
    "\n",
    "https://tu-freiberg.de/en/soilmechanics"
   ]
  },
  {
   "cell_type": "markdown",
   "metadata": {},
   "source": [
    "# Illustration der wachsenden spezifischen Oberfläche"
   ]
  },
  {
   "cell_type": "code",
   "execution_count": 1,
   "metadata": {},
   "outputs": [],
   "source": [
    "#HIDDEN\n",
    "import matplotlib.pyplot as plt\n",
    "import numpy as np\n",
    "from ipywidgets import widgets\n",
    "from ipywidgets import interact\n",
    "\n",
    "#Some plot settings\n",
    "import plot_functions.plot_settings"
   ]
  },
  {
   "cell_type": "markdown",
   "metadata": {},
   "source": [
    "Man nehme eine bestimmte Menge (Masse) $m_\\text{S}$ an Boden. Jedes Korn hat eine Massedichte von $\\varrho_\\text{S} = 2600\\,$kg$\\,$m$^{-3}$. Diese Masse ergibt ein reines Feststoffvolumen $V_\\text{S} = m/\\varrho_\\text{S}$."
   ]
  },
  {
   "cell_type": "code",
   "execution_count": 2,
   "metadata": {},
   "outputs": [
    {
     "name": "stdout",
     "output_type": "stream",
     "text": [
      "Eine Feststoffmasse von 1.00 kg entspricht einem Feststoffvolumen von 0.38 Litern\n"
     ]
    }
   ],
   "source": [
    "#HIDDEN\n",
    "m_S = 1. #kg\n",
    "rho_S = 2600. #kg/m³\n",
    "\n",
    "V_S = m_S/rho_S #m³\n",
    "print(\"Eine Feststoffmasse von %.2f kg entspricht einem Feststoffvolumen von %.2f Litern\" %(m_S,V_S*1e3))"
   ]
  },
  {
   "cell_type": "markdown",
   "metadata": {},
   "source": [
    "Die Masse und damit auch das Feststoffvolumen sind unabhängig vom Korndurchmesser (konstant). Die Oberfläche hingegen hängt sehr stark vom Korndurchmesser ab. Im Folgenden nehmen wir an, dass alle Körner mit demselben Korndurchmesser vorliegen und ideal kugelförmig sind. Ein Korn hat somit ein Volumen von\n",
    "\n",
    "$$\n",
    "    V_\\text{Korn} = \\frac{4\\pi}{3} R_\\text{Korn}^3\n",
    "$$\n",
    "\n",
    "woraus sich die Anzahl der Körner bestimmen lässt: $N = V_\\text{S}/V_\\text{Korn}$.\n",
    "\n",
    "Ein einzelnes Korn hat wiederum eine Oberfläche von\n",
    "\n",
    "$$\n",
    "    A_\\text{Korn} = 4\\pi R_\\text{Korn}^2,\n",
    "$$\n",
    "sodass sich eine Gesamtfeststoffoberfläche von\n",
    "\n",
    "$$\n",
    "    A_\\text{S} = A_\\text{Korn} N = \\frac{3V_\\text{S}}{R_\\text{Korn}} = \\frac{6V_\\text{S}}{d_\\text{Korn}}\n",
    "$$\n",
    "\n",
    "ergibt. Zweckmäßigerweise wird die Angabe auf die Feststoffmasse normiert und es ergibt sich die spezifische Korn/Feststoffoberfläche\n",
    "\n",
    "$$\n",
    "    a_\\text{S} = \\frac{A_\\text{S}}{m_\\text{d}} = \\frac{6V_\\text{S}}{d_\\text{Korn} m_\\text{d}} = \\frac{6}{d_\\text{Korn} \\varrho_\\text{d}}\n",
    "$$\n",
    "\n",
    "Für allgemeine, d.h. von der Kugelform abweichende, Kornformen schreibt man \n",
    "\n",
    "$$\n",
    "    a_\\text{S} = \\frac{c}{d_\\text{Korn} \\varrho_\\text{d}}\n",
    "$$\n",
    "\n",
    "wobei\n",
    "\n",
    "$$\n",
    "\\begin{align}\n",
    "    c &= 6 \\text{ bei Kugel- oder Würfelform (Quarz)}\n",
    "    \\\\\n",
    "    c &= 24 \\text{ bei Plättchen der Dicke $0.1 d$ (Kaolin, Illit)}\n",
    "    \\\\\n",
    "    c &= 204 \\text{ bei Plättchen der Dicke $0.01 d$ (Montmorillonit)}\n",
    "\\end{align}\n",
    "$$\n"
   ]
  },
  {
   "cell_type": "code",
   "execution_count": 3,
   "metadata": {},
   "outputs": [],
   "source": [
    "#HIDDEN\n",
    "def Kornzahl(d_Korn):\n",
    "    V_Korn = 4.*np.pi/3. * np.power(d_Korn/2.,3)\n",
    "    return V_S/V_Korn/(m_S) #in 1/kg\n",
    "\n",
    "def Spezifische_Feststoffoberflaeche(d_Korn,c=6):\n",
    "    return c/(rho_S*d_Korn)#in m²/kg\n",
    "    "
   ]
  },
  {
   "cell_type": "code",
   "execution_count": 4,
   "metadata": {},
   "outputs": [],
   "source": [
    "#HIDDEN\n",
    "%run plot_functions/grain_size_demo_plots.ipynb"
   ]
  },
  {
   "cell_type": "code",
   "execution_count": 5,
   "metadata": {},
   "outputs": [
    {
     "data": {
      "application/vnd.jupyter.widget-view+json": {
       "model_id": "56b09ab9daff4a36aa30976eb0f1e8b9",
       "version_major": 2,
       "version_minor": 0
      },
      "text/plain": [
       "interactive(children=(BoundedFloatText(value=1.0, description='$d_\\\\mathrm{Korn}$ / mm', max=63.0, min=0.0001,…"
      ]
     },
     "metadata": {},
     "output_type": "display_data"
    }
   ],
   "source": [
    "#HIDDEN\n",
    "@interact(d_grain=widgets.BoundedFloatText(\n",
    "    value=1.,\n",
    "    min=1e-4,\n",
    "    max=63,\n",
    "    step=0.001,\n",
    "    description='$d_\\\\mathrm{Korn}$ / mm'))\n",
    "def plot_slide(d_grain = 2):\n",
    "    plot_characteristics(d_grain/1.e3)#mm --> m\n",
    "    plt.show()"
   ]
  },
  {
   "cell_type": "markdown",
   "metadata": {},
   "source": [
    "Die Angabe sehr kleiner kugelförmiger Quarzkörner im Tonkornbereich ist theoretischer Natur und nur zu Vergleichszwecken dargestellt."
   ]
  }
 ],
 "metadata": {
  "kernelspec": {
   "display_name": "Python 3 (ipykernel)",
   "language": "python",
   "name": "python3"
  },
  "language_info": {
   "codemirror_mode": {
    "name": "ipython",
    "version": 3
   },
   "file_extension": ".py",
   "mimetype": "text/x-python",
   "name": "python",
   "nbconvert_exporter": "python",
   "pygments_lexer": "ipython3",
   "version": "3.9.5"
  }
 },
 "nbformat": 4,
 "nbformat_minor": 4
}
