{
 "cells": [
  {
   "cell_type": "markdown",
   "metadata": {},
   "source": [
    "<div style=\"display: flex; align-items: center;\">\n",
    "    <img src=\"https://github.com/nagelt/Teaching_Scripts/raw/9d9e29ecca4b04eaf7397938eacbf116d37ddc93/Images/TUBAF_Logo_blau.png\" width=\"500\" height=\"auto\" height=\"auto\" style=\"margin-right: 100px;\" />\n",
    "    <div>\n",
    "        <p><strong>Prof. Dr. Thomas Nagel</strong></p>\n",
    "        <p>Chair of Soil Mechanics and Foundation Engineering<br>Geotechnical Institute<br>Technische Universität Bergakademie Freiberg.</p>\n",
    "        <p><a href=\"https://tu-freiberg.de/en/soilmechanics\">https://tu-freiberg.de/en/soilmechanics</a></p>\n",
    "    </div>\n",
    "</div>"
   ]
  },
  {
   "cell_type": "markdown",
   "metadata": {},
   "source": [
    "# Illustration der wachsenden spezifischen Oberfläche"
   ]
  },
  {
   "cell_type": "code",
   "execution_count": 1,
   "metadata": {
    "jupyter": {
     "source_hidden": true
    }
   },
   "outputs": [],
   "source": [
    "#HIDDEN\n",
    "import matplotlib.pyplot as plt\n",
    "import numpy as np\n",
    "from ipywidgets import widgets\n",
    "from ipywidgets import interact\n",
    "\n",
    "#Some plot settings\n",
    "import plot_functions.plot_settings"
   ]
  },
  {
   "cell_type": "markdown",
   "metadata": {},
   "source": [
    "Man nehme eine bestimmte Menge (Masse) $m_\\text{s}$ an Boden. Jedes Korn hat eine Massedichte von $\\varrho_\\text{s} = 2600\\,$kg$\\,$m$^{-3}$. Diese Masse ergibt ein reines Feststoffvolumen $V_\\text{s} = m_\\text{s}/\\varrho_\\text{s}$."
   ]
  },
  {
   "cell_type": "code",
   "execution_count": 2,
   "metadata": {
    "jupyter": {
     "source_hidden": true
    }
   },
   "outputs": [
    {
     "name": "stdout",
     "output_type": "stream",
     "text": [
      "Eine Feststoffmasse von 1.00 kg entspricht einem Feststoffvolumen von 0.38 Litern\n"
     ]
    }
   ],
   "source": [
    "#HIDDEN\n",
    "m_S = 1. #kg\n",
    "rho_S = 2600. #kg/m³\n",
    "\n",
    "V_S = m_S/rho_S #m³\n",
    "print(\"Eine Feststoffmasse von %.2f kg entspricht einem Feststoffvolumen von %.2f Litern\" %(m_S,V_S*1e3))"
   ]
  },
  {
   "cell_type": "markdown",
   "metadata": {},
   "source": [
    "Die Masse und damit auch das Feststoffvolumen sind unabhängig vom Korndurchmesser (konstant). Die Oberfläche hingegen hängt sehr stark vom Korndurchmesser ab. Im Folgenden nehmen wir an, dass alle Körner mit demselben Korndurchmesser vorliegen und ideal kugelförmig sind. Ein Korn hat somit ein Volumen von\n",
    "\n",
    "$$\n",
    "    V_\\text{Korn} = \\frac{4\\pi}{3} R_\\text{Korn}^3\n",
    "$$\n",
    "\n",
    "woraus sich die Anzahl der Körner bestimmen lässt: $N = V_\\text{s}/V_\\text{Korn}$.\n",
    "\n",
    "Ein einzelnes Korn hat wiederum eine Oberfläche von\n",
    "\n",
    "$$\n",
    "    A_\\text{Korn} = 4\\pi R_\\text{Korn}^2,\n",
    "$$\n",
    "sodass sich eine Gesamtfeststoffoberfläche von\n",
    "\n",
    "$$\n",
    "    A_\\text{s} = A_\\text{Korn} N = \\frac{3V_\\text{s}}{R_\\text{Korn}} = \\frac{6V_\\text{s}}{d_\\text{Korn}}\n",
    "$$\n",
    "\n",
    "ergibt. Zweckmäßigerweise wird die Angabe auf die Feststoffmasse normiert und es ergibt sich die spezifische Korn/Feststoffoberfläche\n",
    "\n",
    "$$\n",
    "    a_\\text{s} = \\frac{A_\\text{s}}{m_\\text{s}} = \\frac{6V_\\text{s}}{d_\\text{Korn} m_\\text{s}} = \\frac{6}{d_\\text{Korn} \\varrho_\\text{s}}\n",
    "$$\n",
    "\n",
    "Für allgemeine, d.h. von der Kugelform abweichende, Kornformen schreibt man \n",
    "\n",
    "$$\n",
    "    a_\\text{s} = \\frac{c}{d_\\text{Korn} \\varrho_\\text{s}}\n",
    "$$\n",
    "\n",
    "wobei\n",
    "\n",
    "$$\n",
    "\\begin{align}\n",
    "    c &= 6 \\text{ bei Kugel- oder Würfelform (Quarz)}\n",
    "    \\\\\n",
    "    c &= 24 \\text{ bei Plättchen der Dicke $0.1 d$ (Kaolin, Illit)}\n",
    "    \\\\\n",
    "    c &= 204 \\text{ bei Plättchen der Dicke $0.01 d$ (Montmorillonit)}\n",
    "\\end{align}\n",
    "$$\n"
   ]
  },
  {
   "cell_type": "code",
   "execution_count": 3,
   "metadata": {
    "jupyter": {
     "source_hidden": true
    }
   },
   "outputs": [],
   "source": [
    "#HIDDEN\n",
    "def Kornzahl(d_Korn):\n",
    "    V_Korn = 4.*np.pi/3. * np.power(d_Korn/2.,3)\n",
    "    return V_S/V_Korn/(m_S) #in 1/kg\n",
    "\n",
    "def Spezifische_Feststoffoberflaeche(d_Korn,c=6):\n",
    "    return c/(rho_S*d_Korn)#in m²/kg\n",
    "    "
   ]
  },
  {
   "cell_type": "code",
   "execution_count": 4,
   "metadata": {},
   "outputs": [],
   "source": [
    "#HIDDEN\n",
    "%run plot_functions/grain_size_demo_plots.ipynb"
   ]
  },
  {
   "cell_type": "code",
   "execution_count": 5,
   "metadata": {
    "jupyter": {
     "source_hidden": true
    }
   },
   "outputs": [
    {
     "data": {
      "application/vnd.jupyter.widget-view+json": {
       "model_id": "a649d2c545e54d57900639cdac4335d2",
       "version_major": 2,
       "version_minor": 0
      },
      "text/plain": [
       "interactive(children=(FloatText(value=1.0, description='Faktor', step=0.1), IntSlider(value=-3, description='E…"
      ]
     },
     "metadata": {},
     "output_type": "display_data"
    }
   ],
   "source": [
    "@interact(a=widgets.FloatText(\n",
    "            value=1.0,\n",
    "            description=r'Faktor',\n",
    "            step=0.1),\n",
    "         e=widgets.IntSlider(\n",
    "            value=-3,\n",
    "            min=-7,\n",
    "            max=-2,\n",
    "            step=1,\n",
    "            description=r'Exponent'))\n",
    "def plot_slide(a, e):\n",
    "    d_grain = a * np.power(10.,e)\n",
    "    print(\"d = %.2e m\" %d_grain)\n",
    "    plot_characteristics(d_grain)  # Convert mm to m\n",
    "    plt.show()"
   ]
  },
  {
   "cell_type": "markdown",
   "metadata": {},
   "source": [
    "Die Angabe sehr kleiner kugelförmiger Quarzkörner im Tonkornbereich ist theoretischer Natur und nur zu Vergleichszwecken dargestellt."
   ]
  }
 ],
 "metadata": {
  "kernelspec": {
   "display_name": "Python 3 (ipykernel)",
   "language": "python",
   "name": "python3"
  },
  "language_info": {
   "codemirror_mode": {
    "name": "ipython",
    "version": 3
   },
   "file_extension": ".py",
   "mimetype": "text/x-python",
   "name": "python",
   "nbconvert_exporter": "python",
   "pygments_lexer": "ipython3",
   "version": "3.13.3"
  },
  "widgets": {
   "application/vnd.jupyter.widget-state+json": {
    "state": {},
    "version_major": 2,
    "version_minor": 0
   }
  }
 },
 "nbformat": 4,
 "nbformat_minor": 4
}
