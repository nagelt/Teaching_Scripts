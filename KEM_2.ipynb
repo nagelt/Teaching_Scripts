{
 "cells": [
  {
   "cell_type": "markdown",
   "metadata": {
    "deletable": false,
    "editable": false
   },
   "source": [
    "![Logo TUBAF](https://tu-freiberg.de/sites/default/files/media/freiberger-alumni-netzwerk-6127/wbm_orig_rgb_0.jpg)\n",
    "\n",
    "Exercise material of the MSc-level course **Advanced Soil Mechanics**.\n",
    "Held at Technische Universität Bergakademie Freiberg.\n",
    "\n",
    "Comments to:\n",
    "\n",
    "*Prof. Dr. Thomas Nagel  \n",
    "Chair of Soil Mechanics and Foundation Engineering  \n",
    "Geotechnical Institute  \n",
    "Technische Universität Bergakademie Freiberg.*\n",
    "\n",
    "https://tu-freiberg.de/en/soilmechanics\n"
   ]
  },
  {
   "cell_type": "markdown",
   "metadata": {},
   "source": [
    "# Kinematische Elemente Methode, Schmierschicht\n",
    "\n",
    "Die hier verwendete Methode wird näher erläutert in https://nagelt.github.io/Teaching_Scripts/KEM.html.\n",
    "\n",
    "Das folgende Beispiel ist an Ziegler, M. (2012). Geotechnische Nachweise nach EC 7 und DIN 1054. Weinheim, Germany: Wiley-VCH Verlag GmbH & Co. KGaA, angelehnt.\n",
    "\n",
    "![KEM.png](https://raw.githubusercontent.com/nagelt/Teaching_Scripts/master/Images/Ziegler_slope.png)\n",
    "[Bild aus: Ziegler, M. (2012).]"
   ]
  },
  {
   "cell_type": "code",
   "execution_count": 54,
   "metadata": {},
   "outputs": [],
   "source": [
    "#HIDDEN\n",
    "import numpy as np #numerical methods\n",
    "import matplotlib.pyplot as plt #plotting\n",
    "import pandas as pd\n",
    "import scipy as scp\n",
    "from scipy import optimize\n",
    "import concurrent.futures as cf\n",
    "\n",
    "#Some plot settings\n",
    "import plot_functions.plot_settings\n",
    "%run plot_functions/KEM_plots.ipynb"
   ]
  },
  {
   "cell_type": "markdown",
   "metadata": {},
   "source": [
    "Wir definieren zunächst die Geometrie des Problems, legen also die kinematischen Elemente des Bruchmechanismus fest."
   ]
  },
  {
   "cell_type": "code",
   "execution_count": 55,
   "metadata": {},
   "outputs": [],
   "source": [
    "H_top_slope = 6.5\n",
    "H_top_layer = 2.1\n",
    "alpha = np.deg2rad(35)\n",
    "beta = np.deg2rad(12)\n",
    "theta = np.deg2rad(54)"
   ]
  },
  {
   "cell_type": "markdown",
   "metadata": {},
   "source": [
    "Aus den gegebenen Größen lassen sich die verbliebenen Größen über trigonometrische Standardbeziehungen bestimmen."
   ]
  },
  {
   "cell_type": "code",
   "execution_count": 56,
   "metadata": {},
   "outputs": [],
   "source": [
    "#HIDDEN\n",
    "geometry = pd.DataFrame(np.array([[1],\n",
    "                                  [0.0],\n",
    "                                  [H_top_layer]]).T,\n",
    "                   columns=['Pkt', 'x / m', 'y / m'])\n",
    "#geometry"
   ]
  },
  {
   "cell_type": "code",
   "execution_count": 57,
   "metadata": {},
   "outputs": [],
   "source": [
    "#HIDDEN\n",
    "dH = H_top_slope - H_top_layer\n",
    "geometry = pd.concat([geometry,pd.DataFrame({'Pkt': 2, 'x / m': dH/np.tan(alpha) + dH*np.tan(beta), 'y / m': H_top_layer},index=[0])], ignore_index=True)\n",
    "geometry = pd.concat([geometry,pd.DataFrame({'Pkt': 3, 'x / m': dH/np.tan(alpha), 'y / m': H_top_slope},index=[0])], ignore_index=True)\n",
    "geometry = pd.concat([geometry,pd.DataFrame({'Pkt': 4, 'x / m': dH/np.tan(alpha) + dH*np.tan(beta) + dH/np.tan(theta), 'y / m': H_top_slope},index=[0])], ignore_index=True)"
   ]
  },
  {
   "cell_type": "code",
   "execution_count": 58,
   "metadata": {},
   "outputs": [],
   "source": [
    "#HIDDEN\n",
    "#Achtung: Nummerierung im Umlaufsinn!\n",
    "block1 = define_element(geometry,[3,2,4])\n",
    "block2 = define_element(geometry,[1,2,3])"
   ]
  },
  {
   "cell_type": "markdown",
   "metadata": {},
   "source": [
    "In der Darstellung ergibt sich folgende Böschungsgeometrie."
   ]
  },
  {
   "cell_type": "code",
   "execution_count": 59,
   "metadata": {},
   "outputs": [
    {
     "data": {
      "image/png": "[encoded data removed]",
      "text/plain": [
       "<Figure size 576x432 with 1 Axes>"
      ]
     },
     "metadata": {
      "needs_background": "light"
     },
     "output_type": "display_data"
    }
   ],
   "source": [
    "#HIDDEN\n",
    "plot_blocks([block1,block2])"
   ]
  },
  {
   "cell_type": "markdown",
   "metadata": {},
   "source": [
    "## Kinematik, Geschwindigkeitsplan\n",
    "\n",
    "Zunächst betrachten wir die (vereinfachte) Kinematik des Systems und ermitteln den Geschwindigkeitsplan. Alle Geschwindigkeiten sind determiniert, sobald die Geschwindigkeit eines Körpers vorgegeben wird. Das System hat also einen Freiheitsgrad. Die Bewegungsrichtung der einzelnen Gleitkörper sei durch die Gleitfugen vorgegeben. Mit dieser Information lässt sich also der Geschwindigkeitsplan zeichnen, aus dem sich dann auch die Wirkungsrichtung von Kohäsions- und Reibungskräften in den Gleitfugen ablesen lässt."
   ]
  },
  {
   "cell_type": "markdown",
   "metadata": {},
   "source": [
    "Geben wir also ohne Einschränkung der Allgemeinheit die Geschwindigkeit von Element 1 entlag seiner äußeren Gleitfuge $\\vec{v}_{1}$ so vor, dass $|\\vec{v}_{1}| = 1\\,$m/s gilt. Die gleitfugenparallelen Geschwindigkeiten $\\vec{v}_{2}$ und $\\vec{v}_{21}$ kennen wir zunächst nur der Richtung nach. Die beiden Indizes für die Geschwindigkeit entlang der inneren Gleitfuge definieren die Bewegungsrichtung als \"2 relativ zu 1\"."
   ]
  },
  {
   "cell_type": "code",
   "execution_count": 60,
   "metadata": {},
   "outputs": [],
   "source": [
    "#HIDDEN\n",
    "v_1 = line_of_Q(geometry, np.eye(2),4,2)\n",
    "e_v2 = line_of_Q(geometry, np.eye(2),2,1)\n",
    "e_v21 = line_of_Q(geometry, np.eye(2),2,3)"
   ]
  },
  {
   "cell_type": "markdown",
   "metadata": {},
   "source": [
    "Die Länge der Vektoren ergibt sich nun daraus, dass die Relativbewegung zweier Körper wiederum durch die gemeinsame Gleitfuge vorgegeben ist. Die Schnittpunkte der Wirkungslinien bestimmen die Beträge der Relativgeschwindigkeiten (Maßstab beachten)."
   ]
  },
  {
   "cell_type": "markdown",
   "metadata": {},
   "source": [
    "Die Geschwindigkeit des Körpers eins ergibt sich aus der Geschwindigkeit des Körpers 1 zuzüglich der Relativgeschwindigkeit von 2 zu 1:\n",
    "\n",
    "$$\n",
    "    \\vec{v}_2 = \\vec{v}_1 + \\vec{v}_{21}\n",
    "$$\n",
    "\n",
    "Mathematisch suchen wir also die Lösung für folgende Gleichungen (2 Gleichungen für 2 Unbekannte in einer 2D Vektorgleichung zusammengefasst):\n",
    "\n",
    "\\begin{align}\n",
    "    \\vec{0} &= -f_{2} \\vec{e}_{v_{2}} + f_{21} \\vec{e}_{v_{21}} + \\vec{v}_1\n",
    "\\end{align}\n",
    "\n",
    "Wir suchen also die zwei skalaren Faktoren $f_{ij}$, die die Richtungsvectoren $\\vec{e}_{v_{ij}}$ so skalieren, dass sich die Geschwindigkeiten gemäß des vorgegebenen Bruchmechanismus addieren."
   ]
  },
  {
   "cell_type": "code",
   "execution_count": 61,
   "metadata": {},
   "outputs": [],
   "source": [
    "b_v = v_1\n",
    "A_v = np.array([e_v2,-e_v21]).T"
   ]
  },
  {
   "cell_type": "code",
   "execution_count": 62,
   "metadata": {},
   "outputs": [],
   "source": [
    "f_v = np.linalg.solve(A_v,b_v)"
   ]
  },
  {
   "cell_type": "code",
   "execution_count": 63,
   "metadata": {},
   "outputs": [],
   "source": [
    "v_2 = f_v[0]*e_v2\n",
    "v_21 = f_v[1]*e_v21"
   ]
  },
  {
   "cell_type": "markdown",
   "metadata": {},
   "source": [
    "Nun können wir den gesamten Geschwindigkeitsplan zeichnen, und so die Lösung graphisch bestätigen."
   ]
  },
  {
   "cell_type": "code",
   "execution_count": 64,
   "metadata": {},
   "outputs": [
    {
     "data": {
      "image/png": "[encoded data removed]",
      "text/plain": [
       "<Figure size 576x576 with 1 Axes>"
      ]
     },
     "metadata": {
      "needs_background": "light"
     },
     "output_type": "display_data"
    }
   ],
   "source": [
    "#HIDDEN\n",
    "scale = 0.2\n",
    "fig, ax = plt.subplots(figsize=(8,8))\n",
    "vec_from_by(ax,delta=v_1,label='$v_{1}$',scale=scale)\n",
    "#\n",
    "vec_from_by(ax,delta=v_2,scale=scale,label='${v_{2}}$',col='red')\n",
    "vec_from_by(ax,fro=v_1,delta=v_21,scale=scale,label='${v_{21}}$',col='green')\n",
    "#\n",
    "ax.set(adjustable='box', aspect='equal')\n",
    "plt.axis('off');"
   ]
  },
  {
   "cell_type": "markdown",
   "metadata": {},
   "source": [
    "## Statik, Kräfteplan\n",
    "\n",
    "Jetzt können wir weitere wesentliche Größen ausrechnen. Genauer gesagt, können wir die Gewichtskräfte der einzelnen kinematischen Elemente aus ihren Flächeninhalten ableiten. Dazu legen wir die wesentlichen Materialeigenschaften sowie die Belastung fest. Es werden die Bemessungswerte eingesetzt. Man beachte, dass in der nachfolgenden Tabelle die Wichte in kN/m³, die Kohäsion in kN/m² und der Reibungswinkel im Bogenmaß angegeben sind (entsprechend 27° und 10.5°)."
   ]
  },
  {
   "cell_type": "code",
   "execution_count": 65,
   "metadata": {},
   "outputs": [
    {
     "data": {
      "text/html": [
       "<div>\n",
       "<style scoped>\n",
       "    .dataframe tbody tr th:only-of-type {\n",
       "        vertical-align: middle;\n",
       "    }\n",
       "\n",
       "    .dataframe tbody tr th {\n",
       "        vertical-align: top;\n",
       "    }\n",
       "\n",
       "    .dataframe thead th {\n",
       "        text-align: right;\n",
       "    }\n",
       "</style>\n",
       "<table border=\"1\" class=\"dataframe\">\n",
       "  <thead>\n",
       "    <tr style=\"text-align: right;\">\n",
       "      <th></th>\n",
       "      <th>Parameter</th>\n",
       "      <th>Schluff</th>\n",
       "      <th>Schmierschicht</th>\n",
       "    </tr>\n",
       "  </thead>\n",
       "  <tbody>\n",
       "    <tr>\n",
       "      <th>0</th>\n",
       "      <td>Wichte</td>\n",
       "      <td>19</td>\n",
       "      <td>18</td>\n",
       "    </tr>\n",
       "    <tr>\n",
       "      <th>1</th>\n",
       "      <td>phi</td>\n",
       "      <td>0.47123889803846897</td>\n",
       "      <td>0.1832595714594046</td>\n",
       "    </tr>\n",
       "    <tr>\n",
       "      <th>2</th>\n",
       "      <td>c</td>\n",
       "      <td>5.6</td>\n",
       "      <td>0.0</td>\n",
       "    </tr>\n",
       "  </tbody>\n",
       "</table>\n",
       "</div>"
      ],
      "text/plain": [
       "  Parameter              Schluff      Schmierschicht\n",
       "0    Wichte                   19                  18\n",
       "1       phi  0.47123889803846897  0.1832595714594046\n",
       "2         c                  5.6                 0.0"
      ]
     },
     "execution_count": 65,
     "metadata": {},
     "output_type": "execute_result"
    }
   ],
   "source": [
    "#HIDDEN\n",
    "material = pd.DataFrame(np.array([['Wichte', 'phi', 'c'],\n",
    "                                  [19, np.deg2rad(27), 5.6],\n",
    "                                  [18, np.deg2rad(10.5), 0.]]).T,\n",
    "                   columns=['Parameter', 'Schluff', 'Schmierschicht'])\n",
    "material"
   ]
  },
  {
   "cell_type": "markdown",
   "metadata": {},
   "source": [
    "Eine Last von 35 kN/m² (repräsentativer Wert) wirkt auf einer Länge von 1 bis 6 m hinter der Böschungsschulter. Der zugehörige Teilsicherheitsbeiwert beträgt 1.3."
   ]
  },
  {
   "cell_type": "code",
   "execution_count": 66,
   "metadata": {},
   "outputs": [],
   "source": [
    "top_load = 35.0 * 1.3 #kN/m²\n",
    "x_shoulder = geometry.loc[geometry['Pkt']==3].iloc[0]['x / m']\n",
    "x_load = np.array([x_shoulder + 1,x_shoulder+6]) #Load starts 1m behind shoulder and extends for 5m"
   ]
  },
  {
   "cell_type": "code",
   "execution_count": 67,
   "metadata": {},
   "outputs": [],
   "source": [
    "#HIDDEN\n",
    "data = {'A / m²': np.array([block_area(block1),block_area(block2)])} #in m"
   ]
  },
  {
   "cell_type": "code",
   "execution_count": 68,
   "metadata": {},
   "outputs": [],
   "source": [
    "#HIDDEN\n",
    "data['G / kN/m'] = data['A / m²']*float(material.loc[material['Parameter']=='Wichte'].iloc[0]['Schluff'])"
   ]
  },
  {
   "cell_type": "markdown",
   "metadata": {},
   "source": [
    "Aus Geometrie und Wichten ergeben sich folgende Eigenschaften bzw. Einwirkungen."
   ]
  },
  {
   "cell_type": "code",
   "execution_count": 69,
   "metadata": {},
   "outputs": [
    {
     "data": {
      "text/html": [
       "<div>\n",
       "<style scoped>\n",
       "    .dataframe tbody tr th:only-of-type {\n",
       "        vertical-align: middle;\n",
       "    }\n",
       "\n",
       "    .dataframe tbody tr th {\n",
       "        vertical-align: top;\n",
       "    }\n",
       "\n",
       "    .dataframe thead th {\n",
       "        text-align: right;\n",
       "    }\n",
       "</style>\n",
       "<table border=\"1\" class=\"dataframe\">\n",
       "  <thead>\n",
       "    <tr style=\"text-align: right;\">\n",
       "      <th></th>\n",
       "      <th>A / m²</th>\n",
       "      <th>G / kN/m</th>\n",
       "    </tr>\n",
       "  </thead>\n",
       "  <tbody>\n",
       "    <tr>\n",
       "      <th>0</th>\n",
       "      <td>9.090479</td>\n",
       "      <td>172.719105</td>\n",
       "    </tr>\n",
       "    <tr>\n",
       "      <th>1</th>\n",
       "      <td>15.882020</td>\n",
       "      <td>301.758384</td>\n",
       "    </tr>\n",
       "  </tbody>\n",
       "</table>\n",
       "</div>"
      ],
      "text/plain": [
       "      A / m²    G / kN/m\n",
       "0   9.090479  172.719105\n",
       "1  15.882020  301.758384"
      ]
     },
     "execution_count": 69,
     "metadata": {},
     "output_type": "execute_result"
    }
   ],
   "source": [
    "#HIDDEN\n",
    "blockdata = pd.DataFrame(data)\n",
    "blockdata"
   ]
  },
  {
   "cell_type": "markdown",
   "metadata": {},
   "source": [
    "## Kräftegleichgewicht"
   ]
  },
  {
   "cell_type": "markdown",
   "metadata": {},
   "source": [
    "Bestimmen wir zunächst die statisch äquivalente Auflast. Da das Momentengleichgewicht unbeachtet bleibt, wird ihr Angriffspunkt nicht benötigt."
   ]
  },
  {
   "cell_type": "code",
   "execution_count": 70,
   "metadata": {},
   "outputs": [
    {
     "data": {
      "text/plain": [
       "array([   0.        , -142.50763775])"
      ]
     },
     "execution_count": 70,
     "metadata": {},
     "output_type": "execute_result"
    }
   ],
   "source": [
    "P = np.array([0,-get_top_load(geometry,top_load,x_load)])\n",
    "P"
   ]
  },
  {
   "cell_type": "markdown",
   "metadata": {},
   "source": [
    "Sammeln wir zunächst die aus der Geometrie und den Materialeigenschaften bekannten Kräfte"
   ]
  },
  {
   "cell_type": "code",
   "execution_count": 71,
   "metadata": {},
   "outputs": [
    {
     "data": {
      "text/plain": [
       "array([   0.        , -172.71910457])"
      ]
     },
     "execution_count": 71,
     "metadata": {},
     "output_type": "execute_result"
    }
   ],
   "source": [
    "G_1 = gravity_vector(blockdata,1)\n",
    "G_1"
   ]
  },
  {
   "cell_type": "code",
   "execution_count": 72,
   "metadata": {},
   "outputs": [
    {
     "data": {
      "text/plain": [
       "array([   0.        , -301.75838422])"
      ]
     },
     "execution_count": 72,
     "metadata": {},
     "output_type": "execute_result"
    }
   ],
   "source": [
    "G_2 = gravity_vector(blockdata,2)\n",
    "G_2"
   ]
  },
  {
   "cell_type": "markdown",
   "metadata": {},
   "source": [
    "Die Kohäsionskräfte werden aus der Länge der Gleitfuge bestimmt. Ihre Richtung folgt aus dem Geschwindigkeitsplan als bewegungshemmend. Ebenso können die Wirkungslinien der Gleitflächenresultierenden $\\vec{Q}$ durch mathematisch positive oder negative Rotation der Geschwindigkeitsvektoren um $90° + \\varphi$ bestimmt werden -- vorgegeben durch Kreuzprodukt aus Geschwindigkeitsvektor und Einheitsnormalenvektor der Gleitfuge bzw. durch Anschauung aus dem Geschwindigkeitsplan."
   ]
  },
  {
   "cell_type": "code",
   "execution_count": 73,
   "metadata": {},
   "outputs": [
    {
     "name": "stdout",
     "output_type": "stream",
     "text": [
      "Die Kohäsionskraft C1 beträgt 30.46 kN/m\n"
     ]
    },
    {
     "data": {
      "text/plain": [
       "array([17.90200789, 24.64      ])"
      ]
     },
     "execution_count": 73,
     "metadata": {},
     "output_type": "execute_result"
    }
   ],
   "source": [
    "C_1 = cohesion_v(float(material.loc[material['Parameter']=='c'].iloc[0]['Schluff']),v_1,geometry,2,4)\n",
    "print(\"Die Kohäsionskraft C1 beträgt %.2f kN/m\" %np.linalg.norm(C_1))\n",
    "C_1"
   ]
  },
  {
   "cell_type": "code",
   "execution_count": 74,
   "metadata": {},
   "outputs": [
    {
     "name": "stdout",
     "output_type": "stream",
     "text": [
      "Die Kohäsionskraft C2 beträgt 0.00 kN/m\n"
     ]
    },
    {
     "data": {
      "text/plain": [
       "array([ 0., -0.])"
      ]
     },
     "execution_count": 74,
     "metadata": {},
     "output_type": "execute_result"
    }
   ],
   "source": [
    "C_2 = cohesion_v(float(material.loc[material['Parameter']=='c'].iloc[0]['Schmierschicht']),v_2,geometry,1,2)\n",
    "print(\"Die Kohäsionskraft C2 beträgt %.2f kN/m\" %np.linalg.norm(C_2))\n",
    "C_2"
   ]
  },
  {
   "cell_type": "code",
   "execution_count": 75,
   "metadata": {},
   "outputs": [
    {
     "name": "stdout",
     "output_type": "stream",
     "text": [
      "Die Kohäsionskraft C12 beträgt 25.19 kN/m\n",
      "Die Kohäsionskraft C21 beträgt 25.19 kN/m\n",
      "[-5.23739368 24.64      ] [  5.23739368 -24.64      ]\n"
     ]
    }
   ],
   "source": [
    "C_12 = cohesion_v(float(material.loc[material['Parameter']=='c'].iloc[0]['Schluff']),-v_21,geometry,2,3)\n",
    "print(\"Die Kohäsionskraft C12 beträgt %.2f kN/m\" %np.linalg.norm(C_12))\n",
    "C_21 = cohesion_v(float(material.loc[material['Parameter']=='c'].iloc[0]['Schluff']),v_21,geometry,2,3)\n",
    "print(\"Die Kohäsionskraft C21 beträgt %.2f kN/m\" %np.linalg.norm(C_21))\n",
    "print(C_12,C_21)"
   ]
  },
  {
   "cell_type": "code",
   "execution_count": 76,
   "metadata": {},
   "outputs": [
    {
     "name": "stdout",
     "output_type": "stream",
     "text": [
      "[0.77714596 0.62932039] [-0.77714596 -0.62932039]\n"
     ]
    }
   ],
   "source": [
    "e_Q1 = line_of_Q_v(float(material.loc[material['Parameter']=='phi'].iloc[0]['Schluff']),v_1)\n",
    "e_Q2 = line_of_Q_v(float(material.loc[material['Parameter']=='phi'].iloc[0]['Schmierschicht']),v_2)\n",
    "e_Q12 = line_of_Q_v(float(material.loc[material['Parameter']=='phi'].iloc[0]['Schluff']),-v_21,False)\n",
    "e_Q21 = line_of_Q_v(float(material.loc[material['Parameter']=='phi'].iloc[0]['Schluff']),v_21,False)\n",
    "print(e_Q12,e_Q21)"
   ]
  },
  {
   "cell_type": "markdown",
   "metadata": {},
   "source": [
    "Nun schließen wir die Kraftecke (Vektorsumme Null). Die Kräfte an den inneren Gleitfugen werden einerseits berechnet, um einerseits etwa Zugkräfte durch unzulässige Geometrien ausschließen zu können, andererseits die Dissipationsleistung berechnen zu können. Damit allerdings das Kräftegleichgewicht gilt, wird eine zusätzliche unbekannte Kraft $\\Delta \\vec{F}$ eingeführt, die haltend oder treibend eingreift. Sie wirke hier auf Körper 2, ihre Wirkungslinie sei parallel zur Schmierschicht in treibender Richtung."
   ]
  },
  {
   "cell_type": "markdown",
   "metadata": {},
   "source": [
    "Mathematisch gilt es, die Skalierfaktoren $f_i$ zu bestimmen, so dass gilt:\n",
    "\n",
    "$$\n",
    "    \\vec{0} = \\vec{P} + \\vec{G}_1 + \\vec{C}_{1} + \\vec{C}_{12} + f_{12} \\vec{e}_{Q_{12}} + f_{1} \\vec{e}_{Q_{1}}\n",
    "$$\n",
    "\n",
    "sowie\n",
    "\n",
    "\\begin{align}\n",
    "    \\vec{0} &= \\Delta \\vec{F} + \\vec{G}_2 + \\vec{C}_{2} + \\vec{C}_{21} + f_{21} \\vec{e}_{Q_{21}} + f_{2} \\vec{e}_{Q_{2}}\n",
    "    \\\\\n",
    "    &= f_F \\vec{e}_{\\Delta {F}} + \\vec{G}_2 + \\vec{C}_{2} + \\vec{C}_{21} + f_{21} \\vec{e}_{Q_{21}} + f_{2} \\vec{e}_{Q_{2}}\n",
    "\\end{align}"
   ]
  },
  {
   "cell_type": "markdown",
   "metadata": {},
   "source": [
    "Als fünfte Gleichung sei $f_{21}=f_{12}$ eingeführt. Man beachte, dass unter direkter Verwendung dieser Bedingung in den obigen Gleichungen auch ein $(4\\times4)$ System aufgestellt werden könnte. Außerdem muss gelten $f_{ij} \\geq 0$. Liegt $f_F < 0$ vor, so wirkt die zusätzliche Kraft haltend und der Mechanismus ist nicht standischer."
   ]
  },
  {
   "cell_type": "code",
   "execution_count": 77,
   "metadata": {},
   "outputs": [],
   "source": [
    "e_F = v_2/np.linalg.norm(v_2)"
   ]
  },
  {
   "cell_type": "code",
   "execution_count": 78,
   "metadata": {},
   "outputs": [],
   "source": [
    "b_F = np.append(-np.append(G_1+C_1+C_12+P,G_2+C_2+C_21),0)\n",
    "A_F = np.zeros((5,5))\n",
    "A_F[0:2,0] = e_Q12\n",
    "A_F[0:2,1] = e_Q1\n",
    "A_F[2:4,2] = e_Q21\n",
    "A_F[2:4,3] = e_Q2\n",
    "A_F[2:4,4] = e_F\n",
    "A_F[4,0] = 1\n",
    "A_F[4,2] = -1"
   ]
  },
  {
   "cell_type": "code",
   "execution_count": 79,
   "metadata": {},
   "outputs": [
    {
     "data": {
      "text/plain": [
       "array([111.8982866 , 219.44493507, 111.8982866 , 403.57617811,\n",
       "        -8.17799095])"
      ]
     },
     "execution_count": 79,
     "metadata": {},
     "output_type": "execute_result"
    }
   ],
   "source": [
    "f_F = np.linalg.solve(A_F,b_F)\n",
    "f_F"
   ]
  },
  {
   "cell_type": "code",
   "execution_count": 80,
   "metadata": {},
   "outputs": [
    {
     "name": "stdout",
     "output_type": "stream",
     "text": [
      "Keine Zugkräfte an Gleitfugenresultierenden\n"
     ]
    }
   ],
   "source": [
    "if (f_F[0:4] < 0).any():\n",
    "    print(\"Resultierende Zugkräfte bei Einträgen\", np.where(f_F[0:4] < 0))\n",
    "else:\n",
    "    print(\"Keine Zugkräfte an Gleitfugenresultierenden\")"
   ]
  },
  {
   "cell_type": "code",
   "execution_count": 81,
   "metadata": {},
   "outputs": [
    {
     "name": "stdout",
     "output_type": "stream",
     "text": [
      "Die Resultierende Q_12 beträgt 111.90 kN/m\n",
      "Die Resultierende Q_1 beträgt 219.44 kN/m\n",
      "Die Resultierende Q_21 beträgt 111.90 kN/m\n",
      "Die Resultierende Q_2 beträgt 403.58 kN/m\n",
      "Die Resultierende Q_1 beträgt 219.44 kN/m\n"
     ]
    }
   ],
   "source": [
    "Q_12 = f_F[0]*e_Q12\n",
    "print(\"Die Resultierende Q_12 beträgt %.2f kN/m\" %np.linalg.norm(Q_12))\n",
    "Q_1 = f_F[1]*e_Q1\n",
    "print(\"Die Resultierende Q_1 beträgt %.2f kN/m\" %np.linalg.norm(Q_1))\n",
    "Q_21 = f_F[2]*e_Q21\n",
    "print(\"Die Resultierende Q_21 beträgt %.2f kN/m\" %np.linalg.norm(Q_21))\n",
    "Q_2 = f_F[3]*e_Q2\n",
    "print(\"Die Resultierende Q_2 beträgt %.2f kN/m\" %np.linalg.norm(Q_2))\n",
    "Q_1 = f_F[1]*e_Q1\n",
    "print(\"Die Resultierende Q_1 beträgt %.2f kN/m\" %np.linalg.norm(Q_1))"
   ]
  },
  {
   "cell_type": "code",
   "execution_count": 82,
   "metadata": {},
   "outputs": [
    {
     "name": "stdout",
     "output_type": "stream",
     "text": [
      "Schließende Kraft wirkt haltend. Standsicherheit nicht gewährleistet. Betrag: -8.18 kN/m\n"
     ]
    }
   ],
   "source": [
    "dF = f_F[4] * e_F\n",
    "if f_F[4] < 0:\n",
    "    print(\"Schließende Kraft wirkt haltend. Standsicherheit nicht gewährleistet. Betrag: %.2f kN/m\" %f_F[4])\n",
    "else:\n",
    "    print(\"Schließende Kraft wirkt treibend. Standsicherheit gewährleistet. Betrag: %.2f kN/m\" %f_F[4])"
   ]
  },
  {
   "cell_type": "markdown",
   "metadata": {},
   "source": [
    "Mit der graphischen Darstellung des Ergebnisses überprüfen wir, ob wir richtig gerechnet haben."
   ]
  },
  {
   "cell_type": "code",
   "execution_count": 83,
   "metadata": {},
   "outputs": [
    {
     "data": {
      "image/png": "[encoded data removed]",
      "text/plain": [
       "<Figure size 864x864 with 1 Axes>"
      ]
     },
     "metadata": {
      "needs_background": "light"
     },
     "output_type": "display_data"
    }
   ],
   "source": [
    "#HIDDEN\n",
    "scale = np.linalg.norm(Q_21)\n",
    "fig, ax = plt.subplots(figsize=(12,12))\n",
    "vec_from_by(ax,delta=G_2,label='$G_2$',scale=scale)\n",
    "vec_from_by(ax,fro=G_2,delta=C_2,label='$C_2$',scale=scale)\n",
    "vec_from_by(ax,fro=G_2+C_2,delta=C_21,label='$C_{21}$',scale=scale)\n",
    "vec_from_by(ax,fro=G_2+C_2+C_21,delta=Q_21,label='$Q_{21}$',scale=scale)\n",
    "vec_from_by(ax,fro=G_2+C_2+C_21+Q_21,delta=Q_2,label='$Q_2$',scale=scale)\n",
    "vec_from_by(ax,fro=G_2+C_2+C_21+Q_2+Q_21,delta=dF,label='$\\\\Delta F$',scale=scale,col='red')\n",
    "#\n",
    "vec_from_by(ax,fro=G_2,delta=G_1,label='$G_{1}$',scale=scale,col='green')\n",
    "vec_from_by(ax,fro=G_2+G_1,delta=P,label='$P$',scale=scale,col='blue')\n",
    "vec_from_by(ax,fro=G_2+G_1+P,delta=C_1,label='$C_1$',scale=scale,col='green')\n",
    "vec_from_by(ax,fro=G_2+G_1+P+C_1,delta=Q_1,label='$Q_1$',scale=scale,col='green')\n",
    "vec_from_by(ax,fro=G_2+G_1+P+C_1+Q_1,delta=Q_12,label='$Q_{12}$',scale=scale,col='green',ls='--')\n",
    "vec_from_by(ax,fro=G_2+G_1+P+C_1+Q_1+Q_12,delta=C_12,label='$C_{12}$',scale=scale,col='green',ls='--')\n",
    "#\n",
    "ax.set(adjustable='box', aspect='equal')\n",
    "plt.axis('off');"
   ]
  },
  {
   "cell_type": "markdown",
   "metadata": {},
   "source": [
    "## Variation des Bruchmechanismus und Berechnung von Sicherheitsfaktoren bzw. Ausnutzungsgraden\n",
    "\n",
    "Im Rahmen des Teilsicherheitskonzeptes werden für die Einwirkungen bzw. die Scherparameter Bemessungswerte angesetzt. Diese werden dann mit Ausnutzungsgraden derart verringert, dass die mobilisierten Scherfestigkeitsparameter *ohne zusätzliche Traglast $\\vec{P}_\\text{T}$* (in unserem Fall: $\\vec{P}_\\text{T} = 0$) gerade zum Grenzgleichgewicht führen. Wie bei den bisherigen Verfahren auch, findet hierbei die Felleniusregel Anwendung.\n",
    "\n",
    "$$\n",
    "    \\tan \\varphi_\\text{m} = \\mu \\tan \\varphi_\\text{d} \\qquad c_\\text{m} = \\mu c_\\text{d}\n",
    "$$\n",
    "\n",
    "Alternativ kann dessen Kehrwert, der Sicherheitsfaktor, verwendet werden:\n",
    "\n",
    "$$\n",
    "    \\tan \\varphi_\\text{m} = \\frac{\\tan \\varphi_\\text{d}}{\\eta} \\qquad c_\\text{m} = \\frac{c_\\text{d}}{\\eta}\n",
    "$$"
   ]
  },
  {
   "cell_type": "code",
   "execution_count": 84,
   "metadata": {},
   "outputs": [
    {
     "name": "stdout",
     "output_type": "stream",
     "text": [
      "Der Sicherheitsfaktor für den gegebenen Bruchmechanismus ist 0.96, der Ausnutzungsgrad 1.04. Das liefert eine zusätzliche Traglast von 0.00 kN/m\n"
     ]
    }
   ],
   "source": [
    "additional = (H_top_slope,H_top_layer,35,27,10.5,5.6,0,19,18,45.5,1,6,False,12,54)\n",
    "res = scp.optimize.root(fun=get_P_T_wl,x0=1.0,args=additional)\n",
    "eta_v1 = res.x[0]\n",
    "print(\"Der Sicherheitsfaktor für den gegebenen Bruchmechanismus ist %.2f, der Ausnutzungsgrad %.2f. Das liefert eine zusätzliche Traglast von %.2f kN/m\" %(res.x,1/res.x,res.fun))"
   ]
  },
  {
   "cell_type": "markdown",
   "metadata": {},
   "source": [
    "## Finden des kritischsten Bruchmechanismus\n",
    "\n",
    "Wir variieren nun die Winkel $\\beta \\in [-9°,45°]$ und $\\vartheta \\in [40°,80°]$ und suchen denjenigen Bruchmechanismus, der die geringste Sicherheit, also den größten Ausnutzungsgrad liefert."
   ]
  },
  {
   "cell_type": "code",
   "execution_count": 85,
   "metadata": {},
   "outputs": [],
   "source": [
    "bounds = scp.optimize.Bounds([-9,40],[45,80])"
   ]
  },
  {
   "cell_type": "code",
   "execution_count": 86,
   "metadata": {},
   "outputs": [
    {
     "name": "stdout",
     "output_type": "stream",
     "text": [
      "Der minimale Sicherheitsfaktor ist 0.89 (entspricht einem Ausnutzungsgrad von 1.12) und tritt bei den Winkeln beta = 5.12° und theta = 73.15° auf.\n"
     ]
    }
   ],
   "source": [
    "var = (H_top_slope,H_top_layer,35,27,10.5,5.6,0,19,18,45.5,1,6,False)\n",
    "res = scp.optimize.minimize(fun=optimize_mechanism,x0=(10,50),args=var,bounds=bounds)\n",
    "print(\"Der minimale Sicherheitsfaktor ist %.2f (entspricht einem Ausnutzungsgrad von %.2f) und tritt bei den Winkeln beta = %.2f° und theta = %.2f° auf.\" \n",
    "      %(res.fun[0],1/res.fun[0],res.x[0],res.x[1]))"
   ]
  },
  {
   "cell_type": "code",
   "execution_count": 88,
   "metadata": {},
   "outputs": [
    {
     "data": {
      "image/png": "[encoded data removed]",
      "text/plain": [
       "<Figure size 576x432 with 1 Axes>"
      ]
     },
     "metadata": {
      "needs_background": "light"
     },
     "output_type": "display_data"
    }
   ],
   "source": [
    "#HIDDEN\n",
    "beta = np.deg2rad(res.x[0])\n",
    "theta = np.deg2rad(res.x[1])\n",
    "geometry = pd.DataFrame(np.array([[1],\n",
    "                                  [0.0],\n",
    "                                  [H_top_layer]]).T,\n",
    "                   columns=['Pkt', 'x / m', 'y / m'])\n",
    "geometry\n",
    "dH = H_top_slope - H_top_layer\n",
    "geometry = pd.concat([geometry,pd.DataFrame({'Pkt': 2, 'x / m': dH/np.tan(alpha) + dH*np.tan(beta), 'y / m': H_top_layer},index=[0])], ignore_index=True)\n",
    "geometry = pd.concat([geometry,pd.DataFrame({'Pkt': 3, 'x / m': dH/np.tan(alpha), 'y / m': H_top_slope},index=[0])], ignore_index=True)\n",
    "geometry = pd.concat([geometry,pd.DataFrame({'Pkt': 4, 'x / m': dH/np.tan(alpha) + dH*np.tan(beta) + dH/np.tan(theta), 'y / m': H_top_slope},index=[0])], ignore_index=True)\n",
    "block1 = define_element(geometry,[3,2,4])\n",
    "block2 = define_element(geometry,[1,2,3])\n",
    "plot_blocks([block1,block2])"
   ]
  },
  {
   "cell_type": "markdown",
   "metadata": {},
   "source": [
    "Wir lassen uns nun die Isoasphalien im Suchbereich $\\beta \\in [-45°,45°]$ und $\\vartheta \\in [50°,80°]$ darstellen (Berechnung dauert etwas; Achtung: läuft parallel auf 6 threads). Das oben gefundene Mininum wird im Suchbereich noch einmal graphisch als lokales Minimum bestätigt. Im Bereich negativer Winkel $\\beta$ sind wir durch den vorgegebenen Mechanismus an folgende Zwangsbedingung gebunden: $90° + \\beta > -\\vartheta$, da der Mechanismus sonst nicht sinnvoll definiert werden kann. Man beachte auch, dass in bestimmten Konfigurationen rechnerische Zugkräfte auftreten können und die betreffenden Mechanismen auszuschließen sind (diese traten bei $\\beta < 0°$ und $\\vartheta < 50°$ vermehrt auf). Die Isoasphalien deuten die Möglichkeit an, dass bisherige lokale Minimum nicht dem globalen Minimum entspricht. Um jedoch im betreffenden Suchbereich sinnvolle Bruchmechanismen für eine weitere Optimierung zu definieren, ist über eine Erweiterung des Bruchmechanismus bspw. auf 3 Körper nachzudenken. Da aber mit dem oben identifizierten lokalen Minimum allerdings bereits eine Konfiguration gefunden wurde, die nicht standsicher ist, ist eine weitere Verfeinerung der Suche im vorliegenden Fall nicht von praktischem Interesse, sondern es sind zunächst konstruktive Maßnahmen zur Sicherung der Böschung zu prüfen.\n",
    "\n",
    "**Achtung**: Analog ließe sich das Bild für Ausnutzungsgrade darstellen, wobei die Minimumsuche in eine äquivalente Maximumsuche überginge."
   ]
  },
  {
   "cell_type": "code",
   "execution_count": 89,
   "metadata": {},
   "outputs": [
    {
     "ename": "BrokenProcessPool",
     "evalue": "A process in the process pool was terminated abruptly while the future was running or pending.",
     "output_type": "error",
     "traceback": [
      "\u001b[1;31m---------------------------------------------------------------------------\u001b[0m",
      "\u001b[1;31mBrokenProcessPool\u001b[0m                         Traceback (most recent call last)",
      "Input \u001b[1;32mIn [89]\u001b[0m, in \u001b[0;36m<cell line: 2>\u001b[1;34m()\u001b[0m\n\u001b[0;32m      1\u001b[0m \u001b[38;5;66;03m#HIDDEN\u001b[39;00m\n\u001b[1;32m----> 2\u001b[0m \u001b[43misoasphalien\u001b[49m\u001b[43m(\u001b[49m\u001b[38;5;28;43;01mTrue\u001b[39;49;00m\u001b[43m)\u001b[49m\n",
      "File \u001b[1;32m~\\AppData\\Local\\Temp\\ipykernel_13872\\1090198594.py:21\u001b[0m, in \u001b[0;36misoasphalien\u001b[1;34m(save)\u001b[0m\n\u001b[0;32m     17\u001b[0m     F \u001b[38;5;241m=\u001b[39m executor\u001b[38;5;241m.\u001b[39msubmit(construct_isolines,betas[\u001b[38;5;28mint\u001b[39m((\u001b[38;5;241m0\u001b[39m\u001b[38;5;241m+\u001b[39m\u001b[38;5;241m5\u001b[39m)\u001b[38;5;241m/\u001b[39mn_threads\u001b[38;5;241m*\u001b[39m\u001b[38;5;28mlen\u001b[39m(betas)):\u001b[38;5;28mint\u001b[39m((\u001b[38;5;241m5\u001b[39m\u001b[38;5;241m+\u001b[39m\u001b[38;5;241m1\u001b[39m)\u001b[38;5;241m/\u001b[39mn_threads\u001b[38;5;241m*\u001b[39m\u001b[38;5;28mlen\u001b[39m(betas))],thetas)\n\u001b[0;32m     18\u001b[0m         \u001b[38;5;66;03m#if res.x==None:\u001b[39;00m\n\u001b[0;32m     19\u001b[0m             \u001b[38;5;66;03m#ax.plot(beta,theta,marker='x',color='red')\u001b[39;00m\n\u001b[1;32m---> 21\u001b[0m etas \u001b[38;5;241m=\u001b[39m np\u001b[38;5;241m.\u001b[39mappend(\u001b[43mA\u001b[49m\u001b[38;5;241;43m.\u001b[39;49m\u001b[43mresult\u001b[49m\u001b[43m(\u001b[49m\u001b[43m)\u001b[49m,np\u001b[38;5;241m.\u001b[39mappend(B\u001b[38;5;241m.\u001b[39mresult(),np\u001b[38;5;241m.\u001b[39mappend(C\u001b[38;5;241m.\u001b[39mresult(),np\u001b[38;5;241m.\u001b[39mappend(D\u001b[38;5;241m.\u001b[39mresult(),np\u001b[38;5;241m.\u001b[39mappend(E\u001b[38;5;241m.\u001b[39mresult(),F\u001b[38;5;241m.\u001b[39mresult(),axis\u001b[38;5;241m=\u001b[39m\u001b[38;5;241m1\u001b[39m),axis\u001b[38;5;241m=\u001b[39m\u001b[38;5;241m1\u001b[39m),axis\u001b[38;5;241m=\u001b[39m\u001b[38;5;241m1\u001b[39m),axis\u001b[38;5;241m=\u001b[39m\u001b[38;5;241m1\u001b[39m),axis\u001b[38;5;241m=\u001b[39m\u001b[38;5;241m1\u001b[39m)\n\u001b[0;32m     23\u001b[0m etas_masked \u001b[38;5;241m=\u001b[39m np\u001b[38;5;241m.\u001b[39mma\u001b[38;5;241m.\u001b[39mmasked_array(etas, mask\u001b[38;5;241m=\u001b[39m(etas \u001b[38;5;241m<\u001b[39m \u001b[38;5;241m0.2\u001b[39m))\n\u001b[0;32m     25\u001b[0m X, Y \u001b[38;5;241m=\u001b[39m np\u001b[38;5;241m.\u001b[39mmeshgrid(betas, thetas)\n",
      "File \u001b[1;32m~\\anaconda3\\lib\\concurrent\\futures\\_base.py:437\u001b[0m, in \u001b[0;36mFuture.result\u001b[1;34m(self, timeout)\u001b[0m\n\u001b[0;32m    435\u001b[0m     \u001b[38;5;28;01mraise\u001b[39;00m CancelledError()\n\u001b[0;32m    436\u001b[0m \u001b[38;5;28;01melif\u001b[39;00m \u001b[38;5;28mself\u001b[39m\u001b[38;5;241m.\u001b[39m_state \u001b[38;5;241m==\u001b[39m FINISHED:\n\u001b[1;32m--> 437\u001b[0m     \u001b[38;5;28;01mreturn\u001b[39;00m \u001b[38;5;28;43mself\u001b[39;49m\u001b[38;5;241;43m.\u001b[39;49m\u001b[43m__get_result\u001b[49m\u001b[43m(\u001b[49m\u001b[43m)\u001b[49m\n\u001b[0;32m    439\u001b[0m \u001b[38;5;28mself\u001b[39m\u001b[38;5;241m.\u001b[39m_condition\u001b[38;5;241m.\u001b[39mwait(timeout)\n\u001b[0;32m    441\u001b[0m \u001b[38;5;28;01mif\u001b[39;00m \u001b[38;5;28mself\u001b[39m\u001b[38;5;241m.\u001b[39m_state \u001b[38;5;129;01min\u001b[39;00m [CANCELLED, CANCELLED_AND_NOTIFIED]:\n",
      "File \u001b[1;32m~\\anaconda3\\lib\\concurrent\\futures\\_base.py:389\u001b[0m, in \u001b[0;36mFuture.__get_result\u001b[1;34m(self)\u001b[0m\n\u001b[0;32m    387\u001b[0m \u001b[38;5;28;01mif\u001b[39;00m \u001b[38;5;28mself\u001b[39m\u001b[38;5;241m.\u001b[39m_exception:\n\u001b[0;32m    388\u001b[0m     \u001b[38;5;28;01mtry\u001b[39;00m:\n\u001b[1;32m--> 389\u001b[0m         \u001b[38;5;28;01mraise\u001b[39;00m \u001b[38;5;28mself\u001b[39m\u001b[38;5;241m.\u001b[39m_exception\n\u001b[0;32m    390\u001b[0m     \u001b[38;5;28;01mfinally\u001b[39;00m:\n\u001b[0;32m    391\u001b[0m         \u001b[38;5;66;03m# Break a reference cycle with the exception in self._exception\u001b[39;00m\n\u001b[0;32m    392\u001b[0m         \u001b[38;5;28mself\u001b[39m \u001b[38;5;241m=\u001b[39m \u001b[38;5;28;01mNone\u001b[39;00m\n",
      "\u001b[1;31mBrokenProcessPool\u001b[0m: A process in the process pool was terminated abruptly while the future was running or pending."
     ]
    },
    {
     "data": {
      "image/png": "[encoded data removed]",
      "text/plain": [
       "<Figure size 720x720 with 1 Axes>"
      ]
     },
     "metadata": {
      "needs_background": "light"
     },
     "output_type": "display_data"
    }
   ],
   "source": [
    "#HIDDEN\n",
    "isoasphalien(True)"
   ]
  }
 ],
 "metadata": {
  "kernelspec": {
   "display_name": "Python 3 (ipykernel)",
   "language": "python",
   "name": "python3"
  },
  "language_info": {
   "codemirror_mode": {
    "name": "ipython",
    "version": 3
   },
   "file_extension": ".py",
   "mimetype": "text/x-python",
   "name": "python",
   "nbconvert_exporter": "python",
   "pygments_lexer": "ipython3",
   "version": "3.8.13"
  }
 },
 "nbformat": 4,
 "nbformat_minor": 4
}
