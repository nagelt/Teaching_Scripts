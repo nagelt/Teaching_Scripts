{
 "cells": [
  {
   "cell_type": "markdown",
   "metadata": {},
   "source": [
    "![Logo TUBAF](https://github.com/nagelt/Teaching_Scripts/raw/9d9e29ecca4b04eaf7397938eacbf116d37ddc93/Images/TUBAF_Logo_blau.png)\n",
    "\n",
    "Exercise material of the MSc-level course **Foundations of Soil Mechanics**.\n",
    "Held at Technische Universität Bergakademie Freiberg.\n",
    "\n",
    "Comments to:\n",
    "\n",
    "*Prof. Dr. Thomas Nagel  \n",
    "Chair of Soil Mechanics and Foundation Engineering  \n",
    "Geotechnical Institute  \n",
    "Technische Universität Bergakademie Freiberg.*\n",
    "\n",
    "https://tu-freiberg.de/en/soilmechanics"
   ]
  },
  {
   "cell_type": "markdown",
   "metadata": {},
   "source": [
    "# Erddruckberechnung -- Schwergewichtsmauer\n",
    "\n",
    "Das folgende Beispiel ist an das Beispiel aus W. Fellin \"Geotechnik -- Lernen mit Beispielen\" angelehnt.\n",
    "\n",
    "![Rankine.png](https://raw.githubusercontent.com/nagelt/Teaching_Scripts/master/Images/Schwergewichtsmauer.png)\n",
    "\n",
    "**Aufgabe:** Berechnen Sie die wirkenden Erddruckkräfte und bestimmen Sie die Exzentrizität der Resultierenden der Sohlspannung der Schwergewichtsmauer. Die Wirkung des Erdwiderstands auf der Luftseite ist zu vernachlässigen.\n"
   ]
  },
  {
   "cell_type": "code",
   "execution_count": 120,
   "metadata": {},
   "outputs": [],
   "source": [
    "import matplotlib.pyplot as plt\n",
    "import numpy as np\n",
    "\n",
    "#Some plot settings\n",
    "import plot_functions.plot_settings"
   ]
  },
  {
   "cell_type": "markdown",
   "metadata": {},
   "source": [
    "**Gegebene Größen in Bezug auf Geometrie und Hinterfüllmaterial:** $\\alpha = 0°$, $\\varphi = 32°$, $c = 0$, $\\beta = 12°$, $\\gamma = 19\\,$kN/m³, $\\delta_\\text{a} = 2/3 \\varphi$, $B_\\text{b} = 2.6\\,$m, $H_\\text{b} = 1.2\\,$m, $B_\\text{bt} = 0.8\\,$m, $H_\\text{t} = 3.8\\,$m, $B_\\text{t} = 1\\,$m, $p_\\text{v} = 12\\,$kN/m²."
   ]
  },
  {
   "cell_type": "code",
   "execution_count": 150,
   "metadata": {},
   "outputs": [],
   "source": [
    "alpha = 0\n",
    "phi = np.deg2rad(32)\n",
    "beta = np.deg2rad(12)\n",
    "delta = 2./3.*phi\n",
    "gamma = 19.\n",
    "c = 0\n",
    "\n",
    "zmax = 3.8+1.2\n",
    "pv = 10\n",
    "\n",
    "B_b = 2.6\n",
    "H_b = 1.2\n",
    "B_bt = 0.8\n",
    "H_t = 3.8\n",
    "B_t = 1"
   ]
  },
  {
   "cell_type": "markdown",
   "metadata": {},
   "source": [
    "Eddruckbeiwerte für die Anteile Eigengewicht und Flächenlast:\n",
    "\n",
    "\\begin{align*}\n",
    "\tK_\\text{agh} &= \\left[\n",
    "\t\\frac{\\cos(\\varphi - \\alpha)}{\\cos \\alpha \\left( 1 + \\sqrt{\\displaystyle\\frac{\\sin(\\varphi + \\delta_\\text{a}) \\sin (\\varphi - \\beta)}{\\cos(\\alpha - \\beta) \\cos(\\alpha + \\delta_\\text{a})}} \\right)}\n",
    "\t\\right]^2\n",
    "\t\\\\\n",
    "\tK_\\text{ag} &= \\frac{K_\\text{agh}}{\\cos (\\alpha + \\delta_\\text{a})} \n",
    "    \\qquad\n",
    "    K_\\text{agv} = K_\\text{agh} \\tan (\\alpha + \\delta_\\text{a})\n",
    "\\end{align*}\n",
    "\n",
    "$$\n",
    "    K_\\text{aph} = \\frac{\\cos \\alpha \\cos \\beta}{\\cos(\\alpha - \\beta)} K_\\text{agh}\n",
    "$$"
   ]
  },
  {
   "cell_type": "code",
   "execution_count": 143,
   "metadata": {},
   "outputs": [
    {
     "name": "stdout",
     "output_type": "stream",
     "text": [
      "K_{agh} = 0.300\n",
      "K_{agv} = 0.117\n"
     ]
    }
   ],
   "source": [
    "K_agh = (np.cos(phi - alpha)/(np.cos(alpha) * (1 + np.sqrt(np.sin(phi+delta)*np.sin(phi-beta)/(np.cos(alpha+delta)*np.cos(alpha-beta))))))**2\n",
    "K_agv = K_agh * np.tan(alpha+delta)\n",
    "print(\"K_{agh} = %.3f\" %K_agh)\n",
    "print(\"K_{agv} = %.3f\" %K_agv)"
   ]
  },
  {
   "cell_type": "code",
   "execution_count": 144,
   "metadata": {},
   "outputs": [
    {
     "name": "stdout",
     "output_type": "stream",
     "text": [
      "K_{aph} = 0.300\n",
      "K_{apv} = 0.117\n"
     ]
    }
   ],
   "source": [
    "K_aph = np.cos(alpha)*np.cos(beta)/np.cos(alpha-beta)*K_agh\n",
    "K_apv = K_aph * np.tan(alpha+delta)\n",
    "print(\"K_{aph} = %.3f\" %K_aph)\n",
    "print(\"K_{apv} = %.3f\" %K_apv)"
   ]
  },
  {
   "cell_type": "markdown",
   "metadata": {},
   "source": [
    "Die Erdduckverteilungen ergeben sich nach\n",
    "\n",
    "\\begin{align}\n",
    "    e_\\text{ah} &= \\gamma z K_\\text{agh} + p_\\text{v} K_\\text{aph}\n",
    "    \\\\\n",
    "    e_\\text{av} &= \\gamma z K_\\text{agv} + p_\\text{v} K_\\text{apv}\n",
    "    \\\\\n",
    "    e_\\text{a} &= e_\\text{ah} \\frac{1}{\\cos(\\alpha + \\delta_\\text{a})}\n",
    "\\end{align}\n",
    "\n",
    "Damit liegen am Fußpunkt der Wand folgende Werte vor:"
   ]
  },
  {
   "cell_type": "code",
   "execution_count": 145,
   "metadata": {},
   "outputs": [],
   "source": [
    "e_ah = K_agh * gamma * zmax + K_aph * pv\n",
    "e_av = K_agv * gamma * zmax + K_apv * pv\n",
    "e_a = e_ah / np.cos(alpha+delta)"
   ]
  },
  {
   "cell_type": "code",
   "execution_count": 146,
   "metadata": {},
   "outputs": [
    {
     "name": "stdout",
     "output_type": "stream",
     "text": [
      "e_{ah} = 31.483 kN/m²\n",
      "e_{av} = 12.296 kN/m²\n",
      "e_{a} = 33.799 kN/m²\n"
     ]
    }
   ],
   "source": [
    "print(\"e_{ah} = %.3f kN/m²\" %e_ah)\n",
    "print(\"e_{av} = %.3f kN/m²\" %e_av)\n",
    "print(\"e_{a} = %.3f kN/m²\" %e_a)"
   ]
  },
  {
   "cell_type": "markdown",
   "metadata": {},
   "source": [
    "Die Resultierenden Erddruckkräfte ergeben sich aus der Annahme einer konstanten Verteilung der Auflastanteile und einer linearen Verteilung der Eigengewichtsanteile. Bspw. gilt für die Horizontalkomponente\n",
    "$$\n",
    "    E_\\text{ah} = K_\\text{aph} p_\\text{v} z + K_\\text{agh} \\gamma \\frac{z^2}{2}\n",
    "$$"
   ]
  },
  {
   "cell_type": "code",
   "execution_count": 147,
   "metadata": {},
   "outputs": [],
   "source": [
    "E_ah = K_aph*pv*z + K_agh * gamma * z * z/2\n",
    "E_av = E_ah * np.tan(alpha+delta)\n",
    "E_a = E_ah / np.cos(alpha+delta)"
   ]
  },
  {
   "cell_type": "code",
   "execution_count": 148,
   "metadata": {},
   "outputs": [
    {
     "name": "stdout",
     "output_type": "stream",
     "text": [
      "E_{ah} = 86.20 kN/m\n",
      "E_{av} = 33.67 kN/m\n",
      "E_{a} = 92.55 kN/m\n"
     ]
    }
   ],
   "source": [
    "print(\"E_{ah} = %.2f kN/m\" %E_ah)\n",
    "print(\"E_{av} = %.2f kN/m\" %E_av)\n",
    "print(\"E_{a} = %.2f kN/m\" %E_a)"
   ]
  },
  {
   "cell_type": "markdown",
   "metadata": {},
   "source": [
    "Die Wichte des Betons der Schwergewichtsmauer wird zu $\\gamma_\\text{B} = 24\\,$kN/m³ angenommen."
   ]
  },
  {
   "cell_type": "code",
   "execution_count": 130,
   "metadata": {},
   "outputs": [],
   "source": [
    "gamma_B = 24"
   ]
  },
  {
   "cell_type": "code",
   "execution_count": 153,
   "metadata": {},
   "outputs": [],
   "source": [
    "B_bt2 = B_b - B_t - B_bt\n",
    "G = gamma_B * (H_b*B_b+H_t*B_t + H_t*B_bt2/2)\n",
    "V = G + E_av\n",
    "H = E_ah"
   ]
  },
  {
   "cell_type": "code",
   "execution_count": 154,
   "metadata": {},
   "outputs": [
    {
     "name": "stdout",
     "output_type": "stream",
     "text": [
      "V = 236.23 kN/m\n",
      "H = 86.20 kN/m\n"
     ]
    }
   ],
   "source": [
    "print(\"V = %.2f kN/m\" %V)\n",
    "print(\"H = %.2f kN/m\" %H)"
   ]
  },
  {
   "cell_type": "code",
   "execution_count": 155,
   "metadata": {},
   "outputs": [
    {
     "name": "stdout",
     "output_type": "stream",
     "text": [
      "Die Resultierende der Sohlspannung ist um 20.0 ° zur Vertikalen geneigt\n"
     ]
    }
   ],
   "source": [
    "delta_Q = np.arctan(H/V)\n",
    "print(\"Die Resultierende der Sohlspannung ist um %.1f ° zur Vertikalen geneigt\" %np.rad2deg(delta_Q))"
   ]
  },
  {
   "cell_type": "code",
   "execution_count": 158,
   "metadata": {},
   "outputs": [
    {
     "name": "stdout",
     "output_type": "stream",
     "text": [
      "Das haltende Moment um die Vorderkante der Stützmauer beträgt 425.04 kNm/m\n"
     ]
    }
   ],
   "source": [
    "M_H = gamma_B*(H_b*B_b*B_b/2+H_t*B_t*(B_bt+B_bt2+B_t/2) + H_t*B_bt2/2*(B_bt+B_bt2/3*2)) + E_av*B_b\n",
    "print(\"Das haltende Moment um die Vorderkante der Stützmauer beträgt %.2f kNm/m\" %M_H)"
   ]
  },
  {
   "cell_type": "code",
   "execution_count": 159,
   "metadata": {},
   "outputs": [
    {
     "name": "stdout",
     "output_type": "stream",
     "text": [
      "Das treibende Moment der horizontalen Erddruckkraft um die Vorderkante der Stützmauer beträgt 156.17 kNm/m\n"
     ]
    }
   ],
   "source": [
    "M_T = K_aph*pv*zmax * zmax/2 + K_agh * gamma * zmax * zmax/2 * zmax/3\n",
    "print(\"Das treibende Moment der horizontalen Erddruckkraft um die Vorderkante der Stützmauer beträgt %.2f kNm/m\" %M_T)"
   ]
  },
  {
   "cell_type": "code",
   "execution_count": 160,
   "metadata": {},
   "outputs": [
    {
     "name": "stdout",
     "output_type": "stream",
     "text": [
      "Die Sohlspannungsresultierende greift mit einer Exzentrizität von 0.16 m an.\n"
     ]
    }
   ],
   "source": [
    "x_H = (M_H - M_T)/V\n",
    "e = 1.3-x_H\n",
    "print(\"Die Sohlspannungsresultierende greift mit einer Exzentrizität von %.2f m an.\" %e)"
   ]
  },
  {
   "cell_type": "markdown",
   "metadata": {},
   "source": [
    "## Weiterführende Aufgaben:\n",
    "\n",
    "* Wie ändert sich der Wert, wenn man den Wandreibungswinkel zu 0 ansetzt?\n",
    "* Welchen Einfluss hat die Neigung der Geländelinie?\n",
    "* Greift die Kraft im Kern des Rechteckfundaments an?\n",
    "* Ab welcher Auflast beginnt die Schwergewichtsmauer zu kippen, wenn $\\delta_\\text{a}=0$ angenommen wird?"
   ]
  }
 ],
 "metadata": {
  "kernelspec": {
   "display_name": "Python 3",
   "language": "python",
   "name": "python3"
  },
  "language_info": {
   "codemirror_mode": {
    "name": "ipython",
    "version": 3
   },
   "file_extension": ".py",
   "mimetype": "text/x-python",
   "name": "python",
   "nbconvert_exporter": "python",
   "pygments_lexer": "ipython3",
   "version": "3.8.10"
  }
 },
 "nbformat": 4,
 "nbformat_minor": 4
}
