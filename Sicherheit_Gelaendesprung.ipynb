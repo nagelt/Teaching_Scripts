{
 "cells": [
  {
   "cell_type": "markdown",
   "metadata": {},
   "source": [
    "![Logo TUBAF](https://tu-freiberg.de/sites/default/files/media/freiberger-alumni-netzwerk-6127/wbm_orig_rgb_0.jpg)\n",
    "\n",
    "Exercise material of the MSc-level course **Foundations of Soil Mechanics**.\n",
    "Held at Technische Universität Bergakademie Freiberg.\n",
    "\n",
    "Comments to:\n",
    "\n",
    "*Prof. Dr. Thomas Nagel  \n",
    "Chair of Soil Mechanics and Foundation Engineering  \n",
    "Geotechnical Institute  \n",
    "Technische Universität Bergakademie Freiberg.*\n",
    "\n",
    "https://tu-freiberg.de/en/soilmechanics"
   ]
  },
  {
   "cell_type": "markdown",
   "metadata": {},
   "source": [
    "# Sicherheit eines ungestützten vertikalen Geländesprungs"
   ]
  },
  {
   "cell_type": "code",
   "execution_count": 1,
   "metadata": {},
   "outputs": [],
   "source": [
    "#HIDDEN\n",
    "import matplotlib.pyplot as plt\n",
    "import numpy as np\n",
    "from ipywidgets import widgets\n",
    "from ipywidgets import interact, interactive\n",
    "from matplotlib import patches\n",
    "\n",
    "#Some plot settings\n",
    "import plot_functions.plot_settings"
   ]
  },
  {
   "cell_type": "code",
   "execution_count": 2,
   "metadata": {},
   "outputs": [],
   "source": [
    "#HIDDEN\n",
    "%run plot_functions/Mohrs_circle_plots.ipynb"
   ]
  },
  {
   "cell_type": "markdown",
   "metadata": {},
   "source": [
    "## Wiederholung: Mobilisierte Reibung\n",
    "\n",
    "Gegeben seien die Vertikalspannung $\\sigma_\\text{v}$ und die Horizontalspannung $\\sigma_\\text{h}$, die gleichzeitig Hauptspannungen darstellen sollen. Der zugehörige Spannungskreis enthält alle Spannungszustände in beliebig orientierten Schnitten in der betrachteten h-v-Ebene. Zu einem Wertepaar $\\tau, \\sigma_\\text{n}$ gehört der mobilisierte Reibungswinkel\n",
    "\n",
    "$$\n",
    "    \\tan \\varphi_\\text{m} = \\frac{\\tau}{\\sigma_\\text{n}}\n",
    "$$\n",
    "\n",
    "Die zugehörige Gerade durch den Ursprung schneidet den Spannungskreis in den Punkten, in denen ebendieses Verhältnis von Schub- zu Normalspannungen herrscht. Die Verbindungslinien zu den Polen zeigen die zugehörigen Wirkungsebenen an.\n",
    "\n",
    "Man variiere nun Spannungszustand und mobilisierten Reibungswinkel, und identifiziere diejenigen Schnitte, in denen der mobilisierte Reibungswinkel maximal wird. Es zeigt sich, dass dies gerade die Tangentialebenen sind."
   ]
  },
  {
   "cell_type": "code",
   "execution_count": 3,
   "metadata": {},
   "outputs": [
    {
     "data": {
      "application/vnd.jupyter.widget-view+json": {
       "model_id": "1cd8fcb86a904597a9c15bc0a7871ec7",
       "version_major": 2,
       "version_minor": 0
      },
      "text/plain": [
       "interactive(children=(FloatSlider(value=10.0, description='$\\\\varphi_\\\\mathrm{m}$ / °', max=40.0, step=1.0), F…"
      ]
     },
     "metadata": {},
     "output_type": "display_data"
    }
   ],
   "source": [
    "#HIDDEN\n",
    "plot_interactive_friction()"
   ]
  },
  {
   "cell_type": "markdown",
   "metadata": {},
   "source": [
    "## Überlegungen zu Sicherheitsfaktoren, Festigkeitsreduktion\n",
    "\n",
    "Die Scherspannung auf einer Bruchfläche folgt der Relation\n",
    "\n",
    "$$\n",
    "    \\tau_\\text{f} = c + \\sigma_\\text{n} \\tan \\varphi\n",
    "$$\n",
    "\n",
    "Dazu gehören die Bruchspannungen $\\sigma^*, \\tau^*$ auf der Bruchfläche bzw. die Bruchhauptspannung $\\sigma_\\text{1f}$.\n",
    "\n",
    "Führt man einen Sicherheitsfaktor $F$ ein, so kann mit den reduzierten Scherfestigkeitsparametern $c_\\text{red}$ und $\\tan \\varphi_\\text{red}$ gerechnet werden:\n",
    "\n",
    "$$\n",
    "    \\tau_\\text{f,red} = \\frac{c}{F} + \\sigma_\\text{n} \\frac{\\tan \\varphi}{F} = c_\\text{red} + \\sigma_\\text{n} \\tan \\varphi_\\text{red}\n",
    "$$\n",
    "\n",
    "Durch die Veränderung von $\\varphi_\\text{red}$ ergibt sich auch eine veränderte Neigung der kritischen Bruchfläche. Dieses Vorgehen entspricht der unten dargestellten $\\varphi-c$ Reduktion bzw. dem Rechnen mit reduzierten Scherfestigkeitsparametern. Ergebnis sind die Bruchspannungen $\\sigma^*_\\text{r}, \\tau^*_\\text{r}$ auf der Bruchfläche bzw. die Bruchhauptspannung $\\sigma_\\text{1f,red}$.\n",
    "\n",
    "Wir stellen die zugehörigen Spannungsmaße zunächst für den Fall der im Triaxialversuch konstant gehaltenen Mantelspannung $\\sigma_3$ dar. Anschließend widmen wir uns dem Fall der konstanten Normalspannung auf der Bruchfläche, $\\sigma_\\text{n}$.\n",
    "\n",
    "### Darstellung bei $\\sigma_3 = \\text{const.}$\n",
    "\n",
    "Zusätzlich dargestellt ist die Überlegung, die auf der durch $\\varphi$ vorgegebenen kritischen Gleitfläche wirkende Bruchspannung mit einem Sicherheitsfaktor zu belegen, und diejenige Scherspannung zu identifizieren, die auf dieser Bruchfläche dem Sicherheitsfaktor entspricht. Wir skalieren also das durch $\\sigma^*, \\tau^*$ vorgegebene Dreieck unter Ähnlichkeit herunter, der reduzierte Spannungszustand folgt somit der Pollinie (Beibehaltung der Bruchflächenorientierung). Entsprechend ergibt sich die zur reduzierten Scherspannung\n",
    "\n",
    "$$\n",
    "    \\tau^*_\\text{plane} = \\frac{\\tau^*}{F}\n",
    "$$\n",
    "\n",
    "gehörige Normalspannung bzw. Hauptbruchspannung\n",
    "\n",
    "$$\n",
    "    \\sigma^*_\\text{plane} = \\sigma_3 + \\frac{\\sigma^* - \\sigma_3}{F} \\qquad \\sigma_\\text{1f,plane} = \\sigma_3 + \\frac{\\sigma_{1f} - \\sigma_3}{F}\n",
    "$$\n",
    "\n",
    "Die folgende Abbildung gibt einen Eindruck der Unterschiede beider Vorgehensweisen. Für geringe Sicherheitsfaktoren verschwinden die Unterschiede. Da die Reduktion der Festigkeitsparameter auch den Reibungswinkel reduziert, liegt dieses Vorgehen auf der sicheren Seite (liefert zu $F$ geringere zulässige Belastungen). Wir sehen auch, dass sich nicht nur die Schubspannung, sondern auch die Normalspannung auf der Bruchfläche ändert. Daher wollen wir im nächsten Beispiel den Fall $\\sigma_\\text{n} = \\text{const.}$ untersuchen."
   ]
  },
  {
   "cell_type": "code",
   "execution_count": 4,
   "metadata": {},
   "outputs": [
    {
     "data": {
      "application/vnd.jupyter.widget-view+json": {
       "model_id": "78b4bf82f5e04f55b16c4c75916252cf",
       "version_major": 2,
       "version_minor": 0
      },
      "text/plain": [
       "interactive(children=(FloatSlider(value=1.5, description='$F$', max=3.0, min=1.0), Output()), _dom_classes=('w…"
      ]
     },
     "metadata": {},
     "output_type": "display_data"
    }
   ],
   "source": [
    "#HIDDEN\n",
    "plot_interactive_safety()"
   ]
  },
  {
   "cell_type": "markdown",
   "metadata": {},
   "source": [
    "### Darstellung bei $\\sigma_\\text{n} = \\text{const.}$\n",
    "\n",
    "Die obigen Überlegungen können analog wiederholt werden, wenn die auf der Scherfläche wirkende (effektive) Normalspannung $\\sigma_\\text{n}$ konstant gehalten wird. Bildlich gesprochen bedeuted das in beiden Fällen ein \"vertikales Herunterskalieren\" des Spannungszustandes in der $\\tau-\\sigma_\\text{n}$ Darstellung, so dass sich derselbe Spannungszustand auf der Bruchebene ergibt. Die Spannungskreise und Bruchhauptspannungen ergeben sich dann aus den jeweiligen Hypothesen zur Lage dieser Bruchebene: Bruch unter Bezugnahme auf reduzierte Scherfestigkeitsparameter oder Bruch auf der durch die ursprünglichen Scherparameter vorgegebenen Bruchebene.\n",
    "\n",
    "$$\n",
    "    \\sigma_3 = \\sigma_\\text{n}^* - \\frac{\\tau^*}{F} \\tan \\left( \\frac{\\pi}{4} - \\frac{\\varphi_\\text{(red)}}{2} \\right)\n",
    "$$\n",
    "\n",
    "Im Falle der Beibehaltung einer durch $\\varphi$ vorgegebenen Bruchebene ist eine Interpretation mit einer reduzierten Bruchgeraden nicht sinnvoll, wie aus den Darstellungen ersichtlich wird. Man beachte die Verbindung zum Konzept der mobilisierten Reibung."
   ]
  },
  {
   "cell_type": "code",
   "execution_count": 5,
   "metadata": {},
   "outputs": [
    {
     "data": {
      "application/vnd.jupyter.widget-view+json": {
       "model_id": "98a0be7fc8e542a2874169002fa41d99",
       "version_major": 2,
       "version_minor": 0
      },
      "text/plain": [
       "interactive(children=(FloatSlider(value=1.5, description='$F$', max=3.0, min=1.0), Output()), _dom_classes=('w…"
      ]
     },
     "metadata": {},
     "output_type": "display_data"
    }
   ],
   "source": [
    "#HIDDEN\n",
    "plot_interactive_safety_2()"
   ]
  },
  {
   "cell_type": "markdown",
   "metadata": {},
   "source": [
    "## Überlegungen am Beispiel eines vertikalen Geländesprunges\n",
    "\n",
    "Herleitung und weiterführende Diskussion: siehe Vorlesungsunterlagen.\n",
    "\n",
    "<div>\n",
    "    <img src=\"https://raw.githubusercontent.com/nagelt/Teaching_Scripts/master/Images/vertical_cut_slope_coulomb.png\" width=\"300\"/>\n",
    "</div>"
   ]
  },
  {
   "cell_type": "code",
   "execution_count": 6,
   "metadata": {},
   "outputs": [],
   "source": [
    "#gegebene Größen\n",
    "H = 3.2\n",
    "gamma = 18\n",
    "c = 11\n",
    "phi = np.deg2rad(32)\n",
    "theta = np.pi/4+phi/2"
   ]
  },
  {
   "cell_type": "code",
   "execution_count": 7,
   "metadata": {},
   "outputs": [],
   "source": [
    "#Gewichtskraft pro lfd m\n",
    "G = lambda theta, H, gamma: gamma*H*H/(2.*np.tan(theta))"
   ]
  },
  {
   "cell_type": "code",
   "execution_count": 8,
   "metadata": {},
   "outputs": [],
   "source": [
    "#Länge der Gleitfläche\n",
    "L = lambda theta, H: H/np.sin(theta)"
   ]
  },
  {
   "cell_type": "code",
   "execution_count": 9,
   "metadata": {},
   "outputs": [],
   "source": [
    "#Beanspruchung der Gleitfläche (treibende Kraft je lfd m)\n",
    "E = lambda theta, H, gamma: G(theta,H,gamma)*np.sin(theta)"
   ]
  },
  {
   "cell_type": "code",
   "execution_count": 10,
   "metadata": {},
   "outputs": [],
   "source": [
    "#Widerstand der Gleitfläche (haltende Kraft je lft m)\n",
    "R = lambda theta, H, gamma, c, phi: c*L(theta,H) + G(theta,H,gamma)*np.cos(theta)*np.tan(phi)"
   ]
  },
  {
   "cell_type": "code",
   "execution_count": 11,
   "metadata": {},
   "outputs": [],
   "source": [
    "#Sicherheitsfaktor\n",
    "eta = lambda E, R: R/E"
   ]
  },
  {
   "cell_type": "code",
   "execution_count": 12,
   "metadata": {},
   "outputs": [],
   "source": [
    "#Ausnutzungsgrad\n",
    "mu = lambda E, R: E/R"
   ]
  },
  {
   "cell_type": "markdown",
   "metadata": {},
   "source": [
    "### Variante 1\n",
    "\n",
    "Zunächst seien die oben genannten charakteristischen Größen gegeben und wir berechnen den globalen Sicherheitsfaktor basierend auf diesen Größen als Verhältnis der rückhaltenden Kräfte $R$ zu den treibenden Kräften (Auswirkungen der Einwirkung Eigengewicht) $E$."
   ]
  },
  {
   "cell_type": "code",
   "execution_count": 13,
   "metadata": {},
   "outputs": [
    {
     "name": "stdout",
     "output_type": "stream",
     "text": [
      "Der globale Sicherheitsfaktor beträgt 1.25.\n",
      "Der globale Ausnutzungsgrad beträgt 0.80.\n"
     ]
    }
   ],
   "source": [
    "#HIDDEN\n",
    "print(\"Der globale Sicherheitsfaktor beträgt %.2f.\" %(eta(E(theta,H,gamma),R(theta,H,gamma,c,phi))))\n",
    "print(\"Der globale Ausnutzungsgrad beträgt %.2f.\" %(mu(E(theta,H,gamma),R(theta,H,gamma,c,phi))))"
   ]
  },
  {
   "cell_type": "markdown",
   "metadata": {},
   "source": [
    "### Variante 2\n",
    "\n",
    "In Anlehnung an das hier noch nicht näher behandelte Teilsicherheitskonzept verfolgen wir nun einen alternativen Berechnungsansatz. Wir mindern die Scherfestigkeitsparameter mit dem eben berechneten Sicherheitsfaktor ab (sonst natürlich anderweitig vorgegeben):\n",
    "\n",
    "$$\n",
    "    c_\\text{m} = \\frac{c}{\\eta} \\qquad \\text{und} \\qquad \\tan \\varphi_\\text{m} = \\frac{\\tan \\varphi}{\\eta}\n",
    "$$\n",
    "\n",
    "und rechnen basierend auf diesen Bemessungswerten den Ausnutzungsgrad aus."
   ]
  },
  {
   "cell_type": "code",
   "execution_count": 14,
   "metadata": {},
   "outputs": [],
   "source": [
    "#HIDDEN\n",
    "eta_m = eta(E(theta,H,gamma),R(theta,H,gamma,c,phi))"
   ]
  },
  {
   "cell_type": "code",
   "execution_count": 15,
   "metadata": {},
   "outputs": [],
   "source": [
    "#HIDDEN\n",
    "c_m = c/eta_m\n",
    "phi_m = np.arctan(np.tan(phi)/eta_m)\n",
    "theta_m = np.pi/4 + phi_m/2"
   ]
  },
  {
   "cell_type": "code",
   "execution_count": 16,
   "metadata": {},
   "outputs": [
    {
     "name": "stdout",
     "output_type": "stream",
     "text": [
      "Der Ausnutzungsgrad unter Verwendung der reduzierten Scherfestigkeitsparameter beträgt 1.01.\n"
     ]
    }
   ],
   "source": [
    "#HIDDEN\n",
    "print(\"Der Ausnutzungsgrad unter Verwendung der reduzierten Scherfestigkeitsparameter beträgt %.2f.\" \n",
    "      %(mu(E(theta_m,H,gamma),R(theta_m,H,gamma,c_m,phi_m))))"
   ]
  },
  {
   "cell_type": "markdown",
   "metadata": {},
   "source": [
    "Die Ergebnisse sind im vorliegenden Falle also vergleichbar. Die leichte Abweichung ergibt sich durch die veränderte Bruchflächenneigung. Würde man diese auf dem ursprünglichen Wert festhalten, variiert also die Bruchgeometrie nicht, so ergäbe sich das tatsächlich äquivalente Ergebnis:"
   ]
  },
  {
   "cell_type": "code",
   "execution_count": 17,
   "metadata": {},
   "outputs": [
    {
     "name": "stdout",
     "output_type": "stream",
     "text": [
      "Der Ausnutzungsgrad unter Verwendung der reduzierten Scherfestigkeitsparameter beträgt 1.00.\n"
     ]
    }
   ],
   "source": [
    "#HIDDEN\n",
    "theta_m = np.pi/4 + phi/2\n",
    "print(\"Der Ausnutzungsgrad unter Verwendung der reduzierten Scherfestigkeitsparameter beträgt %.2f.\" \n",
    "      %(mu(E(theta_m,H,gamma),R(theta_m,H,gamma,c_m,phi_m))))"
   ]
  },
  {
   "cell_type": "markdown",
   "metadata": {},
   "source": [
    "Es sei hier nochmals angemerkt, dass dieses Vorgehen der Illustration dient. Das mit dem Teilsicherheitskonzept aus dem Eurocode in Einklang stehende Vorgehen wird später behandelt."
   ]
  }
 ],
 "metadata": {
  "kernelspec": {
   "display_name": "Python 3 (ipykernel)",
   "language": "python",
   "name": "python3"
  },
  "language_info": {
   "codemirror_mode": {
    "name": "ipython",
    "version": 3
   },
   "file_extension": ".py",
   "mimetype": "text/x-python",
   "name": "python",
   "nbconvert_exporter": "python",
   "pygments_lexer": "ipython3",
   "version": "3.9.7"
  }
 },
 "nbformat": 4,
 "nbformat_minor": 4
}
